{
  "cells": [
    {
      "cell_type": "markdown",
      "metadata": {
        "id": "view-in-github",
        "colab_type": "text"
      },
      "source": [
        "<a href=\"https://colab.research.google.com/github/Mohammad-H-Zahrawi/Projects/blob/main/X-ray%20Implant%20Identification/MONAI.ipynb\" target=\"_parent\"><img src=\"https://colab.research.google.com/assets/colab-badge.svg\" alt=\"Open In Colab\"/></a>"
      ]
    },
    {
      "cell_type": "code",
      "execution_count": null,
      "metadata": {
        "id": "OmSdvXCEdgW7"
      },
      "outputs": [],
      "source": [
        ""
      ]
    },
    {
      "cell_type": "code",
      "execution_count": null,
      "metadata": {
        "colab": {
          "base_uri": "https://localhost:8080/"
        },
        "id": "vURFJMDpWzCk",
        "outputId": "8724c083-edd5-49c4-fa1d-ca8bf0167e9d"
      },
      "outputs": [
        {
          "output_type": "stream",
          "name": "stdout",
          "text": [
            "Traceback (most recent call last):\n",
            "  File \"<string>\", line 1, in <module>\n",
            "ModuleNotFoundError: No module named 'monai'\n",
            "\u001b[K     |████████████████████████████████| 760 kB 5.4 MB/s \n",
            "\u001b[?25hCloning into 'MONAI'...\n",
            "remote: Enumerating objects: 23702, done.\u001b[K\n",
            "remote: Counting objects: 100% (3189/3189), done.\u001b[K\n",
            "remote: Compressing objects: 100% (1554/1554), done.\u001b[K\n",
            "remote: Total 23702 (delta 2089), reused 2395 (delta 1634), pack-reused 20513\u001b[K\n",
            "Receiving objects: 100% (23702/23702), 47.09 MiB | 11.18 MiB/s, done.\n",
            "Resolving deltas: 100% (18007/18007), done.\n",
            "\u001b[31mERROR: File \"setup.py\" or \"setup.cfg\" not found. Directory cannot be installed in editable mode: /content\u001b[0m\n"
          ]
        }
      ],
      "source": [
        "!python -c \"import monai\" || pip install -q \"monai-weekly[pillow, tqdm]\"\n",
        "!python -c \"import matplotlib\" || pip install -q matplotlib\n",
        "!git clone https://github.com/Project-MONAI/MONAI.git\n",
        "!cd MONAI/\n",
        "!pip install -e '.[all]'\n",
        "%matplotlib inline"
      ]
    },
    {
      "cell_type": "code",
      "execution_count": null,
      "metadata": {
        "colab": {
          "base_uri": "https://localhost:8080/"
        },
        "id": "P06jTFqdW6Wt",
        "outputId": "5106995b-7cc6-4867-d961-1415ec21b854"
      },
      "outputs": [
        {
          "output_type": "stream",
          "name": "stdout",
          "text": [
            "Fri Mar 11 10:29:14 2022       \n",
            "+-----------------------------------------------------------------------------+\n",
            "| NVIDIA-SMI 460.32.03    Driver Version: 460.32.03    CUDA Version: 11.2     |\n",
            "|-------------------------------+----------------------+----------------------+\n",
            "| GPU  Name        Persistence-M| Bus-Id        Disp.A | Volatile Uncorr. ECC |\n",
            "| Fan  Temp  Perf  Pwr:Usage/Cap|         Memory-Usage | GPU-Util  Compute M. |\n",
            "|                               |                      |               MIG M. |\n",
            "|===============================+======================+======================|\n",
            "|   0  Tesla K80           Off  | 00000000:00:04.0 Off |                    0 |\n",
            "| N/A   65C    P8    32W / 149W |      0MiB / 11441MiB |      0%      Default |\n",
            "|                               |                      |                  N/A |\n",
            "+-------------------------------+----------------------+----------------------+\n",
            "                                                                               \n",
            "+-----------------------------------------------------------------------------+\n",
            "| Processes:                                                                  |\n",
            "|  GPU   GI   CI        PID   Type   Process name                  GPU Memory |\n",
            "|        ID   ID                                                   Usage      |\n",
            "|=============================================================================|\n",
            "|  No running processes found                                                 |\n",
            "+-----------------------------------------------------------------------------+\n"
          ]
        }
      ],
      "source": [
        "!nvidia-smi"
      ]
    },
    {
      "cell_type": "code",
      "execution_count": null,
      "metadata": {
        "colab": {
          "base_uri": "https://localhost:8080/"
        },
        "id": "ksprUgl4XAqr",
        "outputId": "884d1599-b1ae-460c-f829-e504d29931e4"
      },
      "outputs": [
        {
          "output_type": "stream",
          "name": "stdout",
          "text": [
            "MONAI version: 0.9.dev2210\n",
            "Numpy version: 1.21.5\n",
            "Pytorch version: 1.10.0+cu111\n",
            "MONAI flags: HAS_EXT = False, USE_COMPILED = False\n",
            "MONAI rev id: 1a660e6a7a50e985af5ff76b559baab44175438c\n",
            "MONAI __file__: /usr/local/lib/python3.7/dist-packages/monai/__init__.py\n",
            "\n",
            "Optional dependencies:\n",
            "Pytorch Ignite version: NOT INSTALLED or UNKNOWN VERSION.\n",
            "Nibabel version: 3.0.2\n",
            "scikit-image version: 0.18.3\n",
            "Pillow version: 7.1.2\n",
            "Tensorboard version: 2.8.0\n",
            "gdown version: 4.2.2\n",
            "TorchVision version: 0.11.1+cu111\n",
            "tqdm version: 4.63.0\n",
            "lmdb version: 0.99\n",
            "psutil version: 5.4.8\n",
            "pandas version: 1.3.5\n",
            "einops version: NOT INSTALLED or UNKNOWN VERSION.\n",
            "transformers version: NOT INSTALLED or UNKNOWN VERSION.\n",
            "mlflow version: NOT INSTALLED or UNKNOWN VERSION.\n",
            "\n",
            "For details about installing the optional dependencies, please visit:\n",
            "    https://docs.monai.io/en/latest/installation.html#installing-the-recommended-dependencies\n",
            "\n"
          ]
        }
      ],
      "source": [
        "import os\n",
        "import shutil\n",
        "import tempfile\n",
        "import matplotlib.pyplot as plt\n",
        "import PIL\n",
        "import torch\n",
        "import numpy as np\n",
        "from sklearn.metrics import classification_report\n",
        "\n",
        "from monai.apps import download_and_extract\n",
        "from monai.config import print_config\n",
        "from monai.data import decollate_batch\n",
        "from monai.metrics import ROCAUCMetric\n",
        "from monai.networks.nets import DenseNet121\n",
        "from monai.transforms import (\n",
        "    Activations,\n",
        "    AddChannel,\n",
        "    AsDiscrete,\n",
        "    Compose,\n",
        "    LoadImage,\n",
        "    RandFlip,\n",
        "    RandRotate,\n",
        "    RandZoom,\n",
        "    ScaleIntensity,\n",
        "    EnsureType,\n",
        ")\n",
        "from monai.utils import set_determinism\n",
        "\n",
        "print_config()"
      ]
    },
    {
      "cell_type": "code",
      "execution_count": null,
      "metadata": {
        "colab": {
          "base_uri": "https://localhost:8080/"
        },
        "id": "rEhnrnD3B5od",
        "outputId": "f428668d-ff86-46fe-e405-40be71db40d4"
      },
      "outputs": [
        {
          "output_type": "stream",
          "name": "stdout",
          "text": [
            "Mounted at /content/drive\n"
          ]
        }
      ],
      "source": [
        "from google.colab import drive\n",
        "drive.mount('/content/drive')"
      ]
    },
    {
      "cell_type": "code",
      "execution_count": null,
      "metadata": {
        "id": "HD6899yCZUMq"
      },
      "outputs": [],
      "source": [
        "import pathlib\n",
        "import matplotlib.image as mpimg\n",
        "import cv2"
      ]
    },
    {
      "cell_type": "code",
      "execution_count": null,
      "metadata": {
        "colab": {
          "base_uri": "https://localhost:8080/"
        },
        "id": "n2rnnfHlKgFA",
        "outputId": "3d2e432f-da1b-46f9-8040-2c75928311ce"
      },
      "outputs": [
        {
          "output_type": "stream",
          "name": "stdout",
          "text": [
            "/tmp/tmpdtajyvad\n"
          ]
        }
      ],
      "source": [
        "directory = os.environ.get(\"MONAI_DATA_DIRECTORY\")\n",
        "root_dir = tempfile.mkdtemp() if directory is None else directory\n",
        "print(root_dir)"
      ]
    },
    {
      "cell_type": "code",
      "execution_count": null,
      "metadata": {
        "id": "wCxZkER4Jre7"
      },
      "outputs": [],
      "source": [
        "# path_train = '/content/drive/MyDrive/new_data/train/'\n",
        "# path_test = '/content/drive/MyDrive/new_data/test/'\n",
        "# dimensions = (64, 64)\n",
        "# new_path_train= '/content/drive/MyDrive/new/train/'\n",
        "# new_path_test= '/content/drive/MyDrive/new/test/'"
      ]
    },
    {
      "cell_type": "code",
      "execution_count": null,
      "metadata": {
        "id": "R1AdYwMiJ63Z"
      },
      "outputs": [],
      "source": [
        "# for clas in os.listdir(path_train):\n",
        "#   pathlib.Path(new_path_train + clas).mkdir(parents=True, exist_ok=True) \n",
        "#   for i in os.listdir(path_train+clas):\n",
        "#     img = mpimg.imread(path_train+clas+'/'+i,0)\n",
        "#     new_image = cv2.resize(img, dimensions, interpolation=cv2.INTER_LINEAR)\n",
        "#     cv2.imwrite(new_path_train+clas+'/'+i+'.jpg',new_image)"
      ]
    },
    {
      "cell_type": "code",
      "execution_count": null,
      "metadata": {
        "id": "hmCGqZW2LMP4"
      },
      "outputs": [],
      "source": [
        "# for clas in os.listdir(path_test):\n",
        "  \n",
        "#   pathlib.Path(new_path_test + clas).mkdir(parents=True, exist_ok=True) \n",
        "#   for i in os.listdir(path_test+clas):\n",
        "#     img = mpimg.imread(path_test+clas+'/'+i,0)\n",
        "#     new_image = cv2.resize(img, dimensions, interpolation=cv2.INTER_LINEAR)\n",
        "#     cv2.imwrite(new_path_test+clas+'/'+i+'.jpg',new_image)"
      ]
    },
    {
      "cell_type": "code",
      "execution_count": null,
      "metadata": {
        "id": "DubMFjHALgRv"
      },
      "outputs": [],
      "source": [
        "\n",
        "data_dir_train = \"/content/drive/MyDrive/new/train\""
      ]
    },
    {
      "cell_type": "code",
      "execution_count": null,
      "metadata": {
        "colab": {
          "base_uri": "https://localhost:8080/"
        },
        "id": "DrQenr2iXSf3",
        "outputId": "c70e7d45-6160-4930-a768-0eba1eee5abc"
      },
      "outputs": [
        {
          "output_type": "stream",
          "name": "stdout",
          "text": [
            "Total image count: 1123\n",
            "Image dimensions: 64 x 64\n",
            "Label names: ['Isola', 'Legacy', 'M8M10', 'Other', 'Reline', 'Viper', 'Xia']\n",
            "Label counts: [66, 301, 200, 82, 83, 299, 92]\n"
          ]
        }
      ],
      "source": [
        "class_names = sorted(x for x in os.listdir(data_dir_train)\n",
        "                     if os.path.isdir(os.path.join(data_dir_train, x)))\n",
        "num_class = len(class_names)\n",
        "image_files_train = [\n",
        "    [\n",
        "        os.path.join(data_dir_train, class_names[i], x)\n",
        "        for x in os.listdir(os.path.join(data_dir_train, class_names[i]))\n",
        "    ]\n",
        "    for i in range(num_class)\n",
        "]\n",
        "num_each = [len(image_files_train[i]) for i in range(num_class)]\n",
        "image_files_list_train = []\n",
        "image_class_train = []\n",
        "for i in range(num_class):\n",
        "    image_files_list_train.extend(image_files_train[i])\n",
        "    image_class_train.extend([i] * num_each[i])\n",
        "num_total = len(image_class_train)\n",
        "image_width, image_height = PIL.Image.open(image_files_list_train[0]).size\n",
        "\n",
        "print(f\"Total image count: {num_total}\")\n",
        "print(f\"Image dimensions: {image_width} x {image_height}\")\n",
        "print(f\"Label names: {class_names}\")\n",
        "print(f\"Label counts: {num_each}\")"
      ]
    },
    {
      "cell_type": "code",
      "execution_count": null,
      "metadata": {
        "id": "5rpITAZEo9xV"
      },
      "outputs": [],
      "source": [
        ""
      ]
    },
    {
      "cell_type": "code",
      "execution_count": null,
      "metadata": {
        "id": "lSvdSg35aSh1"
      },
      "outputs": [],
      "source": [
        "data_dir_test = \"/content/drive/MyDrive/new/test/\""
      ]
    },
    {
      "cell_type": "code",
      "execution_count": null,
      "metadata": {
        "colab": {
          "base_uri": "https://localhost:8080/"
        },
        "id": "-haPht6NabgZ",
        "outputId": "1bb2cda1-3076-4d89-94c7-ece18fe8e5af"
      },
      "outputs": [
        {
          "output_type": "stream",
          "name": "stdout",
          "text": [
            "Total image count: 132\n",
            "Image dimensions: 64 x 64\n",
            "Label names: ['Isola', 'Legacy', 'M8M10', 'Other', 'Reline', 'Viper', 'Xia']\n",
            "Label counts: [13, 26, 11, 18, 8, 36, 20]\n"
          ]
        }
      ],
      "source": [
        "class_names = sorted(x for x in os.listdir(data_dir_test)\n",
        "                     if os.path.isdir(os.path.join(data_dir_test, x)))\n",
        "num_class = len(class_names)\n",
        "image_files_test = [\n",
        "    [\n",
        "        os.path.join(data_dir_test, class_names[i], x)\n",
        "        for x in os.listdir(os.path.join(data_dir_test, class_names[i]))\n",
        "    ]\n",
        "    for i in range(num_class)\n",
        "]\n",
        "num_each = [len(image_files_test[i]) for i in range(num_class)]\n",
        "image_files_list_test = []\n",
        "image_class_test = []\n",
        "for i in range(num_class):\n",
        "    image_files_list_test.extend(image_files_test[i])\n",
        "    image_class_test.extend([i] * num_each[i])\n",
        "num_total = len(image_class_test)\n",
        "image_width, image_height = PIL.Image.open(image_files_list_test[0]).size\n",
        "\n",
        "print(f\"Total image count: {num_total}\")\n",
        "print(f\"Image dimensions: {image_width} x {image_height}\")\n",
        "print(f\"Label names: {class_names}\")\n",
        "print(f\"Label counts: {num_each}\")"
      ]
    },
    {
      "cell_type": "code",
      "execution_count": null,
      "metadata": {
        "id": "3kDM5gY7ZaIX"
      },
      "outputs": [],
      "source": [
        "train_transforms = Compose(\n",
        "    [    \n",
        "        LoadImage(image_only=True),\n",
        "        AddChannel(),\n",
        "        ScaleIntensity(),\n",
        "        RandRotate(range_x=np.pi / 6, prob=0.7, keep_size=True),\n",
        "        RandFlip(spatial_axis=1, prob=0.8),\n",
        "        RandZoom(min_zoom=0.9, max_zoom=1.3, prob=0.7),\n",
        "        EnsureType(),\n",
        "        \n",
        "    ]\n",
        ")\n",
        "\n",
        "val_transforms = Compose(\n",
        "    [LoadImage(image_only=True), AddChannel(), ScaleIntensity(), EnsureType()])\n",
        "\n",
        "y_pred_trans = Compose([EnsureType(), Activations(softmax=True)])\n",
        "y_trans = Compose([EnsureType(), AsDiscrete(to_onehot=num_class)])"
      ]
    },
    {
      "cell_type": "code",
      "execution_count": null,
      "metadata": {
        "colab": {
          "base_uri": "https://localhost:8080/"
        },
        "id": "tIagdbk4rYDK",
        "outputId": "3ce806af-bff0-40c4-81b2-f2767a63b675"
      },
      "outputs": [
        {
          "output_type": "stream",
          "name": "stdout",
          "text": [
            "Training count: 1123, Test count: 132\n"
          ]
        }
      ],
      "source": [
        "length_train = len(image_files_list_train)\n",
        "indices_train = np.arange(length_train)\n",
        "np.random.shuffle(indices_train)\n",
        "# val_frac = 0.1\n",
        "# test_frac = 0.1\n",
        "length_test = len(image_files_list_test)\n",
        "indices_test = np.arange(length_test)\n",
        "np.random.shuffle(indices_test)\n",
        "\n",
        "# test_split = int(test_frac * length)\n",
        "# val_split = int(val_frac * length) + test_split\n",
        "# test_indices = indices_test[:]\n",
        "val_indices = indices_test[:]\n",
        "train_indices = indices_train[:]\n",
        "\n",
        "train_x = [image_files_list_train[i] for i in train_indices]\n",
        "train_y = [image_class_train[i] for i in train_indices]\n",
        "val_x = [image_files_list_test[i] for i in val_indices]\n",
        "val_y = [image_class_test[i] for i in val_indices]\n",
        "# test_x = [image_files_list_test[i] for i in test_indices]\n",
        "# test_y = [image_class_test[i] for i in test_indices]\n",
        "\n",
        "print(\n",
        "    f\"Training count: {len(train_x)}, Test count: {len(val_x)}\")"
      ]
    },
    {
      "cell_type": "code",
      "execution_count": null,
      "metadata": {
        "id": "eLKf1GlmZm9w"
      },
      "outputs": [],
      "source": [
        "class Dataset(torch.utils.data.Dataset):\n",
        "    def __init__(self, image_files, labels, transforms):\n",
        "        self.image_files = image_files\n",
        "        self.labels = labels\n",
        "        self.transforms = transforms\n",
        "\n",
        "    def __len__(self):\n",
        "        return len(self.image_files)\n",
        "\n",
        "    def __getitem__(self, index):\n",
        "        return self.transforms(self.image_files[index]), self.labels[index]\n",
        "\n",
        "\n",
        "train_ds = Dataset(train_x, train_y, train_transforms)\n",
        "train_loader = torch.utils.data.DataLoader(\n",
        "    train_ds, batch_size=64, shuffle=True, num_workers=2)\n",
        "\n",
        "val_ds = Dataset(val_x, val_y, train_transforms)\n",
        "val_loader = torch.utils.data.DataLoader(val_ds, batch_size=64, num_workers=2)\n",
        "\n",
        "# test_ds = MedNISTDataset(test_x, test_y, val_transforms)\n",
        "# test_loader = torch.utils.data.DataLoader(\n",
        "#     test_ds, batch_size=300, num_workers=10)"
      ]
    },
    {
      "cell_type": "code",
      "execution_count": null,
      "metadata": {
        "id": "FImxcpe4yI-u"
      },
      "outputs": [],
      "source": [
        "from monai.networks.nets import DenseNet121\n",
        "from monai.networks.nets import DenseNet264\n"
      ]
    },
    {
      "cell_type": "code",
      "execution_count": null,
      "metadata": {
        "id": "ab0WQj94bMka"
      },
      "outputs": [],
      "source": [
        "device = torch.device(\"cuda\" if torch.cuda.is_available() else \"cpu\")\n",
        "model = DenseNet264(spatial_dims=2, in_channels=1,\n",
        "                    out_channels=num_class).to(device)\n",
        "loss_function = torch.nn.CrossEntropyLoss()\n",
        "optimizer = torch.optim.Adam(model.parameters(), 1e-5)\n",
        "max_epochs = 15\n",
        "val_interval = 1\n",
        "auc_metric = ROCAUCMetric()"
      ]
    },
    {
      "cell_type": "code",
      "execution_count": null,
      "metadata": {
        "id": "iWqctr01FlW9"
      },
      "outputs": [],
      "source": [
        "import torch\n",
        "torch.cuda.empty_cache()"
      ]
    },
    {
      "cell_type": "code",
      "execution_count": null,
      "metadata": {
        "colab": {
          "base_uri": "https://localhost:8080/"
        },
        "id": "C4fwDNQfgRSg",
        "outputId": "e1aaed9c-eba3-405a-ac89-534ad97dd4a1"
      },
      "outputs": [
        {
          "output_type": "stream",
          "name": "stdout",
          "text": [
            "----------\n",
            "epoch 1/15\n",
            "1/17, train_loss: 2.0991\n",
            "2/17, train_loss: 2.0478\n",
            "3/17, train_loss: 2.0092\n",
            "4/17, train_loss: 1.9866\n",
            "5/17, train_loss: 1.9486\n",
            "6/17, train_loss: 1.9589\n",
            "7/17, train_loss: 1.9292\n",
            "8/17, train_loss: 1.9836\n",
            "9/17, train_loss: 1.9285\n",
            "10/17, train_loss: 1.9236\n",
            "11/17, train_loss: 1.9436\n",
            "12/17, train_loss: 1.8891\n",
            "13/17, train_loss: 1.9118\n",
            "14/17, train_loss: 1.9269\n",
            "15/17, train_loss: 1.8492\n",
            "16/17, train_loss: 1.9132\n",
            "17/17, train_loss: 1.9664\n",
            "18/17, train_loss: 1.8700\n",
            "epoch 1 average loss: 1.9492\n",
            "saved new best metric model\n",
            "current epoch: 1 current AUC: 0.5090 current accuracy: 0.1667 best AUC: 0.5090 at epoch: 1\n",
            "----------\n",
            "epoch 2/15\n",
            "1/17, train_loss: 1.7910\n",
            "2/17, train_loss: 1.8322\n",
            "3/17, train_loss: 1.8490\n",
            "4/17, train_loss: 1.8882\n",
            "5/17, train_loss: 1.8742\n",
            "6/17, train_loss: 1.8679\n",
            "7/17, train_loss: 1.8065\n",
            "8/17, train_loss: 1.8387\n",
            "9/17, train_loss: 1.7889\n",
            "10/17, train_loss: 1.7555\n",
            "11/17, train_loss: 1.7539\n",
            "12/17, train_loss: 1.7798\n",
            "13/17, train_loss: 1.7756\n",
            "14/17, train_loss: 1.7233\n",
            "15/17, train_loss: 1.7751\n",
            "16/17, train_loss: 1.7264\n",
            "17/17, train_loss: 1.7361\n",
            "18/17, train_loss: 1.7238\n",
            "epoch 2 average loss: 1.7937\n",
            "saved new best metric model\n",
            "current epoch: 2 current AUC: 0.5509 current accuracy: 0.1515 best AUC: 0.5509 at epoch: 2\n",
            "----------\n",
            "epoch 3/15\n",
            "1/17, train_loss: 1.7558\n",
            "2/17, train_loss: 1.7213\n",
            "3/17, train_loss: 1.7347\n",
            "4/17, train_loss: 1.7491\n",
            "5/17, train_loss: 1.7667\n",
            "6/17, train_loss: 1.7080\n",
            "7/17, train_loss: 1.6813\n",
            "8/17, train_loss: 1.7186\n",
            "9/17, train_loss: 1.7146\n",
            "10/17, train_loss: 1.6797\n",
            "11/17, train_loss: 1.6972\n",
            "12/17, train_loss: 1.6542\n",
            "13/17, train_loss: 1.6356\n",
            "14/17, train_loss: 1.5765\n",
            "15/17, train_loss: 1.7049\n",
            "16/17, train_loss: 1.7059\n",
            "17/17, train_loss: 1.7039\n",
            "18/17, train_loss: 1.6343\n",
            "epoch 3 average loss: 1.6968\n",
            "saved new best metric model\n",
            "current epoch: 3 current AUC: 0.5598 current accuracy: 0.2197 best AUC: 0.5598 at epoch: 3\n",
            "----------\n",
            "epoch 4/15\n",
            "1/17, train_loss: 1.6249\n",
            "2/17, train_loss: 1.6746\n",
            "3/17, train_loss: 1.5960\n",
            "4/17, train_loss: 1.6508\n",
            "5/17, train_loss: 1.6690\n",
            "6/17, train_loss: 1.7553\n",
            "7/17, train_loss: 1.5191\n",
            "8/17, train_loss: 1.5670\n",
            "9/17, train_loss: 1.7176\n",
            "10/17, train_loss: 1.5840\n",
            "11/17, train_loss: 1.6581\n",
            "12/17, train_loss: 1.6240\n",
            "13/17, train_loss: 1.6137\n",
            "14/17, train_loss: 1.6653\n",
            "15/17, train_loss: 1.6016\n",
            "16/17, train_loss: 1.5807\n",
            "17/17, train_loss: 1.6287\n",
            "18/17, train_loss: 1.6259\n",
            "epoch 4 average loss: 1.6309\n",
            "saved new best metric model\n",
            "current epoch: 4 current AUC: 0.5738 current accuracy: 0.1970 best AUC: 0.5738 at epoch: 4\n",
            "----------\n",
            "epoch 5/15\n",
            "1/17, train_loss: 1.6248\n",
            "2/17, train_loss: 1.6436\n",
            "3/17, train_loss: 1.5003\n",
            "4/17, train_loss: 1.5594\n",
            "5/17, train_loss: 1.6223\n",
            "6/17, train_loss: 1.5996\n",
            "7/17, train_loss: 1.6388\n",
            "8/17, train_loss: 1.6154\n",
            "9/17, train_loss: 1.5746\n",
            "10/17, train_loss: 1.5999\n",
            "11/17, train_loss: 1.4820\n",
            "12/17, train_loss: 1.4803\n",
            "13/17, train_loss: 1.6559\n",
            "14/17, train_loss: 1.4623\n",
            "15/17, train_loss: 1.6883\n",
            "16/17, train_loss: 1.4699\n",
            "17/17, train_loss: 1.5075\n",
            "18/17, train_loss: 1.7355\n",
            "epoch 5 average loss: 1.5811\n",
            "saved new best metric model\n",
            "current epoch: 5 current AUC: 0.5755 current accuracy: 0.2121 best AUC: 0.5755 at epoch: 5\n",
            "----------\n",
            "epoch 6/15\n",
            "1/17, train_loss: 1.5190\n",
            "2/17, train_loss: 1.5919\n",
            "3/17, train_loss: 1.6210\n",
            "4/17, train_loss: 1.4651\n",
            "5/17, train_loss: 1.4689\n",
            "6/17, train_loss: 1.5763\n",
            "7/17, train_loss: 1.4715\n",
            "8/17, train_loss: 1.5015\n",
            "9/17, train_loss: 1.4028\n",
            "10/17, train_loss: 1.6117\n",
            "11/17, train_loss: 1.6517\n",
            "12/17, train_loss: 1.5350\n",
            "13/17, train_loss: 1.4023\n",
            "14/17, train_loss: 1.4547\n",
            "15/17, train_loss: 1.6416\n",
            "16/17, train_loss: 1.5687\n",
            "17/17, train_loss: 1.5745\n",
            "18/17, train_loss: 1.5348\n",
            "epoch 6 average loss: 1.5329\n",
            "saved new best metric model\n",
            "current epoch: 6 current AUC: 0.5915 current accuracy: 0.2273 best AUC: 0.5915 at epoch: 6\n",
            "----------\n",
            "epoch 7/15\n",
            "1/17, train_loss: 1.5814\n",
            "2/17, train_loss: 1.3591\n",
            "3/17, train_loss: 1.6102\n",
            "4/17, train_loss: 1.3702\n",
            "5/17, train_loss: 1.4465\n",
            "6/17, train_loss: 1.4891\n",
            "7/17, train_loss: 1.6237\n",
            "8/17, train_loss: 1.3497\n",
            "9/17, train_loss: 1.4757\n",
            "10/17, train_loss: 1.4895\n",
            "11/17, train_loss: 1.5678\n",
            "12/17, train_loss: 1.4283\n",
            "13/17, train_loss: 1.4345\n",
            "14/17, train_loss: 1.4772\n",
            "15/17, train_loss: 1.5301\n",
            "16/17, train_loss: 1.5000\n",
            "17/17, train_loss: 1.5660\n",
            "18/17, train_loss: 1.5383\n",
            "epoch 7 average loss: 1.4910\n",
            "current epoch: 7 current AUC: 0.5891 current accuracy: 0.2348 best AUC: 0.5915 at epoch: 6\n",
            "----------\n",
            "epoch 8/15\n",
            "1/17, train_loss: 1.4362\n",
            "2/17, train_loss: 1.3801\n",
            "3/17, train_loss: 1.4190\n",
            "4/17, train_loss: 1.5437\n",
            "5/17, train_loss: 1.4781\n",
            "6/17, train_loss: 1.4944\n",
            "7/17, train_loss: 1.5323\n",
            "8/17, train_loss: 1.4940\n",
            "9/17, train_loss: 1.5395\n",
            "10/17, train_loss: 1.4049\n",
            "11/17, train_loss: 1.4758\n",
            "12/17, train_loss: 1.4048\n",
            "13/17, train_loss: 1.4461\n",
            "14/17, train_loss: 1.4296\n",
            "15/17, train_loss: 1.4456\n",
            "16/17, train_loss: 1.3530\n",
            "17/17, train_loss: 1.6528\n",
            "18/17, train_loss: 1.3509\n",
            "epoch 8 average loss: 1.4600\n",
            "saved new best metric model\n",
            "current epoch: 8 current AUC: 0.5938 current accuracy: 0.2273 best AUC: 0.5938 at epoch: 8\n",
            "----------\n",
            "epoch 9/15\n",
            "1/17, train_loss: 1.4113\n",
            "2/17, train_loss: 1.5046\n",
            "3/17, train_loss: 1.4309\n",
            "4/17, train_loss: 1.4037\n",
            "5/17, train_loss: 1.4102\n",
            "6/17, train_loss: 1.3968\n",
            "7/17, train_loss: 1.4096\n",
            "8/17, train_loss: 1.4748\n",
            "9/17, train_loss: 1.3874\n",
            "10/17, train_loss: 1.3939\n",
            "11/17, train_loss: 1.4536\n",
            "12/17, train_loss: 1.4938\n",
            "13/17, train_loss: 1.4171\n",
            "14/17, train_loss: 1.5412\n",
            "15/17, train_loss: 1.3944\n",
            "16/17, train_loss: 1.3278\n",
            "17/17, train_loss: 1.3205\n",
            "18/17, train_loss: 1.5757\n",
            "epoch 9 average loss: 1.4304\n",
            "current epoch: 9 current AUC: 0.5925 current accuracy: 0.2273 best AUC: 0.5938 at epoch: 8\n",
            "----------\n",
            "epoch 10/15\n",
            "1/17, train_loss: 1.3946\n",
            "2/17, train_loss: 1.4015\n",
            "3/17, train_loss: 1.4005\n",
            "4/17, train_loss: 1.3775\n",
            "5/17, train_loss: 1.4037\n",
            "6/17, train_loss: 1.2447\n",
            "7/17, train_loss: 1.5560\n",
            "8/17, train_loss: 1.3471\n",
            "9/17, train_loss: 1.5672\n",
            "10/17, train_loss: 1.4401\n",
            "11/17, train_loss: 1.4670\n",
            "12/17, train_loss: 1.5727\n",
            "13/17, train_loss: 1.3080\n",
            "14/17, train_loss: 1.3966\n",
            "15/17, train_loss: 1.4231\n",
            "16/17, train_loss: 1.4955\n",
            "17/17, train_loss: 1.3456\n",
            "18/17, train_loss: 1.4042\n",
            "epoch 10 average loss: 1.4192\n",
            "current epoch: 10 current AUC: 0.5908 current accuracy: 0.2348 best AUC: 0.5938 at epoch: 8\n",
            "----------\n",
            "epoch 11/15\n",
            "1/17, train_loss: 1.3392\n",
            "2/17, train_loss: 1.2700\n",
            "3/17, train_loss: 1.4711\n",
            "4/17, train_loss: 1.4788\n",
            "5/17, train_loss: 1.3952\n",
            "6/17, train_loss: 1.3487\n",
            "7/17, train_loss: 1.3870\n",
            "8/17, train_loss: 1.3716\n",
            "9/17, train_loss: 1.3811\n",
            "10/17, train_loss: 1.4053\n",
            "11/17, train_loss: 1.2419\n",
            "12/17, train_loss: 1.4265\n",
            "13/17, train_loss: 1.3490\n",
            "14/17, train_loss: 1.3998\n",
            "15/17, train_loss: 1.4016\n",
            "16/17, train_loss: 1.4308\n",
            "17/17, train_loss: 1.3580\n",
            "18/17, train_loss: 1.5662\n",
            "epoch 11 average loss: 1.3901\n",
            "current epoch: 11 current AUC: 0.5869 current accuracy: 0.2197 best AUC: 0.5938 at epoch: 8\n",
            "----------\n",
            "epoch 12/15\n",
            "1/17, train_loss: 1.4406\n",
            "2/17, train_loss: 1.4405\n",
            "3/17, train_loss: 1.3003\n",
            "4/17, train_loss: 1.4481\n",
            "5/17, train_loss: 1.3402\n",
            "6/17, train_loss: 1.2966\n",
            "7/17, train_loss: 1.5188\n",
            "8/17, train_loss: 1.3500\n",
            "9/17, train_loss: 1.3390\n",
            "10/17, train_loss: 1.4247\n",
            "11/17, train_loss: 1.3016\n",
            "12/17, train_loss: 1.3033\n",
            "13/17, train_loss: 1.2064\n",
            "14/17, train_loss: 1.3487\n",
            "15/17, train_loss: 1.2536\n",
            "16/17, train_loss: 1.4229\n",
            "17/17, train_loss: 1.4531\n",
            "18/17, train_loss: 1.5225\n",
            "epoch 12 average loss: 1.3728\n",
            "saved new best metric model\n",
            "current epoch: 12 current AUC: 0.5954 current accuracy: 0.2348 best AUC: 0.5954 at epoch: 12\n",
            "----------\n",
            "epoch 13/15\n",
            "1/17, train_loss: 1.2448\n",
            "2/17, train_loss: 1.3205\n",
            "3/17, train_loss: 1.3771\n",
            "4/17, train_loss: 1.4358\n",
            "5/17, train_loss: 1.5806\n",
            "6/17, train_loss: 1.4091\n",
            "7/17, train_loss: 1.2826\n",
            "8/17, train_loss: 1.1790\n",
            "9/17, train_loss: 1.2734\n",
            "10/17, train_loss: 1.3511\n",
            "11/17, train_loss: 1.3714\n",
            "12/17, train_loss: 1.3788\n",
            "13/17, train_loss: 1.4036\n",
            "14/17, train_loss: 1.4465\n",
            "15/17, train_loss: 1.2088\n",
            "16/17, train_loss: 1.2812\n",
            "17/17, train_loss: 1.1978\n",
            "18/17, train_loss: 1.3311\n",
            "epoch 13 average loss: 1.3374\n",
            "saved new best metric model\n",
            "current epoch: 13 current AUC: 0.5984 current accuracy: 0.2197 best AUC: 0.5984 at epoch: 13\n",
            "----------\n",
            "epoch 14/15\n",
            "1/17, train_loss: 1.4620\n",
            "2/17, train_loss: 1.4207\n",
            "3/17, train_loss: 1.3267\n",
            "4/17, train_loss: 1.4599\n",
            "5/17, train_loss: 1.3248\n",
            "6/17, train_loss: 1.2584\n",
            "7/17, train_loss: 1.3225\n",
            "8/17, train_loss: 1.4897\n",
            "9/17, train_loss: 1.3076\n",
            "10/17, train_loss: 1.3727\n",
            "11/17, train_loss: 1.3912\n",
            "12/17, train_loss: 1.3849\n",
            "13/17, train_loss: 1.2530\n",
            "14/17, train_loss: 1.2325\n",
            "15/17, train_loss: 1.4671\n",
            "16/17, train_loss: 1.1947\n",
            "17/17, train_loss: 1.2198\n",
            "18/17, train_loss: 1.4387\n",
            "epoch 14 average loss: 1.3515\n",
            "saved new best metric model\n",
            "current epoch: 14 current AUC: 0.6001 current accuracy: 0.2348 best AUC: 0.6001 at epoch: 14\n",
            "----------\n",
            "epoch 15/15\n",
            "1/17, train_loss: 1.3338\n",
            "2/17, train_loss: 1.2184\n",
            "3/17, train_loss: 1.2959\n",
            "4/17, train_loss: 1.4360\n",
            "5/17, train_loss: 1.2402\n",
            "6/17, train_loss: 1.3358\n",
            "7/17, train_loss: 1.3362\n",
            "8/17, train_loss: 1.3973\n",
            "9/17, train_loss: 1.5309\n",
            "10/17, train_loss: 1.3366\n",
            "11/17, train_loss: 1.3069\n",
            "12/17, train_loss: 1.3488\n",
            "13/17, train_loss: 1.2072\n",
            "14/17, train_loss: 1.2306\n",
            "15/17, train_loss: 1.3017\n",
            "16/17, train_loss: 1.3009\n",
            "17/17, train_loss: 1.2652\n",
            "18/17, train_loss: 1.4237\n",
            "epoch 15 average loss: 1.3248\n",
            "saved new best metric model\n",
            "current epoch: 15 current AUC: 0.6134 current accuracy: 0.2500 best AUC: 0.6134 at epoch: 15\n",
            "train completed, best_metric: 0.6134 at epoch: 15\n"
          ]
        }
      ],
      "source": [
        "best_metric = -1\n",
        "best_metric_epoch = -1\n",
        "epoch_loss_values = []\n",
        "metric_values = []\n",
        "\n",
        "for epoch in range(max_epochs):\n",
        "    print(\"-\" * 10)\n",
        "    print(f\"epoch {epoch + 1}/{max_epochs}\")\n",
        "    model.train()\n",
        "    epoch_loss = 0\n",
        "    step = 0\n",
        "    for batch_data in train_loader:\n",
        "        step += 1\n",
        "        inputs, labels = batch_data[0].to(device), batch_data[1].to(device)\n",
        "        optimizer.zero_grad()\n",
        "        outputs = model(inputs)\n",
        "        loss = loss_function(outputs, labels)\n",
        "        loss.backward()\n",
        "        optimizer.step()\n",
        "        epoch_loss += loss.item()\n",
        "        print(\n",
        "            f\"{step}/{len(train_ds) // train_loader.batch_size}, \"\n",
        "            f\"train_loss: {loss.item():.4f}\")\n",
        "        epoch_len = len(train_ds) // train_loader.batch_size\n",
        "    epoch_loss /= step\n",
        "    epoch_loss_values.append(epoch_loss)\n",
        "    print(f\"epoch {epoch + 1} average loss: {epoch_loss:.4f}\")\n",
        "\n",
        "    if (epoch + 1) % val_interval == 0:\n",
        "        model.eval()\n",
        "        with torch.no_grad():\n",
        "            y_pred = torch.tensor([], dtype=torch.float32, device=device)\n",
        "            y = torch.tensor([], dtype=torch.long, device=device)\n",
        "            for val_data in val_loader:\n",
        "                val_images, val_labels = (\n",
        "                    val_data[0].to(device),\n",
        "                    val_data[1].to(device),\n",
        "                )\n",
        "                y_pred = torch.cat([y_pred, model(val_images)], dim=0)\n",
        "                y = torch.cat([y, val_labels], dim=0)\n",
        "            y_onehot = [y_trans(i) for i in decollate_batch(y)]\n",
        "            y_pred_act = [y_pred_trans(i) for i in decollate_batch(y_pred)]\n",
        "            auc_metric(y_pred_act, y_onehot)\n",
        "            result = auc_metric.aggregate()\n",
        "            auc_metric.reset()\n",
        "            del y_pred_act, y_onehot\n",
        "            metric_values.append(result)\n",
        "            acc_value = torch.eq(y_pred.argmax(dim=1), y)\n",
        "            acc_metric = acc_value.sum().item() / len(acc_value)\n",
        "            if result > best_metric:\n",
        "                best_metric = result\n",
        "                best_metric_epoch = epoch + 1\n",
        "                torch.save(model.state_dict(), os.path.join(\n",
        "                    root_dir, \"best_metric_model.pth\"))\n",
        "                print(\"saved new best metric model\")\n",
        "            print(\n",
        "                f\"current epoch: {epoch + 1} current AUC: {result:.4f}\"\n",
        "                f\" current accuracy: {acc_metric:.4f}\"\n",
        "                f\" best AUC: {best_metric:.4f}\"\n",
        "                f\" at epoch: {best_metric_epoch}\"\n",
        "            )\n",
        "\n",
        "print(\n",
        "    f\"train completed, best_metric: {best_metric:.4f} \"\n",
        "    f\"at epoch: {best_metric_epoch}\")"
      ]
    },
    {
      "cell_type": "code",
      "execution_count": null,
      "metadata": {
        "id": "7yy_Yc1QjnEv"
      },
      "outputs": [],
      "source": [
        ""
      ]
    },
    {
      "cell_type": "markdown",
      "metadata": {
        "id": "XNaS1NGyUB7e"
      },
      "source": [
        "## Plot the loss and metric"
      ]
    },
    {
      "cell_type": "code",
      "execution_count": null,
      "metadata": {
        "colab": {
          "base_uri": "https://localhost:8080/",
          "height": 404
        },
        "id": "vBomRp6j5_Z3",
        "outputId": "3691fd5c-6f8e-4ee3-94c9-f45e29c81d02"
      },
      "outputs": [
        {
          "output_type": "display_data",
          "data": {
            "image/png": "[encoded data removed]",
            "text/plain": [
              "<Figure size 864x432 with 2 Axes>"
            ]
          },
          "metadata": {
            "needs_background": "light"
          }
        }
      ],
      "source": [
        "plt.figure(\"train\", (12, 6))\n",
        "plt.subplot(1, 2, 1)\n",
        "plt.title(\"Epoch Average Loss\")\n",
        "x = [i + 1 for i in range(len(epoch_loss_values))]\n",
        "y = epoch_loss_values\n",
        "plt.xlabel(\"epoch\")\n",
        "plt.plot(x, y)\n",
        "plt.subplot(1, 2, 2)\n",
        "plt.title(\"Val AUC\")\n",
        "x = [val_interval * (i + 1) for i in range(len(metric_values))]\n",
        "y = metric_values\n",
        "plt.xlabel(\"epoch\")\n",
        "plt.plot(x, y)\n",
        "plt.show()"
      ]
    },
    {
      "cell_type": "markdown",
      "metadata": {
        "id": "JKH7elLz6LsG"
      },
      "source": [
        "## Evaluate the model on test dataset"
      ]
    },
    {
      "cell_type": "markdown",
      "metadata": {
        "id": "aBg-mGA1UJDg"
      },
      "source": [
        "After training and validation, we already got the best model on validation test.\n",
        "We need to evaluate the model on test dataset to check whether it's robust and not over-fitting.\n",
        "We'll use these predictions to generate a classification report."
      ]
    },
    {
      "cell_type": "code",
      "execution_count": null,
      "metadata": {
        "id": "ulHsaD1M5_Xf"
      },
      "outputs": [],
      "source": [
        "model.load_state_dict(torch.load(\n",
        "    os.path.join(root_dir, \"best_metric_model.pth\")))\n",
        "model.eval()\n",
        "y_true = []\n",
        "y_pred = []\n",
        "with torch.no_grad():\n",
        "    for test_data in val_loader:\n",
        "        test_images, test_labels = (\n",
        "            test_data[0].to(device),\n",
        "            test_data[1].to(device),\n",
        "        )\n",
        "        pred = model(test_images).argmax(dim=1)\n",
        "        for i in range(len(pred)):\n",
        "            y_true.append(test_labels[i].item())\n",
        "            y_pred.append(pred[i].item())"
      ]
    },
    {
      "cell_type": "code",
      "execution_count": null,
      "metadata": {
        "colab": {
          "base_uri": "https://localhost:8080/"
        },
        "id": "yq1SJOAB6aRv",
        "outputId": "95b60813-fbce-4573-e282-9dbe4d030f11"
      },
      "outputs": [
        {
          "output_type": "stream",
          "name": "stdout",
          "text": [
            "              precision    recall  f1-score   support\n",
            "\n",
            "       Isola     0.1818    0.1538    0.1667        13\n",
            "      Legacy     0.2571    0.3462    0.2951        26\n",
            "       M8M10     0.0000    0.0000    0.0000        11\n",
            "       Other     0.0000    0.0000    0.0000        18\n",
            "      Reline     0.0000    0.0000    0.0000         8\n",
            "       Viper     0.3117    0.6667    0.4248        36\n",
            "         Xia     1.0000    0.0500    0.0952        20\n",
            "\n",
            "    accuracy                         0.2727       132\n",
            "   macro avg     0.2501    0.1738    0.1403       132\n",
            "weighted avg     0.3051    0.2727    0.2048       132\n",
            "\n"
          ]
        },
        {
          "output_type": "stream",
          "name": "stderr",
          "text": [
            "/usr/local/lib/python3.7/dist-packages/sklearn/metrics/_classification.py:1318: UndefinedMetricWarning: Precision and F-score are ill-defined and being set to 0.0 in labels with no predicted samples. Use `zero_division` parameter to control this behavior.\n",
            "  _warn_prf(average, modifier, msg_start, len(result))\n",
            "/usr/local/lib/python3.7/dist-packages/sklearn/metrics/_classification.py:1318: UndefinedMetricWarning: Precision and F-score are ill-defined and being set to 0.0 in labels with no predicted samples. Use `zero_division` parameter to control this behavior.\n",
            "  _warn_prf(average, modifier, msg_start, len(result))\n",
            "/usr/local/lib/python3.7/dist-packages/sklearn/metrics/_classification.py:1318: UndefinedMetricWarning: Precision and F-score are ill-defined and being set to 0.0 in labels with no predicted samples. Use `zero_division` parameter to control this behavior.\n",
            "  _warn_prf(average, modifier, msg_start, len(result))\n"
          ]
        }
      ],
      "source": [
        "print(classification_report(\n",
        "    y_true, y_pred, target_names=class_names, digits=4))"
      ]
    },
    {
      "cell_type": "code",
      "execution_count": null,
      "metadata": {
        "id": "CA5c04Mj6aPX"
      },
      "outputs": [],
      "source": [
        ""
      ]
    },
    {
      "cell_type": "code",
      "execution_count": null,
      "metadata": {
        "id": "52hKy1EH6aNL"
      },
      "outputs": [],
      "source": [
        ""
      ]
    },
    {
      "cell_type": "code",
      "execution_count": null,
      "metadata": {
        "id": "4BJk_NNtHF5n"
      },
      "outputs": [],
      "source": [
        ""
      ]
    },
    {
      "cell_type": "code",
      "execution_count": null,
      "metadata": {
        "id": "PgnIViNRHF2g"
      },
      "outputs": [],
      "source": [
        ""
      ]
    },
    {
      "cell_type": "code",
      "execution_count": null,
      "metadata": {
        "id": "zQNA47pEHFz3"
      },
      "outputs": [],
      "source": [
        ""
      ]
    },
    {
      "cell_type": "code",
      "execution_count": null,
      "metadata": {
        "id": "RrqZ9xv9HFtY"
      },
      "outputs": [],
      "source": [
        ""
      ]
    },
    {
      "cell_type": "markdown",
      "metadata": {
        "id": "HYeLOxlVA7Dj"
      },
      "source": [
        "# Densenet264 = densenet264 = DenseNet264\n"
      ]
    },
    {
      "cell_type": "code",
      "execution_count": null,
      "metadata": {
        "id": "rxdaCz4cBBCb"
      },
      "outputs": [],
      "source": [
        "from monai.networks.nets import unet\n"
      ]
    },
    {
      "cell_type": "code",
      "execution_count": null,
      "metadata": {
        "id": "rK3qUcquDRB5"
      },
      "outputs": [],
      "source": [
        "device = torch.device(\"cuda\" if torch.cuda.is_available() else \"cpu\")\n",
        "model = unet\n",
        "loss_function = torch.nn.CrossEntropyLoss()\n",
        "# optimizer = torch.optim.Adam(model.parameters(), 1e-5)\n",
        "max_epochs = 3\n",
        "val_interval = 1\n",
        "auc_metric = ROCAUCMetric()"
      ]
    },
    {
      "cell_type": "code",
      "execution_count": null,
      "metadata": {
        "colab": {
          "base_uri": "https://localhost:8080/",
          "height": 270
        },
        "id": "BLSPcKfIBPTz",
        "outputId": "0b97ed85-016d-4a9d-fbfa-5b0702b58858"
      },
      "outputs": [
        {
          "name": "stdout",
          "output_type": "stream",
          "text": [
            "----------\n",
            "epoch 1/3\n"
          ]
        },
        {
          "ename": "AttributeError",
          "evalue": "ignored",
          "output_type": "error",
          "traceback": [
            "\u001b[0;31m---------------------------------------------------------------------------\u001b[0m",
            "\u001b[0;31mAttributeError\u001b[0m                            Traceback (most recent call last)",
            "\u001b[0;32m<ipython-input-59-33dfb6b697f0>\u001b[0m in \u001b[0;36m<module>\u001b[0;34m()\u001b[0m\n\u001b[1;32m      7\u001b[0m     \u001b[0mprint\u001b[0m\u001b[0;34m(\u001b[0m\u001b[0;34m\"-\"\u001b[0m \u001b[0;34m*\u001b[0m \u001b[0;36m10\u001b[0m\u001b[0;34m)\u001b[0m\u001b[0;34m\u001b[0m\u001b[0;34m\u001b[0m\u001b[0m\n\u001b[1;32m      8\u001b[0m     \u001b[0mprint\u001b[0m\u001b[0;34m(\u001b[0m\u001b[0;34mf\"epoch {epoch + 1}/{max_epochs}\"\u001b[0m\u001b[0;34m)\u001b[0m\u001b[0;34m\u001b[0m\u001b[0;34m\u001b[0m\u001b[0m\n\u001b[0;32m----> 9\u001b[0;31m     \u001b[0mmodel\u001b[0m\u001b[0;34m.\u001b[0m\u001b[0mtrain\u001b[0m\u001b[0;34m(\u001b[0m\u001b[0;34m)\u001b[0m\u001b[0;34m\u001b[0m\u001b[0;34m\u001b[0m\u001b[0m\n\u001b[0m\u001b[1;32m     10\u001b[0m     \u001b[0mepoch_loss\u001b[0m \u001b[0;34m=\u001b[0m \u001b[0;36m0\u001b[0m\u001b[0;34m\u001b[0m\u001b[0;34m\u001b[0m\u001b[0m\n\u001b[1;32m     11\u001b[0m     \u001b[0mstep\u001b[0m \u001b[0;34m=\u001b[0m \u001b[0;36m0\u001b[0m\u001b[0;34m\u001b[0m\u001b[0;34m\u001b[0m\u001b[0m\n",
            "\u001b[0;31mAttributeError\u001b[0m: module 'monai.networks.nets.unet' has no attribute 'train'"
          ]
        }
      ],
      "source": [
        "best_metric = -1\n",
        "best_metric_epoch = -1\n",
        "epoch_loss_values = []\n",
        "metric_values = []\n",
        "\n",
        "for epoch in range(max_epochs):\n",
        "    print(\"-\" * 10)\n",
        "    print(f\"epoch {epoch + 1}/{max_epochs}\")\n",
        "    model.train()\n",
        "    epoch_loss = 0\n",
        "    step = 0\n",
        "    for batch_data in train_loader:\n",
        "        step += 1\n",
        "        inputs, labels = batch_data[0].to(device), batch_data[1].to(device)\n",
        "        optimizer.zero_grad()\n",
        "        outputs = model(inputs)\n",
        "        loss = loss_function(outputs, labels)\n",
        "        loss.backward()\n",
        "        optimizer.step()\n",
        "        epoch_loss += loss.item()\n",
        "        print(\n",
        "            f\"{step}/{len(train_ds) // train_loader.batch_size}, \"\n",
        "            f\"train_loss: {loss.item():.4f}\")\n",
        "        epoch_len = len(train_ds) // train_loader.batch_size\n",
        "    epoch_loss /= step\n",
        "    epoch_loss_values.append(epoch_loss)\n",
        "    print(f\"epoch {epoch + 1} average loss: {epoch_loss:.4f}\")\n",
        "\n",
        "    if (epoch + 1) % val_interval == 0:\n",
        "        model.eval()\n",
        "        with torch.no_grad():\n",
        "            y_pred = torch.tensor([], dtype=torch.float32, device=device)\n",
        "            y = torch.tensor([], dtype=torch.long, device=device)\n",
        "            for val_data in val_loader:\n",
        "                val_images, val_labels = (\n",
        "                    val_data[0].to(device),\n",
        "                    val_data[1].to(device),\n",
        "                )\n",
        "                y_pred = torch.cat([y_pred, model(val_images)], dim=0)\n",
        "                y = torch.cat([y, val_labels], dim=0)\n",
        "            y_onehot = [y_trans(i) for i in decollate_batch(y)]\n",
        "            y_pred_act = [y_pred_trans(i) for i in decollate_batch(y_pred)]\n",
        "            auc_metric(y_pred_act, y_onehot)\n",
        "            result = auc_metric.aggregate()\n",
        "            auc_metric.reset()\n",
        "            del y_pred_act, y_onehot\n",
        "            metric_values.append(result)\n",
        "            acc_value = torch.eq(y_pred.argmax(dim=1), y)\n",
        "            acc_metric = acc_value.sum().item() / len(acc_value)\n",
        "            if result > best_metric:\n",
        "                best_metric = result\n",
        "                best_metric_epoch = epoch + 1\n",
        "                torch.save(model.state_dict(), os.path.join(\n",
        "                    root_dir, \"best_metric_model.pth\"))\n",
        "                print(\"saved new best metric model\")\n",
        "            print(\n",
        "                f\"current epoch: {epoch + 1} current AUC: {result:.4f}\"\n",
        "                f\" current accuracy: {acc_metric:.4f}\"\n",
        "                f\" best AUC: {best_metric:.4f}\"\n",
        "                f\" at epoch: {best_metric_epoch}\"\n",
        "            )\n",
        "\n",
        "print(\n",
        "    f\"train completed, best_metric: {best_metric:.4f} \"\n",
        "    f\"at epoch: {best_metric_epoch}\")"
      ]
    },
    {
      "cell_type": "code",
      "execution_count": null,
      "metadata": {
        "id": "2fuA-UuVBjAJ"
      },
      "outputs": [],
      "source": [
        ""
      ]
    }
  ],
  "metadata": {
    "colab": {
      "name": "MONAI.ipynb",
      "provenance": [],
      "include_colab_link": true
    },
    "kernelspec": {
      "display_name": "Python 3",
      "name": "python3"
    },
    "language_info": {
      "name": "python"
    }
  },
  "nbformat": 4,
  "nbformat_minor": 0
}