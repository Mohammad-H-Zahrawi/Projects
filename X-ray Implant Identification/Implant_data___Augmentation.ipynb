{
  "cells": [
    {
      "cell_type": "markdown",
      "metadata": {
        "id": "view-in-github",
        "colab_type": "text"
      },
      "source": [
        "<a href=\"https://colab.research.google.com/github/Mohammad-H-Zahrawi/Projects/blob/main/X-ray%20Implant%20Identification/Implant_data___Augmentation.ipynb\" target=\"_parent\"><img src=\"https://colab.research.google.com/assets/colab-badge.svg\" alt=\"Open In Colab\"/></a>"
      ]
    },
    {
      "cell_type": "markdown",
      "metadata": {
        "id": "TRluK-3Pp-Um"
      },
      "source": [
        "# Importing Data\n"
      ]
    },
    {
      "cell_type": "code",
      "execution_count": null,
      "metadata": {
        "id": "EuBbRaQBhnBT"
      },
      "outputs": [],
      "source": [
        "import numpy as np\n",
        "import pandas as pd\n",
        "import matplotlib.pyplot as plt\n",
        "import seaborn as sns\n",
        "import cv2\n",
        "import pathlib\n",
        "import random\n",
        "import matplotlib.image as mpimg\n",
        "import os\n",
        "import tensorflow as tf"
      ]
    },
    {
      "cell_type": "code",
      "execution_count": null,
      "metadata": {
        "colab": {
          "base_uri": "https://localhost:8080/"
        },
        "id": "0cU-lTaPiCoL",
        "outputId": "c1af1468-6b8e-4691-b904-a63ba4fcfa38"
      },
      "outputs": [
        {
          "output_type": "stream",
          "name": "stdout",
          "text": [
            "Mounted at /content/drive\n"
          ]
        }
      ],
      "source": [
        "from google.colab import drive\n",
        "drive.mount('/content/drive')"
      ]
    },
    {
      "cell_type": "code",
      "execution_count": null,
      "metadata": {
        "colab": {
          "base_uri": "https://localhost:8080/"
        },
        "id": "-YkbQX6TiEMQ",
        "outputId": "9e19fa7c-ee11-49d2-c9e3-de3cb94630d8"
      },
      "outputs": [
        {
          "output_type": "stream",
          "name": "stdout",
          "text": [
            "Isola  Legacy  M8M10  Reline  Viper  Xia\n"
          ]
        }
      ],
      "source": [
        "!ls /content/drive/MyDrive/Implant_data/train"
      ]
    },
    {
      "cell_type": "code",
      "execution_count": null,
      "metadata": {
        "colab": {
          "base_uri": "https://localhost:8080/"
        },
        "id": "JG9cHxPqiLpm",
        "outputId": "f192ab20-7fed-4521-c47d-cf8df18a0904"
      },
      "outputs": [
        {
          "output_type": "stream",
          "name": "stdout",
          "text": [
            "/content/drive/MyDrive\n"
          ]
        }
      ],
      "source": [
        "cd /content/drive/MyDrive"
      ]
    },
    {
      "cell_type": "code",
      "execution_count": null,
      "metadata": {
        "colab": {
          "base_uri": "https://localhost:8080/"
        },
        "id": "93sXlgggaOI2",
        "outputId": "71f17512-8b1a-4d4b-dd29-73af0047b669"
      },
      "outputs": [
        {
          "output_type": "stream",
          "name": "stdout",
          "text": [
            " \u001b[0m\u001b[01;34mAkram\u001b[0m/              \u001b[01;34mImplant_data_aug\u001b[0m/      \u001b[01;34m'School '\u001b[0m/\n",
            "\u001b[01;34m'Colab Notebooks'\u001b[0m/   \u001b[01;34mImplant_data_cleaned\u001b[0m/   \u001b[01;34msynthetic_data_28oct\u001b[0m/\n",
            " \u001b[01;34mImplant_data\u001b[0m/       \u001b[01;34mreference_oct19\u001b[0m/\n"
          ]
        }
      ],
      "source": [
        "ls"
      ]
    },
    {
      "cell_type": "markdown",
      "metadata": {
        "id": "wtkFk8blAS6y"
      },
      "source": [
        "#Data Augmentation"
      ]
    },
    {
      "cell_type": "code",
      "execution_count": null,
      "metadata": {
        "id": "d-sfGs7K-CtK"
      },
      "outputs": [],
      "source": [
        "import tensorflow as tf\n",
        "from tensorflow.keras import layers\n",
        "from tensorflow.keras.layers.experimental import preprocessing\n",
        "from tensorflow.keras.models import Sequential\n",
        "from tensorflow import keras"
      ]
    },
    {
      "cell_type": "code",
      "execution_count": null,
      "metadata": {
        "id": "Uxzl4RTw-Cmr"
      },
      "outputs": [],
      "source": [
        "#data augmentation\n",
        "data_augmentation = Sequential([\n",
        "                                preprocessing.RandomFlip(\"horizontal\"),\n",
        "  preprocessing.RandomHeight(0.2),\n",
        "  preprocessing.RandomWidth(0.2),\n",
        "  preprocessing.RandomZoom(0.2),\n",
        "  preprocessing.RandomRotation(0.2),\n",
        "\n",
        "  preprocessing.Rescaling(1./255) # if you're using a model such as ResNet50V2, you'll need to rescale your data\n",
        "  ], name=\"data_augmentation\"\n",
        ")"
      ]
    },
    {
      "cell_type": "code",
      "execution_count": null,
      "metadata": {
        "colab": {
          "base_uri": "https://localhost:8080/",
          "height": 286
        },
        "id": "c-b7R0z3-Cg7",
        "outputId": "f379ddce-656b-49c9-bbc0-04dd80acb6ce"
      },
      "outputs": [
        {
          "output_type": "execute_result",
          "data": {
            "text/plain": [
              "<matplotlib.image.AxesImage at 0x7f5d19d368d0>"
            ]
          },
          "metadata": {},
          "execution_count": 49
        },
        {
          "output_type": "display_data",
          "data": {
            "image/png": "[encoded data removed]",
            "text/plain": [
              "<Figure size 432x288 with 1 Axes>"
            ]
          },
          "metadata": {
            "needs_background": "light"
          }
        }
      ],
      "source": [
        "augmented = data_augmentation(tf.expand_dims(test1,axis=0))\n",
        "plt.imshow(tf.squeeze(augmented))"
      ]
    },
    {
      "cell_type": "code",
      "execution_count": null,
      "metadata": {
        "colab": {
          "base_uri": "https://localhost:8080/"
        },
        "id": "tfsPTmtD-ryP",
        "outputId": "6d351b10-77eb-4fb4-f5d6-0758b1c0dc88"
      },
      "outputs": [
        {
          "output_type": "stream",
          "name": "stdout",
          "text": [
            "Found 553 images belonging to 6 classes.\n",
            "Found 114 images belonging to 6 classes.\n"
          ]
        }
      ],
      "source": [
        "tf.random.set_seed(42)\n",
        "# Preprocess data (get all of the pixel values between 1 and 0, also called scaling/normalization)\n",
        "\n",
        "train_datagen = ImageDataGenerator(rescale=1/255.)\n",
        "test_datagen = ImageDataGenerator(rescale=1/255.)\n",
        "\n",
        "# Setup the train and test directories\n",
        "train_dir = 'Implant_data/train'\n",
        "test_dir = 'Implant_data/test'\n",
        "\n",
        "# Import data from directories and turn it into batches\n",
        "train_data=train_datagen.flow_from_directory(train_dir,batch_size=32,target_size=(224,224),color_mode='rgb',class_mode=\"categorical\",shuffle=True)\n",
        "\n",
        "valid_data=train_datagen.flow_from_directory(test_dir,batch_size=32,target_size=(224,224),color_mode='rgb',class_mode=\"categorical\",shuffle=True)"
      ]
    },
    {
      "cell_type": "code",
      "source": [
        "# Setup input shape and base model, freezing the base model layers\n",
        "input_shape = (224, 224, 3)\n",
        "base_model = tf.keras.applications.EfficientNetB0(include_top=False)\n",
        "base_model.trainable = False\n",
        "\n",
        "# Create input layer\n",
        "inputs = layers.Input(shape=input_shape, name=\"input_layer\")\n",
        "\n",
        "# Add in data augmentation Sequential model as a layer\n",
        "x = data_augmentation(inputs)\n",
        "\n",
        "# Give base_model inputs (after augmentation) and don't train it\n",
        "x = base_model(x, training=False)\n",
        "\n",
        "# Pool output features of base model\n",
        "x = layers.GlobalAveragePooling2D(name=\"global_average_pooling_layer\")(x)\n",
        "\n",
        "# Put a dense layer on as the output\n",
        "outputs = layers.Dense(6, activation=\"softmax\", name=\"output_layer\")(x)\n",
        "\n",
        "# Make a model with inputs and outputs\n",
        "model_1 = keras.Model(inputs, outputs)\n",
        "\n",
        "# Compile the model\n",
        "model_1.compile(loss=\"categorical_crossentropy\",\n",
        "              optimizer=tf.keras.optimizers.Adam(),\n",
        "              metrics=[\"accuracy\"])\n",
        "\n",
        "# Fit the model\n",
        "history_1_percent = model_1.fit(train_data,\n",
        "                    epochs=5,\n",
        "                    steps_per_epoch=len(train_data),\n",
        "                    validation_data=valid_data,\n",
        "                    validation_steps=int(len(valid_data)), # validate for less steps\n",
        "                    # Track model training logs\n",
        "                )"
      ],
      "metadata": {
        "colab": {
          "base_uri": "https://localhost:8080/"
        },
        "id": "vwUkpNJJBxxf",
        "outputId": "fbe190f9-f817-4112-ccd0-ceab327447a5"
      },
      "execution_count": null,
      "outputs": [
        {
          "output_type": "stream",
          "name": "stdout",
          "text": [
            "Epoch 1/5\n",
            "18/18 [==============================] - 26s 821ms/step - loss: 1.7645 - accuracy: 0.2297 - val_loss: 1.7194 - val_accuracy: 0.3070\n",
            "Epoch 2/5\n",
            "18/18 [==============================] - 10s 571ms/step - loss: 1.7427 - accuracy: 0.2640 - val_loss: 1.7281 - val_accuracy: 0.3070\n",
            "Epoch 3/5\n",
            "18/18 [==============================] - 9s 489ms/step - loss: 1.7494 - accuracy: 0.2694 - val_loss: 1.7156 - val_accuracy: 0.3070\n",
            "Epoch 4/5\n",
            "18/18 [==============================] - 9s 489ms/step - loss: 1.7469 - accuracy: 0.2459 - val_loss: 1.7138 - val_accuracy: 0.3070\n",
            "Epoch 5/5\n",
            "18/18 [==============================] - 9s 492ms/step - loss: 1.7348 - accuracy: 0.2694 - val_loss: 1.7157 - val_accuracy: 0.3070\n"
          ]
        }
      ]
    },
    {
      "cell_type": "markdown",
      "metadata": {
        "id": "IaXmDBmVo2Pd"
      },
      "source": [
        "# Augmentation through augmentor"
      ]
    },
    {
      "cell_type": "code",
      "execution_count": null,
      "metadata": {
        "colab": {
          "base_uri": "https://localhost:8080/"
        },
        "id": "926uwbtH9Tx2",
        "outputId": "dc09e8cb-7237-4a47-cb7d-0c7753694e5f"
      },
      "outputs": [
        {
          "output_type": "stream",
          "name": "stdout",
          "text": [
            "Collecting Augmentor\n",
            "  Downloading Augmentor-0.2.9-py2.py3-none-any.whl (38 kB)\n",
            "Requirement already satisfied: numpy>=1.11.0 in /usr/local/lib/python3.7/dist-packages (from Augmentor) (1.19.5)\n",
            "Requirement already satisfied: tqdm>=4.9.0 in /usr/local/lib/python3.7/dist-packages (from Augmentor) (4.62.3)\n",
            "Requirement already satisfied: Pillow>=5.2.0 in /usr/local/lib/python3.7/dist-packages (from Augmentor) (7.1.2)\n",
            "Requirement already satisfied: future>=0.16.0 in /usr/local/lib/python3.7/dist-packages (from Augmentor) (0.16.0)\n",
            "Installing collected packages: Augmentor\n",
            "Successfully installed Augmentor-0.2.9\n"
          ]
        }
      ],
      "source": [
        "pip install Augmentor"
      ]
    },
    {
      "cell_type": "code",
      "execution_count": null,
      "metadata": {
        "id": "khjCo7m79Dwk"
      },
      "outputs": [],
      "source": [
        "import os      \n",
        "import tensorflow as tf\n",
        "from tensorflow.keras.preprocessing.image import ImageDataGenerator\n",
        "from keras.callbacks import EarlyStopping, ModelCheckpoint\n",
        "from tensorflow.keras.applications import VGG16, VGG19\n",
        "#from tensorflow.keras.applications import EfficientNetB1\n",
        "from tensorflow.keras.applications import DenseNet201\n",
        "from tensorflow.keras.layers import AveragePooling2D\n",
        "from tensorflow.keras.layers import Dropout\n",
        "from tensorflow.keras.layers import Flatten\n",
        "from tensorflow.keras.layers import Dense\n",
        "from tensorflow.keras.layers import Conv2D\n",
        "from tensorflow.keras.layers import BatchNormalization\n",
        "\n",
        "\n",
        "from tensorflow.keras.layers import MaxPool2D\n",
        "from tensorflow.keras.layers import MaxPooling2D\n",
        "from tensorflow.keras.layers import SeparableConv2D\n",
        "\n",
        "\n",
        "from tensorflow.keras.layers import Input\n",
        "from tensorflow.keras.models import Model\n",
        "from tensorflow.keras.optimizers import Adam\n",
        "from tensorflow.keras.utils import to_categorical\n",
        "from sklearn.preprocessing import label_binarize\n",
        "from sklearn.model_selection import train_test_split\n",
        "from sklearn.metrics import classification_report\n",
        "from sklearn.metrics import confusion_matrix\n",
        "from sklearn.preprocessing import LabelBinarizer\n",
        "from sklearn.model_selection import train_test_split\n",
        "from sklearn.metrics import classification_report\n",
        "from sklearn.metrics import confusion_matrix\n",
        "import matplotlib.pyplot as mat\n",
        "import argparse\n",
        "import Augmentor\n",
        "import cv2\n",
        "import os\n",
        "import pandas as pd\n",
        "import shutil\n",
        "import random\n",
        "from sklearn.cluster import KMeans\n",
        "from sklearn import metrics \n",
        "from scipy.spatial.distance import cdist\n",
        "from imutils import paths\n",
        "import matplotlib.pyplot as plt\n",
        "import pandas as pd\n",
        "import numpy as np\n",
        "import random\n",
        "import shutil\n",
        "import cv2\n",
        "import os"
      ]
    },
    {
      "cell_type": "code",
      "execution_count": null,
      "metadata": {
        "id": "nV-RhNiym_CH"
      },
      "outputs": [],
      "source": [
        "def to_grey(img):\n",
        "  img=np.array(img)\n",
        "\n",
        "  img = cv2.cvtColor(img, cv2.COLOR_RGB2GRAY)\n",
        "  return cv2.cvtColor(img,cv2.COLOR_GRAY2RGB)"
      ]
    },
    {
      "cell_type": "code",
      "execution_count": null,
      "metadata": {
        "id": "ZrNxtWnum-tC"
      },
      "outputs": [],
      "source": [
        "#The next following code will convert four channels images into images with three channels and save them as jpg format in original place and deleted the old one.\n",
        "\n",
        "# for clas in os.listdir('/content/drive/MyDrive/Implant_data/train/'):\n",
        "#   for i in os.listdir('/content/drive/MyDrive/Implant_data/train/'+clas):\n",
        "#     img = mpimg.imread('/content/drive/MyDrive/Implant_data/train/'+clas+'/'+i)\n",
        "#     if len(img.shape)>2:\n",
        "#       if img.shape[2]==4:\n",
        "#         img = to_grey(img)\n",
        "#         min_val,max_val=img.min(),img.max()\n",
        "#         img = 255.0*(img - min_val)/(max_val - min_val)\n",
        "#         img = img.astype(np.uint8)\n",
        "#         cv2.imwrite('/content/drive/MyDrive/Implant_data/train/'+clas+'/'+i+'.jpg',img)\n",
        "#         os.remove('/content/drive/MyDrive/Implant_data/train/'+clas+'/'+i)"
      ]
    },
    {
      "cell_type": "code",
      "execution_count": null,
      "metadata": {
        "id": "qe2J2pJz9I4W",
        "colab": {
          "base_uri": "https://localhost:8080/"
        },
        "outputId": "0da0457d-ac04-447a-9e5c-2b3e7a6dbe71"
      },
      "outputs": [
        {
          "output_type": "stream",
          "name": "stdout",
          "text": [
            "Initialised with 553 image(s) found.\n",
            "Output directory set to /content/drive/MyDrive/Implant_data/train/output."
          ]
        },
        {
          "output_type": "stream",
          "name": "stderr",
          "text": [
            "Processing <PIL.Image.Image image mode=RGB size=76x121 at 0x7F5C8DAB3CD0>: 100%|██████████| 553/553 [00:31<00:00, 17.53 Samples/s]\n",
            "Processing <PIL.Image.Image image mode=RGB size=269x185 at 0x7F5C8DAB6510>: 100%|██████████| 500/500 [00:25<00:00, 19.32 Samples/s]\n"
          ]
        }
      ],
      "source": [
        "x = Augmentor.Pipeline('/content/drive/MyDrive/Implant_data/train')\n",
        "x.rotate(probability=0.5, max_left_rotation=25, max_right_rotation=25)\n",
        "x.random_distortion(probability=0.7, grid_width=4, grid_height=4, magnitude=8)\n",
        "x.flip_left_right(probability=0.3)\n",
        "x.rotate180(probability=0.2)\n",
        "x.crop_centre(0.2,0.5)\n",
        "x.shear(0.5,25,25)\n",
        "x.crop_random(0.4,0.5)\n",
        "x.process()\n",
        "x.sample(500) #generate 500 augmented images based on your specifications"
      ]
    },
    {
      "cell_type": "code",
      "execution_count": null,
      "metadata": {
        "id": "QGJ5Pcn3GPXr",
        "colab": {
          "base_uri": "https://localhost:8080/"
        },
        "outputId": "31b8fefe-7343-4942-d275-a97206ddc9d6"
      },
      "outputs": [
        {
          "output_type": "stream",
          "name": "stdout",
          "text": [
            "0\n"
          ]
        }
      ],
      "source": [
        "#checking number of images with four channels in new data\n",
        "c=0\n",
        "for clas in os.listdir('/content/drive/MyDrive/Implant_data/train/output'):\n",
        "  for i in os.listdir('/content/drive/MyDrive/Implant_data/train/output/'+clas):\n",
        "    img = mpimg.imread('/content/drive/MyDrive/Implant_data/train/output/'+clas+'/'+i)\n",
        "    if len(img.shape)>2:\n",
        "      if img.shape[2]==4:\n",
        "        c=c+1\n",
        "\n",
        "print(c)"
      ]
    },
    {
      "cell_type": "code",
      "source": [
        "# number of images in each class in original data\n",
        "import os\n",
        "\n",
        "# Walk through pizza_steak directory and list number of files\n",
        "for dirpath, dirnames, filenames, in os.walk('Implant_data'):\n",
        "  print('There are ',len(dirnames), 'directories and ', len(filenames), 'images in',dirpath)"
      ],
      "metadata": {
        "colab": {
          "base_uri": "https://localhost:8080/"
        },
        "id": "52EKs_P_ukOt",
        "outputId": "7915225e-2d9e-4494-b62e-d2427b5680c5"
      },
      "execution_count": null,
      "outputs": [
        {
          "output_type": "stream",
          "name": "stdout",
          "text": [
            "There are  2 directories and  0 images in Implant_data\n",
            "There are  6 directories and  0 images in Implant_data/train\n",
            "There are  0 directories and  66 images in Implant_data/train/Isola\n",
            "There are  0 directories and  121 images in Implant_data/train/Legacy\n",
            "There are  0 directories and  50 images in Implant_data/train/M8M10\n",
            "There are  0 directories and  73 images in Implant_data/train/Reline\n",
            "There are  0 directories and  94 images in Implant_data/train/Xia\n",
            "There are  0 directories and  149 images in Implant_data/train/Viper\n",
            "There are  6 directories and  0 images in Implant_data/test\n",
            "There are  0 directories and  26 images in Implant_data/test/Legacy\n",
            "There are  0 directories and  13 images in Implant_data/test/Isola\n",
            "There are  0 directories and  8 images in Implant_data/test/Reline\n",
            "There are  0 directories and  11 images in Implant_data/test/M8M10\n",
            "There are  0 directories and  21 images in Implant_data/test/Xia\n",
            "There are  0 directories and  35 images in Implant_data/test/Viper\n"
          ]
        }
      ]
    },
    {
      "cell_type": "code",
      "source": [
        "# number of images in each class in augmented data\n",
        "\n",
        "# Walk through pizza_steak directory and list number of files\n",
        "for dirpath, dirnames, filenames, in os.walk('Implant_data_aug'):\n",
        "  print('There are ',len(dirnames), 'directories and ', len(filenames), 'images in',dirpath)"
      ],
      "metadata": {
        "colab": {
          "base_uri": "https://localhost:8080/"
        },
        "id": "0dMuVvXbukEO",
        "outputId": "c8e4d902-c878-4074-a2e8-79ad902c4569"
      },
      "execution_count": null,
      "outputs": [
        {
          "output_type": "stream",
          "name": "stdout",
          "text": [
            "There are  2 directories and  0 images in Implant_data_aug\n",
            "There are  6 directories and  0 images in Implant_data_aug/test\n",
            "There are  0 directories and  35 images in Implant_data_aug/test/Viper\n",
            "There are  0 directories and  26 images in Implant_data_aug/test/Legacy\n",
            "There are  0 directories and  11 images in Implant_data_aug/test/M8M10\n",
            "There are  0 directories and  13 images in Implant_data_aug/test/Isola\n",
            "There are  0 directories and  8 images in Implant_data_aug/test/Reline\n",
            "There are  0 directories and  21 images in Implant_data_aug/test/Xia\n",
            "There are  6 directories and  0 images in Implant_data_aug/train\n",
            "There are  0 directories and  250 images in Implant_data_aug/train/M8M10\n",
            "There are  0 directories and  338 images in Implant_data_aug/train/Isola\n",
            "There are  0 directories and  341 images in Implant_data_aug/train/Reline\n",
            "There are  0 directories and  583 images in Implant_data_aug/train/Legacy\n",
            "There are  0 directories and  706 images in Implant_data_aug/train/Viper\n",
            "There are  0 directories and  441 images in Implant_data_aug/train/Xia\n"
          ]
        }
      ]
    },
    {
      "cell_type": "markdown",
      "source": [
        "### A model without augmentation"
      ],
      "metadata": {
        "id": "2FBCMXqQGO8X"
      }
    },
    {
      "cell_type": "code",
      "execution_count": null,
      "metadata": {
        "colab": {
          "base_uri": "https://localhost:8080/"
        },
        "id": "_N7wHcb5-4Vi",
        "outputId": "a093e17e-04be-4acb-83c5-a4199f291389"
      },
      "outputs": [
        {
          "output_type": "stream",
          "name": "stdout",
          "text": [
            "Found 553 images belonging to 6 classes.\n",
            "Found 114 images belonging to 6 classes.\n"
          ]
        }
      ],
      "source": [
        "tf.random.set_seed(42)\n",
        "# Preprocess data (get all of the pixel values between 1 and 0, also called scaling/normalization)\n",
        "\n",
        "train_datagen = ImageDataGenerator(rescale=1/255.)\n",
        "test_datagen = ImageDataGenerator(rescale=1/255.)\n",
        "\n",
        "# Setup the train and test directories\n",
        "train_dir = 'Implant_data/train'\n",
        "test_dir = 'Implant_data/test'\n",
        "\n",
        "# Import data from directories and turn it into batches\n",
        "train_data=train_datagen.flow_from_directory(train_dir,batch_size=32,target_size=(128,128),color_mode='rgb',class_mode=\"categorical\",shuffle=True,)\n",
        "\n",
        "valid_data=train_datagen.flow_from_directory(test_dir,batch_size=32,target_size=(128,128),color_mode='rgb',class_mode=\"categorical\",shuffle=True)"
      ]
    },
    {
      "cell_type": "code",
      "execution_count": null,
      "metadata": {
        "id": "0Lz3vHy3IVUE"
      },
      "outputs": [],
      "source": [
        "# initialize the initial learning rate, number of epochs, and batch size\n",
        "INIT_LR = 1e-3\n",
        "EPOCHS = 12\n",
        "BS = 32"
      ]
    },
    {
      "cell_type": "code",
      "execution_count": null,
      "metadata": {
        "id": "yxQ6mSdARWyA",
        "colab": {
          "base_uri": "https://localhost:8080/"
        },
        "outputId": "1cdc087c-a75b-40f1-ca10-985f3845d6fe"
      },
      "outputs": [
        {
          "output_type": "stream",
          "name": "stdout",
          "text": [
            "Downloading data from https://storage.googleapis.com/tensorflow/keras-applications/densenet/densenet201_weights_tf_dim_ordering_tf_kernels_notop.h5\n",
            "74842112/74836368 [==============================] - 1s 0us/step\n",
            "74850304/74836368 [==============================] - 1s 0us/step\n"
          ]
        }
      ],
      "source": [
        "#baseModel = VGG16(weights=\"imagenet\", include_top=False,input_tensor=Input(shape=(224, 224, 3)))\n",
        "#baseModel = VGG19(weights=\"imagenet\", include_top=False,input_tensor=Input(shape=(128, 128, 3)))\n",
        "baseModel = DenseNet201(weights=\"imagenet\", include_top=False,input_tensor=Input(shape=(224, 224, 3)))"
      ]
    },
    {
      "cell_type": "code",
      "execution_count": null,
      "metadata": {
        "id": "dlRoCCt79Gt9"
      },
      "outputs": [],
      "source": [
        "# construct the head of the model that will be placed on top of the\n",
        "headModel = baseModel.output\n",
        "headModel = AveragePooling2D(pool_size=(4,4))(headModel)\n",
        "headModel = Flatten(name=\"flatten\")(headModel)\n",
        "headModel = Dense(128, activation=\"relu\")(headModel)\n",
        "headModel = Dense(64, activation=\"relu\")(headModel)\n",
        "headModel = Dropout(0.5)(headModel)\n",
        "headModel = Dense(6, activation=\"softmax\")(headModel)\n",
        "\n",
        "model = Model(inputs=baseModel.input, outputs=headModel)\n",
        "callbacks = [EarlyStopping(monitor='val_loss', patience=8),ModelCheckpoint(filepath='best_model.h5', monitor='val_loss', save_best_only=True)]\n",
        "for layer in baseModel.layers:\n",
        "    layer.trainable = False"
      ]
    },
    {
      "cell_type": "code",
      "execution_count": null,
      "metadata": {
        "colab": {
          "base_uri": "https://localhost:8080/"
        },
        "id": "mKvTvIrO9v5S",
        "outputId": "a75466e3-354a-47fc-e472-dd661c92ebee"
      },
      "outputs": [
        {
          "output_type": "stream",
          "name": "stdout",
          "text": [
            "Epoch 1/12\n",
            "18/18 [==============================] - 148s 7s/step - loss: 1.9244 - accuracy: 0.1971 - val_loss: 1.6908 - val_accuracy: 0.2807\n",
            "Epoch 2/12\n",
            "18/18 [==============================] - 7s 383ms/step - loss: 1.6669 - accuracy: 0.3020 - val_loss: 1.6544 - val_accuracy: 0.2719\n",
            "Epoch 3/12\n",
            "18/18 [==============================] - 5s 283ms/step - loss: 1.5549 - accuracy: 0.3888 - val_loss: 1.6648 - val_accuracy: 0.3246\n",
            "Epoch 4/12\n",
            "18/18 [==============================] - 5s 251ms/step - loss: 1.4478 - accuracy: 0.4376 - val_loss: 1.6917 - val_accuracy: 0.2807\n",
            "Epoch 5/12\n",
            "18/18 [==============================] - 9s 493ms/step - loss: 1.2905 - accuracy: 0.5099 - val_loss: 1.6458 - val_accuracy: 0.3158\n",
            "Epoch 6/12\n",
            "18/18 [==============================] - 5s 252ms/step - loss: 1.2473 - accuracy: 0.5099 - val_loss: 1.6975 - val_accuracy: 0.3070\n",
            "Epoch 7/12\n",
            "18/18 [==============================] - 5s 268ms/step - loss: 1.1573 - accuracy: 0.5570 - val_loss: 1.6615 - val_accuracy: 0.3333\n",
            "Epoch 8/12\n",
            "18/18 [==============================] - 5s 252ms/step - loss: 1.1358 - accuracy: 0.5769 - val_loss: 1.8365 - val_accuracy: 0.2807\n",
            "Epoch 9/12\n",
            "18/18 [==============================] - 5s 253ms/step - loss: 0.9803 - accuracy: 0.6582 - val_loss: 1.6805 - val_accuracy: 0.2807\n",
            "Epoch 10/12\n",
            "18/18 [==============================] - 5s 250ms/step - loss: 0.8729 - accuracy: 0.6944 - val_loss: 1.7917 - val_accuracy: 0.2719\n",
            "Epoch 11/12\n",
            "18/18 [==============================] - 5s 251ms/step - loss: 0.7477 - accuracy: 0.7396 - val_loss: 1.9667 - val_accuracy: 0.3070\n",
            "Epoch 12/12\n",
            "18/18 [==============================] - 5s 251ms/step - loss: 0.6580 - accuracy: 0.7939 - val_loss: 2.0543 - val_accuracy: 0.2632\n"
          ]
        }
      ],
      "source": [
        "# compile our model\n",
        "opt = Adam(learning_rate=INIT_LR, decay=INIT_LR / EPOCHS)\n",
        "model.compile(loss=\"categorical_crossentropy\", optimizer=opt,metrics=[\"accuracy\"])\n",
        "# train the head of the network\n",
        "H = model.fit(train_data, steps_per_epoch=len(train_data), validation_data=valid_data, validation_steps=int(len(valid_data)),\n",
        "              shuffle=True, epochs=EPOCHS,callbacks=callbacks)"
      ]
    },
    {
      "cell_type": "markdown",
      "source": [
        "###  A model with augmentation"
      ],
      "metadata": {
        "id": "WeHx0O3l9zyj"
      }
    },
    {
      "cell_type": "code",
      "source": [
        "tf.random.set_seed(42)\n",
        "# Preprocess data (get all of the pixel values between 1 and 0, also called scaling/normalization)\n",
        "\n",
        "train_datagen = ImageDataGenerator(rescale=1/255.)\n",
        "test_datagen = ImageDataGenerator(rescale=1/255.)\n",
        "\n",
        "# Setup the train and test directories\n",
        "train_dir = 'Implant_data_aug/train'\n",
        "test_dir = 'Implant_data_aug/test'\n",
        "\n",
        "# Import data from directories and turn it into batches\n",
        "train_data=train_datagen.flow_from_directory(train_dir,batch_size=32,target_size=(224,224),color_mode='rgb',class_mode=\"categorical\",shuffle=True,)\n",
        "\n",
        "valid_data=train_datagen.flow_from_directory(test_dir,batch_size=32,target_size=(224,224),color_mode='rgb',class_mode=\"categorical\",shuffle=True)"
      ],
      "metadata": {
        "colab": {
          "base_uri": "https://localhost:8080/"
        },
        "id": "nu54aB1eXmXS",
        "outputId": "07f4cfee-2201-4481-afbe-3da1245c8d5f"
      },
      "execution_count": null,
      "outputs": [
        {
          "output_type": "stream",
          "name": "stdout",
          "text": [
            "Found 2659 images belonging to 6 classes.\n",
            "Found 114 images belonging to 6 classes.\n"
          ]
        }
      ]
    },
    {
      "cell_type": "code",
      "source": [
        "# initialize the initial learning rate, number of epochs, and batch size\n",
        "INIT_LR = 1e-3\n",
        "EPOCHS = 12\n",
        "BS = 32"
      ],
      "metadata": {
        "id": "ZLDYTuuKXrIk"
      },
      "execution_count": null,
      "outputs": []
    },
    {
      "cell_type": "code",
      "source": [
        "baseModel = DenseNet201(weights=\"imagenet\", include_top=False,input_tensor=Input(shape=(224, 224, 3)))"
      ],
      "metadata": {
        "id": "yetcAUTaXu06"
      },
      "execution_count": null,
      "outputs": []
    },
    {
      "cell_type": "code",
      "source": [
        "# construct the head of the model that will be placed on top of the\n",
        "headModel = baseModel.output\n",
        "headModel = AveragePooling2D(pool_size=(4,4))(headModel)\n",
        "headModel = Flatten(name=\"flatten\")(headModel)\n",
        "headModel = Dense(128, activation=\"relu\")(headModel)\n",
        "headModel = Dense(64, activation=\"relu\")(headModel)\n",
        "headModel = Dropout(0.5)(headModel)\n",
        "headModel = Dense(6, activation=\"softmax\")(headModel)\n",
        "\n",
        "model = Model(inputs=baseModel.input, outputs=headModel)\n",
        "callbacks = [EarlyStopping(monitor='val_loss', patience=8),ModelCheckpoint(filepath='best_model.h5', monitor='val_loss', save_best_only=True)]\n",
        "for layer in baseModel.layers:\n",
        "    layer.trainable = False"
      ],
      "metadata": {
        "id": "c5-k0M7bXxdA"
      },
      "execution_count": null,
      "outputs": []
    },
    {
      "cell_type": "code",
      "source": [
        "# compile our model\n",
        "opt = Adam(learning_rate=INIT_LR, decay=INIT_LR / EPOCHS)\n",
        "model.compile(loss=\"categorical_crossentropy\", optimizer=opt,metrics=[\"accuracy\"])\n",
        "# train the head of the network\n",
        "H = model.fit(train_data, steps_per_epoch=len(train_data), validation_data=valid_data, validation_steps=int(len(valid_data)),\n",
        "              shuffle=True, epochs=EPOCHS,callbacks=callbacks)"
      ],
      "metadata": {
        "colab": {
          "base_uri": "https://localhost:8080/"
        },
        "id": "_S6Q1UV0X2H6",
        "outputId": "25f09ae4-fbfa-45ee-d66e-a2225d89e8ae"
      },
      "execution_count": null,
      "outputs": [
        {
          "output_type": "stream",
          "name": "stdout",
          "text": [
            "Epoch 1/12\n",
            "84/84 [==============================] - 451s 5s/step - loss: 1.7585 - accuracy: 0.2757 - val_loss: 1.5958 - val_accuracy: 0.2982\n",
            "Epoch 2/12\n",
            "84/84 [==============================] - 32s 375ms/step - loss: 1.5755 - accuracy: 0.3648 - val_loss: 1.5499 - val_accuracy: 0.4298\n",
            "Epoch 3/12\n",
            "84/84 [==============================] - 29s 339ms/step - loss: 1.4447 - accuracy: 0.4205 - val_loss: 1.5826 - val_accuracy: 0.4211\n",
            "Epoch 4/12\n",
            "84/84 [==============================] - 29s 338ms/step - loss: 1.3740 - accuracy: 0.4573 - val_loss: 1.5966 - val_accuracy: 0.3772\n",
            "Epoch 5/12\n",
            "84/84 [==============================] - 29s 338ms/step - loss: 1.2374 - accuracy: 0.5303 - val_loss: 1.6489 - val_accuracy: 0.4561\n",
            "Epoch 6/12\n",
            "84/84 [==============================] - 28s 337ms/step - loss: 1.1325 - accuracy: 0.5750 - val_loss: 1.5894 - val_accuracy: 0.4825\n",
            "Epoch 7/12\n",
            "84/84 [==============================] - 30s 356ms/step - loss: 1.0145 - accuracy: 0.6284 - val_loss: 1.8109 - val_accuracy: 0.4298\n",
            "Epoch 8/12\n",
            "84/84 [==============================] - 29s 338ms/step - loss: 0.9165 - accuracy: 0.6578 - val_loss: 1.9503 - val_accuracy: 0.4474\n",
            "Epoch 9/12\n",
            "84/84 [==============================] - 28s 337ms/step - loss: 0.8526 - accuracy: 0.6826 - val_loss: 1.9826 - val_accuracy: 0.3947\n",
            "Epoch 10/12\n",
            "84/84 [==============================] - 28s 337ms/step - loss: 0.7539 - accuracy: 0.7292 - val_loss: 2.0694 - val_accuracy: 0.4211\n"
          ]
        }
      ]
    },
    {
      "cell_type": "markdown",
      "source": [
        "### fastai"
      ],
      "metadata": {
        "id": "rfGOID3NbsnL"
      }
    },
    {
      "cell_type": "code",
      "source": [
        "!pip install fastai --upgrade"
      ],
      "metadata": {
        "id": "kXIwqrDpbuRv"
      },
      "execution_count": null,
      "outputs": []
    },
    {
      "cell_type": "code",
      "source": [
        "!pip install fastai==2.2.5\n"
      ],
      "metadata": {
        "id": "I0HG3aWObung"
      },
      "execution_count": null,
      "outputs": []
    },
    {
      "cell_type": "code",
      "source": [
        "from fastai.vision.all import *"
      ],
      "metadata": {
        "id": "MSvTNwsBbzBQ"
      },
      "execution_count": null,
      "outputs": []
    },
    {
      "cell_type": "code",
      "source": [
        "def to_grayscale(img):\n",
        "  return img.convert('L')\n",
        "\n",
        "class GreyScaleTfm(Transform):\n",
        "  def encodes(self, img: Image.Image):\n",
        "    return to_grayscale(img)\n",
        "\n",
        "img_size = 224"
      ],
      "metadata": {
        "id": "JyMNu5ewcMYC"
      },
      "execution_count": null,
      "outputs": []
    },
    {
      "cell_type": "code",
      "source": [
        "str='/content/drive/MyDrive/Implant_data_aug/train'\n",
        "p = Path(str)\n",
        "dls = ImageDataLoaders.from_folder(p, train='train', valid_pct=0.2, bs=8, item_tfms=[GreyScaleTfm(order=0), Resize(img_size, method='squish', order=1)],batch_tfms=[*aug_transforms(), Normalize.from_stats(*imagenet_stats)])\n",
        "files = get_image_files(p)\n",
        "len(files)\n",
        "dls.show_batch()"
      ],
      "metadata": {
        "colab": {
          "base_uri": "https://localhost:8080/",
          "height": 370
        },
        "id": "YBbhXQgKcOom",
        "outputId": "c4bb6439-e408-47ec-bd92-e7db48fb13f0"
      },
      "execution_count": null,
      "outputs": [
        {
          "output_type": "display_data",
          "data": {
            "image/png": "[encoded data removed]",
            "text/plain": [
              "<Figure size 864x432 with 8 Axes>"
            ]
          },
          "metadata": {
            "needs_background": "light"
          }
        }
      ]
    },
    {
      "cell_type": "code",
      "source": [
        "learn = cnn_learner(dls, resnet50, metrics=accuracy)\n",
        "learn.fine_tune(50)"
      ],
      "metadata": {
        "colab": {
          "base_uri": "https://localhost:8080/",
          "height": 1000,
          "referenced_widgets": [
            "eb82a5cd04324cb88b87fc400e340518",
            "fd7bbcff3d8c40edb33249341e9aeb7f",
            "e598a75611a348ffb1c5cab287341439",
            "e938a4b0e1a84c0e9c9138c9fca927ad",
            "ca2d5cf17ff241e29062d82a3961c8ca",
            "628dbcbdd2e54597a609fd3c2568a9ee",
            "0e1d02f2e4124f9a9ec7a0db936696f5",
            "192b3c1c9da9437f8786e7d3e50a1d50",
            "74cd7d6508de4d5197307f276193c18f",
            "1da4ff8f761a4ac7afa77051df194452",
            "f3db426604eb4548af2a3e5e95c79d0b"
          ]
        },
        "id": "ZByCn3hDcfoM",
        "outputId": "2ef4f0ef-3842-4b17-da25-4af9c2c27b53"
      },
      "execution_count": null,
      "outputs": [
        {
          "output_type": "stream",
          "name": "stderr",
          "text": [
            "Downloading: \"https://download.pytorch.org/models/resnet50-19c8e357.pth\" to /root/.cache/torch/hub/checkpoints/resnet50-19c8e357.pth\n"
          ]
        },
        {
          "output_type": "display_data",
          "data": {
            "application/vnd.jupyter.widget-view+json": {
              "model_id": "eb82a5cd04324cb88b87fc400e340518",
              "version_minor": 0,
              "version_major": 2
            },
            "text/plain": [
              "  0%|          | 0.00/97.8M [00:00<?, ?B/s]"
            ]
          },
          "metadata": {}
        },
        {
          "output_type": "display_data",
          "data": {
            "text/html": [
              "<table border=\"1\" class=\"dataframe\">\n",
              "  <thead>\n",
              "    <tr style=\"text-align: left;\">\n",
              "      <th>epoch</th>\n",
              "      <th>train_loss</th>\n",
              "      <th>valid_loss</th>\n",
              "      <th>accuracy</th>\n",
              "      <th>time</th>\n",
              "    </tr>\n",
              "  </thead>\n",
              "  <tbody>\n",
              "    <tr>\n",
              "      <td>0</td>\n",
              "      <td>2.563416</td>\n",
              "      <td>2.024187</td>\n",
              "      <td>0.370998</td>\n",
              "      <td>01:16</td>\n",
              "    </tr>\n",
              "  </tbody>\n",
              "</table>"
            ],
            "text/plain": [
              "<IPython.core.display.HTML object>"
            ]
          },
          "metadata": {}
        },
        {
          "output_type": "display_data",
          "data": {
            "text/html": [
              "<table border=\"1\" class=\"dataframe\">\n",
              "  <thead>\n",
              "    <tr style=\"text-align: left;\">\n",
              "      <th>epoch</th>\n",
              "      <th>train_loss</th>\n",
              "      <th>valid_loss</th>\n",
              "      <th>accuracy</th>\n",
              "      <th>time</th>\n",
              "    </tr>\n",
              "  </thead>\n",
              "  <tbody>\n",
              "    <tr>\n",
              "      <td>0</td>\n",
              "      <td>1.764497</td>\n",
              "      <td>1.448637</td>\n",
              "      <td>0.465160</td>\n",
              "      <td>01:23</td>\n",
              "    </tr>\n",
              "    <tr>\n",
              "      <td>1</td>\n",
              "      <td>1.603212</td>\n",
              "      <td>1.197114</td>\n",
              "      <td>0.555556</td>\n",
              "      <td>01:23</td>\n",
              "    </tr>\n",
              "    <tr>\n",
              "      <td>2</td>\n",
              "      <td>1.376252</td>\n",
              "      <td>1.157776</td>\n",
              "      <td>0.557439</td>\n",
              "      <td>01:24</td>\n",
              "    </tr>\n",
              "    <tr>\n",
              "      <td>3</td>\n",
              "      <td>1.283079</td>\n",
              "      <td>1.113782</td>\n",
              "      <td>0.583804</td>\n",
              "      <td>01:23</td>\n",
              "    </tr>\n",
              "    <tr>\n",
              "      <td>4</td>\n",
              "      <td>1.245400</td>\n",
              "      <td>1.115179</td>\n",
              "      <td>0.610169</td>\n",
              "      <td>01:22</td>\n",
              "    </tr>\n",
              "    <tr>\n",
              "      <td>5</td>\n",
              "      <td>1.104051</td>\n",
              "      <td>1.066127</td>\n",
              "      <td>0.623352</td>\n",
              "      <td>01:22</td>\n",
              "    </tr>\n",
              "    <tr>\n",
              "      <td>6</td>\n",
              "      <td>0.966277</td>\n",
              "      <td>0.915564</td>\n",
              "      <td>0.676083</td>\n",
              "      <td>01:22</td>\n",
              "    </tr>\n",
              "    <tr>\n",
              "      <td>7</td>\n",
              "      <td>0.953271</td>\n",
              "      <td>0.965733</td>\n",
              "      <td>0.683616</td>\n",
              "      <td>01:23</td>\n",
              "    </tr>\n",
              "    <tr>\n",
              "      <td>8</td>\n",
              "      <td>0.970372</td>\n",
              "      <td>0.995251</td>\n",
              "      <td>0.679849</td>\n",
              "      <td>01:23</td>\n",
              "    </tr>\n",
              "    <tr>\n",
              "      <td>9</td>\n",
              "      <td>0.889532</td>\n",
              "      <td>0.958797</td>\n",
              "      <td>0.685499</td>\n",
              "      <td>01:22</td>\n",
              "    </tr>\n",
              "    <tr>\n",
              "      <td>10</td>\n",
              "      <td>0.861395</td>\n",
              "      <td>1.127129</td>\n",
              "      <td>0.632768</td>\n",
              "      <td>01:22</td>\n",
              "    </tr>\n",
              "    <tr>\n",
              "      <td>11</td>\n",
              "      <td>0.820360</td>\n",
              "      <td>0.974113</td>\n",
              "      <td>0.677966</td>\n",
              "      <td>01:22</td>\n",
              "    </tr>\n",
              "    <tr>\n",
              "      <td>12</td>\n",
              "      <td>0.822165</td>\n",
              "      <td>0.840217</td>\n",
              "      <td>0.708098</td>\n",
              "      <td>01:22</td>\n",
              "    </tr>\n",
              "    <tr>\n",
              "      <td>13</td>\n",
              "      <td>0.780320</td>\n",
              "      <td>0.895150</td>\n",
              "      <td>0.696799</td>\n",
              "      <td>01:22</td>\n",
              "    </tr>\n",
              "    <tr>\n",
              "      <td>14</td>\n",
              "      <td>0.675453</td>\n",
              "      <td>0.916286</td>\n",
              "      <td>0.698682</td>\n",
              "      <td>01:23</td>\n",
              "    </tr>\n",
              "    <tr>\n",
              "      <td>15</td>\n",
              "      <td>0.721608</td>\n",
              "      <td>0.855322</td>\n",
              "      <td>0.723164</td>\n",
              "      <td>01:23</td>\n",
              "    </tr>\n",
              "    <tr>\n",
              "      <td>16</td>\n",
              "      <td>0.603319</td>\n",
              "      <td>0.961999</td>\n",
              "      <td>0.691149</td>\n",
              "      <td>01:23</td>\n",
              "    </tr>\n",
              "    <tr>\n",
              "      <td>17</td>\n",
              "      <td>0.619803</td>\n",
              "      <td>0.749797</td>\n",
              "      <td>0.760829</td>\n",
              "      <td>01:23</td>\n",
              "    </tr>\n",
              "    <tr>\n",
              "      <td>18</td>\n",
              "      <td>0.532409</td>\n",
              "      <td>0.709964</td>\n",
              "      <td>0.770245</td>\n",
              "      <td>01:23</td>\n",
              "    </tr>\n",
              "    <tr>\n",
              "      <td>19</td>\n",
              "      <td>0.663091</td>\n",
              "      <td>1.052633</td>\n",
              "      <td>0.693032</td>\n",
              "      <td>01:23</td>\n",
              "    </tr>\n",
              "    <tr>\n",
              "      <td>20</td>\n",
              "      <td>0.449448</td>\n",
              "      <td>0.933655</td>\n",
              "      <td>0.709981</td>\n",
              "      <td>01:22</td>\n",
              "    </tr>\n",
              "    <tr>\n",
              "      <td>21</td>\n",
              "      <td>0.455260</td>\n",
              "      <td>0.601297</td>\n",
              "      <td>0.792844</td>\n",
              "      <td>01:22</td>\n",
              "    </tr>\n",
              "    <tr>\n",
              "      <td>22</td>\n",
              "      <td>0.495693</td>\n",
              "      <td>0.849289</td>\n",
              "      <td>0.736347</td>\n",
              "      <td>01:23</td>\n",
              "    </tr>\n",
              "    <tr>\n",
              "      <td>23</td>\n",
              "      <td>0.339021</td>\n",
              "      <td>0.860925</td>\n",
              "      <td>0.753296</td>\n",
              "      <td>01:23</td>\n",
              "    </tr>\n",
              "    <tr>\n",
              "      <td>24</td>\n",
              "      <td>0.353922</td>\n",
              "      <td>0.764278</td>\n",
              "      <td>0.772128</td>\n",
              "      <td>01:23</td>\n",
              "    </tr>\n",
              "    <tr>\n",
              "      <td>25</td>\n",
              "      <td>0.275689</td>\n",
              "      <td>0.709486</td>\n",
              "      <td>0.790960</td>\n",
              "      <td>01:23</td>\n",
              "    </tr>\n",
              "    <tr>\n",
              "      <td>26</td>\n",
              "      <td>0.293892</td>\n",
              "      <td>0.753626</td>\n",
              "      <td>0.783427</td>\n",
              "      <td>01:23</td>\n",
              "    </tr>\n",
              "    <tr>\n",
              "      <td>27</td>\n",
              "      <td>0.347182</td>\n",
              "      <td>0.783377</td>\n",
              "      <td>0.760829</td>\n",
              "      <td>01:23</td>\n",
              "    </tr>\n",
              "    <tr>\n",
              "      <td>28</td>\n",
              "      <td>0.233662</td>\n",
              "      <td>0.606029</td>\n",
              "      <td>0.811676</td>\n",
              "      <td>01:23</td>\n",
              "    </tr>\n",
              "    <tr>\n",
              "      <td>29</td>\n",
              "      <td>0.275687</td>\n",
              "      <td>0.631022</td>\n",
              "      <td>0.789077</td>\n",
              "      <td>01:23</td>\n",
              "    </tr>\n",
              "    <tr>\n",
              "      <td>30</td>\n",
              "      <td>0.246011</td>\n",
              "      <td>0.678084</td>\n",
              "      <td>0.807910</td>\n",
              "      <td>01:23</td>\n",
              "    </tr>\n",
              "    <tr>\n",
              "      <td>31</td>\n",
              "      <td>0.190543</td>\n",
              "      <td>0.684865</td>\n",
              "      <td>0.817326</td>\n",
              "      <td>01:23</td>\n",
              "    </tr>\n",
              "    <tr>\n",
              "      <td>32</td>\n",
              "      <td>0.146410</td>\n",
              "      <td>0.698320</td>\n",
              "      <td>0.806026</td>\n",
              "      <td>01:23</td>\n",
              "    </tr>\n",
              "    <tr>\n",
              "      <td>33</td>\n",
              "      <td>0.162853</td>\n",
              "      <td>0.563579</td>\n",
              "      <td>0.830508</td>\n",
              "      <td>01:23</td>\n",
              "    </tr>\n",
              "    <tr>\n",
              "      <td>34</td>\n",
              "      <td>0.133786</td>\n",
              "      <td>0.645916</td>\n",
              "      <td>0.811676</td>\n",
              "      <td>01:23</td>\n",
              "    </tr>\n",
              "    <tr>\n",
              "      <td>35</td>\n",
              "      <td>0.128992</td>\n",
              "      <td>0.732171</td>\n",
              "      <td>0.802260</td>\n",
              "      <td>01:23</td>\n",
              "    </tr>\n",
              "    <tr>\n",
              "      <td>36</td>\n",
              "      <td>0.100589</td>\n",
              "      <td>0.587956</td>\n",
              "      <td>0.830508</td>\n",
              "      <td>01:22</td>\n",
              "    </tr>\n",
              "    <tr>\n",
              "      <td>37</td>\n",
              "      <td>0.094410</td>\n",
              "      <td>0.595463</td>\n",
              "      <td>0.849341</td>\n",
              "      <td>01:22</td>\n",
              "    </tr>\n",
              "    <tr>\n",
              "      <td>38</td>\n",
              "      <td>0.054881</td>\n",
              "      <td>0.566999</td>\n",
              "      <td>0.843691</td>\n",
              "      <td>01:22</td>\n",
              "    </tr>\n",
              "    <tr>\n",
              "      <td>39</td>\n",
              "      <td>0.076508</td>\n",
              "      <td>0.605105</td>\n",
              "      <td>0.841808</td>\n",
              "      <td>01:22</td>\n",
              "    </tr>\n",
              "    <tr>\n",
              "      <td>40</td>\n",
              "      <td>0.059757</td>\n",
              "      <td>0.579335</td>\n",
              "      <td>0.849341</td>\n",
              "      <td>01:22</td>\n",
              "    </tr>\n",
              "    <tr>\n",
              "      <td>41</td>\n",
              "      <td>0.075768</td>\n",
              "      <td>0.578696</td>\n",
              "      <td>0.849341</td>\n",
              "      <td>01:22</td>\n",
              "    </tr>\n",
              "    <tr>\n",
              "      <td>42</td>\n",
              "      <td>0.050980</td>\n",
              "      <td>0.567085</td>\n",
              "      <td>0.853107</td>\n",
              "      <td>01:22</td>\n",
              "    </tr>\n",
              "    <tr>\n",
              "      <td>43</td>\n",
              "      <td>0.065031</td>\n",
              "      <td>0.548395</td>\n",
              "      <td>0.845574</td>\n",
              "      <td>01:22</td>\n",
              "    </tr>\n",
              "    <tr>\n",
              "      <td>44</td>\n",
              "      <td>0.050457</td>\n",
              "      <td>0.580334</td>\n",
              "      <td>0.858757</td>\n",
              "      <td>01:22</td>\n",
              "    </tr>\n",
              "    <tr>\n",
              "      <td>45</td>\n",
              "      <td>0.045598</td>\n",
              "      <td>0.541022</td>\n",
              "      <td>0.860640</td>\n",
              "      <td>01:22</td>\n",
              "    </tr>\n",
              "    <tr>\n",
              "      <td>46</td>\n",
              "      <td>0.030273</td>\n",
              "      <td>0.568907</td>\n",
              "      <td>0.841808</td>\n",
              "      <td>01:22</td>\n",
              "    </tr>\n",
              "    <tr>\n",
              "      <td>47</td>\n",
              "      <td>0.088368</td>\n",
              "      <td>0.540554</td>\n",
              "      <td>0.854991</td>\n",
              "      <td>01:22</td>\n",
              "    </tr>\n",
              "    <tr>\n",
              "      <td>48</td>\n",
              "      <td>0.044151</td>\n",
              "      <td>0.563824</td>\n",
              "      <td>0.849341</td>\n",
              "      <td>01:22</td>\n",
              "    </tr>\n",
              "    <tr>\n",
              "      <td>49</td>\n",
              "      <td>0.051569</td>\n",
              "      <td>0.532890</td>\n",
              "      <td>0.864407</td>\n",
              "      <td>01:22</td>\n",
              "    </tr>\n",
              "  </tbody>\n",
              "</table>"
            ],
            "text/plain": [
              "<IPython.core.display.HTML object>"
            ]
          },
          "metadata": {}
        }
      ]
    },
    {
      "cell_type": "code",
      "source": [
        "testFolder='/content/drive/MyDrive/Implant_data_aug/test/'\n",
        "files = get_image_files(testFolder)\n",
        "files"
      ],
      "metadata": {
        "id": "WPnXW0UUctX3",
        "colab": {
          "base_uri": "https://localhost:8080/"
        },
        "outputId": "de887ca2-1716-4cd0-ad30-56408fc84f9d"
      },
      "execution_count": null,
      "outputs": [
        {
          "output_type": "execute_result",
          "data": {
            "text/plain": [
              "(#114) [Path('/content/drive/MyDrive/Implant_data_aug/test/Viper/image003_test222.jpg'),Path('/content/drive/MyDrive/Implant_data_aug/test/Viper/img_5772.jpg'),Path('/content/drive/MyDrive/Implant_data_aug/test/Viper/expedium_ pmc3170270_1.png'),Path('/content/drive/MyDrive/Implant_data_aug/test/Viper/spinal_xray_789__ML.jpg'),Path('/content/drive/MyDrive/Implant_data_aug/test/Viper/facebook_7473_ML.jpg'),Path('/content/drive/MyDrive/Implant_data_aug/test/Viper/viper_ pmc3809439_1.png'),Path('/content/drive/MyDrive/Implant_data_aug/test/Viper/spinal_xray_81_ML.jpg'),Path('/content/drive/MyDrive/Implant_data_aug/test/Viper/image002_test_209.png'),Path('/content/drive/MyDrive/Implant_data_aug/test/Viper/expedium_xray3.png'),Path('/content/drive/MyDrive/Implant_data_aug/test/Viper/facebook_4737_ML.jpg')...]"
            ]
          },
          "metadata": {},
          "execution_count": 29
        }
      ]
    },
    {
      "cell_type": "code",
      "source": [
        "counter=0\n",
        "correct=0\n",
        "for i in os.listdir('/content/drive/MyDrive/Implant_data_aug/test'):\n",
        "  for j in os.listdir('/content/drive/MyDrive/Implant_data_aug/test/'+i):\n",
        "    counter=counter+1\n",
        "    p=learn.predict('/content/drive/MyDrive/Implant_data_aug/test/'+i+'/'+j)\n",
        "    if p[0]==i:\n",
        "      correct=correct+1\n",
        "print(counter,correct) "
      ],
      "metadata": {
        "id": "pNkTSuxdc5QG",
        "colab": {
          "base_uri": "https://localhost:8080/",
          "height": 34
        },
        "outputId": "11b6dbd9-d317-44cb-d228-384691e3e731"
      },
      "execution_count": null,
      "outputs": [
        {
          "output_type": "display_data",
          "data": {
            "text/html": [
              ""
            ],
            "text/plain": [
              "<IPython.core.display.HTML object>"
            ]
          },
          "metadata": {}
        },
        {
          "output_type": "display_data",
          "data": {
            "text/html": [
              ""
            ],
            "text/plain": [
              "<IPython.core.display.HTML object>"
            ]
          },
          "metadata": {}
        },
        {
          "output_type": "display_data",
          "data": {
            "text/html": [
              ""
            ],
            "text/plain": [
              "<IPython.core.display.HTML object>"
            ]
          },
          "metadata": {}
        },
        {
          "output_type": "display_data",
          "data": {
            "text/html": [
              ""
            ],
            "text/plain": [
              "<IPython.core.display.HTML object>"
            ]
          },
          "metadata": {}
        },
        {
          "output_type": "display_data",
          "data": {
            "text/html": [
              ""
            ],
            "text/plain": [
              "<IPython.core.display.HTML object>"
            ]
          },
          "metadata": {}
        },
        {
          "output_type": "display_data",
          "data": {
            "text/html": [
              ""
            ],
            "text/plain": [
              "<IPython.core.display.HTML object>"
            ]
          },
          "metadata": {}
        },
        {
          "output_type": "display_data",
          "data": {
            "text/html": [
              ""
            ],
            "text/plain": [
              "<IPython.core.display.HTML object>"
            ]
          },
          "metadata": {}
        },
        {
          "output_type": "display_data",
          "data": {
            "text/html": [
              ""
            ],
            "text/plain": [
              "<IPython.core.display.HTML object>"
            ]
          },
          "metadata": {}
        },
        {
          "output_type": "display_data",
          "data": {
            "text/html": [
              ""
            ],
            "text/plain": [
              "<IPython.core.display.HTML object>"
            ]
          },
          "metadata": {}
        },
        {
          "output_type": "display_data",
          "data": {
            "text/html": [
              ""
            ],
            "text/plain": [
              "<IPython.core.display.HTML object>"
            ]
          },
          "metadata": {}
        },
        {
          "output_type": "display_data",
          "data": {
            "text/html": [
              ""
            ],
            "text/plain": [
              "<IPython.core.display.HTML object>"
            ]
          },
          "metadata": {}
        },
        {
          "output_type": "display_data",
          "data": {
            "text/html": [
              ""
            ],
            "text/plain": [
              "<IPython.core.display.HTML object>"
            ]
          },
          "metadata": {}
        },
        {
          "output_type": "display_data",
          "data": {
            "text/html": [
              ""
            ],
            "text/plain": [
              "<IPython.core.display.HTML object>"
            ]
          },
          "metadata": {}
        },
        {
          "output_type": "display_data",
          "data": {
            "text/html": [
              ""
            ],
            "text/plain": [
              "<IPython.core.display.HTML object>"
            ]
          },
          "metadata": {}
        },
        {
          "output_type": "display_data",
          "data": {
            "text/html": [
              ""
            ],
            "text/plain": [
              "<IPython.core.display.HTML object>"
            ]
          },
          "metadata": {}
        },
        {
          "output_type": "display_data",
          "data": {
            "text/html": [
              ""
            ],
            "text/plain": [
              "<IPython.core.display.HTML object>"
            ]
          },
          "metadata": {}
        },
        {
          "output_type": "display_data",
          "data": {
            "text/html": [
              ""
            ],
            "text/plain": [
              "<IPython.core.display.HTML object>"
            ]
          },
          "metadata": {}
        },
        {
          "output_type": "display_data",
          "data": {
            "text/html": [
              ""
            ],
            "text/plain": [
              "<IPython.core.display.HTML object>"
            ]
          },
          "metadata": {}
        },
        {
          "output_type": "display_data",
          "data": {
            "text/html": [
              ""
            ],
            "text/plain": [
              "<IPython.core.display.HTML object>"
            ]
          },
          "metadata": {}
        },
        {
          "output_type": "display_data",
          "data": {
            "text/html": [
              ""
            ],
            "text/plain": [
              "<IPython.core.display.HTML object>"
            ]
          },
          "metadata": {}
        },
        {
          "output_type": "display_data",
          "data": {
            "text/html": [
              ""
            ],
            "text/plain": [
              "<IPython.core.display.HTML object>"
            ]
          },
          "metadata": {}
        },
        {
          "output_type": "display_data",
          "data": {
            "text/html": [
              ""
            ],
            "text/plain": [
              "<IPython.core.display.HTML object>"
            ]
          },
          "metadata": {}
        },
        {
          "output_type": "display_data",
          "data": {
            "text/html": [
              ""
            ],
            "text/plain": [
              "<IPython.core.display.HTML object>"
            ]
          },
          "metadata": {}
        },
        {
          "output_type": "display_data",
          "data": {
            "text/html": [
              ""
            ],
            "text/plain": [
              "<IPython.core.display.HTML object>"
            ]
          },
          "metadata": {}
        },
        {
          "output_type": "display_data",
          "data": {
            "text/html": [
              ""
            ],
            "text/plain": [
              "<IPython.core.display.HTML object>"
            ]
          },
          "metadata": {}
        },
        {
          "output_type": "display_data",
          "data": {
            "text/html": [
              ""
            ],
            "text/plain": [
              "<IPython.core.display.HTML object>"
            ]
          },
          "metadata": {}
        },
        {
          "output_type": "display_data",
          "data": {
            "text/html": [
              ""
            ],
            "text/plain": [
              "<IPython.core.display.HTML object>"
            ]
          },
          "metadata": {}
        },
        {
          "output_type": "display_data",
          "data": {
            "text/html": [
              ""
            ],
            "text/plain": [
              "<IPython.core.display.HTML object>"
            ]
          },
          "metadata": {}
        },
        {
          "output_type": "display_data",
          "data": {
            "text/html": [
              ""
            ],
            "text/plain": [
              "<IPython.core.display.HTML object>"
            ]
          },
          "metadata": {}
        },
        {
          "output_type": "display_data",
          "data": {
            "text/html": [
              ""
            ],
            "text/plain": [
              "<IPython.core.display.HTML object>"
            ]
          },
          "metadata": {}
        },
        {
          "output_type": "display_data",
          "data": {
            "text/html": [
              ""
            ],
            "text/plain": [
              "<IPython.core.display.HTML object>"
            ]
          },
          "metadata": {}
        },
        {
          "output_type": "display_data",
          "data": {
            "text/html": [
              ""
            ],
            "text/plain": [
              "<IPython.core.display.HTML object>"
            ]
          },
          "metadata": {}
        },
        {
          "output_type": "display_data",
          "data": {
            "text/html": [
              ""
            ],
            "text/plain": [
              "<IPython.core.display.HTML object>"
            ]
          },
          "metadata": {}
        },
        {
          "output_type": "display_data",
          "data": {
            "text/html": [
              ""
            ],
            "text/plain": [
              "<IPython.core.display.HTML object>"
            ]
          },
          "metadata": {}
        },
        {
          "output_type": "display_data",
          "data": {
            "text/html": [
              ""
            ],
            "text/plain": [
              "<IPython.core.display.HTML object>"
            ]
          },
          "metadata": {}
        },
        {
          "output_type": "display_data",
          "data": {
            "text/html": [
              ""
            ],
            "text/plain": [
              "<IPython.core.display.HTML object>"
            ]
          },
          "metadata": {}
        },
        {
          "output_type": "display_data",
          "data": {
            "text/html": [
              ""
            ],
            "text/plain": [
              "<IPython.core.display.HTML object>"
            ]
          },
          "metadata": {}
        },
        {
          "output_type": "display_data",
          "data": {
            "text/html": [
              ""
            ],
            "text/plain": [
              "<IPython.core.display.HTML object>"
            ]
          },
          "metadata": {}
        },
        {
          "output_type": "display_data",
          "data": {
            "text/html": [
              ""
            ],
            "text/plain": [
              "<IPython.core.display.HTML object>"
            ]
          },
          "metadata": {}
        },
        {
          "output_type": "display_data",
          "data": {
            "text/html": [
              ""
            ],
            "text/plain": [
              "<IPython.core.display.HTML object>"
            ]
          },
          "metadata": {}
        },
        {
          "output_type": "display_data",
          "data": {
            "text/html": [
              ""
            ],
            "text/plain": [
              "<IPython.core.display.HTML object>"
            ]
          },
          "metadata": {}
        },
        {
          "output_type": "display_data",
          "data": {
            "text/html": [
              ""
            ],
            "text/plain": [
              "<IPython.core.display.HTML object>"
            ]
          },
          "metadata": {}
        },
        {
          "output_type": "display_data",
          "data": {
            "text/html": [
              ""
            ],
            "text/plain": [
              "<IPython.core.display.HTML object>"
            ]
          },
          "metadata": {}
        },
        {
          "output_type": "display_data",
          "data": {
            "text/html": [
              ""
            ],
            "text/plain": [
              "<IPython.core.display.HTML object>"
            ]
          },
          "metadata": {}
        },
        {
          "output_type": "display_data",
          "data": {
            "text/html": [
              ""
            ],
            "text/plain": [
              "<IPython.core.display.HTML object>"
            ]
          },
          "metadata": {}
        },
        {
          "output_type": "display_data",
          "data": {
            "text/html": [
              ""
            ],
            "text/plain": [
              "<IPython.core.display.HTML object>"
            ]
          },
          "metadata": {}
        },
        {
          "output_type": "display_data",
          "data": {
            "text/html": [
              ""
            ],
            "text/plain": [
              "<IPython.core.display.HTML object>"
            ]
          },
          "metadata": {}
        },
        {
          "output_type": "display_data",
          "data": {
            "text/html": [
              ""
            ],
            "text/plain": [
              "<IPython.core.display.HTML object>"
            ]
          },
          "metadata": {}
        },
        {
          "output_type": "display_data",
          "data": {
            "text/html": [
              ""
            ],
            "text/plain": [
              "<IPython.core.display.HTML object>"
            ]
          },
          "metadata": {}
        },
        {
          "output_type": "display_data",
          "data": {
            "text/html": [
              ""
            ],
            "text/plain": [
              "<IPython.core.display.HTML object>"
            ]
          },
          "metadata": {}
        },
        {
          "output_type": "display_data",
          "data": {
            "text/html": [
              ""
            ],
            "text/plain": [
              "<IPython.core.display.HTML object>"
            ]
          },
          "metadata": {}
        },
        {
          "output_type": "display_data",
          "data": {
            "text/html": [
              ""
            ],
            "text/plain": [
              "<IPython.core.display.HTML object>"
            ]
          },
          "metadata": {}
        },
        {
          "output_type": "display_data",
          "data": {
            "text/html": [
              ""
            ],
            "text/plain": [
              "<IPython.core.display.HTML object>"
            ]
          },
          "metadata": {}
        },
        {
          "output_type": "display_data",
          "data": {
            "text/html": [
              ""
            ],
            "text/plain": [
              "<IPython.core.display.HTML object>"
            ]
          },
          "metadata": {}
        },
        {
          "output_type": "display_data",
          "data": {
            "text/html": [
              ""
            ],
            "text/plain": [
              "<IPython.core.display.HTML object>"
            ]
          },
          "metadata": {}
        },
        {
          "output_type": "display_data",
          "data": {
            "text/html": [
              ""
            ],
            "text/plain": [
              "<IPython.core.display.HTML object>"
            ]
          },
          "metadata": {}
        },
        {
          "output_type": "display_data",
          "data": {
            "text/html": [
              ""
            ],
            "text/plain": [
              "<IPython.core.display.HTML object>"
            ]
          },
          "metadata": {}
        },
        {
          "output_type": "display_data",
          "data": {
            "text/html": [
              ""
            ],
            "text/plain": [
              "<IPython.core.display.HTML object>"
            ]
          },
          "metadata": {}
        },
        {
          "output_type": "display_data",
          "data": {
            "text/html": [
              ""
            ],
            "text/plain": [
              "<IPython.core.display.HTML object>"
            ]
          },
          "metadata": {}
        },
        {
          "output_type": "display_data",
          "data": {
            "text/html": [
              ""
            ],
            "text/plain": [
              "<IPython.core.display.HTML object>"
            ]
          },
          "metadata": {}
        },
        {
          "output_type": "display_data",
          "data": {
            "text/html": [
              ""
            ],
            "text/plain": [
              "<IPython.core.display.HTML object>"
            ]
          },
          "metadata": {}
        },
        {
          "output_type": "display_data",
          "data": {
            "text/html": [
              ""
            ],
            "text/plain": [
              "<IPython.core.display.HTML object>"
            ]
          },
          "metadata": {}
        },
        {
          "output_type": "display_data",
          "data": {
            "text/html": [
              ""
            ],
            "text/plain": [
              "<IPython.core.display.HTML object>"
            ]
          },
          "metadata": {}
        },
        {
          "output_type": "display_data",
          "data": {
            "text/html": [
              ""
            ],
            "text/plain": [
              "<IPython.core.display.HTML object>"
            ]
          },
          "metadata": {}
        },
        {
          "output_type": "display_data",
          "data": {
            "text/html": [
              ""
            ],
            "text/plain": [
              "<IPython.core.display.HTML object>"
            ]
          },
          "metadata": {}
        },
        {
          "output_type": "display_data",
          "data": {
            "text/html": [
              ""
            ],
            "text/plain": [
              "<IPython.core.display.HTML object>"
            ]
          },
          "metadata": {}
        },
        {
          "output_type": "display_data",
          "data": {
            "text/html": [
              ""
            ],
            "text/plain": [
              "<IPython.core.display.HTML object>"
            ]
          },
          "metadata": {}
        },
        {
          "output_type": "display_data",
          "data": {
            "text/html": [
              ""
            ],
            "text/plain": [
              "<IPython.core.display.HTML object>"
            ]
          },
          "metadata": {}
        },
        {
          "output_type": "display_data",
          "data": {
            "text/html": [
              ""
            ],
            "text/plain": [
              "<IPython.core.display.HTML object>"
            ]
          },
          "metadata": {}
        },
        {
          "output_type": "display_data",
          "data": {
            "text/html": [
              ""
            ],
            "text/plain": [
              "<IPython.core.display.HTML object>"
            ]
          },
          "metadata": {}
        },
        {
          "output_type": "display_data",
          "data": {
            "text/html": [
              ""
            ],
            "text/plain": [
              "<IPython.core.display.HTML object>"
            ]
          },
          "metadata": {}
        },
        {
          "output_type": "display_data",
          "data": {
            "text/html": [
              ""
            ],
            "text/plain": [
              "<IPython.core.display.HTML object>"
            ]
          },
          "metadata": {}
        },
        {
          "output_type": "display_data",
          "data": {
            "text/html": [
              ""
            ],
            "text/plain": [
              "<IPython.core.display.HTML object>"
            ]
          },
          "metadata": {}
        },
        {
          "output_type": "display_data",
          "data": {
            "text/html": [
              ""
            ],
            "text/plain": [
              "<IPython.core.display.HTML object>"
            ]
          },
          "metadata": {}
        },
        {
          "output_type": "display_data",
          "data": {
            "text/html": [
              ""
            ],
            "text/plain": [
              "<IPython.core.display.HTML object>"
            ]
          },
          "metadata": {}
        },
        {
          "output_type": "display_data",
          "data": {
            "text/html": [
              ""
            ],
            "text/plain": [
              "<IPython.core.display.HTML object>"
            ]
          },
          "metadata": {}
        },
        {
          "output_type": "display_data",
          "data": {
            "text/html": [
              ""
            ],
            "text/plain": [
              "<IPython.core.display.HTML object>"
            ]
          },
          "metadata": {}
        },
        {
          "output_type": "display_data",
          "data": {
            "text/html": [
              ""
            ],
            "text/plain": [
              "<IPython.core.display.HTML object>"
            ]
          },
          "metadata": {}
        },
        {
          "output_type": "display_data",
          "data": {
            "text/html": [
              ""
            ],
            "text/plain": [
              "<IPython.core.display.HTML object>"
            ]
          },
          "metadata": {}
        },
        {
          "output_type": "display_data",
          "data": {
            "text/html": [
              ""
            ],
            "text/plain": [
              "<IPython.core.display.HTML object>"
            ]
          },
          "metadata": {}
        },
        {
          "output_type": "display_data",
          "data": {
            "text/html": [
              ""
            ],
            "text/plain": [
              "<IPython.core.display.HTML object>"
            ]
          },
          "metadata": {}
        },
        {
          "output_type": "display_data",
          "data": {
            "text/html": [
              ""
            ],
            "text/plain": [
              "<IPython.core.display.HTML object>"
            ]
          },
          "metadata": {}
        },
        {
          "output_type": "display_data",
          "data": {
            "text/html": [
              ""
            ],
            "text/plain": [
              "<IPython.core.display.HTML object>"
            ]
          },
          "metadata": {}
        },
        {
          "output_type": "display_data",
          "data": {
            "text/html": [
              ""
            ],
            "text/plain": [
              "<IPython.core.display.HTML object>"
            ]
          },
          "metadata": {}
        },
        {
          "output_type": "display_data",
          "data": {
            "text/html": [
              ""
            ],
            "text/plain": [
              "<IPython.core.display.HTML object>"
            ]
          },
          "metadata": {}
        },
        {
          "output_type": "display_data",
          "data": {
            "text/html": [
              ""
            ],
            "text/plain": [
              "<IPython.core.display.HTML object>"
            ]
          },
          "metadata": {}
        },
        {
          "output_type": "display_data",
          "data": {
            "text/html": [
              ""
            ],
            "text/plain": [
              "<IPython.core.display.HTML object>"
            ]
          },
          "metadata": {}
        },
        {
          "output_type": "display_data",
          "data": {
            "text/html": [
              ""
            ],
            "text/plain": [
              "<IPython.core.display.HTML object>"
            ]
          },
          "metadata": {}
        },
        {
          "output_type": "display_data",
          "data": {
            "text/html": [
              ""
            ],
            "text/plain": [
              "<IPython.core.display.HTML object>"
            ]
          },
          "metadata": {}
        },
        {
          "output_type": "display_data",
          "data": {
            "text/html": [
              ""
            ],
            "text/plain": [
              "<IPython.core.display.HTML object>"
            ]
          },
          "metadata": {}
        },
        {
          "output_type": "display_data",
          "data": {
            "text/html": [
              ""
            ],
            "text/plain": [
              "<IPython.core.display.HTML object>"
            ]
          },
          "metadata": {}
        },
        {
          "output_type": "display_data",
          "data": {
            "text/html": [
              ""
            ],
            "text/plain": [
              "<IPython.core.display.HTML object>"
            ]
          },
          "metadata": {}
        },
        {
          "output_type": "display_data",
          "data": {
            "text/html": [
              ""
            ],
            "text/plain": [
              "<IPython.core.display.HTML object>"
            ]
          },
          "metadata": {}
        },
        {
          "output_type": "display_data",
          "data": {
            "text/html": [
              ""
            ],
            "text/plain": [
              "<IPython.core.display.HTML object>"
            ]
          },
          "metadata": {}
        },
        {
          "output_type": "display_data",
          "data": {
            "text/html": [
              ""
            ],
            "text/plain": [
              "<IPython.core.display.HTML object>"
            ]
          },
          "metadata": {}
        },
        {
          "output_type": "display_data",
          "data": {
            "text/html": [
              ""
            ],
            "text/plain": [
              "<IPython.core.display.HTML object>"
            ]
          },
          "metadata": {}
        },
        {
          "output_type": "display_data",
          "data": {
            "text/html": [
              ""
            ],
            "text/plain": [
              "<IPython.core.display.HTML object>"
            ]
          },
          "metadata": {}
        },
        {
          "output_type": "display_data",
          "data": {
            "text/html": [
              ""
            ],
            "text/plain": [
              "<IPython.core.display.HTML object>"
            ]
          },
          "metadata": {}
        },
        {
          "output_type": "display_data",
          "data": {
            "text/html": [
              ""
            ],
            "text/plain": [
              "<IPython.core.display.HTML object>"
            ]
          },
          "metadata": {}
        },
        {
          "output_type": "display_data",
          "data": {
            "text/html": [
              ""
            ],
            "text/plain": [
              "<IPython.core.display.HTML object>"
            ]
          },
          "metadata": {}
        },
        {
          "output_type": "display_data",
          "data": {
            "text/html": [
              ""
            ],
            "text/plain": [
              "<IPython.core.display.HTML object>"
            ]
          },
          "metadata": {}
        },
        {
          "output_type": "display_data",
          "data": {
            "text/html": [
              ""
            ],
            "text/plain": [
              "<IPython.core.display.HTML object>"
            ]
          },
          "metadata": {}
        },
        {
          "output_type": "display_data",
          "data": {
            "text/html": [
              ""
            ],
            "text/plain": [
              "<IPython.core.display.HTML object>"
            ]
          },
          "metadata": {}
        },
        {
          "output_type": "display_data",
          "data": {
            "text/html": [
              ""
            ],
            "text/plain": [
              "<IPython.core.display.HTML object>"
            ]
          },
          "metadata": {}
        },
        {
          "output_type": "display_data",
          "data": {
            "text/html": [
              ""
            ],
            "text/plain": [
              "<IPython.core.display.HTML object>"
            ]
          },
          "metadata": {}
        },
        {
          "output_type": "display_data",
          "data": {
            "text/html": [
              ""
            ],
            "text/plain": [
              "<IPython.core.display.HTML object>"
            ]
          },
          "metadata": {}
        },
        {
          "output_type": "display_data",
          "data": {
            "text/html": [
              ""
            ],
            "text/plain": [
              "<IPython.core.display.HTML object>"
            ]
          },
          "metadata": {}
        },
        {
          "output_type": "display_data",
          "data": {
            "text/html": [
              ""
            ],
            "text/plain": [
              "<IPython.core.display.HTML object>"
            ]
          },
          "metadata": {}
        },
        {
          "output_type": "display_data",
          "data": {
            "text/html": [
              ""
            ],
            "text/plain": [
              "<IPython.core.display.HTML object>"
            ]
          },
          "metadata": {}
        },
        {
          "output_type": "display_data",
          "data": {
            "text/html": [
              ""
            ],
            "text/plain": [
              "<IPython.core.display.HTML object>"
            ]
          },
          "metadata": {}
        },
        {
          "output_type": "display_data",
          "data": {
            "text/html": [
              ""
            ],
            "text/plain": [
              "<IPython.core.display.HTML object>"
            ]
          },
          "metadata": {}
        },
        {
          "output_type": "display_data",
          "data": {
            "text/html": [
              ""
            ],
            "text/plain": [
              "<IPython.core.display.HTML object>"
            ]
          },
          "metadata": {}
        },
        {
          "output_type": "display_data",
          "data": {
            "text/html": [
              ""
            ],
            "text/plain": [
              "<IPython.core.display.HTML object>"
            ]
          },
          "metadata": {}
        },
        {
          "output_type": "display_data",
          "data": {
            "text/html": [
              ""
            ],
            "text/plain": [
              "<IPython.core.display.HTML object>"
            ]
          },
          "metadata": {}
        },
        {
          "output_type": "stream",
          "name": "stdout",
          "text": [
            "114 53\n"
          ]
        }
      ]
    },
    {
      "cell_type": "code",
      "source": [
        "print('the accuracy of the test data:')\n",
        "correct/counter\n"
      ],
      "metadata": {
        "id": "vXFwGYPTc6Jt",
        "colab": {
          "base_uri": "https://localhost:8080/"
        },
        "outputId": "8004deb5-006e-49dd-c65c-f3075681acba"
      },
      "execution_count": null,
      "outputs": [
        {
          "output_type": "execute_result",
          "data": {
            "text/plain": [
              "0.4649122807017544"
            ]
          },
          "metadata": {},
          "execution_count": 31
        }
      ]
    },
    {
      "cell_type": "code",
      "source": [
        ""
      ],
      "metadata": {
        "id": "OkzK0VEVuD4W"
      },
      "execution_count": null,
      "outputs": []
    }
  ],
  "metadata": {
    "colab": {
      "collapsed_sections": [],
      "name": "Implant data _ Augmentation.ipynb",
      "provenance": [],
      "toc_visible": true,
      "include_colab_link": true
    },
    "kernelspec": {
      "display_name": "Python 3",
      "name": "python3"
    },
    "language_info": {
      "name": "python"
    },
    "widgets": {
      "application/vnd.jupyter.widget-state+json": {
        "eb82a5cd04324cb88b87fc400e340518": {
          "model_module": "@jupyter-widgets/controls",
          "model_name": "HBoxModel",
          "model_module_version": "1.5.0",
          "state": {
            "_view_name": "HBoxView",
            "_dom_classes": [],
            "_model_name": "HBoxModel",
            "_view_module": "@jupyter-widgets/controls",
            "_model_module_version": "1.5.0",
            "_view_count": null,
            "_view_module_version": "1.5.0",
            "box_style": "",
            "layout": "IPY_MODEL_fd7bbcff3d8c40edb33249341e9aeb7f",
            "_model_module": "@jupyter-widgets/controls",
            "children": [
              "IPY_MODEL_e598a75611a348ffb1c5cab287341439",
              "IPY_MODEL_e938a4b0e1a84c0e9c9138c9fca927ad",
              "IPY_MODEL_ca2d5cf17ff241e29062d82a3961c8ca"
            ]
          }
        },
        "fd7bbcff3d8c40edb33249341e9aeb7f": {
          "model_module": "@jupyter-widgets/base",
          "model_name": "LayoutModel",
          "model_module_version": "1.2.0",
          "state": {
            "_view_name": "LayoutView",
            "grid_template_rows": null,
            "right": null,
            "justify_content": null,
            "_view_module": "@jupyter-widgets/base",
            "overflow": null,
            "_model_module_version": "1.2.0",
            "_view_count": null,
            "flex_flow": null,
            "width": null,
            "min_width": null,
            "border": null,
            "align_items": null,
            "bottom": null,
            "_model_module": "@jupyter-widgets/base",
            "top": null,
            "grid_column": null,
            "overflow_y": null,
            "overflow_x": null,
            "grid_auto_flow": null,
            "grid_area": null,
            "grid_template_columns": null,
            "flex": null,
            "_model_name": "LayoutModel",
            "justify_items": null,
            "grid_row": null,
            "max_height": null,
            "align_content": null,
            "visibility": null,
            "align_self": null,
            "height": null,
            "min_height": null,
            "padding": null,
            "grid_auto_rows": null,
            "grid_gap": null,
            "max_width": null,
            "order": null,
            "_view_module_version": "1.2.0",
            "grid_template_areas": null,
            "object_position": null,
            "object_fit": null,
            "grid_auto_columns": null,
            "margin": null,
            "display": null,
            "left": null
          }
        },
        "e598a75611a348ffb1c5cab287341439": {
          "model_module": "@jupyter-widgets/controls",
          "model_name": "HTMLModel",
          "model_module_version": "1.5.0",
          "state": {
            "_view_name": "HTMLView",
            "style": "IPY_MODEL_628dbcbdd2e54597a609fd3c2568a9ee",
            "_dom_classes": [],
            "description": "",
            "_model_name": "HTMLModel",
            "placeholder": "​",
            "_view_module": "@jupyter-widgets/controls",
            "_model_module_version": "1.5.0",
            "value": "100%",
            "_view_count": null,
            "_view_module_version": "1.5.0",
            "description_tooltip": null,
            "_model_module": "@jupyter-widgets/controls",
            "layout": "IPY_MODEL_0e1d02f2e4124f9a9ec7a0db936696f5"
          }
        },
        "e938a4b0e1a84c0e9c9138c9fca927ad": {
          "model_module": "@jupyter-widgets/controls",
          "model_name": "FloatProgressModel",
          "model_module_version": "1.5.0",
          "state": {
            "_view_name": "ProgressView",
            "style": "IPY_MODEL_192b3c1c9da9437f8786e7d3e50a1d50",
            "_dom_classes": [],
            "description": "",
            "_model_name": "FloatProgressModel",
            "bar_style": "success",
            "max": 102502400,
            "_view_module": "@jupyter-widgets/controls",
            "_model_module_version": "1.5.0",
            "value": 102502400,
            "_view_count": null,
            "_view_module_version": "1.5.0",
            "orientation": "horizontal",
            "min": 0,
            "description_tooltip": null,
            "_model_module": "@jupyter-widgets/controls",
            "layout": "IPY_MODEL_74cd7d6508de4d5197307f276193c18f"
          }
        },
        "ca2d5cf17ff241e29062d82a3961c8ca": {
          "model_module": "@jupyter-widgets/controls",
          "model_name": "HTMLModel",
          "model_module_version": "1.5.0",
          "state": {
            "_view_name": "HTMLView",
            "style": "IPY_MODEL_1da4ff8f761a4ac7afa77051df194452",
            "_dom_classes": [],
            "description": "",
            "_model_name": "HTMLModel",
            "placeholder": "​",
            "_view_module": "@jupyter-widgets/controls",
            "_model_module_version": "1.5.0",
            "value": " 97.8M/97.8M [00:02&lt;00:00, 49.2MB/s]",
            "_view_count": null,
            "_view_module_version": "1.5.0",
            "description_tooltip": null,
            "_model_module": "@jupyter-widgets/controls",
            "layout": "IPY_MODEL_f3db426604eb4548af2a3e5e95c79d0b"
          }
        },
        "628dbcbdd2e54597a609fd3c2568a9ee": {
          "model_module": "@jupyter-widgets/controls",
          "model_name": "DescriptionStyleModel",
          "model_module_version": "1.5.0",
          "state": {
            "_view_name": "StyleView",
            "_model_name": "DescriptionStyleModel",
            "description_width": "",
            "_view_module": "@jupyter-widgets/base",
            "_model_module_version": "1.5.0",
            "_view_count": null,
            "_view_module_version": "1.2.0",
            "_model_module": "@jupyter-widgets/controls"
          }
        },
        "0e1d02f2e4124f9a9ec7a0db936696f5": {
          "model_module": "@jupyter-widgets/base",
          "model_name": "LayoutModel",
          "model_module_version": "1.2.0",
          "state": {
            "_view_name": "LayoutView",
            "grid_template_rows": null,
            "right": null,
            "justify_content": null,
            "_view_module": "@jupyter-widgets/base",
            "overflow": null,
            "_model_module_version": "1.2.0",
            "_view_count": null,
            "flex_flow": null,
            "width": null,
            "min_width": null,
            "border": null,
            "align_items": null,
            "bottom": null,
            "_model_module": "@jupyter-widgets/base",
            "top": null,
            "grid_column": null,
            "overflow_y": null,
            "overflow_x": null,
            "grid_auto_flow": null,
            "grid_area": null,
            "grid_template_columns": null,
            "flex": null,
            "_model_name": "LayoutModel",
            "justify_items": null,
            "grid_row": null,
            "max_height": null,
            "align_content": null,
            "visibility": null,
            "align_self": null,
            "height": null,
            "min_height": null,
            "padding": null,
            "grid_auto_rows": null,
            "grid_gap": null,
            "max_width": null,
            "order": null,
            "_view_module_version": "1.2.0",
            "grid_template_areas": null,
            "object_position": null,
            "object_fit": null,
            "grid_auto_columns": null,
            "margin": null,
            "display": null,
            "left": null
          }
        },
        "192b3c1c9da9437f8786e7d3e50a1d50": {
          "model_module": "@jupyter-widgets/controls",
          "model_name": "ProgressStyleModel",
          "model_module_version": "1.5.0",
          "state": {
            "_view_name": "StyleView",
            "_model_name": "ProgressStyleModel",
            "description_width": "",
            "_view_module": "@jupyter-widgets/base",
            "_model_module_version": "1.5.0",
            "_view_count": null,
            "_view_module_version": "1.2.0",
            "bar_color": null,
            "_model_module": "@jupyter-widgets/controls"
          }
        },
        "74cd7d6508de4d5197307f276193c18f": {
          "model_module": "@jupyter-widgets/base",
          "model_name": "LayoutModel",
          "model_module_version": "1.2.0",
          "state": {
            "_view_name": "LayoutView",
            "grid_template_rows": null,
            "right": null,
            "justify_content": null,
            "_view_module": "@jupyter-widgets/base",
            "overflow": null,
            "_model_module_version": "1.2.0",
            "_view_count": null,
            "flex_flow": null,
            "width": null,
            "min_width": null,
            "border": null,
            "align_items": null,
            "bottom": null,
            "_model_module": "@jupyter-widgets/base",
            "top": null,
            "grid_column": null,
            "overflow_y": null,
            "overflow_x": null,
            "grid_auto_flow": null,
            "grid_area": null,
            "grid_template_columns": null,
            "flex": null,
            "_model_name": "LayoutModel",
            "justify_items": null,
            "grid_row": null,
            "max_height": null,
            "align_content": null,
            "visibility": null,
            "align_self": null,
            "height": null,
            "min_height": null,
            "padding": null,
            "grid_auto_rows": null,
            "grid_gap": null,
            "max_width": null,
            "order": null,
            "_view_module_version": "1.2.0",
            "grid_template_areas": null,
            "object_position": null,
            "object_fit": null,
            "grid_auto_columns": null,
            "margin": null,
            "display": null,
            "left": null
          }
        },
        "1da4ff8f761a4ac7afa77051df194452": {
          "model_module": "@jupyter-widgets/controls",
          "model_name": "DescriptionStyleModel",
          "model_module_version": "1.5.0",
          "state": {
            "_view_name": "StyleView",
            "_model_name": "DescriptionStyleModel",
            "description_width": "",
            "_view_module": "@jupyter-widgets/base",
            "_model_module_version": "1.5.0",
            "_view_count": null,
            "_view_module_version": "1.2.0",
            "_model_module": "@jupyter-widgets/controls"
          }
        },
        "f3db426604eb4548af2a3e5e95c79d0b": {
          "model_module": "@jupyter-widgets/base",
          "model_name": "LayoutModel",
          "model_module_version": "1.2.0",
          "state": {
            "_view_name": "LayoutView",
            "grid_template_rows": null,
            "right": null,
            "justify_content": null,
            "_view_module": "@jupyter-widgets/base",
            "overflow": null,
            "_model_module_version": "1.2.0",
            "_view_count": null,
            "flex_flow": null,
            "width": null,
            "min_width": null,
            "border": null,
            "align_items": null,
            "bottom": null,
            "_model_module": "@jupyter-widgets/base",
            "top": null,
            "grid_column": null,
            "overflow_y": null,
            "overflow_x": null,
            "grid_auto_flow": null,
            "grid_area": null,
            "grid_template_columns": null,
            "flex": null,
            "_model_name": "LayoutModel",
            "justify_items": null,
            "grid_row": null,
            "max_height": null,
            "align_content": null,
            "visibility": null,
            "align_self": null,
            "height": null,
            "min_height": null,
            "padding": null,
            "grid_auto_rows": null,
            "grid_gap": null,
            "max_width": null,
            "order": null,
            "_view_module_version": "1.2.0",
            "grid_template_areas": null,
            "object_position": null,
            "object_fit": null,
            "grid_auto_columns": null,
            "margin": null,
            "display": null,
            "left": null
          }
        }
      }
    }
  },
  "nbformat": 4,
  "nbformat_minor": 0
}