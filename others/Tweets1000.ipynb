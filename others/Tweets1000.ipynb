{
  "cells": [
    {
      "cell_type": "markdown",
      "id": "b87c9169",
      "metadata": {
        "papermill": {
          "duration": 0.034724,
          "end_time": "2022-08-30T12:28:49.427473",
          "exception": false,
          "start_time": "2022-08-30T12:28:49.392749",
          "status": "completed"
        },
        "tags": [],
        "id": "b87c9169"
      },
      "source": [
        "## Insatalling dependencies"
      ]
    },
    {
      "cell_type": "code",
      "execution_count": null,
      "id": "5e8a4869",
      "metadata": {
        "execution": {
          "iopub.execute_input": "2022-08-30T12:28:49.490811Z",
          "iopub.status.busy": "2022-08-30T12:28:49.489519Z",
          "iopub.status.idle": "2022-08-30T12:29:04.380817Z",
          "shell.execute_reply": "2022-08-30T12:29:04.379324Z"
        },
        "jupyter": {
          "outputs_hidden": true
        },
        "papermill": {
          "duration": 14.925744,
          "end_time": "2022-08-30T12:29:04.384075",
          "exception": false,
          "start_time": "2022-08-30T12:28:49.458331",
          "status": "completed"
        },
        "tags": [],
        "id": "5e8a4869",
        "colab": {
          "base_uri": "https://localhost:8080/"
        },
        "outputId": "eeb713f9-9a66-435f-ce75-83cfddc7b0e3"
      },
      "outputs": [
        {
          "output_type": "stream",
          "name": "stdout",
          "text": [
            "Looking in indexes: https://pypi.org/simple, https://us-python.pkg.dev/colab-wheels/public/simple/\n",
            "Collecting Arabic-Stopwords\n",
            "  Downloading Arabic_Stopwords-0.4.3-py3-none-any.whl (360 kB)\n",
            "\u001b[2K     \u001b[90m━━━━━━━━━━━━━━━━━━━━━━━━━━━━━━━━━━━━━━━\u001b[0m \u001b[32m360.5/360.5 KB\u001b[0m \u001b[31m9.8 MB/s\u001b[0m eta \u001b[36m0:00:00\u001b[0m\n",
            "\u001b[?25hCollecting pyarabic>=0.6.2\n",
            "  Downloading PyArabic-0.6.15-py3-none-any.whl (126 kB)\n",
            "\u001b[2K     \u001b[90m━━━━━━━━━━━━━━━━━━━━━━━━━━━━━━━━━━━━━━━\u001b[0m \u001b[32m126.4/126.4 KB\u001b[0m \u001b[31m6.7 MB/s\u001b[0m eta \u001b[36m0:00:00\u001b[0m\n",
            "\u001b[?25hRequirement already satisfied: six>=1.14.0 in /usr/local/lib/python3.9/dist-packages (from pyarabic>=0.6.2->Arabic-Stopwords) (1.16.0)\n",
            "Installing collected packages: pyarabic, Arabic-Stopwords\n",
            "Successfully installed Arabic-Stopwords-0.4.3 pyarabic-0.6.15\n"
          ]
        }
      ],
      "source": [
        "!pip install Arabic-Stopwords\n"
      ]
    },
    {
      "cell_type": "code",
      "execution_count": null,
      "id": "649da1bf",
      "metadata": {
        "collapsed": true,
        "execution": {
          "iopub.execute_input": "2022-08-30T12:29:04.446450Z",
          "iopub.status.busy": "2022-08-30T12:29:04.445837Z",
          "iopub.status.idle": "2022-08-30T12:29:16.061261Z",
          "shell.execute_reply": "2022-08-30T12:29:16.059521Z"
        },
        "jupyter": {
          "outputs_hidden": true
        },
        "papermill": {
          "duration": 11.650394,
          "end_time": "2022-08-30T12:29:16.064233",
          "exception": false,
          "start_time": "2022-08-30T12:29:04.413839",
          "status": "completed"
        },
        "tags": [],
        "id": "649da1bf",
        "colab": {
          "base_uri": "https://localhost:8080/"
        },
        "outputId": "4a8ffb6b-18a3-4fcf-ed4e-b85872c703bd"
      },
      "outputs": [
        {
          "output_type": "stream",
          "name": "stdout",
          "text": [
            "Looking in indexes: https://pypi.org/simple, https://us-python.pkg.dev/colab-wheels/public/simple/\n",
            "Collecting transformers\n",
            "  Downloading transformers-4.27.4-py3-none-any.whl (6.8 MB)\n",
            "\u001b[2K     \u001b[90m━━━━━━━━━━━━━━━━━━━━━━━━━━━━━━━━━━━━━━━━\u001b[0m \u001b[32m6.8/6.8 MB\u001b[0m \u001b[31m54.7 MB/s\u001b[0m eta \u001b[36m0:00:00\u001b[0m\n",
            "\u001b[?25hRequirement already satisfied: requests in /usr/local/lib/python3.9/dist-packages (from transformers) (2.27.1)\n",
            "Requirement already satisfied: filelock in /usr/local/lib/python3.9/dist-packages (from transformers) (3.10.7)\n",
            "Requirement already satisfied: tqdm>=4.27 in /usr/local/lib/python3.9/dist-packages (from transformers) (4.65.0)\n",
            "Collecting tokenizers!=0.11.3,<0.14,>=0.11.1\n",
            "  Downloading tokenizers-0.13.2-cp39-cp39-manylinux_2_17_x86_64.manylinux2014_x86_64.whl (7.6 MB)\n",
            "\u001b[2K     \u001b[90m━━━━━━━━━━━━━━━━━━━━━━━━━━━━━━━━━━━━━━━━\u001b[0m \u001b[32m7.6/7.6 MB\u001b[0m \u001b[31m46.8 MB/s\u001b[0m eta \u001b[36m0:00:00\u001b[0m\n",
            "\u001b[?25hRequirement already satisfied: pyyaml>=5.1 in /usr/local/lib/python3.9/dist-packages (from transformers) (6.0)\n",
            "Requirement already satisfied: packaging>=20.0 in /usr/local/lib/python3.9/dist-packages (from transformers) (23.0)\n",
            "Requirement already satisfied: regex!=2019.12.17 in /usr/local/lib/python3.9/dist-packages (from transformers) (2022.10.31)\n",
            "Requirement already satisfied: numpy>=1.17 in /usr/local/lib/python3.9/dist-packages (from transformers) (1.22.4)\n",
            "Collecting huggingface-hub<1.0,>=0.11.0\n",
            "  Downloading huggingface_hub-0.13.3-py3-none-any.whl (199 kB)\n",
            "\u001b[2K     \u001b[90m━━━━━━━━━━━━━━━━━━━━━━━━━━━━━━━━━━━━━━\u001b[0m \u001b[32m199.8/199.8 KB\u001b[0m \u001b[31m23.5 MB/s\u001b[0m eta \u001b[36m0:00:00\u001b[0m\n",
            "\u001b[?25hRequirement already satisfied: typing-extensions>=3.7.4.3 in /usr/local/lib/python3.9/dist-packages (from huggingface-hub<1.0,>=0.11.0->transformers) (4.5.0)\n",
            "Requirement already satisfied: urllib3<1.27,>=1.21.1 in /usr/local/lib/python3.9/dist-packages (from requests->transformers) (1.26.15)\n",
            "Requirement already satisfied: certifi>=2017.4.17 in /usr/local/lib/python3.9/dist-packages (from requests->transformers) (2022.12.7)\n",
            "Requirement already satisfied: charset-normalizer~=2.0.0 in /usr/local/lib/python3.9/dist-packages (from requests->transformers) (2.0.12)\n",
            "Requirement already satisfied: idna<4,>=2.5 in /usr/local/lib/python3.9/dist-packages (from requests->transformers) (3.4)\n",
            "Installing collected packages: tokenizers, huggingface-hub, transformers\n",
            "Successfully installed huggingface-hub-0.13.3 tokenizers-0.13.2 transformers-4.27.4\n"
          ]
        }
      ],
      "source": [
        "pip install transformers"
      ]
    },
    {
      "cell_type": "code",
      "execution_count": null,
      "id": "34c7e0c0",
      "metadata": {
        "collapsed": true,
        "execution": {
          "iopub.execute_input": "2022-08-30T12:29:16.125064Z",
          "iopub.status.busy": "2022-08-30T12:29:16.124611Z",
          "iopub.status.idle": "2022-08-30T12:29:28.888774Z",
          "shell.execute_reply": "2022-08-30T12:29:28.886983Z"
        },
        "jupyter": {
          "outputs_hidden": true
        },
        "papermill": {
          "duration": 12.798415,
          "end_time": "2022-08-30T12:29:28.891553",
          "exception": false,
          "start_time": "2022-08-30T12:29:16.093138",
          "status": "completed"
        },
        "tags": [],
        "colab": {
          "base_uri": "https://localhost:8080/"
        },
        "id": "34c7e0c0",
        "outputId": "82a669ab-d7f0-4338-8351-607d623a9bbd"
      },
      "outputs": [
        {
          "output_type": "stream",
          "name": "stdout",
          "text": [
            "Looking in indexes: https://pypi.org/simple, https://us-python.pkg.dev/colab-wheels/public/simple/\n",
            "Collecting Tashaphyne\n",
            "  Downloading Tashaphyne-0.3.6-py3-none-any.whl (251 kB)\n",
            "\u001b[2K     \u001b[90m━━━━━━━━━━━━━━━━━━━━━━━━━━━━━━━━━━━━━━\u001b[0m \u001b[32m251.5/251.5 KB\u001b[0m \u001b[31m13.0 MB/s\u001b[0m eta \u001b[36m0:00:00\u001b[0m\n",
            "\u001b[?25hRequirement already satisfied: pyarabic in /usr/local/lib/python3.9/dist-packages (from Tashaphyne) (0.6.15)\n",
            "Requirement already satisfied: six>=1.14.0 in /usr/local/lib/python3.9/dist-packages (from pyarabic->Tashaphyne) (1.16.0)\n",
            "Installing collected packages: Tashaphyne\n",
            "Successfully installed Tashaphyne-0.3.6\n"
          ]
        }
      ],
      "source": [
        "pip install Tashaphyne"
      ]
    },
    {
      "cell_type": "code",
      "execution_count": null,
      "id": "e9f2275d",
      "metadata": {
        "collapsed": true,
        "execution": {
          "iopub.execute_input": "2022-08-30T12:29:28.955702Z",
          "iopub.status.busy": "2022-08-30T12:29:28.955196Z",
          "iopub.status.idle": "2022-08-30T12:29:40.355952Z",
          "shell.execute_reply": "2022-08-30T12:29:40.354672Z"
        },
        "jupyter": {
          "outputs_hidden": true
        },
        "papermill": {
          "duration": 11.435902,
          "end_time": "2022-08-30T12:29:40.358606",
          "exception": false,
          "start_time": "2022-08-30T12:29:28.922704",
          "status": "completed"
        },
        "tags": [],
        "colab": {
          "base_uri": "https://localhost:8080/"
        },
        "id": "e9f2275d",
        "outputId": "ced5985c-28e7-4cbe-c1c2-729b0fa2da65"
      },
      "outputs": [
        {
          "output_type": "stream",
          "name": "stdout",
          "text": [
            "Looking in indexes: https://pypi.org/simple, https://us-python.pkg.dev/colab-wheels/public/simple/\n",
            "Requirement already satisfied: PyArabic in /usr/local/lib/python3.9/dist-packages (0.6.15)\n",
            "Requirement already satisfied: six>=1.14.0 in /usr/local/lib/python3.9/dist-packages (from PyArabic) (1.16.0)\n"
          ]
        }
      ],
      "source": [
        "pip install PyArabic"
      ]
    },
    {
      "cell_type": "code",
      "execution_count": null,
      "id": "5828b38d",
      "metadata": {
        "collapsed": true,
        "execution": {
          "iopub.execute_input": "2022-08-30T12:29:40.422976Z",
          "iopub.status.busy": "2022-08-30T12:29:40.422135Z",
          "iopub.status.idle": "2022-08-30T12:29:51.797763Z",
          "shell.execute_reply": "2022-08-30T12:29:51.796527Z"
        },
        "jupyter": {
          "outputs_hidden": true
        },
        "papermill": {
          "duration": 11.411973,
          "end_time": "2022-08-30T12:29:51.801093",
          "exception": false,
          "start_time": "2022-08-30T12:29:40.389120",
          "status": "completed"
        },
        "tags": [],
        "colab": {
          "base_uri": "https://localhost:8080/"
        },
        "id": "5828b38d",
        "outputId": "6185d376-9b66-4191-8140-26dce42932cf"
      },
      "outputs": [
        {
          "output_type": "stream",
          "name": "stdout",
          "text": [
            "Looking in indexes: https://pypi.org/simple, https://us-python.pkg.dev/colab-wheels/public/simple/\n",
            "Collecting emoji\n",
            "  Downloading emoji-2.2.0.tar.gz (240 kB)\n",
            "\u001b[2K     \u001b[90m━━━━━━━━━━━━━━━━━━━━━━━━━━━━━━━━━━━━━━\u001b[0m \u001b[32m240.9/240.9 KB\u001b[0m \u001b[31m11.5 MB/s\u001b[0m eta \u001b[36m0:00:00\u001b[0m\n",
            "\u001b[?25h  Preparing metadata (setup.py) ... \u001b[?25l\u001b[?25hdone\n",
            "Building wheels for collected packages: emoji\n",
            "  Building wheel for emoji (setup.py) ... \u001b[?25l\u001b[?25hdone\n",
            "  Created wheel for emoji: filename=emoji-2.2.0-py3-none-any.whl size=234926 sha256=dc107ac2f9c9f9e2d018f89e09909c708f131a2115c79bdefd52c8efe2411107\n",
            "  Stored in directory: /root/.cache/pip/wheels/9a/b8/0f/f580817231cbf59f6ade9fd132ff60ada1de9f7dc85521f857\n",
            "Successfully built emoji\n",
            "Installing collected packages: emoji\n",
            "Successfully installed emoji-2.2.0\n"
          ]
        }
      ],
      "source": [
        "!pip install emoji"
      ]
    },
    {
      "cell_type": "code",
      "execution_count": null,
      "id": "fcb5a0e1",
      "metadata": {
        "collapsed": true,
        "execution": {
          "iopub.execute_input": "2022-08-30T12:29:51.863505Z",
          "iopub.status.busy": "2022-08-30T12:29:51.863058Z",
          "iopub.status.idle": "2022-08-30T12:30:04.283339Z",
          "shell.execute_reply": "2022-08-30T12:30:04.281905Z"
        },
        "jupyter": {
          "outputs_hidden": true
        },
        "papermill": {
          "duration": 12.455297,
          "end_time": "2022-08-30T12:30:04.286190",
          "exception": false,
          "start_time": "2022-08-30T12:29:51.830893",
          "status": "completed"
        },
        "tags": [],
        "colab": {
          "base_uri": "https://localhost:8080/"
        },
        "id": "fcb5a0e1",
        "outputId": "00f96ee1-389a-4afe-a240-f758bd78ed45"
      },
      "outputs": [
        {
          "output_type": "stream",
          "name": "stdout",
          "text": [
            "Looking in indexes: https://pypi.org/simple, https://us-python.pkg.dev/colab-wheels/public/simple/\n",
            "Requirement already satisfied: openpyxl in /usr/local/lib/python3.9/dist-packages (3.0.10)\n",
            "Requirement already satisfied: et-xmlfile in /usr/local/lib/python3.9/dist-packages (from openpyxl) (1.1.0)\n"
          ]
        }
      ],
      "source": [
        "!pip install openpyxl"
      ]
    },
    {
      "cell_type": "markdown",
      "id": "a4777961",
      "metadata": {
        "papermill": {
          "duration": 0.030298,
          "end_time": "2022-08-30T12:30:04.346762",
          "exception": false,
          "start_time": "2022-08-30T12:30:04.316464",
          "status": "completed"
        },
        "tags": [],
        "id": "a4777961"
      },
      "source": [
        "## importing libaraires"
      ]
    },
    {
      "cell_type": "code",
      "execution_count": null,
      "id": "ebcf480f",
      "metadata": {
        "execution": {
          "iopub.execute_input": "2022-08-30T12:30:04.409323Z",
          "iopub.status.busy": "2022-08-30T12:30:04.408843Z",
          "iopub.status.idle": "2022-08-30T12:30:06.756877Z",
          "shell.execute_reply": "2022-08-30T12:30:06.755245Z"
        },
        "id": "ebcf480f",
        "papermill": {
          "duration": 2.383606,
          "end_time": "2022-08-30T12:30:06.760706",
          "exception": false,
          "start_time": "2022-08-30T12:30:04.377100",
          "status": "completed"
        },
        "tags": []
      },
      "outputs": [],
      "source": [
        "# Add environment Packages paths to conda\n",
        "import os, sys, warnings\n",
        "import pandas as pd\n",
        "import numpy as np\n",
        "warnings.simplefilter(\"ignore\")\n",
        "\n",
        "# Text preprocessing packages\n",
        "import nltk # Text libarary\n",
        "# nltk.download('stopwords')\n",
        "import string # Removing special characters {#, @, ...}\n",
        "import re # Regex Package\n",
        "import regex\n",
        "import emoji\n",
        "# Corpora is a group presenting multiple collections of text documents. A single collection is called corpus.\n",
        "from nltk.corpus import stopwords # Stopwords\n",
        "import arabicstopwords.arabicstopwords as stp #more range of arabic stop words\n",
        "from nltk.stem.isri import ISRIStemmer\n",
        "import pyarabic.araby as araby\n",
        "from tashaphyne.stemming import ArabicLightStemmer\n",
        "\n",
        "from nltk.stem import SnowballStemmer, WordNetLemmatizer # Stemmer & Lemmatizer\n",
        "#from gensim.utils import simple_preprocess  # Text ==> List of Tokens\n",
        "\n",
        "# Text Embedding\n",
        "from sklearn.feature_extraction.text import TfidfVectorizer\n",
        "from sklearn.feature_extraction.text import CountVectorizer\n",
        "\n",
        "# Modelling\n",
        "from sklearn.model_selection import train_test_split,KFold, GridSearchCV\n",
        "from sklearn.ensemble import RandomForestClassifier\n",
        "from sklearn.linear_model import LogisticRegression\n",
        "from sklearn.tree import DecisionTreeClassifier\n",
        "from sklearn.ensemble import RandomForestClassifier\n",
        "from sklearn.metrics import accuracy_score,confusion_matrix, classification_report\n",
        "from sklearn.pipeline import Pipeline\n",
        "from sklearn.metrics import f1_score\n",
        "from sklearn.svm import SVC\n",
        "# Saving Model\n",
        "import pickle\n",
        "\n",
        "# Visualization Packages\n",
        "import seaborn as sns\n",
        "import matplotlib.pyplot as plt\n",
        "sns.set(font_scale=1.3)\n",
        "%matplotlib inline"
      ]
    },
    {
      "cell_type": "code",
      "execution_count": null,
      "id": "d890d7ff",
      "metadata": {
        "execution": {
          "iopub.execute_input": "2022-08-30T12:30:06.823895Z",
          "iopub.status.busy": "2022-08-30T12:30:06.823405Z",
          "iopub.status.idle": "2022-08-30T12:30:06.901499Z",
          "shell.execute_reply": "2022-08-30T12:30:06.900163Z"
        },
        "id": "d890d7ff",
        "outputId": "bd17d508-1d45-44e2-e396-5ac6d2c91fb3",
        "papermill": {
          "duration": 0.113071,
          "end_time": "2022-08-30T12:30:06.904465",
          "exception": false,
          "start_time": "2022-08-30T12:30:06.791394",
          "status": "completed"
        },
        "tags": [],
        "colab": {
          "base_uri": "https://localhost:8080/",
          "height": 206
        }
      },
      "outputs": [
        {
          "output_type": "execute_result",
          "data": {
            "text/plain": [
              "     N                                              Tweet\n",
              "0  0.0  @m0kama1 ÙØ§ÙÙÙÙ Ù\n",
              "Ù\n",
              "ÙÙ Ø§Ø¨ÙÙ Ø§Ø®Ø¯...\n",
              "1  1.0  @hhgffbhgfyhhhgg 3.5 ÙØ°Ù ÙØ³Ø®Ø©  \\nØ§Ø±Ø¨...\n",
              "2  2.0  @Laila_Aljabir @shamanipoet1 @udbbb @kamnapp @...\n",
              "3  3.0  ØªÙÙ\n",
              "ÙØ­Ù Ø¨Ø³ÙØ·Ù Ø­ÙÙ Ø§Ø³ØªØ®Ø¯Ø§Ù\n",
              " ...\n",
              "4  4.0  @THEWOLFOFTASI Ø±Ø¯ Ø´Ø§Øª Ø¬Ù Ø¨Ù ØªÙ ÙÙ..."
            ],
            "text/html": [
              "\n",
              "  <div id=\"df-c18df92e-a43a-4dc2-a428-6181ed54c93a\">\n",
              "    <div class=\"colab-df-container\">\n",
              "      <div>\n",
              "<style scoped>\n",
              "    .dataframe tbody tr th:only-of-type {\n",
              "        vertical-align: middle;\n",
              "    }\n",
              "\n",
              "    .dataframe tbody tr th {\n",
              "        vertical-align: top;\n",
              "    }\n",
              "\n",
              "    .dataframe thead th {\n",
              "        text-align: right;\n",
              "    }\n",
              "</style>\n",
              "<table border=\"1\" class=\"dataframe\">\n",
              "  <thead>\n",
              "    <tr style=\"text-align: right;\">\n",
              "      <th></th>\n",
              "      <th>N</th>\n",
              "      <th>Tweet</th>\n",
              "    </tr>\n",
              "  </thead>\n",
              "  <tbody>\n",
              "    <tr>\n",
              "      <th>0</th>\n",
              "      <td>0.0</td>\n",
              "      <td>@m0kama1 ÙØ§ÙÙÙÙ ÙÙÙÙ Ø§Ø¨ÙÙ Ø§Ø®Ø¯...</td>\n",
              "    </tr>\n",
              "    <tr>\n",
              "      <th>1</th>\n",
              "      <td>1.0</td>\n",
              "      <td>@hhgffbhgfyhhhgg 3.5 ÙØ°Ù ÙØ³Ø®Ø©  \\nØ§Ø±Ø¨...</td>\n",
              "    </tr>\n",
              "    <tr>\n",
              "      <th>2</th>\n",
              "      <td>2.0</td>\n",
              "      <td>@Laila_Aljabir @shamanipoet1 @udbbb @kamnapp @...</td>\n",
              "    </tr>\n",
              "    <tr>\n",
              "      <th>3</th>\n",
              "      <td>3.0</td>\n",
              "      <td>ØªÙÙÙØ­Ù Ø¨Ø³ÙØ·Ù Ø­ÙÙ Ø§Ø³ØªØ®Ø¯Ø§Ù ...</td>\n",
              "    </tr>\n",
              "    <tr>\n",
              "      <th>4</th>\n",
              "      <td>4.0</td>\n",
              "      <td>@THEWOLFOFTASI Ø±Ø¯ Ø´Ø§Øª Ø¬Ù Ø¨Ù ØªÙ ÙÙ...</td>\n",
              "    </tr>\n",
              "  </tbody>\n",
              "</table>\n",
              "</div>\n",
              "      <button class=\"colab-df-convert\" onclick=\"convertToInteractive('df-c18df92e-a43a-4dc2-a428-6181ed54c93a')\"\n",
              "              title=\"Convert this dataframe to an interactive table.\"\n",
              "              style=\"display:none;\">\n",
              "        \n",
              "  <svg xmlns=\"http://www.w3.org/2000/svg\" height=\"24px\"viewBox=\"0 0 24 24\"\n",
              "       width=\"24px\">\n",
              "    <path d=\"M0 0h24v24H0V0z\" fill=\"none\"/>\n",
              "    <path d=\"M18.56 5.44l.94 2.06.94-2.06 2.06-.94-2.06-.94-.94-2.06-.94 2.06-2.06.94zm-11 1L8.5 8.5l.94-2.06 2.06-.94-2.06-.94L8.5 2.5l-.94 2.06-2.06.94zm10 10l.94 2.06.94-2.06 2.06-.94-2.06-.94-.94-2.06-.94 2.06-2.06.94z\"/><path d=\"M17.41 7.96l-1.37-1.37c-.4-.4-.92-.59-1.43-.59-.52 0-1.04.2-1.43.59L10.3 9.45l-7.72 7.72c-.78.78-.78 2.05 0 2.83L4 21.41c.39.39.9.59 1.41.59.51 0 1.02-.2 1.41-.59l7.78-7.78 2.81-2.81c.8-.78.8-2.07 0-2.86zM5.41 20L4 18.59l7.72-7.72 1.47 1.35L5.41 20z\"/>\n",
              "  </svg>\n",
              "      </button>\n",
              "      \n",
              "  <style>\n",
              "    .colab-df-container {\n",
              "      display:flex;\n",
              "      flex-wrap:wrap;\n",
              "      gap: 12px;\n",
              "    }\n",
              "\n",
              "    .colab-df-convert {\n",
              "      background-color: #E8F0FE;\n",
              "      border: none;\n",
              "      border-radius: 50%;\n",
              "      cursor: pointer;\n",
              "      display: none;\n",
              "      fill: #1967D2;\n",
              "      height: 32px;\n",
              "      padding: 0 0 0 0;\n",
              "      width: 32px;\n",
              "    }\n",
              "\n",
              "    .colab-df-convert:hover {\n",
              "      background-color: #E2EBFA;\n",
              "      box-shadow: 0px 1px 2px rgba(60, 64, 67, 0.3), 0px 1px 3px 1px rgba(60, 64, 67, 0.15);\n",
              "      fill: #174EA6;\n",
              "    }\n",
              "\n",
              "    [theme=dark] .colab-df-convert {\n",
              "      background-color: #3B4455;\n",
              "      fill: #D2E3FC;\n",
              "    }\n",
              "\n",
              "    [theme=dark] .colab-df-convert:hover {\n",
              "      background-color: #434B5C;\n",
              "      box-shadow: 0px 1px 3px 1px rgba(0, 0, 0, 0.15);\n",
              "      filter: drop-shadow(0px 1px 2px rgba(0, 0, 0, 0.3));\n",
              "      fill: #FFFFFF;\n",
              "    }\n",
              "  </style>\n",
              "\n",
              "      <script>\n",
              "        const buttonEl =\n",
              "          document.querySelector('#df-c18df92e-a43a-4dc2-a428-6181ed54c93a button.colab-df-convert');\n",
              "        buttonEl.style.display =\n",
              "          google.colab.kernel.accessAllowed ? 'block' : 'none';\n",
              "\n",
              "        async function convertToInteractive(key) {\n",
              "          const element = document.querySelector('#df-c18df92e-a43a-4dc2-a428-6181ed54c93a');\n",
              "          const dataTable =\n",
              "            await google.colab.kernel.invokeFunction('convertToInteractive',\n",
              "                                                     [key], {});\n",
              "          if (!dataTable) return;\n",
              "\n",
              "          const docLinkHtml = 'Like what you see? Visit the ' +\n",
              "            '<a target=\"_blank\" href=https://colab.research.google.com/notebooks/data_table.ipynb>data table notebook</a>'\n",
              "            + ' to learn more about interactive tables.';\n",
              "          element.innerHTML = '';\n",
              "          dataTable['output_type'] = 'display_data';\n",
              "          await google.colab.output.renderOutput(dataTable, element);\n",
              "          const docLink = document.createElement('div');\n",
              "          docLink.innerHTML = docLinkHtml;\n",
              "          element.appendChild(docLink);\n",
              "        }\n",
              "      </script>\n",
              "    </div>\n",
              "  </div>\n",
              "  "
            ]
          },
          "metadata": {},
          "execution_count": 10
        }
      ],
      "source": [
        "df = pd.read_csv('/content/tweets_pre10.csv')\n",
        "\n",
        "df.head()"
      ]
    },
    {
      "cell_type": "markdown",
      "id": "388ecc92",
      "metadata": {
        "id": "388ecc92",
        "papermill": {
          "duration": 0.032223,
          "end_time": "2022-08-30T12:30:06.969651",
          "exception": false,
          "start_time": "2022-08-30T12:30:06.937428",
          "status": "completed"
        },
        "tags": []
      },
      "source": [
        "## Assessing"
      ]
    },
    {
      "cell_type": "code",
      "execution_count": null,
      "id": "9820c05c",
      "metadata": {
        "execution": {
          "iopub.execute_input": "2022-08-30T12:30:07.036381Z",
          "iopub.status.busy": "2022-08-30T12:30:07.035164Z",
          "iopub.status.idle": "2022-08-30T12:30:07.045061Z",
          "shell.execute_reply": "2022-08-30T12:30:07.044017Z"
        },
        "papermill": {
          "duration": 0.045386,
          "end_time": "2022-08-30T12:30:07.048150",
          "exception": false,
          "start_time": "2022-08-30T12:30:07.002764",
          "status": "completed"
        },
        "tags": [],
        "id": "9820c05c"
      },
      "outputs": [],
      "source": [
        " df.rename(columns = {'Sentiment':'label'}, inplace = True)"
      ]
    },
    {
      "cell_type": "code",
      "execution_count": null,
      "id": "665708c6",
      "metadata": {
        "execution": {
          "iopub.execute_input": "2022-08-30T12:30:07.112230Z",
          "iopub.status.busy": "2022-08-30T12:30:07.111392Z",
          "iopub.status.idle": "2022-08-30T12:30:07.118333Z",
          "shell.execute_reply": "2022-08-30T12:30:07.117104Z"
        },
        "id": "665708c6",
        "papermill": {
          "duration": 0.042449,
          "end_time": "2022-08-30T12:30:07.121017",
          "exception": false,
          "start_time": "2022-08-30T12:30:07.078568",
          "status": "completed"
        },
        "tags": []
      },
      "outputs": [],
      "source": [
        "#print the shape of the data set\n",
        "df.shape"
      ]
    },
    {
      "cell_type": "code",
      "execution_count": null,
      "id": "b1508ec6",
      "metadata": {
        "execution": {
          "iopub.execute_input": "2022-08-30T12:30:07.184167Z",
          "iopub.status.busy": "2022-08-30T12:30:07.183457Z",
          "iopub.status.idle": "2022-08-30T12:30:07.207811Z",
          "shell.execute_reply": "2022-08-30T12:30:07.206418Z"
        },
        "id": "b1508ec6",
        "papermill": {
          "duration": 0.059557,
          "end_time": "2022-08-30T12:30:07.210776",
          "exception": false,
          "start_time": "2022-08-30T12:30:07.151219",
          "status": "completed"
        },
        "tags": []
      },
      "outputs": [],
      "source": [
        "df.info()"
      ]
    },
    {
      "cell_type": "code",
      "execution_count": null,
      "id": "51835a1f",
      "metadata": {
        "execution": {
          "iopub.execute_input": "2022-08-30T12:30:07.274354Z",
          "iopub.status.busy": "2022-08-30T12:30:07.273823Z",
          "iopub.status.idle": "2022-08-30T12:30:07.282148Z",
          "shell.execute_reply": "2022-08-30T12:30:07.281278Z"
        },
        "id": "51835a1f",
        "papermill": {
          "duration": 0.042216,
          "end_time": "2022-08-30T12:30:07.284226",
          "exception": false,
          "start_time": "2022-08-30T12:30:07.242010",
          "status": "completed"
        },
        "tags": [],
        "colab": {
          "base_uri": "https://localhost:8080/"
        },
        "outputId": "38520fb5-ede2-4062-d5a0-5055e359fdf1"
      },
      "outputs": [
        {
          "output_type": "execute_result",
          "data": {
            "text/plain": [
              "1    502\n",
              "0    498\n",
              "Name: label, dtype: int64"
            ]
          },
          "metadata": {},
          "execution_count": 52
        }
      ],
      "source": [
        "#check if the data is balanced or not\n",
        "df.label.value_counts()"
      ]
    },
    {
      "cell_type": "code",
      "execution_count": null,
      "id": "38165258",
      "metadata": {
        "execution": {
          "iopub.execute_input": "2022-08-30T12:30:07.348138Z",
          "iopub.status.busy": "2022-08-30T12:30:07.346885Z",
          "iopub.status.idle": "2022-08-30T12:30:07.596564Z",
          "shell.execute_reply": "2022-08-30T12:30:07.595184Z"
        },
        "id": "38165258",
        "outputId": "0ae0f0d8-1a1b-4d26-e190-ec5066e9a8ad",
        "papermill": {
          "duration": 0.284343,
          "end_time": "2022-08-30T12:30:07.599354",
          "exception": false,
          "start_time": "2022-08-30T12:30:07.315011",
          "status": "completed"
        },
        "tags": [],
        "colab": {
          "base_uri": "https://localhost:8080/",
          "height": 402
        }
      },
      "outputs": [
        {
          "output_type": "display_data",
          "data": {
            "text/plain": [
              "<Figure size 800x400 with 1 Axes>"
            ],
            "image/png": "[encoded data removed]"
          },
          "metadata": {}
        }
      ],
      "source": [
        "plt.figure(figsize=(8,4))\n",
        "sns.countplot(x='label', data=df);"
      ]
    },
    {
      "cell_type": "markdown",
      "id": "57ec930c",
      "metadata": {
        "id": "57ec930c",
        "papermill": {
          "duration": 0.030503,
          "end_time": "2022-08-30T12:30:07.660333",
          "exception": false,
          "start_time": "2022-08-30T12:30:07.629830",
          "status": "completed"
        },
        "tags": []
      },
      "source": [
        "The differences between the labels is not large so, we can say that the data is balanced"
      ]
    },
    {
      "cell_type": "code",
      "execution_count": null,
      "id": "bd17f198",
      "metadata": {
        "execution": {
          "iopub.execute_input": "2022-08-30T12:30:07.723702Z",
          "iopub.status.busy": "2022-08-30T12:30:07.722613Z",
          "iopub.status.idle": "2022-08-30T12:30:07.732204Z",
          "shell.execute_reply": "2022-08-30T12:30:07.731244Z"
        },
        "id": "bd17f198",
        "outputId": "7f30eb2c-8b25-4147-941e-ef5441733b68",
        "papermill": {
          "duration": 0.043795,
          "end_time": "2022-08-30T12:30:07.734538",
          "exception": false,
          "start_time": "2022-08-30T12:30:07.690743",
          "status": "completed"
        },
        "tags": [],
        "colab": {
          "base_uri": "https://localhost:8080/"
        }
      },
      "outputs": [
        {
          "output_type": "execute_result",
          "data": {
            "text/plain": [
              "text     0\n",
              "label    0\n",
              "dtype: int64"
            ]
          },
          "metadata": {},
          "execution_count": 54
        }
      ],
      "source": [
        "#print the number of null values in each column\n",
        "df.isnull().sum()"
      ]
    },
    {
      "cell_type": "code",
      "execution_count": null,
      "id": "1f6b27de",
      "metadata": {
        "execution": {
          "iopub.execute_input": "2022-08-30T12:30:07.798857Z",
          "iopub.status.busy": "2022-08-30T12:30:07.798076Z",
          "iopub.status.idle": "2022-08-30T12:30:07.812803Z",
          "shell.execute_reply": "2022-08-30T12:30:07.811633Z"
        },
        "id": "1f6b27de",
        "outputId": "a08af42d-d0c7-4b18-e945-b55918285ce1",
        "papermill": {
          "duration": 0.050209,
          "end_time": "2022-08-30T12:30:07.815331",
          "exception": false,
          "start_time": "2022-08-30T12:30:07.765122",
          "status": "completed"
        },
        "tags": [],
        "colab": {
          "base_uri": "https://localhost:8080/",
          "height": 49
        }
      },
      "outputs": [
        {
          "output_type": "execute_result",
          "data": {
            "text/plain": [
              "Empty DataFrame\n",
              "Columns: [text, label]\n",
              "Index: []"
            ],
            "text/html": [
              "\n",
              "  <div id=\"df-e4daadb5-ad2e-4be0-ba3a-72d1465da833\">\n",
              "    <div class=\"colab-df-container\">\n",
              "      <div>\n",
              "<style scoped>\n",
              "    .dataframe tbody tr th:only-of-type {\n",
              "        vertical-align: middle;\n",
              "    }\n",
              "\n",
              "    .dataframe tbody tr th {\n",
              "        vertical-align: top;\n",
              "    }\n",
              "\n",
              "    .dataframe thead th {\n",
              "        text-align: right;\n",
              "    }\n",
              "</style>\n",
              "<table border=\"1\" class=\"dataframe\">\n",
              "  <thead>\n",
              "    <tr style=\"text-align: right;\">\n",
              "      <th></th>\n",
              "      <th>text</th>\n",
              "      <th>label</th>\n",
              "    </tr>\n",
              "  </thead>\n",
              "  <tbody>\n",
              "  </tbody>\n",
              "</table>\n",
              "</div>\n",
              "      <button class=\"colab-df-convert\" onclick=\"convertToInteractive('df-e4daadb5-ad2e-4be0-ba3a-72d1465da833')\"\n",
              "              title=\"Convert this dataframe to an interactive table.\"\n",
              "              style=\"display:none;\">\n",
              "        \n",
              "  <svg xmlns=\"http://www.w3.org/2000/svg\" height=\"24px\"viewBox=\"0 0 24 24\"\n",
              "       width=\"24px\">\n",
              "    <path d=\"M0 0h24v24H0V0z\" fill=\"none\"/>\n",
              "    <path d=\"M18.56 5.44l.94 2.06.94-2.06 2.06-.94-2.06-.94-.94-2.06-.94 2.06-2.06.94zm-11 1L8.5 8.5l.94-2.06 2.06-.94-2.06-.94L8.5 2.5l-.94 2.06-2.06.94zm10 10l.94 2.06.94-2.06 2.06-.94-2.06-.94-.94-2.06-.94 2.06-2.06.94z\"/><path d=\"M17.41 7.96l-1.37-1.37c-.4-.4-.92-.59-1.43-.59-.52 0-1.04.2-1.43.59L10.3 9.45l-7.72 7.72c-.78.78-.78 2.05 0 2.83L4 21.41c.39.39.9.59 1.41.59.51 0 1.02-.2 1.41-.59l7.78-7.78 2.81-2.81c.8-.78.8-2.07 0-2.86zM5.41 20L4 18.59l7.72-7.72 1.47 1.35L5.41 20z\"/>\n",
              "  </svg>\n",
              "      </button>\n",
              "      \n",
              "  <style>\n",
              "    .colab-df-container {\n",
              "      display:flex;\n",
              "      flex-wrap:wrap;\n",
              "      gap: 12px;\n",
              "    }\n",
              "\n",
              "    .colab-df-convert {\n",
              "      background-color: #E8F0FE;\n",
              "      border: none;\n",
              "      border-radius: 50%;\n",
              "      cursor: pointer;\n",
              "      display: none;\n",
              "      fill: #1967D2;\n",
              "      height: 32px;\n",
              "      padding: 0 0 0 0;\n",
              "      width: 32px;\n",
              "    }\n",
              "\n",
              "    .colab-df-convert:hover {\n",
              "      background-color: #E2EBFA;\n",
              "      box-shadow: 0px 1px 2px rgba(60, 64, 67, 0.3), 0px 1px 3px 1px rgba(60, 64, 67, 0.15);\n",
              "      fill: #174EA6;\n",
              "    }\n",
              "\n",
              "    [theme=dark] .colab-df-convert {\n",
              "      background-color: #3B4455;\n",
              "      fill: #D2E3FC;\n",
              "    }\n",
              "\n",
              "    [theme=dark] .colab-df-convert:hover {\n",
              "      background-color: #434B5C;\n",
              "      box-shadow: 0px 1px 3px 1px rgba(0, 0, 0, 0.15);\n",
              "      filter: drop-shadow(0px 1px 2px rgba(0, 0, 0, 0.3));\n",
              "      fill: #FFFFFF;\n",
              "    }\n",
              "  </style>\n",
              "\n",
              "      <script>\n",
              "        const buttonEl =\n",
              "          document.querySelector('#df-e4daadb5-ad2e-4be0-ba3a-72d1465da833 button.colab-df-convert');\n",
              "        buttonEl.style.display =\n",
              "          google.colab.kernel.accessAllowed ? 'block' : 'none';\n",
              "\n",
              "        async function convertToInteractive(key) {\n",
              "          const element = document.querySelector('#df-e4daadb5-ad2e-4be0-ba3a-72d1465da833');\n",
              "          const dataTable =\n",
              "            await google.colab.kernel.invokeFunction('convertToInteractive',\n",
              "                                                     [key], {});\n",
              "          if (!dataTable) return;\n",
              "\n",
              "          const docLinkHtml = 'Like what you see? Visit the ' +\n",
              "            '<a target=\"_blank\" href=https://colab.research.google.com/notebooks/data_table.ipynb>data table notebook</a>'\n",
              "            + ' to learn more about interactive tables.';\n",
              "          element.innerHTML = '';\n",
              "          dataTable['output_type'] = 'display_data';\n",
              "          await google.colab.output.renderOutput(dataTable, element);\n",
              "          const docLink = document.createElement('div');\n",
              "          docLink.innerHTML = docLinkHtml;\n",
              "          element.appendChild(docLink);\n",
              "        }\n",
              "      </script>\n",
              "    </div>\n",
              "  </div>\n",
              "  "
            ]
          },
          "metadata": {},
          "execution_count": 55
        }
      ],
      "source": [
        "#to get the index of the null value\n",
        "df[df['text'].isnull() == True]"
      ]
    },
    {
      "cell_type": "markdown",
      "id": "480f545b",
      "metadata": {
        "id": "480f545b",
        "papermill": {
          "duration": 0.030186,
          "end_time": "2022-08-30T12:30:07.876759",
          "exception": false,
          "start_time": "2022-08-30T12:30:07.846573",
          "status": "completed"
        },
        "tags": []
      },
      "source": [
        "there is no null values in the data"
      ]
    },
    {
      "cell_type": "code",
      "execution_count": null,
      "id": "6e30eece",
      "metadata": {
        "execution": {
          "iopub.execute_input": "2022-08-30T12:30:07.955357Z",
          "iopub.status.busy": "2022-08-30T12:30:07.953151Z",
          "iopub.status.idle": "2022-08-30T12:30:07.975502Z",
          "shell.execute_reply": "2022-08-30T12:30:07.973689Z"
        },
        "id": "6e30eece",
        "outputId": "38a19a27-3704-4473-f79a-9fa79c6d2624",
        "papermill": {
          "duration": 0.072262,
          "end_time": "2022-08-30T12:30:07.979610",
          "exception": false,
          "start_time": "2022-08-30T12:30:07.907348",
          "status": "completed"
        },
        "tags": [],
        "colab": {
          "base_uri": "https://localhost:8080/"
        }
      },
      "outputs": [
        {
          "output_type": "execute_result",
          "data": {
            "text/plain": [
              "2"
            ]
          },
          "metadata": {},
          "execution_count": 56
        }
      ],
      "source": [
        "#print the number of duplicated values\n",
        "df.duplicated().sum()"
      ]
    },
    {
      "cell_type": "markdown",
      "id": "d23d8f88",
      "metadata": {
        "execution": {
          "iopub.execute_input": "2022-08-30T10:44:28.088385Z",
          "iopub.status.busy": "2022-08-30T10:44:28.087988Z",
          "iopub.status.idle": "2022-08-30T10:44:28.094484Z",
          "shell.execute_reply": "2022-08-30T10:44:28.092961Z",
          "shell.execute_reply.started": "2022-08-30T10:44:28.088354Z"
        },
        "papermill": {
          "duration": 0.037735,
          "end_time": "2022-08-30T12:30:08.060523",
          "exception": false,
          "start_time": "2022-08-30T12:30:08.022788",
          "status": "completed"
        },
        "tags": [],
        "id": "d23d8f88"
      },
      "source": [
        "there is duplication in the data"
      ]
    },
    {
      "cell_type": "code",
      "execution_count": null,
      "id": "2f459fce",
      "metadata": {
        "execution": {
          "iopub.execute_input": "2022-08-30T12:30:08.125662Z",
          "iopub.status.busy": "2022-08-30T12:30:08.124866Z",
          "iopub.status.idle": "2022-08-30T12:30:08.139710Z",
          "shell.execute_reply": "2022-08-30T12:30:08.138867Z"
        },
        "id": "2f459fce",
        "outputId": "912fc054-a702-4f34-aea2-b89f731d1fe3",
        "papermill": {
          "duration": 0.04936,
          "end_time": "2022-08-30T12:30:08.142045",
          "exception": false,
          "start_time": "2022-08-30T12:30:08.092685",
          "status": "completed"
        },
        "scrolled": true,
        "tags": [],
        "colab": {
          "base_uri": "https://localhost:8080/",
          "height": 143
        }
      },
      "outputs": [
        {
          "output_type": "execute_result",
          "data": {
            "text/plain": [
              "                                                  text  label\n",
              "53   د.خالد الغنيم يعطي مثال على عدم مصداقية المعلو...      0\n",
              "766  شات جي بي تي وغوغل.. أيهما يعطي أجوبة أدق حول ...      1\n",
              "864  حسنا، النص السابق ليس من كتابتنا، لكننا فضَّلن...      1"
            ],
            "text/html": [
              "\n",
              "  <div id=\"df-2f89794b-bbb7-49e5-b835-8fddf73fa7fc\">\n",
              "    <div class=\"colab-df-container\">\n",
              "      <div>\n",
              "<style scoped>\n",
              "    .dataframe tbody tr th:only-of-type {\n",
              "        vertical-align: middle;\n",
              "    }\n",
              "\n",
              "    .dataframe tbody tr th {\n",
              "        vertical-align: top;\n",
              "    }\n",
              "\n",
              "    .dataframe thead th {\n",
              "        text-align: right;\n",
              "    }\n",
              "</style>\n",
              "<table border=\"1\" class=\"dataframe\">\n",
              "  <thead>\n",
              "    <tr style=\"text-align: right;\">\n",
              "      <th></th>\n",
              "      <th>text</th>\n",
              "      <th>label</th>\n",
              "    </tr>\n",
              "  </thead>\n",
              "  <tbody>\n",
              "    <tr>\n",
              "      <th>53</th>\n",
              "      <td>د.خالد الغنيم يعطي مثال على عدم مصداقية المعلو...</td>\n",
              "      <td>0</td>\n",
              "    </tr>\n",
              "    <tr>\n",
              "      <th>766</th>\n",
              "      <td>شات جي بي تي وغوغل.. أيهما يعطي أجوبة أدق حول ...</td>\n",
              "      <td>1</td>\n",
              "    </tr>\n",
              "    <tr>\n",
              "      <th>864</th>\n",
              "      <td>حسنا، النص السابق ليس من كتابتنا، لكننا فضَّلن...</td>\n",
              "      <td>1</td>\n",
              "    </tr>\n",
              "  </tbody>\n",
              "</table>\n",
              "</div>\n",
              "      <button class=\"colab-df-convert\" onclick=\"convertToInteractive('df-2f89794b-bbb7-49e5-b835-8fddf73fa7fc')\"\n",
              "              title=\"Convert this dataframe to an interactive table.\"\n",
              "              style=\"display:none;\">\n",
              "        \n",
              "  <svg xmlns=\"http://www.w3.org/2000/svg\" height=\"24px\"viewBox=\"0 0 24 24\"\n",
              "       width=\"24px\">\n",
              "    <path d=\"M0 0h24v24H0V0z\" fill=\"none\"/>\n",
              "    <path d=\"M18.56 5.44l.94 2.06.94-2.06 2.06-.94-2.06-.94-.94-2.06-.94 2.06-2.06.94zm-11 1L8.5 8.5l.94-2.06 2.06-.94-2.06-.94L8.5 2.5l-.94 2.06-2.06.94zm10 10l.94 2.06.94-2.06 2.06-.94-2.06-.94-.94-2.06-.94 2.06-2.06.94z\"/><path d=\"M17.41 7.96l-1.37-1.37c-.4-.4-.92-.59-1.43-.59-.52 0-1.04.2-1.43.59L10.3 9.45l-7.72 7.72c-.78.78-.78 2.05 0 2.83L4 21.41c.39.39.9.59 1.41.59.51 0 1.02-.2 1.41-.59l7.78-7.78 2.81-2.81c.8-.78.8-2.07 0-2.86zM5.41 20L4 18.59l7.72-7.72 1.47 1.35L5.41 20z\"/>\n",
              "  </svg>\n",
              "      </button>\n",
              "      \n",
              "  <style>\n",
              "    .colab-df-container {\n",
              "      display:flex;\n",
              "      flex-wrap:wrap;\n",
              "      gap: 12px;\n",
              "    }\n",
              "\n",
              "    .colab-df-convert {\n",
              "      background-color: #E8F0FE;\n",
              "      border: none;\n",
              "      border-radius: 50%;\n",
              "      cursor: pointer;\n",
              "      display: none;\n",
              "      fill: #1967D2;\n",
              "      height: 32px;\n",
              "      padding: 0 0 0 0;\n",
              "      width: 32px;\n",
              "    }\n",
              "\n",
              "    .colab-df-convert:hover {\n",
              "      background-color: #E2EBFA;\n",
              "      box-shadow: 0px 1px 2px rgba(60, 64, 67, 0.3), 0px 1px 3px 1px rgba(60, 64, 67, 0.15);\n",
              "      fill: #174EA6;\n",
              "    }\n",
              "\n",
              "    [theme=dark] .colab-df-convert {\n",
              "      background-color: #3B4455;\n",
              "      fill: #D2E3FC;\n",
              "    }\n",
              "\n",
              "    [theme=dark] .colab-df-convert:hover {\n",
              "      background-color: #434B5C;\n",
              "      box-shadow: 0px 1px 3px 1px rgba(0, 0, 0, 0.15);\n",
              "      filter: drop-shadow(0px 1px 2px rgba(0, 0, 0, 0.3));\n",
              "      fill: #FFFFFF;\n",
              "    }\n",
              "  </style>\n",
              "\n",
              "      <script>\n",
              "        const buttonEl =\n",
              "          document.querySelector('#df-2f89794b-bbb7-49e5-b835-8fddf73fa7fc button.colab-df-convert');\n",
              "        buttonEl.style.display =\n",
              "          google.colab.kernel.accessAllowed ? 'block' : 'none';\n",
              "\n",
              "        async function convertToInteractive(key) {\n",
              "          const element = document.querySelector('#df-2f89794b-bbb7-49e5-b835-8fddf73fa7fc');\n",
              "          const dataTable =\n",
              "            await google.colab.kernel.invokeFunction('convertToInteractive',\n",
              "                                                     [key], {});\n",
              "          if (!dataTable) return;\n",
              "\n",
              "          const docLinkHtml = 'Like what you see? Visit the ' +\n",
              "            '<a target=\"_blank\" href=https://colab.research.google.com/notebooks/data_table.ipynb>data table notebook</a>'\n",
              "            + ' to learn more about interactive tables.';\n",
              "          element.innerHTML = '';\n",
              "          dataTable['output_type'] = 'display_data';\n",
              "          await google.colab.output.renderOutput(dataTable, element);\n",
              "          const docLink = document.createElement('div');\n",
              "          docLink.innerHTML = docLinkHtml;\n",
              "          element.appendChild(docLink);\n",
              "        }\n",
              "      </script>\n",
              "    </div>\n",
              "  </div>\n",
              "  "
            ]
          },
          "metadata": {},
          "execution_count": 57
        }
      ],
      "source": [
        "#print the rows which are duplicated\n",
        "df[df['text'].duplicated() == True]"
      ]
    },
    {
      "cell_type": "code",
      "execution_count": null,
      "id": "945b5d8c",
      "metadata": {
        "execution": {
          "iopub.execute_input": "2022-08-30T12:30:08.207367Z",
          "iopub.status.busy": "2022-08-30T12:30:08.206867Z",
          "iopub.status.idle": "2022-08-30T12:30:08.218988Z",
          "shell.execute_reply": "2022-08-30T12:30:08.218067Z"
        },
        "id": "945b5d8c",
        "outputId": "b017e8b3-df98-4898-bb84-8c2cfc551dc3",
        "papermill": {
          "duration": 0.047544,
          "end_time": "2022-08-30T12:30:08.221160",
          "exception": false,
          "start_time": "2022-08-30T12:30:08.173616",
          "status": "completed"
        },
        "tags": [],
        "colab": {
          "base_uri": "https://localhost:8080/",
          "height": 81
        }
      },
      "outputs": [
        {
          "output_type": "execute_result",
          "data": {
            "text/plain": [
              "                                                 text  label\n",
              "76  خبراء يحذرون من استخدام البيانات السرية على من...      0"
            ],
            "text/html": [
              "\n",
              "  <div id=\"df-7b239234-f9a2-4a70-b621-584b15577a2e\">\n",
              "    <div class=\"colab-df-container\">\n",
              "      <div>\n",
              "<style scoped>\n",
              "    .dataframe tbody tr th:only-of-type {\n",
              "        vertical-align: middle;\n",
              "    }\n",
              "\n",
              "    .dataframe tbody tr th {\n",
              "        vertical-align: top;\n",
              "    }\n",
              "\n",
              "    .dataframe thead th {\n",
              "        text-align: right;\n",
              "    }\n",
              "</style>\n",
              "<table border=\"1\" class=\"dataframe\">\n",
              "  <thead>\n",
              "    <tr style=\"text-align: right;\">\n",
              "      <th></th>\n",
              "      <th>text</th>\n",
              "      <th>label</th>\n",
              "    </tr>\n",
              "  </thead>\n",
              "  <tbody>\n",
              "    <tr>\n",
              "      <th>76</th>\n",
              "      <td>خبراء يحذرون من استخدام البيانات السرية على من...</td>\n",
              "      <td>0</td>\n",
              "    </tr>\n",
              "  </tbody>\n",
              "</table>\n",
              "</div>\n",
              "      <button class=\"colab-df-convert\" onclick=\"convertToInteractive('df-7b239234-f9a2-4a70-b621-584b15577a2e')\"\n",
              "              title=\"Convert this dataframe to an interactive table.\"\n",
              "              style=\"display:none;\">\n",
              "        \n",
              "  <svg xmlns=\"http://www.w3.org/2000/svg\" height=\"24px\"viewBox=\"0 0 24 24\"\n",
              "       width=\"24px\">\n",
              "    <path d=\"M0 0h24v24H0V0z\" fill=\"none\"/>\n",
              "    <path d=\"M18.56 5.44l.94 2.06.94-2.06 2.06-.94-2.06-.94-.94-2.06-.94 2.06-2.06.94zm-11 1L8.5 8.5l.94-2.06 2.06-.94-2.06-.94L8.5 2.5l-.94 2.06-2.06.94zm10 10l.94 2.06.94-2.06 2.06-.94-2.06-.94-.94-2.06-.94 2.06-2.06.94z\"/><path d=\"M17.41 7.96l-1.37-1.37c-.4-.4-.92-.59-1.43-.59-.52 0-1.04.2-1.43.59L10.3 9.45l-7.72 7.72c-.78.78-.78 2.05 0 2.83L4 21.41c.39.39.9.59 1.41.59.51 0 1.02-.2 1.41-.59l7.78-7.78 2.81-2.81c.8-.78.8-2.07 0-2.86zM5.41 20L4 18.59l7.72-7.72 1.47 1.35L5.41 20z\"/>\n",
              "  </svg>\n",
              "      </button>\n",
              "      \n",
              "  <style>\n",
              "    .colab-df-container {\n",
              "      display:flex;\n",
              "      flex-wrap:wrap;\n",
              "      gap: 12px;\n",
              "    }\n",
              "\n",
              "    .colab-df-convert {\n",
              "      background-color: #E8F0FE;\n",
              "      border: none;\n",
              "      border-radius: 50%;\n",
              "      cursor: pointer;\n",
              "      display: none;\n",
              "      fill: #1967D2;\n",
              "      height: 32px;\n",
              "      padding: 0 0 0 0;\n",
              "      width: 32px;\n",
              "    }\n",
              "\n",
              "    .colab-df-convert:hover {\n",
              "      background-color: #E2EBFA;\n",
              "      box-shadow: 0px 1px 2px rgba(60, 64, 67, 0.3), 0px 1px 3px 1px rgba(60, 64, 67, 0.15);\n",
              "      fill: #174EA6;\n",
              "    }\n",
              "\n",
              "    [theme=dark] .colab-df-convert {\n",
              "      background-color: #3B4455;\n",
              "      fill: #D2E3FC;\n",
              "    }\n",
              "\n",
              "    [theme=dark] .colab-df-convert:hover {\n",
              "      background-color: #434B5C;\n",
              "      box-shadow: 0px 1px 3px 1px rgba(0, 0, 0, 0.15);\n",
              "      filter: drop-shadow(0px 1px 2px rgba(0, 0, 0, 0.3));\n",
              "      fill: #FFFFFF;\n",
              "    }\n",
              "  </style>\n",
              "\n",
              "      <script>\n",
              "        const buttonEl =\n",
              "          document.querySelector('#df-7b239234-f9a2-4a70-b621-584b15577a2e button.colab-df-convert');\n",
              "        buttonEl.style.display =\n",
              "          google.colab.kernel.accessAllowed ? 'block' : 'none';\n",
              "\n",
              "        async function convertToInteractive(key) {\n",
              "          const element = document.querySelector('#df-7b239234-f9a2-4a70-b621-584b15577a2e');\n",
              "          const dataTable =\n",
              "            await google.colab.kernel.invokeFunction('convertToInteractive',\n",
              "                                                     [key], {});\n",
              "          if (!dataTable) return;\n",
              "\n",
              "          const docLinkHtml = 'Like what you see? Visit the ' +\n",
              "            '<a target=\"_blank\" href=https://colab.research.google.com/notebooks/data_table.ipynb>data table notebook</a>'\n",
              "            + ' to learn more about interactive tables.';\n",
              "          element.innerHTML = '';\n",
              "          dataTable['output_type'] = 'display_data';\n",
              "          await google.colab.output.renderOutput(dataTable, element);\n",
              "          const docLink = document.createElement('div');\n",
              "          docLink.innerHTML = docLinkHtml;\n",
              "          element.appendChild(docLink);\n",
              "        }\n",
              "      </script>\n",
              "    </div>\n",
              "  </div>\n",
              "  "
            ]
          },
          "metadata": {},
          "execution_count": 58
        }
      ],
      "source": [
        "df[df['text'] == df.iloc[76]['text']]"
      ]
    },
    {
      "cell_type": "code",
      "execution_count": null,
      "id": "7171c7fd",
      "metadata": {
        "execution": {
          "iopub.execute_input": "2022-08-30T12:30:08.288411Z",
          "iopub.status.busy": "2022-08-30T12:30:08.287553Z",
          "iopub.status.idle": "2022-08-30T12:30:08.295648Z",
          "shell.execute_reply": "2022-08-30T12:30:08.294616Z"
        },
        "id": "7171c7fd",
        "papermill": {
          "duration": 0.044244,
          "end_time": "2022-08-30T12:30:08.298256",
          "exception": false,
          "start_time": "2022-08-30T12:30:08.254012",
          "status": "completed"
        },
        "tags": []
      },
      "outputs": [],
      "source": [
        "#removing duplicated values\n",
        "index = df[df['text'].duplicated() == True].index\n",
        "df.drop(index, axis = 0, inplace = True)"
      ]
    },
    {
      "cell_type": "code",
      "source": [
        "import nltk\n",
        "nltk.download('stopwords')\n",
        "from nltk.corpus import stopwords\n",
        "STOPWORDS = set(stopwords.words('arabic'))"
      ],
      "metadata": {
        "colab": {
          "base_uri": "https://localhost:8080/"
        },
        "id": "z2v0UdFooJ3r",
        "outputId": "c626c332-2e64-4d1c-e4b1-4631ae2f86ac"
      },
      "id": "z2v0UdFooJ3r",
      "execution_count": null,
      "outputs": [
        {
          "output_type": "stream",
          "name": "stderr",
          "text": [
            "[nltk_data] Downloading package stopwords to /root/nltk_data...\n",
            "[nltk_data]   Package stopwords is already up-to-date!\n"
          ]
        }
      ]
    },
    {
      "cell_type": "code",
      "source": [
        "from nltk.corpus import stopwords\n",
        "stopwords.words('arabic')"
      ],
      "metadata": {
        "colab": {
          "base_uri": "https://localhost:8080/"
        },
        "id": "mErEp3D-oVOX",
        "outputId": "5b02fa78-f09c-4978-db9d-b82bdec8a273"
      },
      "id": "mErEp3D-oVOX",
      "execution_count": null,
      "outputs": [
        {
          "output_type": "execute_result",
          "data": {
            "text/plain": [
              "['إذ',\n",
              " 'إذا',\n",
              " 'إذما',\n",
              " 'إذن',\n",
              " 'أف',\n",
              " 'أقل',\n",
              " 'أكثر',\n",
              " 'ألا',\n",
              " 'إلا',\n",
              " 'التي',\n",
              " 'الذي',\n",
              " 'الذين',\n",
              " 'اللاتي',\n",
              " 'اللائي',\n",
              " 'اللتان',\n",
              " 'اللتيا',\n",
              " 'اللتين',\n",
              " 'اللذان',\n",
              " 'اللذين',\n",
              " 'اللواتي',\n",
              " 'إلى',\n",
              " 'إليك',\n",
              " 'إليكم',\n",
              " 'إليكما',\n",
              " 'إليكن',\n",
              " 'أم',\n",
              " 'أما',\n",
              " 'أما',\n",
              " 'إما',\n",
              " 'أن',\n",
              " 'إن',\n",
              " 'إنا',\n",
              " 'أنا',\n",
              " 'أنت',\n",
              " 'أنتم',\n",
              " 'أنتما',\n",
              " 'أنتن',\n",
              " 'إنما',\n",
              " 'إنه',\n",
              " 'أنى',\n",
              " 'أنى',\n",
              " 'آه',\n",
              " 'آها',\n",
              " 'أو',\n",
              " 'أولاء',\n",
              " 'أولئك',\n",
              " 'أوه',\n",
              " 'آي',\n",
              " 'أي',\n",
              " 'أيها',\n",
              " 'إي',\n",
              " 'أين',\n",
              " 'أين',\n",
              " 'أينما',\n",
              " 'إيه',\n",
              " 'بخ',\n",
              " 'بس',\n",
              " 'بعد',\n",
              " 'بعض',\n",
              " 'بك',\n",
              " 'بكم',\n",
              " 'بكم',\n",
              " 'بكما',\n",
              " 'بكن',\n",
              " 'بل',\n",
              " 'بلى',\n",
              " 'بما',\n",
              " 'بماذا',\n",
              " 'بمن',\n",
              " 'بنا',\n",
              " 'به',\n",
              " 'بها',\n",
              " 'بهم',\n",
              " 'بهما',\n",
              " 'بهن',\n",
              " 'بي',\n",
              " 'بين',\n",
              " 'بيد',\n",
              " 'تلك',\n",
              " 'تلكم',\n",
              " 'تلكما',\n",
              " 'ته',\n",
              " 'تي',\n",
              " 'تين',\n",
              " 'تينك',\n",
              " 'ثم',\n",
              " 'ثمة',\n",
              " 'حاشا',\n",
              " 'حبذا',\n",
              " 'حتى',\n",
              " 'حيث',\n",
              " 'حيثما',\n",
              " 'حين',\n",
              " 'خلا',\n",
              " 'دون',\n",
              " 'ذا',\n",
              " 'ذات',\n",
              " 'ذاك',\n",
              " 'ذان',\n",
              " 'ذانك',\n",
              " 'ذلك',\n",
              " 'ذلكم',\n",
              " 'ذلكما',\n",
              " 'ذلكن',\n",
              " 'ذه',\n",
              " 'ذو',\n",
              " 'ذوا',\n",
              " 'ذواتا',\n",
              " 'ذواتي',\n",
              " 'ذي',\n",
              " 'ذين',\n",
              " 'ذينك',\n",
              " 'ريث',\n",
              " 'سوف',\n",
              " 'سوى',\n",
              " 'شتان',\n",
              " 'عدا',\n",
              " 'عسى',\n",
              " 'عل',\n",
              " 'على',\n",
              " 'عليك',\n",
              " 'عليه',\n",
              " 'عما',\n",
              " 'عن',\n",
              " 'عند',\n",
              " 'غير',\n",
              " 'فإذا',\n",
              " 'فإن',\n",
              " 'فلا',\n",
              " 'فمن',\n",
              " 'في',\n",
              " 'فيم',\n",
              " 'فيما',\n",
              " 'فيه',\n",
              " 'فيها',\n",
              " 'قد',\n",
              " 'كأن',\n",
              " 'كأنما',\n",
              " 'كأي',\n",
              " 'كأين',\n",
              " 'كذا',\n",
              " 'كذلك',\n",
              " 'كل',\n",
              " 'كلا',\n",
              " 'كلاهما',\n",
              " 'كلتا',\n",
              " 'كلما',\n",
              " 'كليكما',\n",
              " 'كليهما',\n",
              " 'كم',\n",
              " 'كم',\n",
              " 'كما',\n",
              " 'كي',\n",
              " 'كيت',\n",
              " 'كيف',\n",
              " 'كيفما',\n",
              " 'لا',\n",
              " 'لاسيما',\n",
              " 'لدى',\n",
              " 'لست',\n",
              " 'لستم',\n",
              " 'لستما',\n",
              " 'لستن',\n",
              " 'لسن',\n",
              " 'لسنا',\n",
              " 'لعل',\n",
              " 'لك',\n",
              " 'لكم',\n",
              " 'لكما',\n",
              " 'لكن',\n",
              " 'لكنما',\n",
              " 'لكي',\n",
              " 'لكيلا',\n",
              " 'لم',\n",
              " 'لما',\n",
              " 'لن',\n",
              " 'لنا',\n",
              " 'له',\n",
              " 'لها',\n",
              " 'لهم',\n",
              " 'لهما',\n",
              " 'لهن',\n",
              " 'لو',\n",
              " 'لولا',\n",
              " 'لوما',\n",
              " 'لي',\n",
              " 'لئن',\n",
              " 'ليت',\n",
              " 'ليس',\n",
              " 'ليسا',\n",
              " 'ليست',\n",
              " 'ليستا',\n",
              " 'ليسوا',\n",
              " 'ما',\n",
              " 'ماذا',\n",
              " 'متى',\n",
              " 'مذ',\n",
              " 'مع',\n",
              " 'مما',\n",
              " 'ممن',\n",
              " 'من',\n",
              " 'منه',\n",
              " 'منها',\n",
              " 'منذ',\n",
              " 'مه',\n",
              " 'مهما',\n",
              " 'نحن',\n",
              " 'نحو',\n",
              " 'نعم',\n",
              " 'ها',\n",
              " 'هاتان',\n",
              " 'هاته',\n",
              " 'هاتي',\n",
              " 'هاتين',\n",
              " 'هاك',\n",
              " 'هاهنا',\n",
              " 'هذا',\n",
              " 'هذان',\n",
              " 'هذه',\n",
              " 'هذي',\n",
              " 'هذين',\n",
              " 'هكذا',\n",
              " 'هل',\n",
              " 'هلا',\n",
              " 'هم',\n",
              " 'هما',\n",
              " 'هن',\n",
              " 'هنا',\n",
              " 'هناك',\n",
              " 'هنالك',\n",
              " 'هو',\n",
              " 'هؤلاء',\n",
              " 'هي',\n",
              " 'هيا',\n",
              " 'هيت',\n",
              " 'هيهات',\n",
              " 'والذي',\n",
              " 'والذين',\n",
              " 'وإذ',\n",
              " 'وإذا',\n",
              " 'وإن',\n",
              " 'ولا',\n",
              " 'ولكن',\n",
              " 'ولو',\n",
              " 'وما',\n",
              " 'ومن',\n",
              " 'وهو',\n",
              " 'يا',\n",
              " 'أبٌ',\n",
              " 'أخٌ',\n",
              " 'حمٌ',\n",
              " 'فو',\n",
              " 'أنتِ',\n",
              " 'يناير',\n",
              " 'فبراير',\n",
              " 'مارس',\n",
              " 'أبريل',\n",
              " 'مايو',\n",
              " 'يونيو',\n",
              " 'يوليو',\n",
              " 'أغسطس',\n",
              " 'سبتمبر',\n",
              " 'أكتوبر',\n",
              " 'نوفمبر',\n",
              " 'ديسمبر',\n",
              " 'جانفي',\n",
              " 'فيفري',\n",
              " 'مارس',\n",
              " 'أفريل',\n",
              " 'ماي',\n",
              " 'جوان',\n",
              " 'جويلية',\n",
              " 'أوت',\n",
              " 'كانون',\n",
              " 'شباط',\n",
              " 'آذار',\n",
              " 'نيسان',\n",
              " 'أيار',\n",
              " 'حزيران',\n",
              " 'تموز',\n",
              " 'آب',\n",
              " 'أيلول',\n",
              " 'تشرين',\n",
              " 'دولار',\n",
              " 'دينار',\n",
              " 'ريال',\n",
              " 'درهم',\n",
              " 'ليرة',\n",
              " 'جنيه',\n",
              " 'قرش',\n",
              " 'مليم',\n",
              " 'فلس',\n",
              " 'هللة',\n",
              " 'سنتيم',\n",
              " 'يورو',\n",
              " 'ين',\n",
              " 'يوان',\n",
              " 'شيكل',\n",
              " 'واحد',\n",
              " 'اثنان',\n",
              " 'ثلاثة',\n",
              " 'أربعة',\n",
              " 'خمسة',\n",
              " 'ستة',\n",
              " 'سبعة',\n",
              " 'ثمانية',\n",
              " 'تسعة',\n",
              " 'عشرة',\n",
              " 'أحد',\n",
              " 'اثنا',\n",
              " 'اثني',\n",
              " 'إحدى',\n",
              " 'ثلاث',\n",
              " 'أربع',\n",
              " 'خمس',\n",
              " 'ست',\n",
              " 'سبع',\n",
              " 'ثماني',\n",
              " 'تسع',\n",
              " 'عشر',\n",
              " 'ثمان',\n",
              " 'سبت',\n",
              " 'أحد',\n",
              " 'اثنين',\n",
              " 'ثلاثاء',\n",
              " 'أربعاء',\n",
              " 'خميس',\n",
              " 'جمعة',\n",
              " 'أول',\n",
              " 'ثان',\n",
              " 'ثاني',\n",
              " 'ثالث',\n",
              " 'رابع',\n",
              " 'خامس',\n",
              " 'سادس',\n",
              " 'سابع',\n",
              " 'ثامن',\n",
              " 'تاسع',\n",
              " 'عاشر',\n",
              " 'حادي',\n",
              " 'أ',\n",
              " 'ب',\n",
              " 'ت',\n",
              " 'ث',\n",
              " 'ج',\n",
              " 'ح',\n",
              " 'خ',\n",
              " 'د',\n",
              " 'ذ',\n",
              " 'ر',\n",
              " 'ز',\n",
              " 'س',\n",
              " 'ش',\n",
              " 'ص',\n",
              " 'ض',\n",
              " 'ط',\n",
              " 'ظ',\n",
              " 'ع',\n",
              " 'غ',\n",
              " 'ف',\n",
              " 'ق',\n",
              " 'ك',\n",
              " 'ل',\n",
              " 'م',\n",
              " 'ن',\n",
              " 'ه',\n",
              " 'و',\n",
              " 'ي',\n",
              " 'ء',\n",
              " 'ى',\n",
              " 'آ',\n",
              " 'ؤ',\n",
              " 'ئ',\n",
              " 'أ',\n",
              " 'ة',\n",
              " 'ألف',\n",
              " 'باء',\n",
              " 'تاء',\n",
              " 'ثاء',\n",
              " 'جيم',\n",
              " 'حاء',\n",
              " 'خاء',\n",
              " 'دال',\n",
              " 'ذال',\n",
              " 'راء',\n",
              " 'زاي',\n",
              " 'سين',\n",
              " 'شين',\n",
              " 'صاد',\n",
              " 'ضاد',\n",
              " 'طاء',\n",
              " 'ظاء',\n",
              " 'عين',\n",
              " 'غين',\n",
              " 'فاء',\n",
              " 'قاف',\n",
              " 'كاف',\n",
              " 'لام',\n",
              " 'ميم',\n",
              " 'نون',\n",
              " 'هاء',\n",
              " 'واو',\n",
              " 'ياء',\n",
              " 'همزة',\n",
              " 'ي',\n",
              " 'نا',\n",
              " 'ك',\n",
              " 'كن',\n",
              " 'ه',\n",
              " 'إياه',\n",
              " 'إياها',\n",
              " 'إياهما',\n",
              " 'إياهم',\n",
              " 'إياهن',\n",
              " 'إياك',\n",
              " 'إياكما',\n",
              " 'إياكم',\n",
              " 'إياك',\n",
              " 'إياكن',\n",
              " 'إياي',\n",
              " 'إيانا',\n",
              " 'أولالك',\n",
              " 'تانِ',\n",
              " 'تانِك',\n",
              " 'تِه',\n",
              " 'تِي',\n",
              " 'تَيْنِ',\n",
              " 'ثمّ',\n",
              " 'ثمّة',\n",
              " 'ذانِ',\n",
              " 'ذِه',\n",
              " 'ذِي',\n",
              " 'ذَيْنِ',\n",
              " 'هَؤلاء',\n",
              " 'هَاتانِ',\n",
              " 'هَاتِه',\n",
              " 'هَاتِي',\n",
              " 'هَاتَيْنِ',\n",
              " 'هَذا',\n",
              " 'هَذانِ',\n",
              " 'هَذِه',\n",
              " 'هَذِي',\n",
              " 'هَذَيْنِ',\n",
              " 'الألى',\n",
              " 'الألاء',\n",
              " 'أل',\n",
              " 'أنّى',\n",
              " 'أيّ',\n",
              " 'ّأيّان',\n",
              " 'أنّى',\n",
              " 'أيّ',\n",
              " 'ّأيّان',\n",
              " 'ذيت',\n",
              " 'كأيّ',\n",
              " 'كأيّن',\n",
              " 'بضع',\n",
              " 'فلان',\n",
              " 'وا',\n",
              " 'آمينَ',\n",
              " 'آهِ',\n",
              " 'آهٍ',\n",
              " 'آهاً',\n",
              " 'أُفٍّ',\n",
              " 'أُفٍّ',\n",
              " 'أفٍّ',\n",
              " 'أمامك',\n",
              " 'أمامكَ',\n",
              " 'أوّهْ',\n",
              " 'إلَيْكَ',\n",
              " 'إلَيْكَ',\n",
              " 'إليكَ',\n",
              " 'إليكنّ',\n",
              " 'إيهٍ',\n",
              " 'بخٍ',\n",
              " 'بسّ',\n",
              " 'بَسْ',\n",
              " 'بطآن',\n",
              " 'بَلْهَ',\n",
              " 'حاي',\n",
              " 'حَذارِ',\n",
              " 'حيَّ',\n",
              " 'حيَّ',\n",
              " 'دونك',\n",
              " 'رويدك',\n",
              " 'سرعان',\n",
              " 'شتانَ',\n",
              " 'شَتَّانَ',\n",
              " 'صهْ',\n",
              " 'صهٍ',\n",
              " 'طاق',\n",
              " 'طَق',\n",
              " 'عَدَسْ',\n",
              " 'كِخ',\n",
              " 'مكانَك',\n",
              " 'مكانَك',\n",
              " 'مكانَك',\n",
              " 'مكانكم',\n",
              " 'مكانكما',\n",
              " 'مكانكنّ',\n",
              " 'نَخْ',\n",
              " 'هاكَ',\n",
              " 'هَجْ',\n",
              " 'هلم',\n",
              " 'هيّا',\n",
              " 'هَيْهات',\n",
              " 'وا',\n",
              " 'واهاً',\n",
              " 'وراءَك',\n",
              " 'وُشْكَانَ',\n",
              " 'وَيْ',\n",
              " 'يفعلان',\n",
              " 'تفعلان',\n",
              " 'يفعلون',\n",
              " 'تفعلون',\n",
              " 'تفعلين',\n",
              " 'اتخذ',\n",
              " 'ألفى',\n",
              " 'تخذ',\n",
              " 'ترك',\n",
              " 'تعلَّم',\n",
              " 'جعل',\n",
              " 'حجا',\n",
              " 'حبيب',\n",
              " 'خال',\n",
              " 'حسب',\n",
              " 'خال',\n",
              " 'درى',\n",
              " 'رأى',\n",
              " 'زعم',\n",
              " 'صبر',\n",
              " 'ظنَّ',\n",
              " 'عدَّ',\n",
              " 'علم',\n",
              " 'غادر',\n",
              " 'ذهب',\n",
              " 'وجد',\n",
              " 'ورد',\n",
              " 'وهب',\n",
              " 'أسكن',\n",
              " 'أطعم',\n",
              " 'أعطى',\n",
              " 'رزق',\n",
              " 'زود',\n",
              " 'سقى',\n",
              " 'كسا',\n",
              " 'أخبر',\n",
              " 'أرى',\n",
              " 'أعلم',\n",
              " 'أنبأ',\n",
              " 'حدَث',\n",
              " 'خبَّر',\n",
              " 'نبَّا',\n",
              " 'أفعل به',\n",
              " 'ما أفعله',\n",
              " 'بئس',\n",
              " 'ساء',\n",
              " 'طالما',\n",
              " 'قلما',\n",
              " 'لات',\n",
              " 'لكنَّ',\n",
              " 'ءَ',\n",
              " 'أجل',\n",
              " 'إذاً',\n",
              " 'أمّا',\n",
              " 'إمّا',\n",
              " 'إنَّ',\n",
              " 'أنًّ',\n",
              " 'أى',\n",
              " 'إى',\n",
              " 'أيا',\n",
              " 'ب',\n",
              " 'ثمَّ',\n",
              " 'جلل',\n",
              " 'جير',\n",
              " 'رُبَّ',\n",
              " 'س',\n",
              " 'علًّ',\n",
              " 'ف',\n",
              " 'كأنّ',\n",
              " 'كلَّا',\n",
              " 'كى',\n",
              " 'ل',\n",
              " 'لات',\n",
              " 'لعلَّ',\n",
              " 'لكنَّ',\n",
              " 'لكنَّ',\n",
              " 'م',\n",
              " 'نَّ',\n",
              " 'هلّا',\n",
              " 'وا',\n",
              " 'أل',\n",
              " 'إلّا',\n",
              " 'ت',\n",
              " 'ك',\n",
              " 'لمّا',\n",
              " 'ن',\n",
              " 'ه',\n",
              " 'و',\n",
              " 'ا',\n",
              " 'ي',\n",
              " 'تجاه',\n",
              " 'تلقاء',\n",
              " 'جميع',\n",
              " 'حسب',\n",
              " 'سبحان',\n",
              " 'شبه',\n",
              " 'لعمر',\n",
              " 'مثل',\n",
              " 'معاذ',\n",
              " 'أبو',\n",
              " 'أخو',\n",
              " 'حمو',\n",
              " 'فو',\n",
              " 'مئة',\n",
              " 'مئتان',\n",
              " 'ثلاثمئة',\n",
              " 'أربعمئة',\n",
              " 'خمسمئة',\n",
              " 'ستمئة',\n",
              " 'سبعمئة',\n",
              " 'ثمنمئة',\n",
              " 'تسعمئة',\n",
              " 'مائة',\n",
              " 'ثلاثمائة',\n",
              " 'أربعمائة',\n",
              " 'خمسمائة',\n",
              " 'ستمائة',\n",
              " 'سبعمائة',\n",
              " 'ثمانمئة',\n",
              " 'تسعمائة',\n",
              " 'عشرون',\n",
              " 'ثلاثون',\n",
              " 'اربعون',\n",
              " 'خمسون',\n",
              " 'ستون',\n",
              " 'سبعون',\n",
              " 'ثمانون',\n",
              " 'تسعون',\n",
              " 'عشرين',\n",
              " 'ثلاثين',\n",
              " 'اربعين',\n",
              " 'خمسين',\n",
              " 'ستين',\n",
              " 'سبعين',\n",
              " 'ثمانين',\n",
              " 'تسعين',\n",
              " 'بضع',\n",
              " 'نيف',\n",
              " 'أجمع',\n",
              " 'جميع',\n",
              " 'عامة',\n",
              " 'عين',\n",
              " 'نفس',\n",
              " 'لا سيما',\n",
              " 'أصلا',\n",
              " 'أهلا',\n",
              " 'أيضا',\n",
              " 'بؤسا',\n",
              " 'بعدا',\n",
              " 'بغتة',\n",
              " 'تعسا',\n",
              " 'حقا',\n",
              " 'حمدا',\n",
              " 'خلافا',\n",
              " 'خاصة',\n",
              " 'دواليك',\n",
              " 'سحقا',\n",
              " 'سرا',\n",
              " 'سمعا',\n",
              " 'صبرا',\n",
              " 'صدقا',\n",
              " 'صراحة',\n",
              " 'طرا',\n",
              " 'عجبا',\n",
              " 'عيانا',\n",
              " 'غالبا',\n",
              " 'فرادى',\n",
              " 'فضلا',\n",
              " 'قاطبة',\n",
              " 'كثيرا',\n",
              " 'لبيك',\n",
              " 'معاذ',\n",
              " 'أبدا',\n",
              " 'إزاء',\n",
              " 'أصلا',\n",
              " 'الآن',\n",
              " 'أمد',\n",
              " 'أمس',\n",
              " 'آنفا',\n",
              " 'آناء',\n",
              " 'أنّى',\n",
              " 'أول',\n",
              " 'أيّان',\n",
              " 'تارة',\n",
              " 'ثمّ',\n",
              " 'ثمّة',\n",
              " 'حقا',\n",
              " 'صباح',\n",
              " 'مساء',\n",
              " 'ضحوة',\n",
              " 'عوض',\n",
              " 'غدا',\n",
              " 'غداة',\n",
              " 'قطّ',\n",
              " 'كلّما',\n",
              " 'لدن',\n",
              " 'لمّا',\n",
              " 'مرّة',\n",
              " 'قبل',\n",
              " 'خلف',\n",
              " 'أمام',\n",
              " 'فوق',\n",
              " 'تحت',\n",
              " 'يمين',\n",
              " 'شمال',\n",
              " 'ارتدّ',\n",
              " 'استحال',\n",
              " 'أصبح',\n",
              " 'أضحى',\n",
              " 'آض',\n",
              " 'أمسى',\n",
              " 'انقلب',\n",
              " 'بات',\n",
              " 'تبدّل',\n",
              " 'تحوّل',\n",
              " 'حار',\n",
              " 'رجع',\n",
              " 'راح',\n",
              " 'صار',\n",
              " 'ظلّ',\n",
              " 'عاد',\n",
              " 'غدا',\n",
              " 'كان',\n",
              " 'ما انفك',\n",
              " 'ما برح',\n",
              " 'مادام',\n",
              " 'مازال',\n",
              " 'مافتئ',\n",
              " 'ابتدأ',\n",
              " 'أخذ',\n",
              " 'اخلولق',\n",
              " 'أقبل',\n",
              " 'انبرى',\n",
              " 'أنشأ',\n",
              " 'أوشك',\n",
              " 'جعل',\n",
              " 'حرى',\n",
              " 'شرع',\n",
              " 'طفق',\n",
              " 'علق',\n",
              " 'قام',\n",
              " 'كرب',\n",
              " 'كاد',\n",
              " 'هبّ']"
            ]
          },
          "metadata": {},
          "execution_count": 63
        }
      ]
    },
    {
      "cell_type": "code",
      "execution_count": null,
      "id": "9e77bc5c",
      "metadata": {
        "execution": {
          "iopub.execute_input": "2022-08-30T12:30:08.363423Z",
          "iopub.status.busy": "2022-08-30T12:30:08.362997Z",
          "iopub.status.idle": "2022-08-30T12:30:08.378234Z",
          "shell.execute_reply": "2022-08-30T12:30:08.377200Z"
        },
        "id": "9e77bc5c",
        "papermill": {
          "duration": 0.050856,
          "end_time": "2022-08-30T12:30:08.380693",
          "exception": false,
          "start_time": "2022-08-30T12:30:08.329837",
          "status": "completed"
        },
        "tags": []
      },
      "outputs": [],
      "source": [
        "# #are there any stop words in the data?\n",
        "# arabic_stopwords = stopwords.words(\"arabic\")\n",
        "# len(arabic_stopwords)"
      ]
    },
    {
      "cell_type": "markdown",
      "id": "2e024e0e",
      "metadata": {
        "id": "2e024e0e",
        "papermill": {
          "duration": 0.032235,
          "end_time": "2022-08-30T12:30:08.445498",
          "exception": false,
          "start_time": "2022-08-30T12:30:08.413263",
          "status": "completed"
        },
        "tags": []
      },
      "source": [
        "Note that There are different libraries provide a different numbers of arabic stop words like \"nltk\" and \"arabicstopwords\" now we will use nltk's arabic stopwords and we will see the results and if needed we can use \"arabicstopwords\" library which provide the stopwords and it's conjugations"
      ]
    },
    {
      "cell_type": "code",
      "execution_count": null,
      "id": "247b6a5d",
      "metadata": {
        "execution": {
          "iopub.execute_input": "2022-08-30T12:30:08.514031Z",
          "iopub.status.busy": "2022-08-30T12:30:08.513219Z",
          "iopub.status.idle": "2022-08-30T12:30:08.638926Z",
          "shell.execute_reply": "2022-08-30T12:30:08.637681Z"
        },
        "id": "247b6a5d",
        "outputId": "81900d90-2831-458b-dbe7-9dc40c3dea14",
        "papermill": {
          "duration": 0.163819,
          "end_time": "2022-08-30T12:30:08.641837",
          "exception": false,
          "start_time": "2022-08-30T12:30:08.478018",
          "status": "completed"
        },
        "tags": [],
        "colab": {
          "base_uri": "https://localhost:8080/"
        }
      },
      "outputs": [
        {
          "output_type": "execute_result",
          "data": {
            "text/plain": [
              "2     212\n",
              "3     194\n",
              "4     111\n",
              "1      93\n",
              "5      85\n",
              "6      82\n",
              "7      77\n",
              "0      38\n",
              "8      36\n",
              "9      33\n",
              "10     18\n",
              "11     11\n",
              "12      4\n",
              "14      2\n",
              "13      1\n",
              "Name: stop_words, dtype: int64"
            ]
          },
          "metadata": {},
          "execution_count": 67
        }
      ],
      "source": [
        "df['stop_words'] = df['text'].apply(lambda x: len(set(x.split()) & set(stopwords.words('arabic'))))\n",
        "df.stop_words.value_counts()"
      ]
    },
    {
      "cell_type": "code",
      "execution_count": null,
      "id": "b9bc1f28",
      "metadata": {
        "execution": {
          "iopub.execute_input": "2022-08-30T12:30:08.708520Z",
          "iopub.status.busy": "2022-08-30T12:30:08.708048Z",
          "iopub.status.idle": "2022-08-30T12:30:09.011723Z",
          "shell.execute_reply": "2022-08-30T12:30:09.010397Z"
        },
        "id": "b9bc1f28",
        "outputId": "af2b71f2-9e75-4209-c534-d5f8dc6cb4bc",
        "papermill": {
          "duration": 0.34041,
          "end_time": "2022-08-30T12:30:09.014590",
          "exception": false,
          "start_time": "2022-08-30T12:30:08.674180",
          "status": "completed"
        },
        "tags": [],
        "colab": {
          "base_uri": "https://localhost:8080/",
          "height": 455
        }
      },
      "outputs": [
        {
          "output_type": "execute_result",
          "data": {
            "text/plain": [
              "<Axes: ylabel='Frequency'>"
            ]
          },
          "metadata": {},
          "execution_count": 68
        },
        {
          "output_type": "display_data",
          "data": {
            "text/plain": [
              "<Figure size 640x480 with 1 Axes>"
            ],
            "image/png": "[encoded data removed]"
          },
          "metadata": {}
        }
      ],
      "source": [
        "df['stop_words'].plot(kind= 'hist')"
      ]
    },
    {
      "cell_type": "markdown",
      "id": "86064722",
      "metadata": {
        "id": "86064722",
        "papermill": {
          "duration": 0.031815,
          "end_time": "2022-08-30T12:30:09.078900",
          "exception": false,
          "start_time": "2022-08-30T12:30:09.047085",
          "status": "completed"
        },
        "tags": []
      },
      "source": [
        "it seems that the data contains alot of stop words and it should be removed"
      ]
    },
    {
      "cell_type": "code",
      "execution_count": null,
      "id": "6c62164f",
      "metadata": {
        "execution": {
          "iopub.execute_input": "2022-08-30T12:30:09.146859Z",
          "iopub.status.busy": "2022-08-30T12:30:09.145520Z",
          "iopub.status.idle": "2022-08-30T12:30:09.423655Z",
          "shell.execute_reply": "2022-08-30T12:30:09.421513Z"
        },
        "id": "6c62164f",
        "papermill": {
          "duration": 0.31543,
          "end_time": "2022-08-30T12:30:09.426381",
          "exception": false,
          "start_time": "2022-08-30T12:30:09.110951",
          "status": "completed"
        },
        "tags": [],
        "colab": {
          "base_uri": "https://localhost:8080/"
        },
        "outputId": "28cc1bd4-cca6-4a01-c5bd-e0e94ce14fb6"
      },
      "outputs": [
        {
          "output_type": "execute_result",
          "data": {
            "text/plain": [
              "0    828\n",
              "1    109\n",
              "2     37\n",
              "3     12\n",
              "4      5\n",
              "5      3\n",
              "8      2\n",
              "7      1\n",
              "Name: emoji_count, dtype: int64"
            ]
          },
          "metadata": {},
          "execution_count": 69
        }
      ],
      "source": [
        "#to count the number of emojis in the dataset\n",
        "def emoji_counter(sentence):\n",
        "    return emoji.emoji_count(sentence)\n",
        "\n",
        "df['emoji_count'] = df['text'].apply(lambda x: emoji_counter(x))\n",
        "df.emoji_count.value_counts()[:10]"
      ]
    },
    {
      "cell_type": "markdown",
      "id": "1bb5864f",
      "metadata": {
        "id": "1bb5864f",
        "papermill": {
          "duration": 0.040232,
          "end_time": "2022-08-30T12:30:09.514341",
          "exception": false,
          "start_time": "2022-08-30T12:30:09.474109",
          "status": "completed"
        },
        "tags": []
      },
      "source": [
        "most of the records doesn't contain emojies but there are emoji that we should take care during preprocessing"
      ]
    },
    {
      "cell_type": "markdown",
      "id": "453c4d80",
      "metadata": {
        "id": "453c4d80",
        "papermill": {
          "duration": 0.034395,
          "end_time": "2022-08-30T12:30:09.581862",
          "exception": false,
          "start_time": "2022-08-30T12:30:09.547467",
          "status": "completed"
        },
        "tags": []
      },
      "source": [
        "**extract the emojis from every text**"
      ]
    },
    {
      "cell_type": "code",
      "execution_count": null,
      "id": "e80914db",
      "metadata": {
        "execution": {
          "iopub.execute_input": "2022-08-30T12:30:09.655603Z",
          "iopub.status.busy": "2022-08-30T12:30:09.654480Z",
          "iopub.status.idle": "2022-08-30T12:30:09.661383Z",
          "shell.execute_reply": "2022-08-30T12:30:09.660374Z"
        },
        "id": "e80914db",
        "papermill": {
          "duration": 0.044984,
          "end_time": "2022-08-30T12:30:09.664399",
          "exception": false,
          "start_time": "2022-08-30T12:30:09.619415",
          "status": "completed"
        },
        "tags": []
      },
      "outputs": [],
      "source": [
        "emojis_data = df[df['emoji_count'] > 0]"
      ]
    },
    {
      "cell_type": "code",
      "execution_count": null,
      "id": "f4109063",
      "metadata": {
        "execution": {
          "iopub.execute_input": "2022-08-30T12:30:09.737214Z",
          "iopub.status.busy": "2022-08-30T12:30:09.736697Z",
          "iopub.status.idle": "2022-08-30T12:30:09.744010Z",
          "shell.execute_reply": "2022-08-30T12:30:09.742893Z"
        },
        "id": "f4109063",
        "papermill": {
          "duration": 0.048305,
          "end_time": "2022-08-30T12:30:09.749446",
          "exception": false,
          "start_time": "2022-08-30T12:30:09.701141",
          "status": "completed"
        },
        "tags": []
      },
      "outputs": [],
      "source": [
        "def extract_emoji(text):\n",
        "    import emoji\n",
        "    emoji_list = []\n",
        "    data = regex.findall(r'\\X', text)\n",
        "    for word in data:\n",
        "        if any(emoji.distinct_emoji_list(char) for char in word):\n",
        "            emoji_list.append(word)\n",
        "\n",
        "    return emoji_list"
      ]
    },
    {
      "cell_type": "code",
      "execution_count": null,
      "id": "9ee69650",
      "metadata": {
        "execution": {
          "iopub.execute_input": "2022-08-30T12:30:09.832804Z",
          "iopub.status.busy": "2022-08-30T12:30:09.832405Z",
          "iopub.status.idle": "2022-08-30T12:30:10.227089Z",
          "shell.execute_reply": "2022-08-30T12:30:10.225996Z"
        },
        "id": "9ee69650",
        "papermill": {
          "duration": 0.436818,
          "end_time": "2022-08-30T12:30:10.230087",
          "exception": false,
          "start_time": "2022-08-30T12:30:09.793269",
          "status": "completed"
        },
        "tags": []
      },
      "outputs": [],
      "source": [
        "emojis_data['emoji'] = emojis_data['text'].apply(lambda x: extract_emoji(x))\n",
        "emojis_data['emoji'] = emojis_data['emoji'].apply(lambda x: ' '.join([word for word in x ]))"
      ]
    },
    {
      "cell_type": "code",
      "execution_count": null,
      "id": "5b3baf2a",
      "metadata": {
        "execution": {
          "iopub.execute_input": "2022-08-30T12:30:10.299676Z",
          "iopub.status.busy": "2022-08-30T12:30:10.299277Z",
          "iopub.status.idle": "2022-08-30T12:30:10.315007Z",
          "shell.execute_reply": "2022-08-30T12:30:10.313585Z"
        },
        "id": "5b3baf2a",
        "outputId": "9a416207-92ca-4ac8-ef92-b985a2431baf",
        "papermill": {
          "duration": 0.052963,
          "end_time": "2022-08-30T12:30:10.318206",
          "exception": false,
          "start_time": "2022-08-30T12:30:10.265243",
          "status": "completed"
        },
        "tags": [],
        "colab": {
          "base_uri": "https://localhost:8080/",
          "height": 423
        }
      },
      "outputs": [
        {
          "output_type": "execute_result",
          "data": {
            "text/plain": [
              "                                                  text  label  stop_words  \\\n",
              "3    شات جي بي تي يحب يتفلسف \\nدكتور عادل شخبارك 🤣 ...      0           2   \n",
              "6    تابع..\\nوللعلم ترى شات جي.بي.تي بالعرب ضعيف جد...      0           5   \n",
              "7    ادخل على الموقع الرهيب https://t.co/azZA9hVYMA...      0           6   \n",
              "9    نزلت الذكاء الصناعي شات.جي.بي.تي على جوالي بهد...      0           8   \n",
              "10   ▪️ #ألمانيا: قد نحظر روبوت شات جي بي تي بسبب م...      0           3   \n",
              "..                                                 ...    ...         ...   \n",
              "968  خديعة البطاريق التي تتبول لم تختلف كثيرا عن إف...      1           9   \n",
              "987  🚨 الشات جي بي تي 4 | #ChatGPT4 \\nالاصدار الجدي...      1           8   \n",
              "990  @karramli @TrueXela انت عايز تتخانق فعلا ياعم ...      1           3   \n",
              "993  شات جي.بي.تي  🤖\\n\\nذكاء صناعي ولكن!!!   🤔\\n\\n(...      1           1   \n",
              "994  هل يدعم برنامج شات جي بي تي اللغة العربية؟ وما...      1           7   \n",
              "\n",
              "     emoji_count    emoji  \n",
              "3              1        🤣  \n",
              "6              4  💯 💯 👌 🤓  \n",
              "7              3    👍 😍 👏  \n",
              "9              2     🤖 ✌️  \n",
              "10             2     ▪️ 👇  \n",
              "..           ...      ...  \n",
              "968            2      👇 👇  \n",
              "987            2      🚨 😱  \n",
              "990            2      😂 😂  \n",
              "993            2      🤖 🤔  \n",
              "994            1        👇  \n",
              "\n",
              "[169 rows x 5 columns]"
            ],
            "text/html": [
              "\n",
              "  <div id=\"df-f514f947-a313-4268-915e-9a589dc1deda\">\n",
              "    <div class=\"colab-df-container\">\n",
              "      <div>\n",
              "<style scoped>\n",
              "    .dataframe tbody tr th:only-of-type {\n",
              "        vertical-align: middle;\n",
              "    }\n",
              "\n",
              "    .dataframe tbody tr th {\n",
              "        vertical-align: top;\n",
              "    }\n",
              "\n",
              "    .dataframe thead th {\n",
              "        text-align: right;\n",
              "    }\n",
              "</style>\n",
              "<table border=\"1\" class=\"dataframe\">\n",
              "  <thead>\n",
              "    <tr style=\"text-align: right;\">\n",
              "      <th></th>\n",
              "      <th>text</th>\n",
              "      <th>label</th>\n",
              "      <th>stop_words</th>\n",
              "      <th>emoji_count</th>\n",
              "      <th>emoji</th>\n",
              "    </tr>\n",
              "  </thead>\n",
              "  <tbody>\n",
              "    <tr>\n",
              "      <th>3</th>\n",
              "      <td>شات جي بي تي يحب يتفلسف \\nدكتور عادل شخبارك 🤣 ...</td>\n",
              "      <td>0</td>\n",
              "      <td>2</td>\n",
              "      <td>1</td>\n",
              "      <td>🤣</td>\n",
              "    </tr>\n",
              "    <tr>\n",
              "      <th>6</th>\n",
              "      <td>تابع..\\nوللعلم ترى شات جي.بي.تي بالعرب ضعيف جد...</td>\n",
              "      <td>0</td>\n",
              "      <td>5</td>\n",
              "      <td>4</td>\n",
              "      <td>💯 💯 👌 🤓</td>\n",
              "    </tr>\n",
              "    <tr>\n",
              "      <th>7</th>\n",
              "      <td>ادخل على الموقع الرهيب https://t.co/azZA9hVYMA...</td>\n",
              "      <td>0</td>\n",
              "      <td>6</td>\n",
              "      <td>3</td>\n",
              "      <td>👍 😍 👏</td>\n",
              "    </tr>\n",
              "    <tr>\n",
              "      <th>9</th>\n",
              "      <td>نزلت الذكاء الصناعي شات.جي.بي.تي على جوالي بهد...</td>\n",
              "      <td>0</td>\n",
              "      <td>8</td>\n",
              "      <td>2</td>\n",
              "      <td>🤖 ✌️</td>\n",
              "    </tr>\n",
              "    <tr>\n",
              "      <th>10</th>\n",
              "      <td>▪️ #ألمانيا: قد نحظر روبوت شات جي بي تي بسبب م...</td>\n",
              "      <td>0</td>\n",
              "      <td>3</td>\n",
              "      <td>2</td>\n",
              "      <td>▪️ 👇</td>\n",
              "    </tr>\n",
              "    <tr>\n",
              "      <th>...</th>\n",
              "      <td>...</td>\n",
              "      <td>...</td>\n",
              "      <td>...</td>\n",
              "      <td>...</td>\n",
              "      <td>...</td>\n",
              "    </tr>\n",
              "    <tr>\n",
              "      <th>968</th>\n",
              "      <td>خديعة البطاريق التي تتبول لم تختلف كثيرا عن إف...</td>\n",
              "      <td>1</td>\n",
              "      <td>9</td>\n",
              "      <td>2</td>\n",
              "      <td>👇 👇</td>\n",
              "    </tr>\n",
              "    <tr>\n",
              "      <th>987</th>\n",
              "      <td>🚨 الشات جي بي تي 4 | #ChatGPT4 \\nالاصدار الجدي...</td>\n",
              "      <td>1</td>\n",
              "      <td>8</td>\n",
              "      <td>2</td>\n",
              "      <td>🚨 😱</td>\n",
              "    </tr>\n",
              "    <tr>\n",
              "      <th>990</th>\n",
              "      <td>@karramli @TrueXela انت عايز تتخانق فعلا ياعم ...</td>\n",
              "      <td>1</td>\n",
              "      <td>3</td>\n",
              "      <td>2</td>\n",
              "      <td>😂 😂</td>\n",
              "    </tr>\n",
              "    <tr>\n",
              "      <th>993</th>\n",
              "      <td>شات جي.بي.تي  🤖\\n\\nذكاء صناعي ولكن!!!   🤔\\n\\n(...</td>\n",
              "      <td>1</td>\n",
              "      <td>1</td>\n",
              "      <td>2</td>\n",
              "      <td>🤖 🤔</td>\n",
              "    </tr>\n",
              "    <tr>\n",
              "      <th>994</th>\n",
              "      <td>هل يدعم برنامج شات جي بي تي اللغة العربية؟ وما...</td>\n",
              "      <td>1</td>\n",
              "      <td>7</td>\n",
              "      <td>1</td>\n",
              "      <td>👇</td>\n",
              "    </tr>\n",
              "  </tbody>\n",
              "</table>\n",
              "<p>169 rows × 5 columns</p>\n",
              "</div>\n",
              "      <button class=\"colab-df-convert\" onclick=\"convertToInteractive('df-f514f947-a313-4268-915e-9a589dc1deda')\"\n",
              "              title=\"Convert this dataframe to an interactive table.\"\n",
              "              style=\"display:none;\">\n",
              "        \n",
              "  <svg xmlns=\"http://www.w3.org/2000/svg\" height=\"24px\"viewBox=\"0 0 24 24\"\n",
              "       width=\"24px\">\n",
              "    <path d=\"M0 0h24v24H0V0z\" fill=\"none\"/>\n",
              "    <path d=\"M18.56 5.44l.94 2.06.94-2.06 2.06-.94-2.06-.94-.94-2.06-.94 2.06-2.06.94zm-11 1L8.5 8.5l.94-2.06 2.06-.94-2.06-.94L8.5 2.5l-.94 2.06-2.06.94zm10 10l.94 2.06.94-2.06 2.06-.94-2.06-.94-.94-2.06-.94 2.06-2.06.94z\"/><path d=\"M17.41 7.96l-1.37-1.37c-.4-.4-.92-.59-1.43-.59-.52 0-1.04.2-1.43.59L10.3 9.45l-7.72 7.72c-.78.78-.78 2.05 0 2.83L4 21.41c.39.39.9.59 1.41.59.51 0 1.02-.2 1.41-.59l7.78-7.78 2.81-2.81c.8-.78.8-2.07 0-2.86zM5.41 20L4 18.59l7.72-7.72 1.47 1.35L5.41 20z\"/>\n",
              "  </svg>\n",
              "      </button>\n",
              "      \n",
              "  <style>\n",
              "    .colab-df-container {\n",
              "      display:flex;\n",
              "      flex-wrap:wrap;\n",
              "      gap: 12px;\n",
              "    }\n",
              "\n",
              "    .colab-df-convert {\n",
              "      background-color: #E8F0FE;\n",
              "      border: none;\n",
              "      border-radius: 50%;\n",
              "      cursor: pointer;\n",
              "      display: none;\n",
              "      fill: #1967D2;\n",
              "      height: 32px;\n",
              "      padding: 0 0 0 0;\n",
              "      width: 32px;\n",
              "    }\n",
              "\n",
              "    .colab-df-convert:hover {\n",
              "      background-color: #E2EBFA;\n",
              "      box-shadow: 0px 1px 2px rgba(60, 64, 67, 0.3), 0px 1px 3px 1px rgba(60, 64, 67, 0.15);\n",
              "      fill: #174EA6;\n",
              "    }\n",
              "\n",
              "    [theme=dark] .colab-df-convert {\n",
              "      background-color: #3B4455;\n",
              "      fill: #D2E3FC;\n",
              "    }\n",
              "\n",
              "    [theme=dark] .colab-df-convert:hover {\n",
              "      background-color: #434B5C;\n",
              "      box-shadow: 0px 1px 3px 1px rgba(0, 0, 0, 0.15);\n",
              "      filter: drop-shadow(0px 1px 2px rgba(0, 0, 0, 0.3));\n",
              "      fill: #FFFFFF;\n",
              "    }\n",
              "  </style>\n",
              "\n",
              "      <script>\n",
              "        const buttonEl =\n",
              "          document.querySelector('#df-f514f947-a313-4268-915e-9a589dc1deda button.colab-df-convert');\n",
              "        buttonEl.style.display =\n",
              "          google.colab.kernel.accessAllowed ? 'block' : 'none';\n",
              "\n",
              "        async function convertToInteractive(key) {\n",
              "          const element = document.querySelector('#df-f514f947-a313-4268-915e-9a589dc1deda');\n",
              "          const dataTable =\n",
              "            await google.colab.kernel.invokeFunction('convertToInteractive',\n",
              "                                                     [key], {});\n",
              "          if (!dataTable) return;\n",
              "\n",
              "          const docLinkHtml = 'Like what you see? Visit the ' +\n",
              "            '<a target=\"_blank\" href=https://colab.research.google.com/notebooks/data_table.ipynb>data table notebook</a>'\n",
              "            + ' to learn more about interactive tables.';\n",
              "          element.innerHTML = '';\n",
              "          dataTable['output_type'] = 'display_data';\n",
              "          await google.colab.output.renderOutput(dataTable, element);\n",
              "          const docLink = document.createElement('div');\n",
              "          docLink.innerHTML = docLinkHtml;\n",
              "          element.appendChild(docLink);\n",
              "        }\n",
              "      </script>\n",
              "    </div>\n",
              "  </div>\n",
              "  "
            ]
          },
          "metadata": {},
          "execution_count": 73
        }
      ],
      "source": [
        "emojis_data"
      ]
    },
    {
      "cell_type": "code",
      "execution_count": null,
      "id": "ce5b95d7",
      "metadata": {
        "execution": {
          "iopub.execute_input": "2022-08-30T12:30:10.390497Z",
          "iopub.status.busy": "2022-08-30T12:30:10.390036Z",
          "iopub.status.idle": "2022-08-30T12:30:10.400235Z",
          "shell.execute_reply": "2022-08-30T12:30:10.399371Z"
        },
        "id": "ce5b95d7",
        "outputId": "53d5f35c-db82-43da-f58d-21964629fd0a",
        "papermill": {
          "duration": 0.047826,
          "end_time": "2022-08-30T12:30:10.402717",
          "exception": false,
          "start_time": "2022-08-30T12:30:10.354891",
          "status": "completed"
        },
        "scrolled": true,
        "tags": [],
        "colab": {
          "base_uri": "https://localhost:8080/"
        }
      },
      "outputs": [
        {
          "output_type": "execute_result",
          "data": {
            "text/plain": [
              "😂     38\n",
              "👇     35\n",
              "🤣     12\n",
              "🤖     12\n",
              "😭     11\n",
              "👇🏻     8\n",
              "😅      7\n",
              "👏      6\n",
              "📍      6\n",
              "🔥      6\n",
              "dtype: int64"
            ]
          },
          "metadata": {},
          "execution_count": 74
        }
      ],
      "source": [
        "#find most repeated emojis\n",
        "pd.Series(' '.join(emojis_data['emoji']).split()).value_counts()[:10]"
      ]
    },
    {
      "cell_type": "markdown",
      "id": "044912d9",
      "metadata": {
        "id": "044912d9",
        "papermill": {
          "duration": 0.032488,
          "end_time": "2022-08-30T12:30:10.468649",
          "exception": false,
          "start_time": "2022-08-30T12:30:10.436161",
          "status": "completed"
        },
        "tags": []
      },
      "source": [
        "Green Heart and Face With Tears of Joy are the most repeated emoji"
      ]
    },
    {
      "cell_type": "markdown",
      "id": "533a98fe",
      "metadata": {
        "id": "533a98fe",
        "papermill": {
          "duration": 0.03215,
          "end_time": "2022-08-30T12:30:10.534036",
          "exception": false,
          "start_time": "2022-08-30T12:30:10.501886",
          "status": "completed"
        },
        "tags": []
      },
      "source": [
        "### Assessing Results"
      ]
    },
    {
      "cell_type": "markdown",
      "id": "1ca679c3",
      "metadata": {
        "id": "1ca679c3",
        "papermill": {
          "duration": 0.033113,
          "end_time": "2022-08-30T12:30:10.600403",
          "exception": false,
          "start_time": "2022-08-30T12:30:10.567290",
          "status": "completed"
        },
        "tags": []
      },
      "source": [
        "- The data contains null values\n",
        "- The data contains duplicated values\n",
        "- The data is balanced and contains 2 classes\n",
        "- the data contains emojis\n",
        "- Most of the records contains stopwords\n",
        "- the data contains Diacritics\n",
        "- The data contains Punctuations, Disapprobation words and hashtags and other things that we should take care during cleaning and preprocessing\n",
        "- Green Heart and Face With Tears of Joy are the most repeated emoji"
      ]
    },
    {
      "cell_type": "markdown",
      "id": "991cef9e",
      "metadata": {
        "id": "991cef9e",
        "papermill": {
          "duration": 0.032158,
          "end_time": "2022-08-30T12:30:10.665294",
          "exception": false,
          "start_time": "2022-08-30T12:30:10.633136",
          "status": "completed"
        },
        "tags": []
      },
      "source": [
        "## Cleaning"
      ]
    },
    {
      "cell_type": "markdown",
      "id": "2d92ede0",
      "metadata": {
        "id": "2d92ede0",
        "papermill": {
          "duration": 0.032475,
          "end_time": "2022-08-30T12:30:10.731155",
          "exception": false,
          "start_time": "2022-08-30T12:30:10.698680",
          "status": "completed"
        },
        "tags": []
      },
      "source": [
        "### Constants and important variables"
      ]
    },
    {
      "cell_type": "code",
      "execution_count": null,
      "id": "e4fbd894",
      "metadata": {
        "execution": {
          "iopub.execute_input": "2022-08-30T12:30:10.800726Z",
          "iopub.status.busy": "2022-08-30T12:30:10.799953Z",
          "iopub.status.idle": "2022-08-30T12:30:10.975447Z",
          "shell.execute_reply": "2022-08-30T12:30:10.974481Z"
        },
        "id": "e4fbd894",
        "papermill": {
          "duration": 0.213703,
          "end_time": "2022-08-30T12:30:10.978014",
          "exception": false,
          "start_time": "2022-08-30T12:30:10.764311",
          "status": "completed"
        },
        "tags": []
      },
      "outputs": [],
      "source": [
        "emojis = {\n",
        "    \"🙂\":\"يبتسم\",\n",
        "    \"😂\":\"يضحك\",\n",
        "    \"💔\":\"قلب حزين\",\n",
        "    \"🙂\":\"يبتسم\",\n",
        "    \"❤️\":\"حب\",\n",
        "    \"❤\":\"حب\",\n",
        "    \"😍\":\"حب\",\n",
        "    \"😭\":\"يبكي\",\n",
        "    \"😢\":\"حزن\",\n",
        "    \"😔\":\"حزن\",\n",
        "    \"♥\":\"حب\",\n",
        "    \"💜\":\"حب\",\n",
        "    \"😅\":\"يضحك\",\n",
        "    \"🙁\":\"حزين\",\n",
        "    \"💕\":\"حب\",\n",
        "    \"💙\":\"حب\",\n",
        "    \"😞\":\"حزين\",\n",
        "    \"😊\":\"سعادة\",\n",
        "    \"👏\":\"يصفق\",\n",
        "    \"👌\":\"احسنت\",\n",
        "    \"😴\":\"ينام\",\n",
        "    \"😀\":\"يضحك\",\n",
        "    \"😌\":\"حزين\",\n",
        "    \"🌹\":\"وردة\",\n",
        "    \"🙈\":\"حب\",\n",
        "    \"😄\":\"يضحك\",\n",
        "    \"😐\":\"محايد\",\n",
        "    \"✌\":\"منتصر\",\n",
        "    \"✨\":\"نجمه\",\n",
        "    \"🤔\":\"تفكير\",\n",
        "    \"😏\":\"يستهزء\",\n",
        "    \"😒\":\"يستهزء\",\n",
        "    \"🙄\":\"ملل\",\n",
        "    \"😕\":\"عصبية\",\n",
        "    \"😃\":\"يضحك\",\n",
        "    \"🌸\":\"وردة\",\n",
        "    \"😓\":\"حزن\",\n",
        "    \"💞\":\"حب\",\n",
        "    \"💗\":\"حب\",\n",
        "    \"😑\":\"منزعج\",\n",
        "    \"💭\":\"تفكير\",\n",
        "    \"😎\":\"ثقة\",\n",
        "    \"💛\":\"حب\",\n",
        "    \"😩\":\"حزين\",\n",
        "    \"💪\":\"عضلات\",\n",
        "    \"👍\":\"موافق\",\n",
        "    \"🙏🏻\":\"رجاء طلب\",\n",
        "    \"😳\":\"مصدوم\",\n",
        "    \"👏🏼\":\"تصفيق\",\n",
        "    \"🎶\":\"موسيقي\",\n",
        "    \"🌚\":\"صمت\",\n",
        "    \"💚\":\"حب\",\n",
        "    \"🙏\":\"رجاء طلب\",\n",
        "    \"💘\":\"حب\",\n",
        "    \"🍃\":\"سلام\",\n",
        "    \"☺\":\"يضحك\",\n",
        "    \"🐸\":\"ضفدع\",\n",
        "    \"😶\":\"مصدوم\",\n",
        "    \"✌️\":\"مرح\",\n",
        "    \"✋🏻\":\"توقف\",\n",
        "    \"😉\":\"غمزة\",\n",
        "    \"🌷\":\"حب\",\n",
        "    \"🙃\":\"مبتسم\",\n",
        "    \"😫\":\"حزين\",\n",
        "    \"😨\":\"مصدوم\",\n",
        "    \"🎼 \":\"موسيقي\",\n",
        "    \"🍁\":\"مرح\",\n",
        "    \"🍂\":\"مرح\",\n",
        "    \"💟\":\"حب\",\n",
        "    \"😪\":\"حزن\",\n",
        "    \"😆\":\"يضحك\",\n",
        "    \"😣\":\"استياء\",\n",
        "    \"☺️\":\"حب\",\n",
        "    \"😱\":\"كارثة\",\n",
        "    \"😁\":\"يضحك\",\n",
        "    \"😖\":\"استياء\",\n",
        "    \"🏃🏼\":\"يجري\",\n",
        "    \"😡\":\"غضب\",\n",
        "    \"🚶\":\"يسير\",\n",
        "    \"🤕\":\"مرض\",\n",
        "    \"‼️\":\"تعجب\",\n",
        "    \"🕊\":\"طائر\",\n",
        "    \"👌🏻\":\"احسنت\",\n",
        "    \"❣\":\"حب\",\n",
        "    \"🙊\":\"مصدوم\",\n",
        "    \"💃\":\"سعادة مرح\",\n",
        "    \"💃🏼\":\"سعادة مرح\",\n",
        "    \"😜\":\"مرح\",\n",
        "    \"👊\":\"ضربة\",\n",
        "    \"😟\":\"استياء\",\n",
        "    \"💖\":\"حب\",\n",
        "    \"😥\":\"حزن\",\n",
        "    \"🎻\":\"موسيقي\",\n",
        "    \"✒\":\"يكتب\",\n",
        "    \"🚶🏻\":\"يسير\",\n",
        "    \"💎\":\"الماظ\",\n",
        "    \"😷\":\"وباء مرض\",\n",
        "    \"☝\":\"واحد\",\n",
        "    \"🚬\":\"تدخين\",\n",
        "    \"💐\" : \"ورد\",\n",
        "    \"🌞\" : \"شمس\",\n",
        "    \"👆\" : \"الاول\",\n",
        "    \"⚠️\" :\"تحذير\",\n",
        "    \"🤗\" : \"احتواء\",\n",
        "    \"✖️\": \"غلط\",\n",
        "    \"📍\"  : \"مكان\",\n",
        "    \"👸\" : \"ملكه\",\n",
        "    \"👑\" : \"تاج\",\n",
        "    \"✔️\" : \"صح\",\n",
        "    \"💌\": \"قلب\",\n",
        "    \"😲\" : \"مندهش\",\n",
        "    \"💦\": \"ماء\",\n",
        "    \"🚫\" : \"خطا\",\n",
        "    \"👏🏻\" : \"برافو\",\n",
        "    \"🏊\" :\"يسبح\",\n",
        "    \"👍🏻\": \"تمام\",\n",
        "    \"⭕️\" :\"دائره كبيره\",\n",
        "    \"🎷\" : \"ساكسفون\",\n",
        "    \"👋\": \"تلويح باليد\",\n",
        "    \"✌🏼\": \"علامه النصر\",\n",
        "    \"🌝\":\"مبتسم\",\n",
        "    \"➿\"  : \"عقده مزدوجه\",\n",
        "    \"💪🏼\" : \"قوي\",\n",
        "    \"📩\":  \"تواصل معي\",\n",
        "    \"☕️\": \"قهوه\",\n",
        "    \"😧\" : \"قلق و صدمة\",\n",
        "    \"🗨\": \"رسالة\",\n",
        "    \"❗️\" :\"تعجب\",\n",
        "    \"🙆🏻\": \"اشاره موافقه\",\n",
        "    \"👯\" :\"اخوات\",\n",
        "    \"©\" :  \"رمز\",\n",
        "    \"👵🏽\" :\"سيده عجوزه\",\n",
        "    \"🐣\": \"كتكوت\",\n",
        "    \"🙌\": \"تشجيع\",\n",
        "    \"🙇\": \"شخص ينحني\",\n",
        "    \"👐🏽\":\"ايدي مفتوحه\",\n",
        "    \"👌🏽\": \"بالظبط\",\n",
        "    \"⁉️\" : \"استنكار\",\n",
        "    \"⚽️\": \"كوره\",\n",
        "    \"🕶\" :\"حب\",\n",
        "    \"🎈\" :\"بالون\",\n",
        "    \"🎀\":    \"ورده\",\n",
        "    \"💵\":  \"فلوس\",\n",
        "    \"😋\":  \"جائع\",\n",
        "    \"😛\":  \"يغيظ\",\n",
        "    \"😠\":  \"غاضب\",\n",
        "    \"✍🏻\":  \"يكتب\",\n",
        "    \"🌾\":  \"ارز\",\n",
        "    \"👣\":  \"اثر قدمين\",\n",
        "    \"❌\":\"رفض\",\n",
        "    \"🍟\":\"طعام\",\n",
        "    \"👬\":\"صداقة\",\n",
        "    \"🐰\":\"ارنب\",\n",
        "    \"☂\":\"مطر\",\n",
        "    \"⚜\":\"مملكة فرنسا\",\n",
        "    \"🐑\":\"خروف\",\n",
        "    \"🗣\":\"صوت مرتفع\",\n",
        "    \"👌🏼\":\"احسنت\",\n",
        "    \"☘\":\"مرح\",\n",
        "    \"😮\":\"صدمة\",\n",
        "    \"😦\":\"قلق\",\n",
        "    \"🤓\":\"يركز\",\n",
        "    \"⭕\":\"الحق\",\n",
        "    \"✏️\":\"قلم\",\n",
        "    \"ℹ\":\"معلومات\",\n",
        "    \"🙍🏻\":\"رفض\",\n",
        "    \"⚪️\":\"نضارة نقاء\",\n",
        "    \"🐤\":\"حزن\",\n",
        "    \"💫\":\"مرح\",\n",
        "    \"💝\":\"حب\",\n",
        "    \"🍔\":\"طعام\",\n",
        "    \"❤︎\":\"حب\",\n",
        "    \"✈️\":\"سفر\",\n",
        "    \"🏃🏻‍♀️\":\"يسير\",\n",
        "    \"🍳\":\"ذكر\",\n",
        "    \"🎤\":\"مايك غناء\",\n",
        "    \"🎾\":\"كره\",\n",
        "    \"🐔\":\"دجاجة\",\n",
        "    \"🙋\":\"سؤال\",\n",
        "    \"📮\":\"بحر\",\n",
        "    \"🤣\":\"يضحك\",\n",
        "    \"💉\":\"دواء\",\n",
        "    \"🙏🏼\":\"رجاء طلب\",\n",
        "    \"💂🏿 \":\"حارس\",\n",
        "    \"🎬\":\"سينما\",\n",
        "    \"♦️\":\"مرح\",\n",
        "    \"💡\":\"قكرة\",\n",
        "    \"‼\":\"تعجب\",\n",
        "    \"👼\":\"طفل\",\n",
        "    \"🔑\":\"مفتاح\",\n",
        "    \"♥️\":\"حب\",\n",
        "    \"🕋\":\"كعبة\",\n",
        "    \"🐓\":\"دجاجة\",\n",
        "    \"💩\":\"معترض\",\n",
        "    \"👽\":\"فضائي\",\n",
        "    \"☔️\":\"مطر\",\n",
        "    \"🍷\":\"عصير\",\n",
        "    \"🌟\":\"نجمة\",\n",
        "    \"☁️\":\"سحب\",\n",
        "    \"👃\":\"معترض\",\n",
        "    \"🌺\":\"مرح\",\n",
        "    \"🔪\":\"سكينة\",\n",
        "    \"♨\":\"سخونية\",\n",
        "    \"👊🏼\":\"ضرب\",\n",
        "    \"✏\":\"قلم\",\n",
        "    \"🚶🏾‍♀️\":\"يسير\",\n",
        "    \"👊\":\"ضربة\",\n",
        "    \"◾️\":\"وقف\",\n",
        "    \"😚\":\"حب\",\n",
        "    \"🔸\":\"مرح\",\n",
        "    \"👎🏻\":\"لا يعجبني\",\n",
        "    \"👊🏽\":\"ضربة\",\n",
        "    \"😙\":\"حب\",\n",
        "    \"🎥\":\"تصوير\",\n",
        "    \"👉\":\"جذب انتباه\",\n",
        "    \"👏🏽\":\"يصفق\",\n",
        "    \"💪🏻\":\"عضلات\",\n",
        "    \"🏴\":\"اسود\",\n",
        "    \"💯\":\"صحيح\",\n",
        "    \"🔥\":\"حريق\",\n",
        "    \"😬\":\"عدم الراحة\",\n",
        "    \"👊🏿\":\"يضرب\",\n",
        "    \"🌿\":\"ورقه شجره\",\n",
        "    \"✋🏼\":\"كف ايد\",\n",
        "    \"👐\":\"ايدي مفتوحه\",\n",
        "    \"☠️\":\"وجه مرعب\",\n",
        "    \"🎉\":\"يهنئ\",\n",
        "    \"🔕\" :\"صامت\",\n",
        "    \"😿\":\"وجه حزين\",\n",
        "    \"☹️\":\"وجه يائس\",\n",
        "    \"😘\" :\"حب\",\n",
        "    \"😰\" :\"خوف و حزن\",\n",
        "    \"🌼\":\"ورده\",\n",
        "    \"💋\":  \"بوسه\",\n",
        "    \"👇\":\"لاسفل\",\n",
        "    \"❣️\":\"حب\",\n",
        "    \"🎧\":\"سماعات\",\n",
        "    \"📝\":\"يكتب\",\n",
        "    \"😇\":\"دايخ\",\n",
        "    \"😈\":\"رعب\",\n",
        "    \"🏃\":\"يجري\",\n",
        "    \"✌🏻\":\"علامه النصر\",\n",
        "    \"🔫\":\"يضرب\",\n",
        "    \"❗️\":\"تعجب\",\n",
        "    \"👎\":\"غير موافق\",\n",
        "    \"🔐\":\"قفل\",\n",
        "    \"👈\":\"لليمين\",\n",
        "    \"™\":\"رمز\",\n",
        "    \"🚶🏽\":\"يتمشي\",\n",
        "    \"😯\":\"متفاجأ\",\n",
        "    \"✊\":\"يد مغلقه\",\n",
        "    \"😻\":\"اعجاب\",\n",
        "    \"🙉\" :\"قرد\",\n",
        "    \"👧\":\"طفله صغيره\",\n",
        "    \"🔴\":\"دائره حمراء\",\n",
        "    \"💪🏽\":\"قوه\",\n",
        "    \"💤\":\"ينام\",\n",
        "    \"👀\":\"ينظر\",\n",
        "    \"✍🏻\":\"يكتب\",\n",
        "    \"❄️\":\"تلج\",\n",
        "    \"💀\":\"رعب\",\n",
        "    \"😤\":\"وجه عابس\",\n",
        "    \"🖋\":\"قلم\",\n",
        "    \"🎩\":\"كاب\",\n",
        "    \"☕️\":\"قهوه\",\n",
        "    \"😹\":\"ضحك\",\n",
        "    \"💓\":\"حب\",\n",
        "    \"☄️ \":\"نار\",\n",
        "    \"👻\":\"رعب\",\n",
        "    }\n",
        "\n",
        "emoticons_to_emoji = {\n",
        "    \":)\" : \"🙂\",\n",
        "    \":(\" : \"🙁\",\n",
        "    \"xD\" : \"😆\",\n",
        "    \":=(\": \"😭\",\n",
        "    \":'(\": \"😢\",\n",
        "    \":'‑(\": \"😢\",\n",
        "    \"XD\" : \"😂\",\n",
        "    \":D\" : \"🙂\",\n",
        "    \"♬\" : \"موسيقي\",\n",
        "    \"♡\" : \"❤\",\n",
        "    \"☻\"  : \"🙂\",\n",
        "    }"
      ]
    },
    {
      "cell_type": "markdown",
      "id": "62940872",
      "metadata": {
        "id": "62940872",
        "papermill": {
          "duration": 0.031913,
          "end_time": "2022-08-30T12:30:11.042904",
          "exception": false,
          "start_time": "2022-08-30T12:30:11.010991",
          "status": "completed"
        },
        "tags": []
      },
      "source": [
        "### Functions"
      ]
    },
    {
      "cell_type": "code",
      "execution_count": null,
      "id": "99689f4c",
      "metadata": {
        "execution": {
          "iopub.execute_input": "2022-08-30T12:30:11.110310Z",
          "iopub.status.busy": "2022-08-30T12:30:11.109487Z",
          "iopub.status.idle": "2022-08-30T12:30:11.135452Z",
          "shell.execute_reply": "2022-08-30T12:30:11.134530Z"
        },
        "id": "99689f4c",
        "papermill": {
          "duration": 0.062812,
          "end_time": "2022-08-30T12:30:11.138095",
          "exception": false,
          "start_time": "2022-08-30T12:30:11.075283",
          "status": "completed"
        },
        "tags": []
      },
      "outputs": [],
      "source": [
        "def remove_stop_words(text):\n",
        "    Text=[i for i in str(text).split() if i not in stopwords.words('arabic')]\n",
        "    return \" \".join(Text)\n",
        "\n",
        "def ISRI_Stemmer(text):\n",
        "    #making an object\n",
        "    stemmer = ISRIStemmer()\n",
        "\n",
        "    #stemming each word\n",
        "    text = stemmer.stem(text)\n",
        "    text = stemmer.pre32(text)\n",
        "    text = stemmer.suf32(text)\n",
        "\n",
        "    return text\n",
        "\n",
        "def Snowball_stemmer(text):\n",
        "    text = text.split()\n",
        "    #making an object\n",
        "    stemmer = SnowballStemmer(\"arabic\")\n",
        "\n",
        "    #stemming each word\n",
        "    text=[stemmer.stem(y) for y in text]\n",
        "\n",
        "    return \" \" .join(text)\n",
        "\n",
        "def Arabic_Light_Stemmer(text):\n",
        "    #making an object\n",
        "    Arabic_Stemmer = ArabicLightStemmer()\n",
        "\n",
        "    #stemming each word\n",
        "    text=[Arabic_Stemmer.light_stem(y) for y in text.split()]\n",
        "\n",
        "    return \" \" .join(text)\n",
        "\n",
        "def normalizeArabic(text):\n",
        "    text = text.strip()\n",
        "    text = re.sub(\"ى\", \"ي\", text)\n",
        "    text = re.sub(\"ؤ\", \"ء\", text)\n",
        "    text = re.sub(\"ئ\", \"ء\", text)\n",
        "    text = re.sub(\"ة\", \"ه\", text)\n",
        "\n",
        "    #remove repetetions\n",
        "    text = re.sub(\"[إأٱآا]\", \"ا\", text)\n",
        "    text = text.replace('وو', 'و')\n",
        "    text = text.replace('يي', 'ي')\n",
        "    text = text.replace('ييي', 'ي')\n",
        "    text = text.replace('اا', 'ا')\n",
        "\n",
        "    ## remove extra whitespace\n",
        "    text = re.sub('\\s+', ' ', text)\n",
        "\n",
        "    # Remove longation\n",
        "    text = re.sub(r'(.)\\1+', r\"\\1\\1\", text)\n",
        "\n",
        "    #Strip vowels from a text, include Shadda.\n",
        "    text = araby.strip_tashkeel(text)\n",
        "\n",
        "    #Strip diacritics from a text, include harakats and small lettres The striped marks are\n",
        "    text = araby.strip_diacritics(text)\n",
        "    text=''.join([i for i in text if not i.isdigit()])\n",
        "    return text\n",
        "\n",
        "def Removing_non_arabic(text):\n",
        "    text = re.sub('[A-Za-z]+',' ',text)\n",
        "    return text\n",
        "\n",
        "def Removing_numbers(text):\n",
        "    text=''.join([i for i in text if not i.isdigit()])\n",
        "    return text\n",
        "\n",
        "def Removing_punctuations(text):\n",
        "    ## Remove punctuations\n",
        "    text = re.sub('[%s]' % re.escape(\"\"\"!\"#$%&'()*+,،-./:;<=>؟?@[\\]^_`{|}~\"\"\"), ' ', text)\n",
        "    text = text.replace('؛',\"\", )\n",
        "\n",
        "    ## remove extra whitespace\n",
        "    text = re.sub('\\s+', ' ', text)\n",
        "    text =  \" \".join(text.split())\n",
        "    return text.strip()\n",
        "\n",
        "def Removing_urls(text):\n",
        "    url_pattern = re.compile(r'https?://\\S+|www\\.\\S+')\n",
        "    return url_pattern.sub(r'', text)\n",
        "\n",
        "def remove_emoji(string):\n",
        "\n",
        "    emoji_pattern = re.compile(\"[\"\n",
        "                           u\"\\U0001F600-\\U0001F64F\"  # emoticons\n",
        "                           u\"\\U0001F300-\\U0001F5FF\"  # symbols & pictographs\n",
        "                           u\"\\U0001F680-\\U0001F6FF\"  # transport & map symbols\n",
        "                           u\"\\U0001F1E0-\\U0001F1FF\"  # flags (iOS)\n",
        "                           u\"\\U00002702-\\U000027B0\"\n",
        "                           u\"\\U000024C2-\\U0001F251\"\n",
        "                           \"]+\", flags=re.UNICODE)\n",
        "    return emoji_pattern.sub(r'', string).strip()\n",
        "\n",
        "def remove_emoticons(text):\n",
        "    emoticon_pattern = re.compile(u'(' + u'|'.join(k for k in EMOTICONS) + u')')\n",
        "    return emoticon_pattern.sub(r'', text).strip()\n",
        "\n",
        "\n",
        "\n",
        "def remove_extra_Space(text):\n",
        "    ## remove extra whitespace\n",
        "    text = re.sub('\\s+', ' ', text)\n",
        "    return  \" \".join(text.split())\n",
        "\n",
        "def remove_small_sentences(df):\n",
        "    for i in range(len(df)):\n",
        "        if len(df.text.iloc[i].split()) < 3:\n",
        "            df.text.iloc[i] = np.nan\n",
        "\n",
        "\n",
        "def replace_emoticon_with_emojis(text):\n",
        "    for i in range (len(text)):\n",
        "        message = text.iloc[i]\n",
        "        seperarate_word = message.split(' ')\n",
        "        cleaned_data.text.iloc[i] = \"\"\n",
        "\n",
        "        for word in seperarate_word:\n",
        "            text.iloc[i] += emoticons_to_emoji.get(word, word) + \" \"\n",
        "\n",
        "def replace_emojis_with_text(text):\n",
        "    for i in range (len(text)):\n",
        "            message = text.iloc[i]\n",
        "            seperarate_word = regex.findall(r'\\X', message)\n",
        "            text.iloc[i] = \"\"\n",
        "\n",
        "            for word in seperarate_word:\n",
        "                if any(emoji.distinct_emoji_list(char)  for char in word):\n",
        "                        text.iloc[i] += \" \" + emojis.get(word, word) + \" \"\n",
        "                else:\n",
        "                        text.iloc[i] +=  emojis.get(word, word) + \"\"\n",
        "\n",
        "\n",
        "\n",
        "def space_between_emojis(s):\n",
        "    return ''.join((' '+c+' ') if c in emoji.UNICODE_EMOJI['en'] else c for c in s)\n",
        "\n",
        "def remove_hashtages_and_mentions(text):\n",
        "    text = re.sub(\"@[A-Za-z0-9_]+\",\"\", text)\n",
        "    text = re.sub(\"#[A-Za-z0-9_]+\",\"\", text)\n",
        "    return text\n"
      ]
    },
    {
      "cell_type": "code",
      "execution_count": null,
      "id": "a970b18d",
      "metadata": {
        "execution": {
          "iopub.execute_input": "2022-08-30T12:30:11.207155Z",
          "iopub.status.busy": "2022-08-30T12:30:11.206362Z",
          "iopub.status.idle": "2022-08-30T12:30:11.243733Z",
          "shell.execute_reply": "2022-08-30T12:30:11.242850Z"
        },
        "id": "a970b18d",
        "papermill": {
          "duration": 0.075479,
          "end_time": "2022-08-30T12:30:11.246317",
          "exception": false,
          "start_time": "2022-08-30T12:30:11.170838",
          "status": "completed"
        },
        "tags": []
      },
      "outputs": [],
      "source": [
        "cleaned_data = pd.read_csv('/content/tweets_pre(1,0).csv')\n",
        "cleaned_data.rename(columns = { 'Sentiment':'label'}, inplace = True)"
      ]
    },
    {
      "cell_type": "code",
      "execution_count": null,
      "id": "ee177050",
      "metadata": {
        "execution": {
          "iopub.execute_input": "2022-08-30T12:30:11.315970Z",
          "iopub.status.busy": "2022-08-30T12:30:11.315189Z",
          "iopub.status.idle": "2022-08-30T12:30:11.325438Z",
          "shell.execute_reply": "2022-08-30T12:30:11.324345Z"
        },
        "id": "ee177050",
        "outputId": "9188c5cd-f99f-4171-c891-315325bc3c67",
        "papermill": {
          "duration": 0.046978,
          "end_time": "2022-08-30T12:30:11.327979",
          "exception": false,
          "start_time": "2022-08-30T12:30:11.281001",
          "status": "completed"
        },
        "tags": [],
        "colab": {
          "base_uri": "https://localhost:8080/",
          "height": 206
        }
      },
      "outputs": [
        {
          "output_type": "execute_result",
          "data": {
            "text/plain": [
              "                                                text  label\n",
              "0  use chatgpt for free here https://t.co/o2IUkZ3u0N      0\n",
              "1  LLMs are natural language computers - trained ...      0\n",
              "2  تبحث الهيئة الفدرالية الألمانية لحماية البيانا...      0\n",
              "3  شات جي بي تي يحب يتفلسف \\nدكتور عادل شخبارك 🤣 ...      0\n",
              "4  من خلال كلام د. خالد الغنيم يبدو لي أن «شات جي...      0"
            ],
            "text/html": [
              "\n",
              "  <div id=\"df-f2a9b145-0419-4650-b197-25ca84013e08\">\n",
              "    <div class=\"colab-df-container\">\n",
              "      <div>\n",
              "<style scoped>\n",
              "    .dataframe tbody tr th:only-of-type {\n",
              "        vertical-align: middle;\n",
              "    }\n",
              "\n",
              "    .dataframe tbody tr th {\n",
              "        vertical-align: top;\n",
              "    }\n",
              "\n",
              "    .dataframe thead th {\n",
              "        text-align: right;\n",
              "    }\n",
              "</style>\n",
              "<table border=\"1\" class=\"dataframe\">\n",
              "  <thead>\n",
              "    <tr style=\"text-align: right;\">\n",
              "      <th></th>\n",
              "      <th>text</th>\n",
              "      <th>label</th>\n",
              "    </tr>\n",
              "  </thead>\n",
              "  <tbody>\n",
              "    <tr>\n",
              "      <th>0</th>\n",
              "      <td>use chatgpt for free here https://t.co/o2IUkZ3u0N</td>\n",
              "      <td>0</td>\n",
              "    </tr>\n",
              "    <tr>\n",
              "      <th>1</th>\n",
              "      <td>LLMs are natural language computers - trained ...</td>\n",
              "      <td>0</td>\n",
              "    </tr>\n",
              "    <tr>\n",
              "      <th>2</th>\n",
              "      <td>تبحث الهيئة الفدرالية الألمانية لحماية البيانا...</td>\n",
              "      <td>0</td>\n",
              "    </tr>\n",
              "    <tr>\n",
              "      <th>3</th>\n",
              "      <td>شات جي بي تي يحب يتفلسف \\nدكتور عادل شخبارك 🤣 ...</td>\n",
              "      <td>0</td>\n",
              "    </tr>\n",
              "    <tr>\n",
              "      <th>4</th>\n",
              "      <td>من خلال كلام د. خالد الغنيم يبدو لي أن «شات جي...</td>\n",
              "      <td>0</td>\n",
              "    </tr>\n",
              "  </tbody>\n",
              "</table>\n",
              "</div>\n",
              "      <button class=\"colab-df-convert\" onclick=\"convertToInteractive('df-f2a9b145-0419-4650-b197-25ca84013e08')\"\n",
              "              title=\"Convert this dataframe to an interactive table.\"\n",
              "              style=\"display:none;\">\n",
              "        \n",
              "  <svg xmlns=\"http://www.w3.org/2000/svg\" height=\"24px\"viewBox=\"0 0 24 24\"\n",
              "       width=\"24px\">\n",
              "    <path d=\"M0 0h24v24H0V0z\" fill=\"none\"/>\n",
              "    <path d=\"M18.56 5.44l.94 2.06.94-2.06 2.06-.94-2.06-.94-.94-2.06-.94 2.06-2.06.94zm-11 1L8.5 8.5l.94-2.06 2.06-.94-2.06-.94L8.5 2.5l-.94 2.06-2.06.94zm10 10l.94 2.06.94-2.06 2.06-.94-2.06-.94-.94-2.06-.94 2.06-2.06.94z\"/><path d=\"M17.41 7.96l-1.37-1.37c-.4-.4-.92-.59-1.43-.59-.52 0-1.04.2-1.43.59L10.3 9.45l-7.72 7.72c-.78.78-.78 2.05 0 2.83L4 21.41c.39.39.9.59 1.41.59.51 0 1.02-.2 1.41-.59l7.78-7.78 2.81-2.81c.8-.78.8-2.07 0-2.86zM5.41 20L4 18.59l7.72-7.72 1.47 1.35L5.41 20z\"/>\n",
              "  </svg>\n",
              "      </button>\n",
              "      \n",
              "  <style>\n",
              "    .colab-df-container {\n",
              "      display:flex;\n",
              "      flex-wrap:wrap;\n",
              "      gap: 12px;\n",
              "    }\n",
              "\n",
              "    .colab-df-convert {\n",
              "      background-color: #E8F0FE;\n",
              "      border: none;\n",
              "      border-radius: 50%;\n",
              "      cursor: pointer;\n",
              "      display: none;\n",
              "      fill: #1967D2;\n",
              "      height: 32px;\n",
              "      padding: 0 0 0 0;\n",
              "      width: 32px;\n",
              "    }\n",
              "\n",
              "    .colab-df-convert:hover {\n",
              "      background-color: #E2EBFA;\n",
              "      box-shadow: 0px 1px 2px rgba(60, 64, 67, 0.3), 0px 1px 3px 1px rgba(60, 64, 67, 0.15);\n",
              "      fill: #174EA6;\n",
              "    }\n",
              "\n",
              "    [theme=dark] .colab-df-convert {\n",
              "      background-color: #3B4455;\n",
              "      fill: #D2E3FC;\n",
              "    }\n",
              "\n",
              "    [theme=dark] .colab-df-convert:hover {\n",
              "      background-color: #434B5C;\n",
              "      box-shadow: 0px 1px 3px 1px rgba(0, 0, 0, 0.15);\n",
              "      filter: drop-shadow(0px 1px 2px rgba(0, 0, 0, 0.3));\n",
              "      fill: #FFFFFF;\n",
              "    }\n",
              "  </style>\n",
              "\n",
              "      <script>\n",
              "        const buttonEl =\n",
              "          document.querySelector('#df-f2a9b145-0419-4650-b197-25ca84013e08 button.colab-df-convert');\n",
              "        buttonEl.style.display =\n",
              "          google.colab.kernel.accessAllowed ? 'block' : 'none';\n",
              "\n",
              "        async function convertToInteractive(key) {\n",
              "          const element = document.querySelector('#df-f2a9b145-0419-4650-b197-25ca84013e08');\n",
              "          const dataTable =\n",
              "            await google.colab.kernel.invokeFunction('convertToInteractive',\n",
              "                                                     [key], {});\n",
              "          if (!dataTable) return;\n",
              "\n",
              "          const docLinkHtml = 'Like what you see? Visit the ' +\n",
              "            '<a target=\"_blank\" href=https://colab.research.google.com/notebooks/data_table.ipynb>data table notebook</a>'\n",
              "            + ' to learn more about interactive tables.';\n",
              "          element.innerHTML = '';\n",
              "          dataTable['output_type'] = 'display_data';\n",
              "          await google.colab.output.renderOutput(dataTable, element);\n",
              "          const docLink = document.createElement('div');\n",
              "          docLink.innerHTML = docLinkHtml;\n",
              "          element.appendChild(docLink);\n",
              "        }\n",
              "      </script>\n",
              "    </div>\n",
              "  </div>\n",
              "  "
            ]
          },
          "metadata": {},
          "execution_count": 159
        }
      ],
      "source": [
        "cleaned_data.head()"
      ]
    },
    {
      "cell_type": "markdown",
      "id": "2487ec82",
      "metadata": {
        "id": "2487ec82",
        "papermill": {
          "duration": 0.033744,
          "end_time": "2022-08-30T12:30:11.394887",
          "exception": false,
          "start_time": "2022-08-30T12:30:11.361143",
          "status": "completed"
        },
        "tags": []
      },
      "source": [
        "**removing duplicated values**"
      ]
    },
    {
      "cell_type": "code",
      "execution_count": null,
      "id": "c1862b57",
      "metadata": {
        "execution": {
          "iopub.execute_input": "2022-08-30T12:30:11.462537Z",
          "iopub.status.busy": "2022-08-30T12:30:11.462097Z",
          "iopub.status.idle": "2022-08-30T12:30:11.480881Z",
          "shell.execute_reply": "2022-08-30T12:30:11.479969Z"
        },
        "id": "c1862b57",
        "papermill": {
          "duration": 0.055609,
          "end_time": "2022-08-30T12:30:11.483452",
          "exception": false,
          "start_time": "2022-08-30T12:30:11.427843",
          "status": "completed"
        },
        "tags": []
      },
      "outputs": [],
      "source": [
        "num_of_duplications = cleaned_data.duplicated().sum()\n",
        "index = cleaned_data[cleaned_data['text'].duplicated() == True].index\n",
        "cleaned_data.drop(index, axis = 0, inplace = True)\n",
        "\n",
        "#resetting the index of the data\n",
        "cleaned_data.reset_index(drop=True, inplace = True)"
      ]
    },
    {
      "cell_type": "code",
      "execution_count": null,
      "id": "348a592b",
      "metadata": {
        "execution": {
          "iopub.execute_input": "2022-08-30T12:30:11.552341Z",
          "iopub.status.busy": "2022-08-30T12:30:11.551556Z",
          "iopub.status.idle": "2022-08-30T12:30:11.557798Z",
          "shell.execute_reply": "2022-08-30T12:30:11.556868Z"
        },
        "id": "348a592b",
        "outputId": "1b7a2ad3-df77-4897-b9d7-566260bcdc3b",
        "papermill": {
          "duration": 0.043257,
          "end_time": "2022-08-30T12:30:11.560104",
          "exception": false,
          "start_time": "2022-08-30T12:30:11.516847",
          "status": "completed"
        },
        "scrolled": true,
        "tags": [],
        "colab": {
          "base_uri": "https://localhost:8080/"
        }
      },
      "outputs": [
        {
          "output_type": "execute_result",
          "data": {
            "text/plain": [
              "2"
            ]
          },
          "metadata": {},
          "execution_count": 161
        }
      ],
      "source": [
        "#Before\n",
        "num_of_duplications"
      ]
    },
    {
      "cell_type": "code",
      "execution_count": null,
      "id": "601b9b70",
      "metadata": {
        "execution": {
          "iopub.execute_input": "2022-08-30T12:30:11.629166Z",
          "iopub.status.busy": "2022-08-30T12:30:11.628384Z",
          "iopub.status.idle": "2022-08-30T12:30:11.640740Z",
          "shell.execute_reply": "2022-08-30T12:30:11.639749Z"
        },
        "id": "601b9b70",
        "outputId": "c893c4f1-1241-43bf-a454-1f6208dddf82",
        "papermill": {
          "duration": 0.048829,
          "end_time": "2022-08-30T12:30:11.642959",
          "exception": false,
          "start_time": "2022-08-30T12:30:11.594130",
          "status": "completed"
        },
        "tags": [],
        "colab": {
          "base_uri": "https://localhost:8080/"
        }
      },
      "outputs": [
        {
          "output_type": "execute_result",
          "data": {
            "text/plain": [
              "0"
            ]
          },
          "metadata": {},
          "execution_count": 162
        }
      ],
      "source": [
        "#Ater\n",
        "cleaned_data.duplicated().sum()"
      ]
    },
    {
      "cell_type": "markdown",
      "id": "86b27730",
      "metadata": {
        "id": "86b27730",
        "papermill": {
          "duration": 0.033241,
          "end_time": "2022-08-30T12:30:11.709116",
          "exception": false,
          "start_time": "2022-08-30T12:30:11.675875",
          "status": "completed"
        },
        "tags": []
      },
      "source": [
        "**Replace emoticons with emojis**"
      ]
    },
    {
      "cell_type": "code",
      "execution_count": null,
      "id": "bd727654",
      "metadata": {
        "execution": {
          "iopub.execute_input": "2022-08-30T12:30:11.777863Z",
          "iopub.status.busy": "2022-08-30T12:30:11.777083Z",
          "iopub.status.idle": "2022-08-30T12:30:52.230444Z",
          "shell.execute_reply": "2022-08-30T12:30:52.229098Z"
        },
        "id": "bd727654",
        "papermill": {
          "duration": 40.491426,
          "end_time": "2022-08-30T12:30:52.233470",
          "exception": false,
          "start_time": "2022-08-30T12:30:11.742044",
          "status": "completed"
        },
        "tags": []
      },
      "outputs": [],
      "source": [
        "#cleaned_data.text=cleaned_data.text.apply(lambda text : remove_emoji(text))\n",
        "replace_emoticon_with_emojis(cleaned_data.text)"
      ]
    },
    {
      "cell_type": "markdown",
      "id": "139ae549",
      "metadata": {
        "id": "139ae549",
        "papermill": {
          "duration": 0.03384,
          "end_time": "2022-08-30T12:30:52.300592",
          "exception": false,
          "start_time": "2022-08-30T12:30:52.266752",
          "status": "completed"
        },
        "tags": []
      },
      "source": [
        "**Replace each emoji with a text**"
      ]
    },
    {
      "cell_type": "code",
      "execution_count": null,
      "id": "473cd9ab",
      "metadata": {
        "execution": {
          "iopub.execute_input": "2022-08-30T12:30:52.368456Z",
          "iopub.status.busy": "2022-08-30T12:30:52.367977Z",
          "iopub.status.idle": "2022-08-30T12:35:12.702023Z",
          "shell.execute_reply": "2022-08-30T12:35:12.700576Z"
        },
        "id": "473cd9ab",
        "papermill": {
          "duration": 260.371522,
          "end_time": "2022-08-30T12:35:12.705211",
          "exception": false,
          "start_time": "2022-08-30T12:30:52.333689",
          "status": "completed"
        },
        "tags": []
      },
      "outputs": [],
      "source": [
        "replace_emojis_with_text(cleaned_data.text)"
      ]
    },
    {
      "cell_type": "code",
      "execution_count": null,
      "id": "a5854ece",
      "metadata": {
        "execution": {
          "iopub.execute_input": "2022-08-30T12:35:12.774783Z",
          "iopub.status.busy": "2022-08-30T12:35:12.774309Z",
          "iopub.status.idle": "2022-08-30T12:35:12.782565Z",
          "shell.execute_reply": "2022-08-30T12:35:12.781349Z"
        },
        "papermill": {
          "duration": 0.046012,
          "end_time": "2022-08-30T12:35:12.784951",
          "exception": false,
          "start_time": "2022-08-30T12:35:12.738939",
          "status": "completed"
        },
        "tags": [],
        "id": "a5854ece",
        "outputId": "bb5f5202-9935-4859-a159-ef9146689513",
        "colab": {
          "base_uri": "https://localhost:8080/",
          "height": 36
        }
      },
      "outputs": [
        {
          "output_type": "execute_result",
          "data": {
            "text/plain": [
              "'use chatgpt for free here https://t.co/o2IUkZ3u0N'"
            ],
            "application/vnd.google.colaboratory.intrinsic+json": {
              "type": "string"
            }
          },
          "metadata": {},
          "execution_count": 165
        }
      ],
      "source": [
        "#Before\n",
        "df.iloc[0].text"
      ]
    },
    {
      "cell_type": "code",
      "execution_count": null,
      "id": "89f19215",
      "metadata": {
        "execution": {
          "iopub.execute_input": "2022-08-30T12:35:12.853308Z",
          "iopub.status.busy": "2022-08-30T12:35:12.852563Z",
          "iopub.status.idle": "2022-08-30T12:35:12.860176Z",
          "shell.execute_reply": "2022-08-30T12:35:12.859088Z"
        },
        "id": "89f19215",
        "outputId": "3c7fbf1c-0da8-495f-dad9-65d06bf76696",
        "papermill": {
          "duration": 0.044051,
          "end_time": "2022-08-30T12:35:12.862315",
          "exception": false,
          "start_time": "2022-08-30T12:35:12.818264",
          "status": "completed"
        },
        "tags": [],
        "colab": {
          "base_uri": "https://localhost:8080/",
          "height": 36
        }
      },
      "outputs": [
        {
          "output_type": "execute_result",
          "data": {
            "text/plain": [
              "'use chatgpt for free here https://t.co/o2IUkZ3u0N '"
            ],
            "application/vnd.google.colaboratory.intrinsic+json": {
              "type": "string"
            }
          },
          "metadata": {},
          "execution_count": 166
        }
      ],
      "source": [
        "#After\n",
        "cleaned_data.iloc[0].text"
      ]
    },
    {
      "cell_type": "markdown",
      "id": "8df32713",
      "metadata": {
        "id": "8df32713",
        "papermill": {
          "duration": 0.033487,
          "end_time": "2022-08-30T12:35:12.928884",
          "exception": false,
          "start_time": "2022-08-30T12:35:12.895397",
          "status": "completed"
        },
        "tags": []
      },
      "source": [
        "**removing arabic stopwords**"
      ]
    },
    {
      "cell_type": "code",
      "execution_count": null,
      "id": "87745a17",
      "metadata": {
        "execution": {
          "iopub.execute_input": "2022-08-30T12:35:12.997469Z",
          "iopub.status.busy": "2022-08-30T12:35:12.997035Z",
          "iopub.status.idle": "2022-08-30T12:35:14.192633Z",
          "shell.execute_reply": "2022-08-30T12:35:14.191418Z"
        },
        "id": "87745a17",
        "papermill": {
          "duration": 1.233364,
          "end_time": "2022-08-30T12:35:14.195434",
          "exception": false,
          "start_time": "2022-08-30T12:35:12.962070",
          "status": "completed"
        },
        "tags": []
      },
      "outputs": [],
      "source": [
        "cleaned_data.text=cleaned_data.text.apply(lambda text : remove_stop_words(text))"
      ]
    },
    {
      "cell_type": "markdown",
      "id": "a972aaa8",
      "metadata": {
        "id": "a972aaa8",
        "papermill": {
          "duration": 0.032872,
          "end_time": "2022-08-30T12:35:14.261877",
          "exception": false,
          "start_time": "2022-08-30T12:35:14.229005",
          "status": "completed"
        },
        "tags": []
      },
      "source": [
        "**Removal of non-Arabic words**"
      ]
    },
    {
      "cell_type": "code",
      "execution_count": null,
      "id": "d18b472d",
      "metadata": {
        "execution": {
          "iopub.execute_input": "2022-08-30T12:35:14.330433Z",
          "iopub.status.busy": "2022-08-30T12:35:14.329991Z",
          "iopub.status.idle": "2022-08-30T12:35:14.365100Z",
          "shell.execute_reply": "2022-08-30T12:35:14.364136Z"
        },
        "id": "d18b472d",
        "papermill": {
          "duration": 0.072371,
          "end_time": "2022-08-30T12:35:14.367484",
          "exception": false,
          "start_time": "2022-08-30T12:35:14.295113",
          "status": "completed"
        },
        "tags": []
      },
      "outputs": [],
      "source": [
        "cleaned_data.text=cleaned_data.text.apply(lambda text : Removing_non_arabic(text))"
      ]
    },
    {
      "cell_type": "code",
      "execution_count": null,
      "id": "51945f26",
      "metadata": {
        "execution": {
          "iopub.execute_input": "2022-08-30T12:35:14.436828Z",
          "iopub.status.busy": "2022-08-30T12:35:14.436026Z",
          "iopub.status.idle": "2022-08-30T12:35:14.442676Z",
          "shell.execute_reply": "2022-08-30T12:35:14.441472Z"
        },
        "id": "51945f26",
        "outputId": "bd45426e-ba55-40c5-c1a7-a2fb79b7b654",
        "papermill": {
          "duration": 0.044064,
          "end_time": "2022-08-30T12:35:14.444969",
          "exception": false,
          "start_time": "2022-08-30T12:35:14.400905",
          "status": "completed"
        },
        "tags": [],
        "colab": {
          "base_uri": "https://localhost:8080/",
          "height": 53
        }
      },
      "outputs": [
        {
          "output_type": "execute_result",
          "data": {
            "text/plain": [
              "'LLMs are natural language computers - trained by natural language, programmable by natural language.\\n\\nThe best way to program LLMs may simply be to communicate clearly and precisely - Naval'"
            ],
            "application/vnd.google.colaboratory.intrinsic+json": {
              "type": "string"
            }
          },
          "metadata": {},
          "execution_count": 169
        }
      ],
      "source": [
        "#Before\n",
        "df.text.iloc[1]"
      ]
    },
    {
      "cell_type": "code",
      "execution_count": null,
      "id": "7330d3de",
      "metadata": {
        "execution": {
          "iopub.execute_input": "2022-08-30T12:35:14.515541Z",
          "iopub.status.busy": "2022-08-30T12:35:14.514823Z",
          "iopub.status.idle": "2022-08-30T12:35:14.520999Z",
          "shell.execute_reply": "2022-08-30T12:35:14.520172Z"
        },
        "id": "7330d3de",
        "outputId": "cab68ab0-1c19-449b-913c-dd5780c473d2",
        "papermill": {
          "duration": 0.044641,
          "end_time": "2022-08-30T12:35:14.523189",
          "exception": false,
          "start_time": "2022-08-30T12:35:14.478548",
          "status": "completed"
        },
        "tags": [],
        "colab": {
          "base_uri": "https://localhost:8080/",
          "height": 36
        }
      },
      "outputs": [
        {
          "output_type": "execute_result",
          "data": {
            "text/plain": [
              "'          -        ,        .                             -  '"
            ],
            "application/vnd.google.colaboratory.intrinsic+json": {
              "type": "string"
            }
          },
          "metadata": {},
          "execution_count": 170
        }
      ],
      "source": [
        "#After\n",
        "cleaned_data.iloc[1].text"
      ]
    },
    {
      "cell_type": "markdown",
      "id": "daa09269",
      "metadata": {
        "id": "daa09269",
        "papermill": {
          "duration": 0.033001,
          "end_time": "2022-08-30T12:35:14.589448",
          "exception": false,
          "start_time": "2022-08-30T12:35:14.556447",
          "status": "completed"
        },
        "tags": []
      },
      "source": [
        "**removing Diacritics**"
      ]
    },
    {
      "cell_type": "code",
      "execution_count": null,
      "id": "e17a9f5e",
      "metadata": {
        "execution": {
          "iopub.execute_input": "2022-08-30T12:35:14.658203Z",
          "iopub.status.busy": "2022-08-30T12:35:14.657166Z",
          "iopub.status.idle": "2022-08-30T12:35:15.125218Z",
          "shell.execute_reply": "2022-08-30T12:35:15.123720Z"
        },
        "id": "e17a9f5e",
        "papermill": {
          "duration": 0.505679,
          "end_time": "2022-08-30T12:35:15.128218",
          "exception": false,
          "start_time": "2022-08-30T12:35:14.622539",
          "status": "completed"
        },
        "tags": []
      },
      "outputs": [],
      "source": [
        "cleaned_data.text=cleaned_data.text.apply(lambda text : normalizeArabic(text))"
      ]
    },
    {
      "cell_type": "markdown",
      "id": "a64d0898",
      "metadata": {
        "id": "a64d0898",
        "papermill": {
          "duration": 0.032943,
          "end_time": "2022-08-30T12:35:15.195206",
          "exception": false,
          "start_time": "2022-08-30T12:35:15.162263",
          "status": "completed"
        },
        "tags": []
      },
      "source": [
        "**Removal of numbers**"
      ]
    },
    {
      "cell_type": "code",
      "execution_count": null,
      "id": "07ba4196",
      "metadata": {
        "execution": {
          "iopub.execute_input": "2022-08-30T12:35:15.265084Z",
          "iopub.status.busy": "2022-08-30T12:35:15.263880Z",
          "iopub.status.idle": "2022-08-30T12:35:15.357722Z",
          "shell.execute_reply": "2022-08-30T12:35:15.356588Z"
        },
        "id": "07ba4196",
        "papermill": {
          "duration": 0.131658,
          "end_time": "2022-08-30T12:35:15.360432",
          "exception": false,
          "start_time": "2022-08-30T12:35:15.228774",
          "status": "completed"
        },
        "tags": []
      },
      "outputs": [],
      "source": [
        "cleaned_data.text=cleaned_data.text.apply(lambda text : Removing_numbers(text))"
      ]
    },
    {
      "cell_type": "code",
      "execution_count": null,
      "id": "210f6dcb",
      "metadata": {
        "execution": {
          "iopub.execute_input": "2022-08-30T12:35:15.507197Z",
          "iopub.status.busy": "2022-08-30T12:35:15.506437Z",
          "iopub.status.idle": "2022-08-30T12:35:15.513697Z",
          "shell.execute_reply": "2022-08-30T12:35:15.512461Z"
        },
        "papermill": {
          "duration": 0.045593,
          "end_time": "2022-08-30T12:35:15.516323",
          "exception": false,
          "start_time": "2022-08-30T12:35:15.470730",
          "status": "completed"
        },
        "tags": [],
        "id": "210f6dcb",
        "outputId": "fe11a8e8-3f68-4143-bcf7-9febb5b7823c",
        "colab": {
          "base_uri": "https://localhost:8080/",
          "height": 36
        }
      },
      "outputs": [
        {
          "output_type": "execute_result",
          "data": {
            "text/plain": [
              "'- , . -'"
            ],
            "application/vnd.google.colaboratory.intrinsic+json": {
              "type": "string"
            }
          },
          "metadata": {},
          "execution_count": 173
        }
      ],
      "source": [
        "#After\n",
        "cleaned_data.iloc[1].text"
      ]
    },
    {
      "cell_type": "markdown",
      "id": "45ce296d",
      "metadata": {
        "id": "45ce296d",
        "papermill": {
          "duration": 0.033158,
          "end_time": "2022-08-30T12:35:15.583747",
          "exception": false,
          "start_time": "2022-08-30T12:35:15.550589",
          "status": "completed"
        },
        "tags": []
      },
      "source": [
        "**Removing Hastags**"
      ]
    },
    {
      "cell_type": "code",
      "execution_count": null,
      "id": "beccec89",
      "metadata": {
        "execution": {
          "iopub.execute_input": "2022-08-30T12:35:15.653493Z",
          "iopub.status.busy": "2022-08-30T12:35:15.653053Z",
          "iopub.status.idle": "2022-08-30T12:35:15.672931Z",
          "shell.execute_reply": "2022-08-30T12:35:15.671804Z"
        },
        "papermill": {
          "duration": 0.057462,
          "end_time": "2022-08-30T12:35:15.675345",
          "exception": false,
          "start_time": "2022-08-30T12:35:15.617883",
          "status": "completed"
        },
        "tags": [],
        "id": "beccec89"
      },
      "outputs": [],
      "source": [
        "cleaned_data.text=cleaned_data.text.apply(lambda text : remove_hashtages_and_mentions(text))"
      ]
    },
    {
      "cell_type": "markdown",
      "id": "6470778d",
      "metadata": {
        "id": "6470778d",
        "papermill": {
          "duration": 0.033201,
          "end_time": "2022-08-30T12:35:15.742538",
          "exception": false,
          "start_time": "2022-08-30T12:35:15.709337",
          "status": "completed"
        },
        "tags": []
      },
      "source": [
        "**Removal of Links**"
      ]
    },
    {
      "cell_type": "code",
      "execution_count": null,
      "id": "34d11b40",
      "metadata": {
        "execution": {
          "iopub.execute_input": "2022-08-30T12:35:15.812279Z",
          "iopub.status.busy": "2022-08-30T12:35:15.811552Z",
          "iopub.status.idle": "2022-08-30T12:35:15.829972Z",
          "shell.execute_reply": "2022-08-30T12:35:15.829023Z"
        },
        "id": "34d11b40",
        "papermill": {
          "duration": 0.05582,
          "end_time": "2022-08-30T12:35:15.832074",
          "exception": false,
          "start_time": "2022-08-30T12:35:15.776254",
          "status": "completed"
        },
        "tags": []
      },
      "outputs": [],
      "source": [
        "cleaned_data.text=cleaned_data.text.apply(lambda text : Removing_urls(text))"
      ]
    },
    {
      "cell_type": "markdown",
      "id": "5de0a5cd",
      "metadata": {
        "id": "5de0a5cd",
        "papermill": {
          "duration": 0.033008,
          "end_time": "2022-08-30T12:35:15.898471",
          "exception": false,
          "start_time": "2022-08-30T12:35:15.865463",
          "status": "completed"
        },
        "tags": []
      },
      "source": [
        "**Removing Punctuations**"
      ]
    },
    {
      "cell_type": "code",
      "execution_count": null,
      "id": "2a1f4275",
      "metadata": {
        "execution": {
          "iopub.execute_input": "2022-08-30T12:35:15.980565Z",
          "iopub.status.busy": "2022-08-30T12:35:15.979840Z",
          "iopub.status.idle": "2022-08-30T12:35:16.089423Z",
          "shell.execute_reply": "2022-08-30T12:35:16.088289Z"
        },
        "id": "2a1f4275",
        "papermill": {
          "duration": 0.157021,
          "end_time": "2022-08-30T12:35:16.092223",
          "exception": false,
          "start_time": "2022-08-30T12:35:15.935202",
          "status": "completed"
        },
        "tags": []
      },
      "outputs": [],
      "source": [
        "cleaned_data.text=cleaned_data.text.apply(lambda text : Removing_punctuations(text))"
      ]
    },
    {
      "cell_type": "code",
      "execution_count": null,
      "id": "17cc1efc",
      "metadata": {
        "execution": {
          "iopub.execute_input": "2022-08-30T12:35:16.161480Z",
          "iopub.status.busy": "2022-08-30T12:35:16.161070Z",
          "iopub.status.idle": "2022-08-30T12:35:16.172960Z",
          "shell.execute_reply": "2022-08-30T12:35:16.172116Z"
        },
        "papermill": {
          "duration": 0.049227,
          "end_time": "2022-08-30T12:35:16.175131",
          "exception": false,
          "start_time": "2022-08-30T12:35:16.125904",
          "status": "completed"
        },
        "tags": [],
        "id": "17cc1efc",
        "outputId": "9d39167a-ca41-41b9-d486-614f2d1c5906",
        "colab": {
          "base_uri": "https://localhost:8080/",
          "height": 423
        }
      },
      "outputs": [
        {
          "output_type": "execute_result",
          "data": {
            "text/plain": [
              "                                                  text  label\n",
              "0                                                           0\n",
              "1                                                           0\n",
              "2    تبحث الهيءه الفدراليه الالمانيه لحمايه البيانا...      0\n",
              "3             شات جي يحب يتفلسف دكتور عادل شخبارك يضحك      0\n",
              "4    خلال كلام د خالد الغنيم يبدو «شات جي تي» الذكا...      0\n",
              "..                                                 ...    ...\n",
              "992  سر ضعف المحتوي العربي برامج الذكاء الاصطناعي “...      1\n",
              "993  بلديه عجمان تطلق تقنيه الذكاء الاصطناعي «شات ج...      1\n",
              "994  اذنك بشمهندس انا حاليا كورس البايثون بحل اختبا...      1\n",
              "995  شغلت شات جي ومستني بقي اغني حياتي احسن بكتير ا...      1\n",
              "996  تنزيل شات جي نسخه جديده تطورا تنزيل شات جي تطو...      1\n",
              "\n",
              "[997 rows x 2 columns]"
            ],
            "text/html": [
              "\n",
              "  <div id=\"df-ae603d4f-6330-4c6b-98e4-024881a1f62d\">\n",
              "    <div class=\"colab-df-container\">\n",
              "      <div>\n",
              "<style scoped>\n",
              "    .dataframe tbody tr th:only-of-type {\n",
              "        vertical-align: middle;\n",
              "    }\n",
              "\n",
              "    .dataframe tbody tr th {\n",
              "        vertical-align: top;\n",
              "    }\n",
              "\n",
              "    .dataframe thead th {\n",
              "        text-align: right;\n",
              "    }\n",
              "</style>\n",
              "<table border=\"1\" class=\"dataframe\">\n",
              "  <thead>\n",
              "    <tr style=\"text-align: right;\">\n",
              "      <th></th>\n",
              "      <th>text</th>\n",
              "      <th>label</th>\n",
              "    </tr>\n",
              "  </thead>\n",
              "  <tbody>\n",
              "    <tr>\n",
              "      <th>0</th>\n",
              "      <td></td>\n",
              "      <td>0</td>\n",
              "    </tr>\n",
              "    <tr>\n",
              "      <th>1</th>\n",
              "      <td></td>\n",
              "      <td>0</td>\n",
              "    </tr>\n",
              "    <tr>\n",
              "      <th>2</th>\n",
              "      <td>تبحث الهيءه الفدراليه الالمانيه لحمايه البيانا...</td>\n",
              "      <td>0</td>\n",
              "    </tr>\n",
              "    <tr>\n",
              "      <th>3</th>\n",
              "      <td>شات جي يحب يتفلسف دكتور عادل شخبارك يضحك</td>\n",
              "      <td>0</td>\n",
              "    </tr>\n",
              "    <tr>\n",
              "      <th>4</th>\n",
              "      <td>خلال كلام د خالد الغنيم يبدو «شات جي تي» الذكا...</td>\n",
              "      <td>0</td>\n",
              "    </tr>\n",
              "    <tr>\n",
              "      <th>...</th>\n",
              "      <td>...</td>\n",
              "      <td>...</td>\n",
              "    </tr>\n",
              "    <tr>\n",
              "      <th>992</th>\n",
              "      <td>سر ضعف المحتوي العربي برامج الذكاء الاصطناعي “...</td>\n",
              "      <td>1</td>\n",
              "    </tr>\n",
              "    <tr>\n",
              "      <th>993</th>\n",
              "      <td>بلديه عجمان تطلق تقنيه الذكاء الاصطناعي «شات ج...</td>\n",
              "      <td>1</td>\n",
              "    </tr>\n",
              "    <tr>\n",
              "      <th>994</th>\n",
              "      <td>اذنك بشمهندس انا حاليا كورس البايثون بحل اختبا...</td>\n",
              "      <td>1</td>\n",
              "    </tr>\n",
              "    <tr>\n",
              "      <th>995</th>\n",
              "      <td>شغلت شات جي ومستني بقي اغني حياتي احسن بكتير ا...</td>\n",
              "      <td>1</td>\n",
              "    </tr>\n",
              "    <tr>\n",
              "      <th>996</th>\n",
              "      <td>تنزيل شات جي نسخه جديده تطورا تنزيل شات جي تطو...</td>\n",
              "      <td>1</td>\n",
              "    </tr>\n",
              "  </tbody>\n",
              "</table>\n",
              "<p>997 rows × 2 columns</p>\n",
              "</div>\n",
              "      <button class=\"colab-df-convert\" onclick=\"convertToInteractive('df-ae603d4f-6330-4c6b-98e4-024881a1f62d')\"\n",
              "              title=\"Convert this dataframe to an interactive table.\"\n",
              "              style=\"display:none;\">\n",
              "        \n",
              "  <svg xmlns=\"http://www.w3.org/2000/svg\" height=\"24px\"viewBox=\"0 0 24 24\"\n",
              "       width=\"24px\">\n",
              "    <path d=\"M0 0h24v24H0V0z\" fill=\"none\"/>\n",
              "    <path d=\"M18.56 5.44l.94 2.06.94-2.06 2.06-.94-2.06-.94-.94-2.06-.94 2.06-2.06.94zm-11 1L8.5 8.5l.94-2.06 2.06-.94-2.06-.94L8.5 2.5l-.94 2.06-2.06.94zm10 10l.94 2.06.94-2.06 2.06-.94-2.06-.94-.94-2.06-.94 2.06-2.06.94z\"/><path d=\"M17.41 7.96l-1.37-1.37c-.4-.4-.92-.59-1.43-.59-.52 0-1.04.2-1.43.59L10.3 9.45l-7.72 7.72c-.78.78-.78 2.05 0 2.83L4 21.41c.39.39.9.59 1.41.59.51 0 1.02-.2 1.41-.59l7.78-7.78 2.81-2.81c.8-.78.8-2.07 0-2.86zM5.41 20L4 18.59l7.72-7.72 1.47 1.35L5.41 20z\"/>\n",
              "  </svg>\n",
              "      </button>\n",
              "      \n",
              "  <style>\n",
              "    .colab-df-container {\n",
              "      display:flex;\n",
              "      flex-wrap:wrap;\n",
              "      gap: 12px;\n",
              "    }\n",
              "\n",
              "    .colab-df-convert {\n",
              "      background-color: #E8F0FE;\n",
              "      border: none;\n",
              "      border-radius: 50%;\n",
              "      cursor: pointer;\n",
              "      display: none;\n",
              "      fill: #1967D2;\n",
              "      height: 32px;\n",
              "      padding: 0 0 0 0;\n",
              "      width: 32px;\n",
              "    }\n",
              "\n",
              "    .colab-df-convert:hover {\n",
              "      background-color: #E2EBFA;\n",
              "      box-shadow: 0px 1px 2px rgba(60, 64, 67, 0.3), 0px 1px 3px 1px rgba(60, 64, 67, 0.15);\n",
              "      fill: #174EA6;\n",
              "    }\n",
              "\n",
              "    [theme=dark] .colab-df-convert {\n",
              "      background-color: #3B4455;\n",
              "      fill: #D2E3FC;\n",
              "    }\n",
              "\n",
              "    [theme=dark] .colab-df-convert:hover {\n",
              "      background-color: #434B5C;\n",
              "      box-shadow: 0px 1px 3px 1px rgba(0, 0, 0, 0.15);\n",
              "      filter: drop-shadow(0px 1px 2px rgba(0, 0, 0, 0.3));\n",
              "      fill: #FFFFFF;\n",
              "    }\n",
              "  </style>\n",
              "\n",
              "      <script>\n",
              "        const buttonEl =\n",
              "          document.querySelector('#df-ae603d4f-6330-4c6b-98e4-024881a1f62d button.colab-df-convert');\n",
              "        buttonEl.style.display =\n",
              "          google.colab.kernel.accessAllowed ? 'block' : 'none';\n",
              "\n",
              "        async function convertToInteractive(key) {\n",
              "          const element = document.querySelector('#df-ae603d4f-6330-4c6b-98e4-024881a1f62d');\n",
              "          const dataTable =\n",
              "            await google.colab.kernel.invokeFunction('convertToInteractive',\n",
              "                                                     [key], {});\n",
              "          if (!dataTable) return;\n",
              "\n",
              "          const docLinkHtml = 'Like what you see? Visit the ' +\n",
              "            '<a target=\"_blank\" href=https://colab.research.google.com/notebooks/data_table.ipynb>data table notebook</a>'\n",
              "            + ' to learn more about interactive tables.';\n",
              "          element.innerHTML = '';\n",
              "          dataTable['output_type'] = 'display_data';\n",
              "          await google.colab.output.renderOutput(dataTable, element);\n",
              "          const docLink = document.createElement('div');\n",
              "          docLink.innerHTML = docLinkHtml;\n",
              "          element.appendChild(docLink);\n",
              "        }\n",
              "      </script>\n",
              "    </div>\n",
              "  </div>\n",
              "  "
            ]
          },
          "metadata": {},
          "execution_count": 177
        }
      ],
      "source": [
        "cleaned_data"
      ]
    },
    {
      "cell_type": "markdown",
      "id": "fabe011f",
      "metadata": {
        "id": "fabe011f",
        "papermill": {
          "duration": 0.033304,
          "end_time": "2022-08-30T12:35:16.242266",
          "exception": false,
          "start_time": "2022-08-30T12:35:16.208962",
          "status": "completed"
        },
        "tags": []
      },
      "source": [
        "**Reducing words to their roots**"
      ]
    },
    {
      "cell_type": "code",
      "execution_count": null,
      "id": "ff3eaedd",
      "metadata": {
        "execution": {
          "iopub.execute_input": "2022-08-30T12:35:16.312807Z",
          "iopub.status.busy": "2022-08-30T12:35:16.312398Z",
          "iopub.status.idle": "2022-08-30T12:35:29.434502Z",
          "shell.execute_reply": "2022-08-30T12:35:29.433285Z"
        },
        "id": "ff3eaedd",
        "papermill": {
          "duration": 13.160489,
          "end_time": "2022-08-30T12:35:29.437128",
          "exception": false,
          "start_time": "2022-08-30T12:35:16.276639",
          "status": "completed"
        },
        "tags": []
      },
      "outputs": [],
      "source": [
        "cleaned_data.text=cleaned_data.text.apply(lambda text : Arabic_Light_Stemmer(text))"
      ]
    },
    {
      "cell_type": "code",
      "execution_count": null,
      "id": "f7bee87f",
      "metadata": {
        "execution": {
          "iopub.execute_input": "2022-08-30T12:35:29.512154Z",
          "iopub.status.busy": "2022-08-30T12:35:29.511265Z",
          "iopub.status.idle": "2022-08-30T12:35:29.526162Z",
          "shell.execute_reply": "2022-08-30T12:35:29.524958Z"
        },
        "id": "f7bee87f",
        "outputId": "96e67a31-c6d7-48e5-97b9-243b97f1801f",
        "papermill": {
          "duration": 0.056041,
          "end_time": "2022-08-30T12:35:29.528656",
          "exception": false,
          "start_time": "2022-08-30T12:35:29.472615",
          "status": "completed"
        },
        "tags": [],
        "colab": {
          "base_uri": "https://localhost:8080/"
        }
      },
      "outputs": [
        {
          "output_type": "execute_result",
          "data": {
            "text/plain": [
              "62"
            ]
          },
          "metadata": {},
          "execution_count": 179
        }
      ],
      "source": [
        "cleaned_data.duplicated().sum()"
      ]
    },
    {
      "cell_type": "markdown",
      "id": "91d5690a",
      "metadata": {
        "id": "91d5690a",
        "papermill": {
          "duration": 0.034089,
          "end_time": "2022-08-30T12:35:29.596955",
          "exception": false,
          "start_time": "2022-08-30T12:35:29.562866",
          "status": "completed"
        },
        "tags": []
      },
      "source": [
        "Note that: duplicated value was found when we remove diacritics and non arabic words and punctuations and this because some rows in the dataset only contains stopwords or it contains one or two words and other reasons so, we have to remove the duplicated values again"
      ]
    },
    {
      "cell_type": "code",
      "execution_count": null,
      "id": "2112cc00",
      "metadata": {
        "execution": {
          "iopub.execute_input": "2022-08-30T12:35:29.667276Z",
          "iopub.status.busy": "2022-08-30T12:35:29.666830Z",
          "iopub.status.idle": "2022-08-30T12:35:29.676628Z",
          "shell.execute_reply": "2022-08-30T12:35:29.675668Z"
        },
        "id": "2112cc00",
        "papermill": {
          "duration": 0.047736,
          "end_time": "2022-08-30T12:35:29.678927",
          "exception": false,
          "start_time": "2022-08-30T12:35:29.631191",
          "status": "completed"
        },
        "tags": []
      },
      "outputs": [],
      "source": [
        "index = cleaned_data[cleaned_data['text'].duplicated() == True].index\n",
        "cleaned_data.drop(index, axis = 0, inplace = True)\n",
        "\n",
        "#resetting the index of the data\n",
        "cleaned_data.reset_index(drop=True, inplace = True)"
      ]
    },
    {
      "cell_type": "code",
      "execution_count": null,
      "id": "6b3c1459",
      "metadata": {
        "execution": {
          "iopub.execute_input": "2022-08-30T12:35:29.751005Z",
          "iopub.status.busy": "2022-08-30T12:35:29.749770Z",
          "iopub.status.idle": "2022-08-30T12:35:29.761995Z",
          "shell.execute_reply": "2022-08-30T12:35:29.760778Z"
        },
        "id": "6b3c1459",
        "outputId": "555ea457-48c7-47ed-efed-3972330bdbe1",
        "papermill": {
          "duration": 0.050469,
          "end_time": "2022-08-30T12:35:29.764399",
          "exception": false,
          "start_time": "2022-08-30T12:35:29.713930",
          "status": "completed"
        },
        "tags": [],
        "colab": {
          "base_uri": "https://localhost:8080/"
        }
      },
      "outputs": [
        {
          "output_type": "execute_result",
          "data": {
            "text/plain": [
              "0"
            ]
          },
          "metadata": {},
          "execution_count": 181
        }
      ],
      "source": [
        "cleaned_data.duplicated().sum()"
      ]
    },
    {
      "cell_type": "code",
      "execution_count": null,
      "id": "41235170",
      "metadata": {
        "execution": {
          "iopub.execute_input": "2022-08-30T12:35:29.836247Z",
          "iopub.status.busy": "2022-08-30T12:35:29.835471Z",
          "iopub.status.idle": "2022-08-30T12:35:29.848255Z",
          "shell.execute_reply": "2022-08-30T12:35:29.847387Z"
        },
        "papermill": {
          "duration": 0.051041,
          "end_time": "2022-08-30T12:35:29.850418",
          "exception": false,
          "start_time": "2022-08-30T12:35:29.799377",
          "status": "completed"
        },
        "tags": [],
        "id": "41235170",
        "outputId": "3def9a6c-af24-4001-d407-6ac84a79d5a6",
        "colab": {
          "base_uri": "https://localhost:8080/",
          "height": 423
        }
      },
      "outputs": [
        {
          "output_type": "execute_result",
          "data": {
            "text/plain": [
              "                                                  text  label\n",
              "0                                                           0\n",
              "1    بحث هيءه فدراليه المانيه حما بيان مكان حظر روب...      0\n",
              "2                   شا جي حب تفلسف دكتور عادل شخبار ضح      0\n",
              "3    خلال لام د خالد غنيم بدو «ش جي تي» ذكاء اصطناع...      0\n",
              "4    نت متعرفش تستخدم شا جي يه ظبط فا نا جا قول على...      0\n",
              "..                                                 ...    ...\n",
              "927   دعم رنامج شا جي لغه عربيه برز قدر اجابه امل اسفل      1\n",
              "928      لد عجم طلق قن ذكاء اصطناع «ش جي تي» قنو رقميه      1\n",
              "929  ذن شمهندس نا حالي ورس بايث حل اختبار جزء اختبا...      1\n",
              "930      شغل شا جي مس قي غن حيا حس كتير نا حسي عل تغير      1\n",
              "931  نزيل شا جي سخ جديد طور نزيل شا جي تطور ذكاء اص...      1\n",
              "\n",
              "[932 rows x 2 columns]"
            ],
            "text/html": [
              "\n",
              "  <div id=\"df-48ecc752-6c2b-424c-911a-dd601fa09c8f\">\n",
              "    <div class=\"colab-df-container\">\n",
              "      <div>\n",
              "<style scoped>\n",
              "    .dataframe tbody tr th:only-of-type {\n",
              "        vertical-align: middle;\n",
              "    }\n",
              "\n",
              "    .dataframe tbody tr th {\n",
              "        vertical-align: top;\n",
              "    }\n",
              "\n",
              "    .dataframe thead th {\n",
              "        text-align: right;\n",
              "    }\n",
              "</style>\n",
              "<table border=\"1\" class=\"dataframe\">\n",
              "  <thead>\n",
              "    <tr style=\"text-align: right;\">\n",
              "      <th></th>\n",
              "      <th>text</th>\n",
              "      <th>label</th>\n",
              "    </tr>\n",
              "  </thead>\n",
              "  <tbody>\n",
              "    <tr>\n",
              "      <th>0</th>\n",
              "      <td></td>\n",
              "      <td>0</td>\n",
              "    </tr>\n",
              "    <tr>\n",
              "      <th>1</th>\n",
              "      <td>بحث هيءه فدراليه المانيه حما بيان مكان حظر روب...</td>\n",
              "      <td>0</td>\n",
              "    </tr>\n",
              "    <tr>\n",
              "      <th>2</th>\n",
              "      <td>شا جي حب تفلسف دكتور عادل شخبار ضح</td>\n",
              "      <td>0</td>\n",
              "    </tr>\n",
              "    <tr>\n",
              "      <th>3</th>\n",
              "      <td>خلال لام د خالد غنيم بدو «ش جي تي» ذكاء اصطناع...</td>\n",
              "      <td>0</td>\n",
              "    </tr>\n",
              "    <tr>\n",
              "      <th>4</th>\n",
              "      <td>نت متعرفش تستخدم شا جي يه ظبط فا نا جا قول على...</td>\n",
              "      <td>0</td>\n",
              "    </tr>\n",
              "    <tr>\n",
              "      <th>...</th>\n",
              "      <td>...</td>\n",
              "      <td>...</td>\n",
              "    </tr>\n",
              "    <tr>\n",
              "      <th>927</th>\n",
              "      <td>دعم رنامج شا جي لغه عربيه برز قدر اجابه امل اسفل</td>\n",
              "      <td>1</td>\n",
              "    </tr>\n",
              "    <tr>\n",
              "      <th>928</th>\n",
              "      <td>لد عجم طلق قن ذكاء اصطناع «ش جي تي» قنو رقميه</td>\n",
              "      <td>1</td>\n",
              "    </tr>\n",
              "    <tr>\n",
              "      <th>929</th>\n",
              "      <td>ذن شمهندس نا حالي ورس بايث حل اختبار جزء اختبا...</td>\n",
              "      <td>1</td>\n",
              "    </tr>\n",
              "    <tr>\n",
              "      <th>930</th>\n",
              "      <td>شغل شا جي مس قي غن حيا حس كتير نا حسي عل تغير</td>\n",
              "      <td>1</td>\n",
              "    </tr>\n",
              "    <tr>\n",
              "      <th>931</th>\n",
              "      <td>نزيل شا جي سخ جديد طور نزيل شا جي تطور ذكاء اص...</td>\n",
              "      <td>1</td>\n",
              "    </tr>\n",
              "  </tbody>\n",
              "</table>\n",
              "<p>932 rows × 2 columns</p>\n",
              "</div>\n",
              "      <button class=\"colab-df-convert\" onclick=\"convertToInteractive('df-48ecc752-6c2b-424c-911a-dd601fa09c8f')\"\n",
              "              title=\"Convert this dataframe to an interactive table.\"\n",
              "              style=\"display:none;\">\n",
              "        \n",
              "  <svg xmlns=\"http://www.w3.org/2000/svg\" height=\"24px\"viewBox=\"0 0 24 24\"\n",
              "       width=\"24px\">\n",
              "    <path d=\"M0 0h24v24H0V0z\" fill=\"none\"/>\n",
              "    <path d=\"M18.56 5.44l.94 2.06.94-2.06 2.06-.94-2.06-.94-.94-2.06-.94 2.06-2.06.94zm-11 1L8.5 8.5l.94-2.06 2.06-.94-2.06-.94L8.5 2.5l-.94 2.06-2.06.94zm10 10l.94 2.06.94-2.06 2.06-.94-2.06-.94-.94-2.06-.94 2.06-2.06.94z\"/><path d=\"M17.41 7.96l-1.37-1.37c-.4-.4-.92-.59-1.43-.59-.52 0-1.04.2-1.43.59L10.3 9.45l-7.72 7.72c-.78.78-.78 2.05 0 2.83L4 21.41c.39.39.9.59 1.41.59.51 0 1.02-.2 1.41-.59l7.78-7.78 2.81-2.81c.8-.78.8-2.07 0-2.86zM5.41 20L4 18.59l7.72-7.72 1.47 1.35L5.41 20z\"/>\n",
              "  </svg>\n",
              "      </button>\n",
              "      \n",
              "  <style>\n",
              "    .colab-df-container {\n",
              "      display:flex;\n",
              "      flex-wrap:wrap;\n",
              "      gap: 12px;\n",
              "    }\n",
              "\n",
              "    .colab-df-convert {\n",
              "      background-color: #E8F0FE;\n",
              "      border: none;\n",
              "      border-radius: 50%;\n",
              "      cursor: pointer;\n",
              "      display: none;\n",
              "      fill: #1967D2;\n",
              "      height: 32px;\n",
              "      padding: 0 0 0 0;\n",
              "      width: 32px;\n",
              "    }\n",
              "\n",
              "    .colab-df-convert:hover {\n",
              "      background-color: #E2EBFA;\n",
              "      box-shadow: 0px 1px 2px rgba(60, 64, 67, 0.3), 0px 1px 3px 1px rgba(60, 64, 67, 0.15);\n",
              "      fill: #174EA6;\n",
              "    }\n",
              "\n",
              "    [theme=dark] .colab-df-convert {\n",
              "      background-color: #3B4455;\n",
              "      fill: #D2E3FC;\n",
              "    }\n",
              "\n",
              "    [theme=dark] .colab-df-convert:hover {\n",
              "      background-color: #434B5C;\n",
              "      box-shadow: 0px 1px 3px 1px rgba(0, 0, 0, 0.15);\n",
              "      filter: drop-shadow(0px 1px 2px rgba(0, 0, 0, 0.3));\n",
              "      fill: #FFFFFF;\n",
              "    }\n",
              "  </style>\n",
              "\n",
              "      <script>\n",
              "        const buttonEl =\n",
              "          document.querySelector('#df-48ecc752-6c2b-424c-911a-dd601fa09c8f button.colab-df-convert');\n",
              "        buttonEl.style.display =\n",
              "          google.colab.kernel.accessAllowed ? 'block' : 'none';\n",
              "\n",
              "        async function convertToInteractive(key) {\n",
              "          const element = document.querySelector('#df-48ecc752-6c2b-424c-911a-dd601fa09c8f');\n",
              "          const dataTable =\n",
              "            await google.colab.kernel.invokeFunction('convertToInteractive',\n",
              "                                                     [key], {});\n",
              "          if (!dataTable) return;\n",
              "\n",
              "          const docLinkHtml = 'Like what you see? Visit the ' +\n",
              "            '<a target=\"_blank\" href=https://colab.research.google.com/notebooks/data_table.ipynb>data table notebook</a>'\n",
              "            + ' to learn more about interactive tables.';\n",
              "          element.innerHTML = '';\n",
              "          dataTable['output_type'] = 'display_data';\n",
              "          await google.colab.output.renderOutput(dataTable, element);\n",
              "          const docLink = document.createElement('div');\n",
              "          docLink.innerHTML = docLinkHtml;\n",
              "          element.appendChild(docLink);\n",
              "        }\n",
              "      </script>\n",
              "    </div>\n",
              "  </div>\n",
              "  "
            ]
          },
          "metadata": {},
          "execution_count": 182
        }
      ],
      "source": [
        "cleaned_data"
      ]
    },
    {
      "cell_type": "markdown",
      "id": "52f16609",
      "metadata": {
        "id": "52f16609",
        "papermill": {
          "duration": 0.034042,
          "end_time": "2022-08-30T12:35:29.919053",
          "exception": false,
          "start_time": "2022-08-30T12:35:29.885011",
          "status": "completed"
        },
        "tags": []
      },
      "source": [
        "After removing the duplicated values we will remove every row which contains only one or two words berfore preprocessing"
      ]
    },
    {
      "cell_type": "code",
      "execution_count": null,
      "id": "8e4c7799",
      "metadata": {
        "execution": {
          "iopub.execute_input": "2022-08-30T12:35:29.989609Z",
          "iopub.status.busy": "2022-08-30T12:35:29.989215Z",
          "iopub.status.idle": "2022-08-30T12:35:30.061227Z",
          "shell.execute_reply": "2022-08-30T12:35:30.059958Z"
        },
        "id": "8e4c7799",
        "papermill": {
          "duration": 0.110984,
          "end_time": "2022-08-30T12:35:30.064163",
          "exception": false,
          "start_time": "2022-08-30T12:35:29.953179",
          "status": "completed"
        },
        "tags": []
      },
      "outputs": [],
      "source": [
        "#this function will convert the text which contains one or two words into null value\n",
        "remove_small_sentences(cleaned_data)"
      ]
    },
    {
      "cell_type": "code",
      "execution_count": null,
      "id": "2134380b",
      "metadata": {
        "execution": {
          "iopub.execute_input": "2022-08-30T12:35:30.136441Z",
          "iopub.status.busy": "2022-08-30T12:35:30.135559Z",
          "iopub.status.idle": "2022-08-30T12:35:30.146292Z",
          "shell.execute_reply": "2022-08-30T12:35:30.145017Z"
        },
        "id": "2134380b",
        "outputId": "0177c2dd-627d-40cc-975e-681ece75819b",
        "papermill": {
          "duration": 0.049285,
          "end_time": "2022-08-30T12:35:30.148647",
          "exception": false,
          "start_time": "2022-08-30T12:35:30.099362",
          "status": "completed"
        },
        "tags": [],
        "colab": {
          "base_uri": "https://localhost:8080/"
        }
      },
      "outputs": [
        {
          "output_type": "execute_result",
          "data": {
            "text/plain": [
              "text     3\n",
              "label    0\n",
              "dtype: int64"
            ]
          },
          "metadata": {},
          "execution_count": 184
        }
      ],
      "source": [
        "cleaned_data.isnull().sum()"
      ]
    },
    {
      "cell_type": "code",
      "execution_count": null,
      "id": "b3667909",
      "metadata": {
        "execution": {
          "iopub.execute_input": "2022-08-30T12:35:30.220298Z",
          "iopub.status.busy": "2022-08-30T12:35:30.219845Z",
          "iopub.status.idle": "2022-08-30T12:35:30.229277Z",
          "shell.execute_reply": "2022-08-30T12:35:30.228190Z"
        },
        "id": "b3667909",
        "papermill": {
          "duration": 0.048119,
          "end_time": "2022-08-30T12:35:30.231610",
          "exception": false,
          "start_time": "2022-08-30T12:35:30.183491",
          "status": "completed"
        },
        "tags": []
      },
      "outputs": [],
      "source": [
        "cleaned_data.dropna(inplace = True)"
      ]
    },
    {
      "cell_type": "markdown",
      "id": "89854285",
      "metadata": {
        "id": "89854285",
        "papermill": {
          "duration": 0.034478,
          "end_time": "2022-08-30T12:35:30.300846",
          "exception": false,
          "start_time": "2022-08-30T12:35:30.266368",
          "status": "completed"
        },
        "tags": []
      },
      "source": [
        "## Modeling"
      ]
    },
    {
      "cell_type": "code",
      "execution_count": null,
      "id": "f1e349b9",
      "metadata": {
        "execution": {
          "iopub.execute_input": "2022-08-30T12:35:30.372719Z",
          "iopub.status.busy": "2022-08-30T12:35:30.372313Z",
          "iopub.status.idle": "2022-08-30T12:35:30.376827Z",
          "shell.execute_reply": "2022-08-30T12:35:30.375980Z"
        },
        "id": "f1e349b9",
        "papermill": {
          "duration": 0.043306,
          "end_time": "2022-08-30T12:35:30.379066",
          "exception": false,
          "start_time": "2022-08-30T12:35:30.335760",
          "status": "completed"
        },
        "tags": []
      },
      "outputs": [],
      "source": [
        "X = cleaned_data.text.values\n",
        "y = cleaned_data.label.values"
      ]
    },
    {
      "cell_type": "code",
      "execution_count": null,
      "id": "87d023af",
      "metadata": {
        "execution": {
          "iopub.execute_input": "2022-08-30T12:35:30.451082Z",
          "iopub.status.busy": "2022-08-30T12:35:30.450435Z",
          "iopub.status.idle": "2022-08-30T12:35:30.456491Z",
          "shell.execute_reply": "2022-08-30T12:35:30.454686Z"
        },
        "id": "87d023af",
        "outputId": "f644118a-59a5-469a-86d7-99db687d13c8",
        "papermill": {
          "duration": 0.04483,
          "end_time": "2022-08-30T12:35:30.459069",
          "exception": false,
          "start_time": "2022-08-30T12:35:30.414239",
          "status": "completed"
        },
        "tags": [],
        "colab": {
          "base_uri": "https://localhost:8080/"
        }
      },
      "outputs": [
        {
          "output_type": "stream",
          "name": "stdout",
          "text": [
            "['بحث هيءه فدراليه المانيه حما بيان مكان حظر روبو دردشه شا جي تي سبب مخاوف تعلق امن بيان خط مماثل اقدم يطالي يام'\n",
            " 'شا جي حب تفلسف دكتور عادل شخبار ضح'\n",
            " 'خلال لام د خالد غنيم بدو «ش جي تي» ذكاء اصطناع ستعي في ياته ظاهر مصاحب لغويه معروفه متخصص عربيه دارس لغو قضاي لسان حديثه'\n",
            " 'نت متعرفش تستخدم شا جي يه ظبط فا نا جا قول على شو حاج قدر تستخدم شا جي في نجز شغل سرع'\n",
            " 'تابع علم ري شا جي بي تي عرب ضعيف جد عتمد بد ان يالف جوب عجيب غريب مضحك ارسل سابق ما انجليز فـ صحيح صحيح احسن ركز']\n"
          ]
        }
      ],
      "source": [
        "print(X[:5])"
      ]
    },
    {
      "cell_type": "code",
      "execution_count": null,
      "id": "8bbd20da",
      "metadata": {
        "execution": {
          "iopub.execute_input": "2022-08-30T12:35:30.531259Z",
          "iopub.status.busy": "2022-08-30T12:35:30.530839Z",
          "iopub.status.idle": "2022-08-30T12:35:30.536116Z",
          "shell.execute_reply": "2022-08-30T12:35:30.535216Z"
        },
        "id": "8bbd20da",
        "outputId": "f49152a1-bbba-47fc-eb85-a326237e4a11",
        "papermill": {
          "duration": 0.043652,
          "end_time": "2022-08-30T12:35:30.538449",
          "exception": false,
          "start_time": "2022-08-30T12:35:30.494797",
          "status": "completed"
        },
        "tags": [],
        "colab": {
          "base_uri": "https://localhost:8080/"
        }
      },
      "outputs": [
        {
          "output_type": "stream",
          "name": "stdout",
          "text": [
            "[0 0 0 0 0]\n"
          ]
        }
      ],
      "source": [
        "print(y[:5])"
      ]
    },
    {
      "cell_type": "markdown",
      "id": "22209493",
      "metadata": {
        "id": "22209493",
        "papermill": {
          "duration": 0.034436,
          "end_time": "2022-08-30T12:35:30.607221",
          "exception": false,
          "start_time": "2022-08-30T12:35:30.572785",
          "status": "completed"
        },
        "tags": []
      },
      "source": [
        "**Creating a pipline using tf-idf for words embedding and different models.**"
      ]
    },
    {
      "cell_type": "code",
      "execution_count": null,
      "id": "445de98d",
      "metadata": {
        "execution": {
          "iopub.execute_input": "2022-08-30T12:35:30.679373Z",
          "iopub.status.busy": "2022-08-30T12:35:30.678906Z",
          "iopub.status.idle": "2022-08-30T12:35:30.685020Z",
          "shell.execute_reply": "2022-08-30T12:35:30.683869Z"
        },
        "id": "445de98d",
        "papermill": {
          "duration": 0.044946,
          "end_time": "2022-08-30T12:35:30.687312",
          "exception": false,
          "start_time": "2022-08-30T12:35:30.642366",
          "status": "completed"
        },
        "tags": []
      },
      "outputs": [],
      "source": [
        "def train_model(model, data, targets):\n",
        "    text_clf = Pipeline([('vect',TfidfVectorizer()),\n",
        "                         ('clf', model)])\n",
        "    text_clf.fit(data, targets)\n",
        "    return text_clf"
      ]
    },
    {
      "cell_type": "code",
      "execution_count": null,
      "id": "95b51410",
      "metadata": {
        "execution": {
          "iopub.execute_input": "2022-08-30T12:35:30.758598Z",
          "iopub.status.busy": "2022-08-30T12:35:30.757760Z",
          "iopub.status.idle": "2022-08-30T12:35:30.764328Z",
          "shell.execute_reply": "2022-08-30T12:35:30.762767Z"
        },
        "id": "95b51410",
        "papermill": {
          "duration": 0.044951,
          "end_time": "2022-08-30T12:35:30.766754",
          "exception": false,
          "start_time": "2022-08-30T12:35:30.721803",
          "status": "completed"
        },
        "tags": []
      },
      "outputs": [],
      "source": [
        "def get_F1(trained_model,X,y):\n",
        "    predicted=trained_model.predict(X)\n",
        "    f1=f1_score(y,predicted, average=None)\n",
        "    return f1"
      ]
    },
    {
      "cell_type": "markdown",
      "id": "3ac653d6",
      "metadata": {
        "id": "3ac653d6",
        "papermill": {
          "duration": 0.035061,
          "end_time": "2022-08-30T12:35:30.836536",
          "exception": false,
          "start_time": "2022-08-30T12:35:30.801475",
          "status": "completed"
        },
        "tags": []
      },
      "source": [
        "**Splitting the dataset into the Training set and Test set**"
      ]
    },
    {
      "cell_type": "code",
      "execution_count": null,
      "id": "6b82e557",
      "metadata": {
        "execution": {
          "iopub.execute_input": "2022-08-30T12:35:30.908557Z",
          "iopub.status.busy": "2022-08-30T12:35:30.908099Z",
          "iopub.status.idle": "2022-08-30T12:35:30.915423Z",
          "shell.execute_reply": "2022-08-30T12:35:30.914516Z"
        },
        "id": "6b82e557",
        "papermill": {
          "duration": 0.046317,
          "end_time": "2022-08-30T12:35:30.918037",
          "exception": false,
          "start_time": "2022-08-30T12:35:30.871720",
          "status": "completed"
        },
        "tags": []
      },
      "outputs": [],
      "source": [
        "X_train, X_test, y_train, y_test = train_test_split(X,y, test_size=0.1,shuffle=True, random_state=42)"
      ]
    },
    {
      "cell_type": "markdown",
      "id": "e5b39d7a",
      "metadata": {
        "id": "e5b39d7a",
        "papermill": {
          "duration": 0.036131,
          "end_time": "2022-08-30T12:35:30.990297",
          "exception": false,
          "start_time": "2022-08-30T12:35:30.954166",
          "status": "completed"
        },
        "tags": []
      },
      "source": [
        "### Logistic Regression"
      ]
    },
    {
      "cell_type": "markdown",
      "id": "78bff3d9",
      "metadata": {
        "id": "78bff3d9",
        "papermill": {
          "duration": 0.034393,
          "end_time": "2022-08-30T12:35:31.059603",
          "exception": false,
          "start_time": "2022-08-30T12:35:31.025210",
          "status": "completed"
        },
        "tags": []
      },
      "source": [
        "**Training the Logistic Regression model on the Training set**"
      ]
    },
    {
      "cell_type": "code",
      "execution_count": null,
      "id": "6db41f71",
      "metadata": {
        "execution": {
          "iopub.execute_input": "2022-08-30T12:35:31.130717Z",
          "iopub.status.busy": "2022-08-30T12:35:31.130317Z",
          "iopub.status.idle": "2022-08-30T12:35:31.307427Z",
          "shell.execute_reply": "2022-08-30T12:35:31.306248Z"
        },
        "id": "6db41f71",
        "papermill": {
          "duration": 0.216112,
          "end_time": "2022-08-30T12:35:31.310240",
          "exception": false,
          "start_time": "2022-08-30T12:35:31.094128",
          "status": "completed"
        },
        "scrolled": true,
        "tags": []
      },
      "outputs": [],
      "source": [
        "log_reg = train_model(LogisticRegression(random_state = 0), X_train, y_train)"
      ]
    },
    {
      "cell_type": "markdown",
      "id": "ba2eb855",
      "metadata": {
        "id": "ba2eb855",
        "papermill": {
          "duration": 0.034208,
          "end_time": "2022-08-30T12:35:31.378816",
          "exception": false,
          "start_time": "2022-08-30T12:35:31.344608",
          "status": "completed"
        },
        "tags": []
      },
      "source": [
        "**Predicting new data**"
      ]
    },
    {
      "cell_type": "markdown",
      "id": "ea263af5",
      "metadata": {
        "id": "ea263af5",
        "papermill": {
          "duration": 0.034101,
          "end_time": "2022-08-30T12:35:31.447176",
          "exception": false,
          "start_time": "2022-08-30T12:35:31.413075",
          "status": "completed"
        },
        "tags": []
      },
      "source": [
        "**Predicting the Test set results**"
      ]
    },
    {
      "cell_type": "code",
      "execution_count": null,
      "id": "f98f9223",
      "metadata": {
        "execution": {
          "iopub.execute_input": "2022-08-30T12:35:31.519177Z",
          "iopub.status.busy": "2022-08-30T12:35:31.518746Z",
          "iopub.status.idle": "2022-08-30T12:35:31.534688Z",
          "shell.execute_reply": "2022-08-30T12:35:31.533285Z"
        },
        "id": "f98f9223",
        "papermill": {
          "duration": 0.055948,
          "end_time": "2022-08-30T12:35:31.537478",
          "exception": false,
          "start_time": "2022-08-30T12:35:31.481530",
          "status": "completed"
        },
        "tags": []
      },
      "outputs": [],
      "source": [
        "y_pred=log_reg.predict(X_test)"
      ]
    },
    {
      "cell_type": "markdown",
      "id": "f0131ba1",
      "metadata": {
        "id": "f0131ba1",
        "papermill": {
          "duration": 0.034156,
          "end_time": "2022-08-30T12:35:31.606775",
          "exception": false,
          "start_time": "2022-08-30T12:35:31.572619",
          "status": "completed"
        },
        "tags": []
      },
      "source": [
        "**Measuring the performance**"
      ]
    },
    {
      "cell_type": "code",
      "execution_count": null,
      "id": "63af108b",
      "metadata": {
        "execution": {
          "iopub.execute_input": "2022-08-30T12:35:31.677468Z",
          "iopub.status.busy": "2022-08-30T12:35:31.677052Z",
          "iopub.status.idle": "2022-08-30T12:35:31.683878Z",
          "shell.execute_reply": "2022-08-30T12:35:31.682280Z"
        },
        "id": "63af108b",
        "outputId": "e7b42b25-b7da-4bbf-d42a-60f131dd0fd5",
        "papermill": {
          "duration": 0.045266,
          "end_time": "2022-08-30T12:35:31.686364",
          "exception": false,
          "start_time": "2022-08-30T12:35:31.641098",
          "status": "completed"
        },
        "tags": [],
        "colab": {
          "base_uri": "https://localhost:8080/"
        }
      },
      "outputs": [
        {
          "output_type": "stream",
          "name": "stdout",
          "text": [
            "Accuracy:  0.6344086021505376 \n",
            "\n"
          ]
        }
      ],
      "source": [
        "log_reg_accuracy = accuracy_score(y_test, y_pred)\n",
        "print('Accuracy: ', log_reg_accuracy,'\\n')"
      ]
    },
    {
      "cell_type": "code",
      "execution_count": null,
      "id": "ea8633c3",
      "metadata": {
        "execution": {
          "iopub.execute_input": "2022-08-30T12:35:31.758461Z",
          "iopub.status.busy": "2022-08-30T12:35:31.757347Z",
          "iopub.status.idle": "2022-08-30T12:35:31.781669Z",
          "shell.execute_reply": "2022-08-30T12:35:31.780462Z"
        },
        "id": "ea8633c3",
        "outputId": "68899073-bf63-42ed-fab3-0eb7c26b46b8",
        "papermill": {
          "duration": 0.062852,
          "end_time": "2022-08-30T12:35:31.784032",
          "exception": false,
          "start_time": "2022-08-30T12:35:31.721180",
          "status": "completed"
        },
        "tags": [],
        "colab": {
          "base_uri": "https://localhost:8080/",
          "height": 112
        }
      },
      "outputs": [
        {
          "output_type": "execute_result",
          "data": {
            "text/plain": [
              "   F1 score\n",
              "0  0.575000\n",
              "1  0.679245"
            ],
            "text/html": [
              "\n",
              "  <div id=\"df-9b0b4d39-9dbb-44c1-9dee-f436e7a012c8\">\n",
              "    <div class=\"colab-df-container\">\n",
              "      <div>\n",
              "<style scoped>\n",
              "    .dataframe tbody tr th:only-of-type {\n",
              "        vertical-align: middle;\n",
              "    }\n",
              "\n",
              "    .dataframe tbody tr th {\n",
              "        vertical-align: top;\n",
              "    }\n",
              "\n",
              "    .dataframe thead th {\n",
              "        text-align: right;\n",
              "    }\n",
              "</style>\n",
              "<table border=\"1\" class=\"dataframe\">\n",
              "  <thead>\n",
              "    <tr style=\"text-align: right;\">\n",
              "      <th></th>\n",
              "      <th>F1 score</th>\n",
              "    </tr>\n",
              "  </thead>\n",
              "  <tbody>\n",
              "    <tr>\n",
              "      <th>0</th>\n",
              "      <td>0.575000</td>\n",
              "    </tr>\n",
              "    <tr>\n",
              "      <th>1</th>\n",
              "      <td>0.679245</td>\n",
              "    </tr>\n",
              "  </tbody>\n",
              "</table>\n",
              "</div>\n",
              "      <button class=\"colab-df-convert\" onclick=\"convertToInteractive('df-9b0b4d39-9dbb-44c1-9dee-f436e7a012c8')\"\n",
              "              title=\"Convert this dataframe to an interactive table.\"\n",
              "              style=\"display:none;\">\n",
              "        \n",
              "  <svg xmlns=\"http://www.w3.org/2000/svg\" height=\"24px\"viewBox=\"0 0 24 24\"\n",
              "       width=\"24px\">\n",
              "    <path d=\"M0 0h24v24H0V0z\" fill=\"none\"/>\n",
              "    <path d=\"M18.56 5.44l.94 2.06.94-2.06 2.06-.94-2.06-.94-.94-2.06-.94 2.06-2.06.94zm-11 1L8.5 8.5l.94-2.06 2.06-.94-2.06-.94L8.5 2.5l-.94 2.06-2.06.94zm10 10l.94 2.06.94-2.06 2.06-.94-2.06-.94-.94-2.06-.94 2.06-2.06.94z\"/><path d=\"M17.41 7.96l-1.37-1.37c-.4-.4-.92-.59-1.43-.59-.52 0-1.04.2-1.43.59L10.3 9.45l-7.72 7.72c-.78.78-.78 2.05 0 2.83L4 21.41c.39.39.9.59 1.41.59.51 0 1.02-.2 1.41-.59l7.78-7.78 2.81-2.81c.8-.78.8-2.07 0-2.86zM5.41 20L4 18.59l7.72-7.72 1.47 1.35L5.41 20z\"/>\n",
              "  </svg>\n",
              "      </button>\n",
              "      \n",
              "  <style>\n",
              "    .colab-df-container {\n",
              "      display:flex;\n",
              "      flex-wrap:wrap;\n",
              "      gap: 12px;\n",
              "    }\n",
              "\n",
              "    .colab-df-convert {\n",
              "      background-color: #E8F0FE;\n",
              "      border: none;\n",
              "      border-radius: 50%;\n",
              "      cursor: pointer;\n",
              "      display: none;\n",
              "      fill: #1967D2;\n",
              "      height: 32px;\n",
              "      padding: 0 0 0 0;\n",
              "      width: 32px;\n",
              "    }\n",
              "\n",
              "    .colab-df-convert:hover {\n",
              "      background-color: #E2EBFA;\n",
              "      box-shadow: 0px 1px 2px rgba(60, 64, 67, 0.3), 0px 1px 3px 1px rgba(60, 64, 67, 0.15);\n",
              "      fill: #174EA6;\n",
              "    }\n",
              "\n",
              "    [theme=dark] .colab-df-convert {\n",
              "      background-color: #3B4455;\n",
              "      fill: #D2E3FC;\n",
              "    }\n",
              "\n",
              "    [theme=dark] .colab-df-convert:hover {\n",
              "      background-color: #434B5C;\n",
              "      box-shadow: 0px 1px 3px 1px rgba(0, 0, 0, 0.15);\n",
              "      filter: drop-shadow(0px 1px 2px rgba(0, 0, 0, 0.3));\n",
              "      fill: #FFFFFF;\n",
              "    }\n",
              "  </style>\n",
              "\n",
              "      <script>\n",
              "        const buttonEl =\n",
              "          document.querySelector('#df-9b0b4d39-9dbb-44c1-9dee-f436e7a012c8 button.colab-df-convert');\n",
              "        buttonEl.style.display =\n",
              "          google.colab.kernel.accessAllowed ? 'block' : 'none';\n",
              "\n",
              "        async function convertToInteractive(key) {\n",
              "          const element = document.querySelector('#df-9b0b4d39-9dbb-44c1-9dee-f436e7a012c8');\n",
              "          const dataTable =\n",
              "            await google.colab.kernel.invokeFunction('convertToInteractive',\n",
              "                                                     [key], {});\n",
              "          if (!dataTable) return;\n",
              "\n",
              "          const docLinkHtml = 'Like what you see? Visit the ' +\n",
              "            '<a target=\"_blank\" href=https://colab.research.google.com/notebooks/data_table.ipynb>data table notebook</a>'\n",
              "            + ' to learn more about interactive tables.';\n",
              "          element.innerHTML = '';\n",
              "          dataTable['output_type'] = 'display_data';\n",
              "          await google.colab.output.renderOutput(dataTable, element);\n",
              "          const docLink = document.createElement('div');\n",
              "          docLink.innerHTML = docLinkHtml;\n",
              "          element.appendChild(docLink);\n",
              "        }\n",
              "      </script>\n",
              "    </div>\n",
              "  </div>\n",
              "  "
            ]
          },
          "metadata": {},
          "execution_count": 239
        }
      ],
      "source": [
        "f1_Score = get_F1(log_reg,X_test,y_test)\n",
        "pd.DataFrame(f1_Score, index=df.label.unique(), columns=['F1 score'])"
      ]
    },
    {
      "cell_type": "code",
      "execution_count": null,
      "id": "3682c178",
      "metadata": {
        "execution": {
          "iopub.execute_input": "2022-08-30T12:35:31.855995Z",
          "iopub.status.busy": "2022-08-30T12:35:31.855260Z",
          "iopub.status.idle": "2022-08-30T12:35:31.865885Z",
          "shell.execute_reply": "2022-08-30T12:35:31.864386Z"
        },
        "id": "3682c178",
        "outputId": "5130ae3b-4874-4612-b668-446a0bdab9b4",
        "papermill": {
          "duration": 0.049538,
          "end_time": "2022-08-30T12:35:31.868331",
          "exception": false,
          "start_time": "2022-08-30T12:35:31.818793",
          "status": "completed"
        },
        "tags": [],
        "colab": {
          "base_uri": "https://localhost:8080/"
        }
      },
      "outputs": [
        {
          "output_type": "stream",
          "name": "stdout",
          "text": [
            "              precision    recall  f1-score   support\n",
            "\n",
            "           0       0.64      0.52      0.57        44\n",
            "           1       0.63      0.73      0.68        49\n",
            "\n",
            "    accuracy                           0.63        93\n",
            "   macro avg       0.64      0.63      0.63        93\n",
            "weighted avg       0.64      0.63      0.63        93\n",
            "\n"
          ]
        }
      ],
      "source": [
        "##Classification Report\n",
        "print(classification_report(y_test, y_pred))"
      ]
    },
    {
      "cell_type": "markdown",
      "id": "afe29b74",
      "metadata": {
        "id": "afe29b74",
        "papermill": {
          "duration": 0.034259,
          "end_time": "2022-08-30T12:35:31.937351",
          "exception": false,
          "start_time": "2022-08-30T12:35:31.903092",
          "status": "completed"
        },
        "tags": []
      },
      "source": [
        "### Decision Tree"
      ]
    },
    {
      "cell_type": "markdown",
      "id": "150616ce",
      "metadata": {
        "id": "150616ce",
        "papermill": {
          "duration": 0.034583,
          "end_time": "2022-08-30T12:35:32.006593",
          "exception": false,
          "start_time": "2022-08-30T12:35:31.972010",
          "status": "completed"
        },
        "tags": []
      },
      "source": [
        "**Training the Decision Tree model on the Training set**"
      ]
    },
    {
      "cell_type": "code",
      "execution_count": null,
      "id": "353e941b",
      "metadata": {
        "execution": {
          "iopub.execute_input": "2022-08-30T12:35:32.078156Z",
          "iopub.status.busy": "2022-08-30T12:35:32.077367Z",
          "iopub.status.idle": "2022-08-30T12:35:32.523128Z",
          "shell.execute_reply": "2022-08-30T12:35:32.522210Z"
        },
        "id": "353e941b",
        "papermill": {
          "duration": 0.484299,
          "end_time": "2022-08-30T12:35:32.525711",
          "exception": false,
          "start_time": "2022-08-30T12:35:32.041412",
          "status": "completed"
        },
        "tags": []
      },
      "outputs": [],
      "source": [
        "DT = train_model(DecisionTreeClassifier(random_state = 0), X_train, y_train)"
      ]
    },
    {
      "cell_type": "markdown",
      "id": "5366c789",
      "metadata": {
        "id": "5366c789",
        "papermill": {
          "duration": 0.034062,
          "end_time": "2022-08-30T12:35:32.595070",
          "exception": false,
          "start_time": "2022-08-30T12:35:32.561008",
          "status": "completed"
        },
        "tags": []
      },
      "source": [
        "**Predicting the Test set results**"
      ]
    },
    {
      "cell_type": "code",
      "execution_count": null,
      "id": "ae257eb7",
      "metadata": {
        "execution": {
          "iopub.execute_input": "2022-08-30T12:35:32.667401Z",
          "iopub.status.busy": "2022-08-30T12:35:32.666226Z",
          "iopub.status.idle": "2022-08-30T12:35:32.682372Z",
          "shell.execute_reply": "2022-08-30T12:35:32.681176Z"
        },
        "id": "ae257eb7",
        "papermill": {
          "duration": 0.055168,
          "end_time": "2022-08-30T12:35:32.684849",
          "exception": false,
          "start_time": "2022-08-30T12:35:32.629681",
          "status": "completed"
        },
        "tags": []
      },
      "outputs": [],
      "source": [
        "y_pred=DT.predict(X_test)"
      ]
    },
    {
      "cell_type": "markdown",
      "id": "a4209010",
      "metadata": {
        "id": "a4209010",
        "papermill": {
          "duration": 0.034404,
          "end_time": "2022-08-30T12:35:32.753959",
          "exception": false,
          "start_time": "2022-08-30T12:35:32.719555",
          "status": "completed"
        },
        "tags": []
      },
      "source": [
        "**Measuring the performance**"
      ]
    },
    {
      "cell_type": "code",
      "execution_count": null,
      "id": "71733137",
      "metadata": {
        "execution": {
          "iopub.execute_input": "2022-08-30T12:35:32.825366Z",
          "iopub.status.busy": "2022-08-30T12:35:32.824960Z",
          "iopub.status.idle": "2022-08-30T12:35:32.832731Z",
          "shell.execute_reply": "2022-08-30T12:35:32.831407Z"
        },
        "id": "71733137",
        "outputId": "5122b082-690b-4064-86f3-fd245f64e44d",
        "papermill": {
          "duration": 0.046882,
          "end_time": "2022-08-30T12:35:32.835572",
          "exception": false,
          "start_time": "2022-08-30T12:35:32.788690",
          "status": "completed"
        },
        "tags": [],
        "colab": {
          "base_uri": "https://localhost:8080/"
        }
      },
      "outputs": [
        {
          "output_type": "stream",
          "name": "stdout",
          "text": [
            "Accuracy:  0.6236559139784946 \n",
            "\n"
          ]
        }
      ],
      "source": [
        "DT_accuracy = accuracy_score(y_test, y_pred)\n",
        "print('Accuracy: ', DT_accuracy,'\\n')"
      ]
    },
    {
      "cell_type": "code",
      "execution_count": null,
      "id": "dac636f8",
      "metadata": {
        "execution": {
          "iopub.execute_input": "2022-08-30T12:35:32.907692Z",
          "iopub.status.busy": "2022-08-30T12:35:32.907282Z",
          "iopub.status.idle": "2022-08-30T12:35:32.930983Z",
          "shell.execute_reply": "2022-08-30T12:35:32.929694Z"
        },
        "id": "dac636f8",
        "outputId": "58eb6a12-0c48-4a19-c6ad-11b9739f4573",
        "papermill": {
          "duration": 0.062317,
          "end_time": "2022-08-30T12:35:32.933475",
          "exception": false,
          "start_time": "2022-08-30T12:35:32.871158",
          "status": "completed"
        },
        "tags": [],
        "colab": {
          "base_uri": "https://localhost:8080/",
          "height": 112
        }
      },
      "outputs": [
        {
          "output_type": "execute_result",
          "data": {
            "text/plain": [
              "   F1 score\n",
              "0  0.588235\n",
              "1  0.653465"
            ],
            "text/html": [
              "\n",
              "  <div id=\"df-e8dad217-21f5-4850-b7a2-62a4d2ac8b2b\">\n",
              "    <div class=\"colab-df-container\">\n",
              "      <div>\n",
              "<style scoped>\n",
              "    .dataframe tbody tr th:only-of-type {\n",
              "        vertical-align: middle;\n",
              "    }\n",
              "\n",
              "    .dataframe tbody tr th {\n",
              "        vertical-align: top;\n",
              "    }\n",
              "\n",
              "    .dataframe thead th {\n",
              "        text-align: right;\n",
              "    }\n",
              "</style>\n",
              "<table border=\"1\" class=\"dataframe\">\n",
              "  <thead>\n",
              "    <tr style=\"text-align: right;\">\n",
              "      <th></th>\n",
              "      <th>F1 score</th>\n",
              "    </tr>\n",
              "  </thead>\n",
              "  <tbody>\n",
              "    <tr>\n",
              "      <th>0</th>\n",
              "      <td>0.588235</td>\n",
              "    </tr>\n",
              "    <tr>\n",
              "      <th>1</th>\n",
              "      <td>0.653465</td>\n",
              "    </tr>\n",
              "  </tbody>\n",
              "</table>\n",
              "</div>\n",
              "      <button class=\"colab-df-convert\" onclick=\"convertToInteractive('df-e8dad217-21f5-4850-b7a2-62a4d2ac8b2b')\"\n",
              "              title=\"Convert this dataframe to an interactive table.\"\n",
              "              style=\"display:none;\">\n",
              "        \n",
              "  <svg xmlns=\"http://www.w3.org/2000/svg\" height=\"24px\"viewBox=\"0 0 24 24\"\n",
              "       width=\"24px\">\n",
              "    <path d=\"M0 0h24v24H0V0z\" fill=\"none\"/>\n",
              "    <path d=\"M18.56 5.44l.94 2.06.94-2.06 2.06-.94-2.06-.94-.94-2.06-.94 2.06-2.06.94zm-11 1L8.5 8.5l.94-2.06 2.06-.94-2.06-.94L8.5 2.5l-.94 2.06-2.06.94zm10 10l.94 2.06.94-2.06 2.06-.94-2.06-.94-.94-2.06-.94 2.06-2.06.94z\"/><path d=\"M17.41 7.96l-1.37-1.37c-.4-.4-.92-.59-1.43-.59-.52 0-1.04.2-1.43.59L10.3 9.45l-7.72 7.72c-.78.78-.78 2.05 0 2.83L4 21.41c.39.39.9.59 1.41.59.51 0 1.02-.2 1.41-.59l7.78-7.78 2.81-2.81c.8-.78.8-2.07 0-2.86zM5.41 20L4 18.59l7.72-7.72 1.47 1.35L5.41 20z\"/>\n",
              "  </svg>\n",
              "      </button>\n",
              "      \n",
              "  <style>\n",
              "    .colab-df-container {\n",
              "      display:flex;\n",
              "      flex-wrap:wrap;\n",
              "      gap: 12px;\n",
              "    }\n",
              "\n",
              "    .colab-df-convert {\n",
              "      background-color: #E8F0FE;\n",
              "      border: none;\n",
              "      border-radius: 50%;\n",
              "      cursor: pointer;\n",
              "      display: none;\n",
              "      fill: #1967D2;\n",
              "      height: 32px;\n",
              "      padding: 0 0 0 0;\n",
              "      width: 32px;\n",
              "    }\n",
              "\n",
              "    .colab-df-convert:hover {\n",
              "      background-color: #E2EBFA;\n",
              "      box-shadow: 0px 1px 2px rgba(60, 64, 67, 0.3), 0px 1px 3px 1px rgba(60, 64, 67, 0.15);\n",
              "      fill: #174EA6;\n",
              "    }\n",
              "\n",
              "    [theme=dark] .colab-df-convert {\n",
              "      background-color: #3B4455;\n",
              "      fill: #D2E3FC;\n",
              "    }\n",
              "\n",
              "    [theme=dark] .colab-df-convert:hover {\n",
              "      background-color: #434B5C;\n",
              "      box-shadow: 0px 1px 3px 1px rgba(0, 0, 0, 0.15);\n",
              "      filter: drop-shadow(0px 1px 2px rgba(0, 0, 0, 0.3));\n",
              "      fill: #FFFFFF;\n",
              "    }\n",
              "  </style>\n",
              "\n",
              "      <script>\n",
              "        const buttonEl =\n",
              "          document.querySelector('#df-e8dad217-21f5-4850-b7a2-62a4d2ac8b2b button.colab-df-convert');\n",
              "        buttonEl.style.display =\n",
              "          google.colab.kernel.accessAllowed ? 'block' : 'none';\n",
              "\n",
              "        async function convertToInteractive(key) {\n",
              "          const element = document.querySelector('#df-e8dad217-21f5-4850-b7a2-62a4d2ac8b2b');\n",
              "          const dataTable =\n",
              "            await google.colab.kernel.invokeFunction('convertToInteractive',\n",
              "                                                     [key], {});\n",
              "          if (!dataTable) return;\n",
              "\n",
              "          const docLinkHtml = 'Like what you see? Visit the ' +\n",
              "            '<a target=\"_blank\" href=https://colab.research.google.com/notebooks/data_table.ipynb>data table notebook</a>'\n",
              "            + ' to learn more about interactive tables.';\n",
              "          element.innerHTML = '';\n",
              "          dataTable['output_type'] = 'display_data';\n",
              "          await google.colab.output.renderOutput(dataTable, element);\n",
              "          const docLink = document.createElement('div');\n",
              "          docLink.innerHTML = docLinkHtml;\n",
              "          element.appendChild(docLink);\n",
              "        }\n",
              "      </script>\n",
              "    </div>\n",
              "  </div>\n",
              "  "
            ]
          },
          "metadata": {},
          "execution_count": 244
        }
      ],
      "source": [
        "f1_Score = get_F1(DT, X_test ,y_test)\n",
        "pd.DataFrame(f1_Score, index=df.label.unique(), columns=['F1 score'])"
      ]
    },
    {
      "cell_type": "code",
      "execution_count": null,
      "id": "7476a03a",
      "metadata": {
        "execution": {
          "iopub.execute_input": "2022-08-30T12:35:33.005930Z",
          "iopub.status.busy": "2022-08-30T12:35:33.005498Z",
          "iopub.status.idle": "2022-08-30T12:35:33.016153Z",
          "shell.execute_reply": "2022-08-30T12:35:33.014792Z"
        },
        "id": "7476a03a",
        "outputId": "79fbe451-52da-4a80-8ed8-38705518a556",
        "papermill": {
          "duration": 0.050165,
          "end_time": "2022-08-30T12:35:33.019349",
          "exception": false,
          "start_time": "2022-08-30T12:35:32.969184",
          "status": "completed"
        },
        "tags": [],
        "colab": {
          "base_uri": "https://localhost:8080/"
        }
      },
      "outputs": [
        {
          "output_type": "stream",
          "name": "stdout",
          "text": [
            "              precision    recall  f1-score   support\n",
            "\n",
            "           0       0.61      0.57      0.59        44\n",
            "           1       0.63      0.67      0.65        49\n",
            "\n",
            "    accuracy                           0.62        93\n",
            "   macro avg       0.62      0.62      0.62        93\n",
            "weighted avg       0.62      0.62      0.62        93\n",
            "\n"
          ]
        }
      ],
      "source": [
        "##Classification Report\n",
        "print(classification_report(y_test, y_pred))"
      ]
    },
    {
      "cell_type": "markdown",
      "id": "57be37ef",
      "metadata": {
        "id": "57be37ef",
        "papermill": {
          "duration": 0.034675,
          "end_time": "2022-08-30T12:35:33.089973",
          "exception": false,
          "start_time": "2022-08-30T12:35:33.055298",
          "status": "completed"
        },
        "tags": []
      },
      "source": [
        "### Support Vector Machine"
      ]
    },
    {
      "cell_type": "markdown",
      "id": "8018f873",
      "metadata": {
        "id": "8018f873",
        "papermill": {
          "duration": 0.034892,
          "end_time": "2022-08-30T12:35:33.159870",
          "exception": false,
          "start_time": "2022-08-30T12:35:33.124978",
          "status": "completed"
        },
        "tags": []
      },
      "source": [
        "**Training the Support Vector Machine model on the Training set**"
      ]
    },
    {
      "cell_type": "code",
      "execution_count": null,
      "id": "bfebb89d",
      "metadata": {
        "execution": {
          "iopub.execute_input": "2022-08-30T12:35:33.232250Z",
          "iopub.status.busy": "2022-08-30T12:35:33.231810Z",
          "iopub.status.idle": "2022-08-30T12:35:35.881923Z",
          "shell.execute_reply": "2022-08-30T12:35:35.880920Z"
        },
        "id": "bfebb89d",
        "papermill": {
          "duration": 2.689919,
          "end_time": "2022-08-30T12:35:35.884591",
          "exception": false,
          "start_time": "2022-08-30T12:35:33.194672",
          "status": "completed"
        },
        "tags": []
      },
      "outputs": [],
      "source": [
        "SVM = train_model(SVC(random_state = 0), X_train, y_train)"
      ]
    },
    {
      "cell_type": "markdown",
      "id": "85f791df",
      "metadata": {
        "id": "85f791df",
        "papermill": {
          "duration": 0.034817,
          "end_time": "2022-08-30T12:35:35.955464",
          "exception": false,
          "start_time": "2022-08-30T12:35:35.920647",
          "status": "completed"
        },
        "tags": []
      },
      "source": [
        "**Predicting the Test set results**"
      ]
    },
    {
      "cell_type": "code",
      "execution_count": null,
      "id": "c1c4bafa",
      "metadata": {
        "execution": {
          "iopub.execute_input": "2022-08-30T12:35:36.028981Z",
          "iopub.status.busy": "2022-08-30T12:35:36.028539Z",
          "iopub.status.idle": "2022-08-30T12:35:36.285572Z",
          "shell.execute_reply": "2022-08-30T12:35:36.284404Z"
        },
        "id": "c1c4bafa",
        "papermill": {
          "duration": 0.297443,
          "end_time": "2022-08-30T12:35:36.288471",
          "exception": false,
          "start_time": "2022-08-30T12:35:35.991028",
          "status": "completed"
        },
        "tags": []
      },
      "outputs": [],
      "source": [
        "y_pred=SVM.predict(X_test)"
      ]
    },
    {
      "cell_type": "markdown",
      "id": "82031e84",
      "metadata": {
        "id": "82031e84",
        "papermill": {
          "duration": 0.035104,
          "end_time": "2022-08-30T12:35:36.359611",
          "exception": false,
          "start_time": "2022-08-30T12:35:36.324507",
          "status": "completed"
        },
        "tags": []
      },
      "source": [
        "**Measuring the performance**"
      ]
    },
    {
      "cell_type": "code",
      "execution_count": null,
      "id": "8fc47792",
      "metadata": {
        "execution": {
          "iopub.execute_input": "2022-08-30T12:35:36.433467Z",
          "iopub.status.busy": "2022-08-30T12:35:36.433022Z",
          "iopub.status.idle": "2022-08-30T12:35:36.440715Z",
          "shell.execute_reply": "2022-08-30T12:35:36.438963Z"
        },
        "id": "8fc47792",
        "outputId": "114afe78-2f1a-4bc6-8b07-0635793e1286",
        "papermill": {
          "duration": 0.047594,
          "end_time": "2022-08-30T12:35:36.443283",
          "exception": false,
          "start_time": "2022-08-30T12:35:36.395689",
          "status": "completed"
        },
        "tags": [],
        "colab": {
          "base_uri": "https://localhost:8080/"
        }
      },
      "outputs": [
        {
          "output_type": "stream",
          "name": "stdout",
          "text": [
            "Accuracy:  0.6451612903225806 \n",
            "\n"
          ]
        }
      ],
      "source": [
        "SVM_accuracy = accuracy_score(y_test, y_pred)\n",
        "print('Accuracy: ', SVM_accuracy,'\\n')"
      ]
    },
    {
      "cell_type": "code",
      "execution_count": null,
      "id": "989b78d7",
      "metadata": {
        "execution": {
          "iopub.execute_input": "2022-08-30T12:35:36.516300Z",
          "iopub.status.busy": "2022-08-30T12:35:36.515845Z",
          "iopub.status.idle": "2022-08-30T12:35:36.778054Z",
          "shell.execute_reply": "2022-08-30T12:35:36.776845Z"
        },
        "id": "989b78d7",
        "outputId": "00304933-7ca9-444d-e396-5de223b59dfa",
        "papermill": {
          "duration": 0.301805,
          "end_time": "2022-08-30T12:35:36.780714",
          "exception": false,
          "start_time": "2022-08-30T12:35:36.478909",
          "status": "completed"
        },
        "tags": [],
        "colab": {
          "base_uri": "https://localhost:8080/",
          "height": 112
        }
      },
      "outputs": [
        {
          "output_type": "execute_result",
          "data": {
            "text/plain": [
              "   F1 score\n",
              "0  0.571429\n",
              "1  0.697248"
            ],
            "text/html": [
              "\n",
              "  <div id=\"df-4abd5074-03e5-4e8d-aa9a-8926f86578cb\">\n",
              "    <div class=\"colab-df-container\">\n",
              "      <div>\n",
              "<style scoped>\n",
              "    .dataframe tbody tr th:only-of-type {\n",
              "        vertical-align: middle;\n",
              "    }\n",
              "\n",
              "    .dataframe tbody tr th {\n",
              "        vertical-align: top;\n",
              "    }\n",
              "\n",
              "    .dataframe thead th {\n",
              "        text-align: right;\n",
              "    }\n",
              "</style>\n",
              "<table border=\"1\" class=\"dataframe\">\n",
              "  <thead>\n",
              "    <tr style=\"text-align: right;\">\n",
              "      <th></th>\n",
              "      <th>F1 score</th>\n",
              "    </tr>\n",
              "  </thead>\n",
              "  <tbody>\n",
              "    <tr>\n",
              "      <th>0</th>\n",
              "      <td>0.571429</td>\n",
              "    </tr>\n",
              "    <tr>\n",
              "      <th>1</th>\n",
              "      <td>0.697248</td>\n",
              "    </tr>\n",
              "  </tbody>\n",
              "</table>\n",
              "</div>\n",
              "      <button class=\"colab-df-convert\" onclick=\"convertToInteractive('df-4abd5074-03e5-4e8d-aa9a-8926f86578cb')\"\n",
              "              title=\"Convert this dataframe to an interactive table.\"\n",
              "              style=\"display:none;\">\n",
              "        \n",
              "  <svg xmlns=\"http://www.w3.org/2000/svg\" height=\"24px\"viewBox=\"0 0 24 24\"\n",
              "       width=\"24px\">\n",
              "    <path d=\"M0 0h24v24H0V0z\" fill=\"none\"/>\n",
              "    <path d=\"M18.56 5.44l.94 2.06.94-2.06 2.06-.94-2.06-.94-.94-2.06-.94 2.06-2.06.94zm-11 1L8.5 8.5l.94-2.06 2.06-.94-2.06-.94L8.5 2.5l-.94 2.06-2.06.94zm10 10l.94 2.06.94-2.06 2.06-.94-2.06-.94-.94-2.06-.94 2.06-2.06.94z\"/><path d=\"M17.41 7.96l-1.37-1.37c-.4-.4-.92-.59-1.43-.59-.52 0-1.04.2-1.43.59L10.3 9.45l-7.72 7.72c-.78.78-.78 2.05 0 2.83L4 21.41c.39.39.9.59 1.41.59.51 0 1.02-.2 1.41-.59l7.78-7.78 2.81-2.81c.8-.78.8-2.07 0-2.86zM5.41 20L4 18.59l7.72-7.72 1.47 1.35L5.41 20z\"/>\n",
              "  </svg>\n",
              "      </button>\n",
              "      \n",
              "  <style>\n",
              "    .colab-df-container {\n",
              "      display:flex;\n",
              "      flex-wrap:wrap;\n",
              "      gap: 12px;\n",
              "    }\n",
              "\n",
              "    .colab-df-convert {\n",
              "      background-color: #E8F0FE;\n",
              "      border: none;\n",
              "      border-radius: 50%;\n",
              "      cursor: pointer;\n",
              "      display: none;\n",
              "      fill: #1967D2;\n",
              "      height: 32px;\n",
              "      padding: 0 0 0 0;\n",
              "      width: 32px;\n",
              "    }\n",
              "\n",
              "    .colab-df-convert:hover {\n",
              "      background-color: #E2EBFA;\n",
              "      box-shadow: 0px 1px 2px rgba(60, 64, 67, 0.3), 0px 1px 3px 1px rgba(60, 64, 67, 0.15);\n",
              "      fill: #174EA6;\n",
              "    }\n",
              "\n",
              "    [theme=dark] .colab-df-convert {\n",
              "      background-color: #3B4455;\n",
              "      fill: #D2E3FC;\n",
              "    }\n",
              "\n",
              "    [theme=dark] .colab-df-convert:hover {\n",
              "      background-color: #434B5C;\n",
              "      box-shadow: 0px 1px 3px 1px rgba(0, 0, 0, 0.15);\n",
              "      filter: drop-shadow(0px 1px 2px rgba(0, 0, 0, 0.3));\n",
              "      fill: #FFFFFF;\n",
              "    }\n",
              "  </style>\n",
              "\n",
              "      <script>\n",
              "        const buttonEl =\n",
              "          document.querySelector('#df-4abd5074-03e5-4e8d-aa9a-8926f86578cb button.colab-df-convert');\n",
              "        buttonEl.style.display =\n",
              "          google.colab.kernel.accessAllowed ? 'block' : 'none';\n",
              "\n",
              "        async function convertToInteractive(key) {\n",
              "          const element = document.querySelector('#df-4abd5074-03e5-4e8d-aa9a-8926f86578cb');\n",
              "          const dataTable =\n",
              "            await google.colab.kernel.invokeFunction('convertToInteractive',\n",
              "                                                     [key], {});\n",
              "          if (!dataTable) return;\n",
              "\n",
              "          const docLinkHtml = 'Like what you see? Visit the ' +\n",
              "            '<a target=\"_blank\" href=https://colab.research.google.com/notebooks/data_table.ipynb>data table notebook</a>'\n",
              "            + ' to learn more about interactive tables.';\n",
              "          element.innerHTML = '';\n",
              "          dataTable['output_type'] = 'display_data';\n",
              "          await google.colab.output.renderOutput(dataTable, element);\n",
              "          const docLink = document.createElement('div');\n",
              "          docLink.innerHTML = docLinkHtml;\n",
              "          element.appendChild(docLink);\n",
              "        }\n",
              "      </script>\n",
              "    </div>\n",
              "  </div>\n",
              "  "
            ]
          },
          "metadata": {},
          "execution_count": 249
        }
      ],
      "source": [
        "f1_Score = get_F1(SVM,X_test,y_test)\n",
        "pd.DataFrame(f1_Score, index=df.label.unique(), columns=['F1 score'])"
      ]
    },
    {
      "cell_type": "code",
      "execution_count": null,
      "id": "320a4c55",
      "metadata": {
        "execution": {
          "iopub.execute_input": "2022-08-30T12:35:36.857312Z",
          "iopub.status.busy": "2022-08-30T12:35:36.856453Z",
          "iopub.status.idle": "2022-08-30T12:35:36.868625Z",
          "shell.execute_reply": "2022-08-30T12:35:36.866821Z"
        },
        "id": "320a4c55",
        "outputId": "b2cc7f23-b803-4c64-8ae7-f1603f5aaf1e",
        "papermill": {
          "duration": 0.054224,
          "end_time": "2022-08-30T12:35:36.871775",
          "exception": false,
          "start_time": "2022-08-30T12:35:36.817551",
          "status": "completed"
        },
        "tags": [],
        "colab": {
          "base_uri": "https://localhost:8080/"
        }
      },
      "outputs": [
        {
          "output_type": "stream",
          "name": "stdout",
          "text": [
            "              precision    recall  f1-score   support\n",
            "\n",
            "           0       0.67      0.50      0.57        44\n",
            "           1       0.63      0.78      0.70        49\n",
            "\n",
            "    accuracy                           0.65        93\n",
            "   macro avg       0.65      0.64      0.63        93\n",
            "weighted avg       0.65      0.65      0.64        93\n",
            "\n"
          ]
        }
      ],
      "source": [
        "##Classification Report\n",
        "print(classification_report(y_test, y_pred))"
      ]
    },
    {
      "cell_type": "markdown",
      "id": "f3bef156",
      "metadata": {
        "id": "f3bef156",
        "papermill": {
          "duration": 0.038289,
          "end_time": "2022-08-30T12:35:36.946808",
          "exception": false,
          "start_time": "2022-08-30T12:35:36.908519",
          "status": "completed"
        },
        "tags": []
      },
      "source": [
        "### Random Forest"
      ]
    },
    {
      "cell_type": "markdown",
      "id": "7caadb32",
      "metadata": {
        "id": "7caadb32",
        "papermill": {
          "duration": 0.036826,
          "end_time": "2022-08-30T12:35:37.019795",
          "exception": false,
          "start_time": "2022-08-30T12:35:36.982969",
          "status": "completed"
        },
        "tags": []
      },
      "source": [
        "**Training the Random Forest model on the Training set**"
      ]
    },
    {
      "cell_type": "code",
      "execution_count": null,
      "id": "bc475a40",
      "metadata": {
        "execution": {
          "iopub.execute_input": "2022-08-30T12:35:37.093813Z",
          "iopub.status.busy": "2022-08-30T12:35:37.093402Z",
          "iopub.status.idle": "2022-08-30T12:35:38.996867Z",
          "shell.execute_reply": "2022-08-30T12:35:38.995704Z"
        },
        "id": "bc475a40",
        "papermill": {
          "duration": 1.944069,
          "end_time": "2022-08-30T12:35:38.999726",
          "exception": false,
          "start_time": "2022-08-30T12:35:37.055657",
          "status": "completed"
        },
        "tags": []
      },
      "outputs": [],
      "source": [
        "RF = train_model(RandomForestClassifier(random_state = 0), X_train, y_train)"
      ]
    },
    {
      "cell_type": "markdown",
      "id": "df9a3059",
      "metadata": {
        "id": "df9a3059",
        "papermill": {
          "duration": 0.035922,
          "end_time": "2022-08-30T12:35:39.072538",
          "exception": false,
          "start_time": "2022-08-30T12:35:39.036616",
          "status": "completed"
        },
        "tags": []
      },
      "source": [
        "**Predicting the Test set results**"
      ]
    },
    {
      "cell_type": "code",
      "execution_count": null,
      "id": "f77671b1",
      "metadata": {
        "execution": {
          "iopub.execute_input": "2022-08-30T12:35:39.145625Z",
          "iopub.status.busy": "2022-08-30T12:35:39.145223Z",
          "iopub.status.idle": "2022-08-30T12:35:39.195854Z",
          "shell.execute_reply": "2022-08-30T12:35:39.194705Z"
        },
        "id": "f77671b1",
        "papermill": {
          "duration": 0.090332,
          "end_time": "2022-08-30T12:35:39.198596",
          "exception": false,
          "start_time": "2022-08-30T12:35:39.108264",
          "status": "completed"
        },
        "tags": []
      },
      "outputs": [],
      "source": [
        "y_pred=RF.predict(X_test)"
      ]
    },
    {
      "cell_type": "markdown",
      "id": "52d5a694",
      "metadata": {
        "id": "52d5a694",
        "papermill": {
          "duration": 0.035351,
          "end_time": "2022-08-30T12:35:39.270373",
          "exception": false,
          "start_time": "2022-08-30T12:35:39.235022",
          "status": "completed"
        },
        "tags": []
      },
      "source": [
        "**Measuring the performance**"
      ]
    },
    {
      "cell_type": "code",
      "execution_count": null,
      "id": "74880fc0",
      "metadata": {
        "execution": {
          "iopub.execute_input": "2022-08-30T12:35:39.343811Z",
          "iopub.status.busy": "2022-08-30T12:35:39.342720Z",
          "iopub.status.idle": "2022-08-30T12:35:39.350422Z",
          "shell.execute_reply": "2022-08-30T12:35:39.348947Z"
        },
        "id": "74880fc0",
        "outputId": "14cd0718-fa47-4513-cc24-1f7303222e1a",
        "papermill": {
          "duration": 0.047272,
          "end_time": "2022-08-30T12:35:39.353099",
          "exception": false,
          "start_time": "2022-08-30T12:35:39.305827",
          "status": "completed"
        },
        "tags": [],
        "colab": {
          "base_uri": "https://localhost:8080/"
        }
      },
      "outputs": [
        {
          "output_type": "stream",
          "name": "stdout",
          "text": [
            "Accuracy:  0.7096774193548387 \n",
            "\n"
          ]
        }
      ],
      "source": [
        "RF_accuracy = accuracy_score(y_test, y_pred)\n",
        "print('Accuracy: ', RF_accuracy,'\\n')"
      ]
    },
    {
      "cell_type": "code",
      "execution_count": null,
      "id": "08ca9385",
      "metadata": {
        "execution": {
          "iopub.execute_input": "2022-08-30T12:35:39.426207Z",
          "iopub.status.busy": "2022-08-30T12:35:39.425779Z",
          "iopub.status.idle": "2022-08-30T12:35:39.485331Z",
          "shell.execute_reply": "2022-08-30T12:35:39.483874Z"
        },
        "id": "08ca9385",
        "outputId": "9fc2f6d8-4b84-4a60-c713-73b2f0f72e37",
        "papermill": {
          "duration": 0.099233,
          "end_time": "2022-08-30T12:35:39.488012",
          "exception": false,
          "start_time": "2022-08-30T12:35:39.388779",
          "status": "completed"
        },
        "tags": [],
        "colab": {
          "base_uri": "https://localhost:8080/",
          "height": 112
        }
      },
      "outputs": [
        {
          "output_type": "execute_result",
          "data": {
            "text/plain": [
              "   F1 score\n",
              "0  0.666667\n",
              "1  0.742857"
            ],
            "text/html": [
              "\n",
              "  <div id=\"df-5e914793-140a-457d-a08b-e5ad04939555\">\n",
              "    <div class=\"colab-df-container\">\n",
              "      <div>\n",
              "<style scoped>\n",
              "    .dataframe tbody tr th:only-of-type {\n",
              "        vertical-align: middle;\n",
              "    }\n",
              "\n",
              "    .dataframe tbody tr th {\n",
              "        vertical-align: top;\n",
              "    }\n",
              "\n",
              "    .dataframe thead th {\n",
              "        text-align: right;\n",
              "    }\n",
              "</style>\n",
              "<table border=\"1\" class=\"dataframe\">\n",
              "  <thead>\n",
              "    <tr style=\"text-align: right;\">\n",
              "      <th></th>\n",
              "      <th>F1 score</th>\n",
              "    </tr>\n",
              "  </thead>\n",
              "  <tbody>\n",
              "    <tr>\n",
              "      <th>0</th>\n",
              "      <td>0.666667</td>\n",
              "    </tr>\n",
              "    <tr>\n",
              "      <th>1</th>\n",
              "      <td>0.742857</td>\n",
              "    </tr>\n",
              "  </tbody>\n",
              "</table>\n",
              "</div>\n",
              "      <button class=\"colab-df-convert\" onclick=\"convertToInteractive('df-5e914793-140a-457d-a08b-e5ad04939555')\"\n",
              "              title=\"Convert this dataframe to an interactive table.\"\n",
              "              style=\"display:none;\">\n",
              "        \n",
              "  <svg xmlns=\"http://www.w3.org/2000/svg\" height=\"24px\"viewBox=\"0 0 24 24\"\n",
              "       width=\"24px\">\n",
              "    <path d=\"M0 0h24v24H0V0z\" fill=\"none\"/>\n",
              "    <path d=\"M18.56 5.44l.94 2.06.94-2.06 2.06-.94-2.06-.94-.94-2.06-.94 2.06-2.06.94zm-11 1L8.5 8.5l.94-2.06 2.06-.94-2.06-.94L8.5 2.5l-.94 2.06-2.06.94zm10 10l.94 2.06.94-2.06 2.06-.94-2.06-.94-.94-2.06-.94 2.06-2.06.94z\"/><path d=\"M17.41 7.96l-1.37-1.37c-.4-.4-.92-.59-1.43-.59-.52 0-1.04.2-1.43.59L10.3 9.45l-7.72 7.72c-.78.78-.78 2.05 0 2.83L4 21.41c.39.39.9.59 1.41.59.51 0 1.02-.2 1.41-.59l7.78-7.78 2.81-2.81c.8-.78.8-2.07 0-2.86zM5.41 20L4 18.59l7.72-7.72 1.47 1.35L5.41 20z\"/>\n",
              "  </svg>\n",
              "      </button>\n",
              "      \n",
              "  <style>\n",
              "    .colab-df-container {\n",
              "      display:flex;\n",
              "      flex-wrap:wrap;\n",
              "      gap: 12px;\n",
              "    }\n",
              "\n",
              "    .colab-df-convert {\n",
              "      background-color: #E8F0FE;\n",
              "      border: none;\n",
              "      border-radius: 50%;\n",
              "      cursor: pointer;\n",
              "      display: none;\n",
              "      fill: #1967D2;\n",
              "      height: 32px;\n",
              "      padding: 0 0 0 0;\n",
              "      width: 32px;\n",
              "    }\n",
              "\n",
              "    .colab-df-convert:hover {\n",
              "      background-color: #E2EBFA;\n",
              "      box-shadow: 0px 1px 2px rgba(60, 64, 67, 0.3), 0px 1px 3px 1px rgba(60, 64, 67, 0.15);\n",
              "      fill: #174EA6;\n",
              "    }\n",
              "\n",
              "    [theme=dark] .colab-df-convert {\n",
              "      background-color: #3B4455;\n",
              "      fill: #D2E3FC;\n",
              "    }\n",
              "\n",
              "    [theme=dark] .colab-df-convert:hover {\n",
              "      background-color: #434B5C;\n",
              "      box-shadow: 0px 1px 3px 1px rgba(0, 0, 0, 0.15);\n",
              "      filter: drop-shadow(0px 1px 2px rgba(0, 0, 0, 0.3));\n",
              "      fill: #FFFFFF;\n",
              "    }\n",
              "  </style>\n",
              "\n",
              "      <script>\n",
              "        const buttonEl =\n",
              "          document.querySelector('#df-5e914793-140a-457d-a08b-e5ad04939555 button.colab-df-convert');\n",
              "        buttonEl.style.display =\n",
              "          google.colab.kernel.accessAllowed ? 'block' : 'none';\n",
              "\n",
              "        async function convertToInteractive(key) {\n",
              "          const element = document.querySelector('#df-5e914793-140a-457d-a08b-e5ad04939555');\n",
              "          const dataTable =\n",
              "            await google.colab.kernel.invokeFunction('convertToInteractive',\n",
              "                                                     [key], {});\n",
              "          if (!dataTable) return;\n",
              "\n",
              "          const docLinkHtml = 'Like what you see? Visit the ' +\n",
              "            '<a target=\"_blank\" href=https://colab.research.google.com/notebooks/data_table.ipynb>data table notebook</a>'\n",
              "            + ' to learn more about interactive tables.';\n",
              "          element.innerHTML = '';\n",
              "          dataTable['output_type'] = 'display_data';\n",
              "          await google.colab.output.renderOutput(dataTable, element);\n",
              "          const docLink = document.createElement('div');\n",
              "          docLink.innerHTML = docLinkHtml;\n",
              "          element.appendChild(docLink);\n",
              "        }\n",
              "      </script>\n",
              "    </div>\n",
              "  </div>\n",
              "  "
            ]
          },
          "metadata": {},
          "execution_count": 254
        }
      ],
      "source": [
        "f1_Score = get_F1(RF, X_test, y_test)\n",
        "pd.DataFrame(f1_Score, index=df.label.unique(), columns=['F1 score'])"
      ]
    },
    {
      "cell_type": "code",
      "execution_count": null,
      "id": "5632f1d3",
      "metadata": {
        "execution": {
          "iopub.execute_input": "2022-08-30T12:35:39.562353Z",
          "iopub.status.busy": "2022-08-30T12:35:39.561525Z",
          "iopub.status.idle": "2022-08-30T12:35:39.572782Z",
          "shell.execute_reply": "2022-08-30T12:35:39.571146Z"
        },
        "id": "5632f1d3",
        "outputId": "c6ae2f9f-6fa1-4d0d-b401-5eee12e46955",
        "papermill": {
          "duration": 0.051281,
          "end_time": "2022-08-30T12:35:39.575347",
          "exception": false,
          "start_time": "2022-08-30T12:35:39.524066",
          "status": "completed"
        },
        "scrolled": true,
        "tags": [],
        "colab": {
          "base_uri": "https://localhost:8080/"
        }
      },
      "outputs": [
        {
          "output_type": "stream",
          "name": "stdout",
          "text": [
            "              precision    recall  f1-score   support\n",
            "\n",
            "           0       0.73      0.61      0.67        44\n",
            "           1       0.70      0.80      0.74        49\n",
            "\n",
            "    accuracy                           0.71        93\n",
            "   macro avg       0.71      0.70      0.70        93\n",
            "weighted avg       0.71      0.71      0.71        93\n",
            "\n"
          ]
        }
      ],
      "source": [
        "##Classification Report\n",
        "print(classification_report(y_test, y_pred))"
      ]
    },
    {
      "cell_type": "markdown",
      "id": "2637b4e2",
      "metadata": {
        "id": "2637b4e2",
        "papermill": {
          "duration": 0.03566,
          "end_time": "2022-08-30T12:35:39.647029",
          "exception": false,
          "start_time": "2022-08-30T12:35:39.611369",
          "status": "completed"
        },
        "tags": []
      },
      "source": [
        "## Results"
      ]
    },
    {
      "cell_type": "code",
      "execution_count": null,
      "id": "68736e65",
      "metadata": {
        "execution": {
          "iopub.execute_input": "2022-08-30T12:35:39.720743Z",
          "iopub.status.busy": "2022-08-30T12:35:39.720005Z",
          "iopub.status.idle": "2022-08-30T12:35:39.736200Z",
          "shell.execute_reply": "2022-08-30T12:35:39.734976Z"
        },
        "id": "68736e65",
        "outputId": "b191439a-ba33-4ad2-8744-9b84cb30a431",
        "papermill": {
          "duration": 0.055596,
          "end_time": "2022-08-30T12:35:39.738437",
          "exception": false,
          "start_time": "2022-08-30T12:35:39.682841",
          "status": "completed"
        },
        "tags": [],
        "colab": {
          "base_uri": "https://localhost:8080/",
          "height": 175
        }
      },
      "outputs": [
        {
          "output_type": "execute_result",
          "data": {
            "text/plain": [
              "                    Model  Accuracy\n",
              "0           Random Forest      0.71\n",
              "1  Support Vector Machine      0.65\n",
              "2     Logistic Regression      0.63\n",
              "3           Decision Tree      0.62"
            ],
            "text/html": [
              "\n",
              "  <div id=\"df-f7fc08b5-7ddc-442f-9d80-8cbc588b89f2\">\n",
              "    <div class=\"colab-df-container\">\n",
              "      <div>\n",
              "<style scoped>\n",
              "    .dataframe tbody tr th:only-of-type {\n",
              "        vertical-align: middle;\n",
              "    }\n",
              "\n",
              "    .dataframe tbody tr th {\n",
              "        vertical-align: top;\n",
              "    }\n",
              "\n",
              "    .dataframe thead th {\n",
              "        text-align: right;\n",
              "    }\n",
              "</style>\n",
              "<table border=\"1\" class=\"dataframe\">\n",
              "  <thead>\n",
              "    <tr style=\"text-align: right;\">\n",
              "      <th></th>\n",
              "      <th>Model</th>\n",
              "      <th>Accuracy</th>\n",
              "    </tr>\n",
              "  </thead>\n",
              "  <tbody>\n",
              "    <tr>\n",
              "      <th>0</th>\n",
              "      <td>Random Forest</td>\n",
              "      <td>0.71</td>\n",
              "    </tr>\n",
              "    <tr>\n",
              "      <th>1</th>\n",
              "      <td>Support Vector Machine</td>\n",
              "      <td>0.65</td>\n",
              "    </tr>\n",
              "    <tr>\n",
              "      <th>2</th>\n",
              "      <td>Logistic Regression</td>\n",
              "      <td>0.63</td>\n",
              "    </tr>\n",
              "    <tr>\n",
              "      <th>3</th>\n",
              "      <td>Decision Tree</td>\n",
              "      <td>0.62</td>\n",
              "    </tr>\n",
              "  </tbody>\n",
              "</table>\n",
              "</div>\n",
              "      <button class=\"colab-df-convert\" onclick=\"convertToInteractive('df-f7fc08b5-7ddc-442f-9d80-8cbc588b89f2')\"\n",
              "              title=\"Convert this dataframe to an interactive table.\"\n",
              "              style=\"display:none;\">\n",
              "        \n",
              "  <svg xmlns=\"http://www.w3.org/2000/svg\" height=\"24px\"viewBox=\"0 0 24 24\"\n",
              "       width=\"24px\">\n",
              "    <path d=\"M0 0h24v24H0V0z\" fill=\"none\"/>\n",
              "    <path d=\"M18.56 5.44l.94 2.06.94-2.06 2.06-.94-2.06-.94-.94-2.06-.94 2.06-2.06.94zm-11 1L8.5 8.5l.94-2.06 2.06-.94-2.06-.94L8.5 2.5l-.94 2.06-2.06.94zm10 10l.94 2.06.94-2.06 2.06-.94-2.06-.94-.94-2.06-.94 2.06-2.06.94z\"/><path d=\"M17.41 7.96l-1.37-1.37c-.4-.4-.92-.59-1.43-.59-.52 0-1.04.2-1.43.59L10.3 9.45l-7.72 7.72c-.78.78-.78 2.05 0 2.83L4 21.41c.39.39.9.59 1.41.59.51 0 1.02-.2 1.41-.59l7.78-7.78 2.81-2.81c.8-.78.8-2.07 0-2.86zM5.41 20L4 18.59l7.72-7.72 1.47 1.35L5.41 20z\"/>\n",
              "  </svg>\n",
              "      </button>\n",
              "      \n",
              "  <style>\n",
              "    .colab-df-container {\n",
              "      display:flex;\n",
              "      flex-wrap:wrap;\n",
              "      gap: 12px;\n",
              "    }\n",
              "\n",
              "    .colab-df-convert {\n",
              "      background-color: #E8F0FE;\n",
              "      border: none;\n",
              "      border-radius: 50%;\n",
              "      cursor: pointer;\n",
              "      display: none;\n",
              "      fill: #1967D2;\n",
              "      height: 32px;\n",
              "      padding: 0 0 0 0;\n",
              "      width: 32px;\n",
              "    }\n",
              "\n",
              "    .colab-df-convert:hover {\n",
              "      background-color: #E2EBFA;\n",
              "      box-shadow: 0px 1px 2px rgba(60, 64, 67, 0.3), 0px 1px 3px 1px rgba(60, 64, 67, 0.15);\n",
              "      fill: #174EA6;\n",
              "    }\n",
              "\n",
              "    [theme=dark] .colab-df-convert {\n",
              "      background-color: #3B4455;\n",
              "      fill: #D2E3FC;\n",
              "    }\n",
              "\n",
              "    [theme=dark] .colab-df-convert:hover {\n",
              "      background-color: #434B5C;\n",
              "      box-shadow: 0px 1px 3px 1px rgba(0, 0, 0, 0.15);\n",
              "      filter: drop-shadow(0px 1px 2px rgba(0, 0, 0, 0.3));\n",
              "      fill: #FFFFFF;\n",
              "    }\n",
              "  </style>\n",
              "\n",
              "      <script>\n",
              "        const buttonEl =\n",
              "          document.querySelector('#df-f7fc08b5-7ddc-442f-9d80-8cbc588b89f2 button.colab-df-convert');\n",
              "        buttonEl.style.display =\n",
              "          google.colab.kernel.accessAllowed ? 'block' : 'none';\n",
              "\n",
              "        async function convertToInteractive(key) {\n",
              "          const element = document.querySelector('#df-f7fc08b5-7ddc-442f-9d80-8cbc588b89f2');\n",
              "          const dataTable =\n",
              "            await google.colab.kernel.invokeFunction('convertToInteractive',\n",
              "                                                     [key], {});\n",
              "          if (!dataTable) return;\n",
              "\n",
              "          const docLinkHtml = 'Like what you see? Visit the ' +\n",
              "            '<a target=\"_blank\" href=https://colab.research.google.com/notebooks/data_table.ipynb>data table notebook</a>'\n",
              "            + ' to learn more about interactive tables.';\n",
              "          element.innerHTML = '';\n",
              "          dataTable['output_type'] = 'display_data';\n",
              "          await google.colab.output.renderOutput(dataTable, element);\n",
              "          const docLink = document.createElement('div');\n",
              "          docLink.innerHTML = docLinkHtml;\n",
              "          element.appendChild(docLink);\n",
              "        }\n",
              "      </script>\n",
              "    </div>\n",
              "  </div>\n",
              "  "
            ]
          },
          "metadata": {},
          "execution_count": 256
        }
      ],
      "source": [
        "models = pd.DataFrame({\n",
        "    'Model': ['Logistic Regression', 'Decision Tree','Support Vector Machine','Random Forest'],\n",
        "    'Accuracy': [log_reg_accuracy.round(2), DT_accuracy.round(2), SVM_accuracy.round(2), RF_accuracy.round(2)]})\n",
        "\n",
        "models.sort_values(by='Accuracy', ascending=False).reset_index().drop(['index'], axis=1)"
      ]
    },
    {
      "cell_type": "markdown",
      "id": "e8d2a0f7",
      "metadata": {
        "id": "e8d2a0f7",
        "papermill": {
          "duration": 0.035416,
          "end_time": "2022-08-30T12:35:39.809836",
          "exception": false,
          "start_time": "2022-08-30T12:35:39.774420",
          "status": "completed"
        },
        "tags": []
      },
      "source": [
        "Note that TF-IDF vectoriser is used in this experiment"
      ]
    }
  ],
  "metadata": {
    "kernelspec": {
      "display_name": "Python 3",
      "language": "python",
      "name": "python3"
    },
    "language_info": {
      "codemirror_mode": {
        "name": "ipython",
        "version": 3
      },
      "file_extension": ".py",
      "mimetype": "text/x-python",
      "name": "python",
      "nbconvert_exporter": "python",
      "pygments_lexer": "ipython3",
      "version": "3.7.12"
    },
    "papermill": {
      "default_parameters": {},
      "duration": 420.750347,
      "end_time": "2022-08-30T12:35:40.769874",
      "environment_variables": {},
      "exception": null,
      "input_path": "__notebook__.ipynb",
      "output_path": "__notebook__.ipynb",
      "parameters": {},
      "start_time": "2022-08-30T12:28:40.019527",
      "version": "2.3.4"
    },
    "colab": {
      "provenance": []
    },
    "accelerator": "GPU",
    "gpuClass": "standard"
  },
  "nbformat": 4,
  "nbformat_minor": 5
}